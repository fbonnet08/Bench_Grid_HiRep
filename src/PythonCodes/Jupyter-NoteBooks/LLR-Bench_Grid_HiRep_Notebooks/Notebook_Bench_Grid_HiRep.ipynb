{
 "cells": [
  {
   "metadata": {},
   "cell_type": "markdown",
   "source": [
    "---\n",
    "# Jupyter notebook Bench_Grid_HiRep starts\n",
    "---"
   ],
   "id": "f3314407852c666f"
  },
  {
   "metadata": {},
   "cell_type": "markdown",
   "source": [
    "## Importing the packages and checking if they are on system.\n",
    "---"
   ],
   "id": "cf40e00640b4f26f"
  },
  {
   "metadata": {
    "ExecuteTime": {
     "end_time": "2025-02-26T14:12:15.247825Z",
     "start_time": "2025-02-26T14:12:15.237917Z"
    }
   },
   "cell_type": "code",
   "source": [
    "# ----------------------------------------------------------------------------\n",
    "# [Python-3.12] basic import for system check\n",
    "# ----------------------------------------------------------------------------\n",
    "import os\n",
    "import sys\n",
    "import time\n",
    "import requests\n",
    "import multiprocessing\n",
    "import multiprocess\n",
    "from collections import defaultdict\n",
    "from functools import cache\n",
    "from pathlib import Path\n",
    "from glob import glob\n",
    "# ----------------------------------------------------------------------------\n",
    "# [Data-Plotting]\n",
    "# ----------------------------------------------------------------------------\n",
    "try:\n",
    "    import matplotlib\n",
    "    MATPLOTLIB_AVAILABLE = True\n",
    "except (ImportError, NameError, AttributeError, OSError):\n",
    "    print(\" Python package matplotlib is not installed on your system, verify or install\\n\")\n",
    "    MATPLOTLIB_AVAILABLE = False\n",
    "try:\n",
    "    import tqdm\n",
    "    TQDM_AVAILABLE = True\n",
    "except (ImportError, NameError, AttributeError, OSError):\n",
    "    print(\" Python package tqdm is not installed on your system, verify or install\\n\")\n",
    "    TQDM_AVAILABLE = False\n",
    "try:\n",
    "    import pandas\n",
    "    PANDAS_AVAILABLE = True\n",
    "except (ImportError, NameError, AttributeError, OSError):\n",
    "    print(\" Python package pandas is not installed on your system, verify or install\\n\")\n",
    "    PANDAS_AVAILABLE = False\n",
    "try:\n",
    "    import seaborn\n",
    "    SEABORN_AVAILABLE = True\n",
    "except (ImportError, NameError, AttributeError, OSError):\n",
    "    print(\" Python package seaborn is not installed on your system, verify or install\\n\")\n",
    "    SEABORN_AVAILABLE = False"
   ],
   "id": "347a40e994d2ee41",
   "outputs": [],
   "execution_count": 419
  },
  {
   "metadata": {},
   "cell_type": "markdown",
   "source": [
    "## Checking and printing check result\n",
    "---"
   ],
   "id": "83f3e916bebcf89f"
  },
  {
   "metadata": {
    "ExecuteTime": {
     "end_time": "2025-02-26T14:12:15.283964Z",
     "start_time": "2025-02-26T14:12:15.277841Z"
    }
   },
   "cell_type": "code",
   "source": [
    "# ----------------------------------------------------------------------------\n",
    "# [Import-checks]\n",
    "# ----------------------------------------------------------------------------\n",
    "print(\"\\n\")\n",
    "print(\"MATPLOTLIB_AVAILABLE --- installed --->: \", MATPLOTLIB_AVAILABLE)\n",
    "print(\"TQDM_AVAILABLE       --- installed --->: \", TQDM_AVAILABLE)\n",
    "print(\"PANDAS_AVAILABLE     --- installed --->: \", PANDAS_AVAILABLE)\n",
    "print(\"SEABORN_AVAILABLE    --- installed --->: \", SEABORN_AVAILABLE)\n",
    "print(\"\\n\")"
   ],
   "id": "a174c5f2cb310f49",
   "outputs": [
    {
     "name": "stdout",
     "output_type": "stream",
     "text": [
      "\n",
      "\n",
      "MATPLOTLIB_AVAILABLE --- installed --->:  True\n",
      "TQDM_AVAILABLE       --- installed --->:  True\n",
      "PANDAS_AVAILABLE     --- installed --->:  True\n",
      "SEABORN_AVAILABLE    --- installed --->:  True\n",
      "\n",
      "\n"
     ]
    }
   ],
   "execution_count": 420
  },
  {
   "metadata": {},
   "cell_type": "markdown",
   "source": [
    "## Setting up the computation on the benchmark\n",
    "---"
   ],
   "id": "d714e4854b24887"
  },
  {
   "metadata": {
    "ExecuteTime": {
     "end_time": "2025-02-26T14:12:15.575480Z",
     "start_time": "2025-02-26T14:12:15.569476Z"
    }
   },
   "cell_type": "code",
   "source": [
    "start_key_rep_lst = [\n",
    "    'Performing benchmark for SU(2), adjoint',\n",
    "    'Performing benchmark for SU(2), fundamental',\n",
    "    'Performing benchmark for SU(3), fundamental',\n",
    "    'Performing benchmark for Sp(4), fundamental'\n",
    "]"
   ],
   "id": "1ec31eeec0fe992b",
   "outputs": [],
   "execution_count": 421
  },
  {
   "metadata": {},
   "cell_type": "markdown",
   "source": [
    "## Setting up the main path structure and appending to system path.\n",
    "---"
   ],
   "id": "2a001c57e98aca59"
  },
  {
   "metadata": {
    "ExecuteTime": {
     "end_time": "2025-02-26T14:12:15.902323Z",
     "start_time": "2025-02-26T14:12:15.891647Z"
    }
   },
   "cell_type": "code",
   "source": [
    "# ----------------------------------------------------------------------------\n",
    "# [Path]\n",
    "# ----------------------------------------------------------------------------\n",
    "current_path = str(Path(sys.path[0]) / \"..\")\n",
    "if current_path not in sys.path: sys.path.append(current_path)\n",
    "\n",
    "APP_ROOT          = os.path.join(os.getcwd(), '..','..','..','..')\n",
    "DATA_PATH         = os.path.join('E:','LatticeRuns','Clusters')\n",
    "PROJECTNAME       = \"\"\n",
    "POOL_COMPONENTDIR = \"\"\n",
    "SOFTWARE          = \"N/A\"\n",
    "SQL_DIR           = 'SQLFiles_sql'\n",
    "APP_DATA_PATH     = \"N/A\"\n",
    "\n",
    "DATAPROCINTERCOM  = \"\"\n",
    "TBLECNTS_DIR      = \"\"\n",
    "SQL_FULLPATH_DIR  = os.path.join(os.getcwd())\n",
    "# ----------------------------------------------------------------------------\n",
    "# [SystemPath-Appens]\n",
    "# ----------------------------------------------------------------------------\n",
    "sys.path.append(APP_ROOT)\n",
    "sys.path.append(APP_DATA_PATH)\n",
    "sys.path.append(DATA_PATH)\n",
    "sys.path.append(os.path.join(APP_ROOT, '.'))\n",
    "sys.path.append(os.path.join(APP_ROOT, '.','src','PythonCodes'))\n",
    "sys.path.append(os.path.join(APP_ROOT, '.','src','PythonCodes','utils'))\n",
    "\n",
    "print(\"Current Path  --->: \", current_path)\n",
    "print(\"APP_ROOT      --->: \", APP_ROOT)\n",
    "print(\"DATA_PATH     --->: \", DATA_PATH)\n",
    "print(\"APP_DATA_PATH --->: \", APP_DATA_PATH)"
   ],
   "id": "2357a002a87e851d",
   "outputs": [
    {
     "name": "stdout",
     "output_type": "stream",
     "text": [
      "Current Path  --->:  C:\\cygwin64\\home\\Frederic\\SwanSea\\SourceCodes\\Bench_Grid_HiRep\\src\\PythonCodes\\Jupyter-NoteBooks\\LLR-Bench_Grid_HiRep_Notebooks\\..\n",
      "APP_ROOT      --->:  C:\\cygwin64\\home\\Frederic\\SwanSea\\SourceCodes\\Bench_Grid_HiRep\\src\\PythonCodes\\Jupyter-NoteBooks\\LLR-Bench_Grid_HiRep_Notebooks\\..\\..\\..\\..\n",
      "DATA_PATH     --->:  E:LatticeRuns\\Clusters\n",
      "APP_DATA_PATH --->:  N/A\n"
     ]
    }
   ],
   "execution_count": 422
  },
  {
   "metadata": {},
   "cell_type": "markdown",
   "source": [
    "## Importing the application objects.\n",
    "---"
   ],
   "id": "ef2ea9b5a0e380e8"
  },
  {
   "metadata": {
    "ExecuteTime": {
     "end_time": "2025-02-26T14:12:16.422048Z",
     "start_time": "2025-02-26T14:12:16.414412Z"
    }
   },
   "cell_type": "code",
   "source": [
    "# ----------------------------------------------------------------------------\n",
    "# [Application]\n",
    "# ----------------------------------------------------------------------------\n",
    "#Application imports\n",
    "import src.PythonCodes.DataManage_common\n",
    "import src.PythonCodes.utils.messageHandler\n",
    "import src.PythonCodes.utils.Command_line\n",
    "import src.PythonCodes.DataManage_header"
   ],
   "id": "c8bffc4b1eb4e35a",
   "outputs": [],
   "execution_count": 423
  },
  {
   "metadata": {},
   "cell_type": "markdown",
   "source": [
    "## Instantiating the main objects\n",
    "---"
   ],
   "id": "13cda1433c4de033"
  },
  {
   "metadata": {
    "ExecuteTime": {
     "end_time": "2025-02-26T14:12:16.698697Z",
     "start_time": "2025-02-26T14:12:16.688383Z"
    }
   },
   "cell_type": "code",
   "source": [
    "# ----------------------------------------------------------------------------\n",
    "version = src.PythonCodes.DataManage_common.DataManage_version()\n",
    "c = src.PythonCodes.DataManage_common.DataManage_common()\n",
    "rc = c.get_RC_SUCCESS()\n",
    "# Getting the log file\n",
    "logfile = c.getLogfileName()  #getting the name of the global log file\n",
    "m = src.PythonCodes.utils.messageHandler.messageHandler(logfile = logfile)\n",
    "# printing the header of Application\n",
    "src.PythonCodes.DataManage_header.print_Bench_Grid_header(common=c, messageHandler=m)\n",
    "# ----------------------------------------------------------------------------"
   ],
   "id": "f262adb47028c616",
   "outputs": [
    {
     "name": "stdout",
     "output_type": "stream",
     "text": [
      "\n",
      "\u001B[0;96m == [\u001B[1;93m ************************************************************************************\u001B[0;96m] ==\u001B[0m\n",
      "\u001B[0;96m == [\u001B[1;93m *                    python code to run the Benchmarking suite.                    *\u001B[0;96m] ==\u001B[0m\n",
      "\u001B[0;96m == [\u001B[1;93m *                                                                                  *\u001B[0;96m] ==\u001B[0m\n",
      "\u001B[0;96m == [\u001B[1;93m * XXXXXX                          XX                XXXX             X        XX   *\u001B[0;96m] ==\u001B[0m\n",
      "\u001B[0;96m == [\u001B[1;93m * X    X                          X               X    X                      X    *\u001B[0;96m] ==\u001B[0m\n",
      "\u001B[0;96m == [\u001B[1;93m * X    X                          X              X                            X    *\u001B[0;96m] ==\u001B[0m\n",
      "\u001B[0;96m == [\u001B[1;93m * X    X  XXXXX  XX XX    XXXXX   X XX           X       XXX XX   XXX     XXXXX    *\u001B[0;96m] ==\u001B[0m\n",
      "\u001B[0;96m == [\u001B[1;93m * XXXXX  X     X  XX  X  X     X  XX  X          X         XX  X    X    X    X    *\u001B[0;96m] ==\u001B[0m\n",
      "\u001B[0;96m == [\u001B[1;93m * X    X XXXXXXX  X   X  X        X   X  XXXXXXX X   XXX   X        X    X    X    *\u001B[0;96m] ==\u001B[0m\n",
      "\u001B[0;96m == [\u001B[1;93m * X    X X        X   X  X        X   X          X     X   X        X    X    X    *\u001B[0;96m] ==\u001B[0m\n",
      "\u001B[0;96m == [\u001B[1;93m * X    X X     X  X   X  X     X  X   X           X    X   X        X    X    X    *\u001B[0;96m] ==\u001B[0m\n",
      "\u001B[0;96m == [\u001B[1;93m * XXXXXX   XXXXX  XXX XXX  XXXXX  XXX XXX           XXXX  XXXXX    XXXXX   XXXXXX  *\u001B[0;96m] ==\u001B[0m\n",
      "\u001B[0;96m == [\u001B[1;93m *                                                                                  *\u001B[0;96m] ==\u001B[0m\n",
      "\u001B[0;96m == [\u001B[1;93m ************************************************************************************\u001B[0;96m] ==\u001B[0m\n"
     ]
    }
   ],
   "execution_count": 424
  },
  {
   "metadata": {},
   "cell_type": "markdown",
   "source": [
    "## Setting the path structure into the main objects\n",
    "---"
   ],
   "id": "5918e31a05a64741"
  },
  {
   "metadata": {
    "ExecuteTime": {
     "end_time": "2025-02-26T14:12:17.098857Z",
     "start_time": "2025-02-26T14:12:17.092048Z"
    }
   },
   "cell_type": "code",
   "source": [
    "# ----------------------------------------------------------------------------\n",
    "c.setApp_root(APP_ROOT)\n",
    "c.setData_path(DATA_PATH)\n",
    "c.setProjectName(PROJECTNAME)\n",
    "c.setPool_componentdir(POOL_COMPONENTDIR)\n",
    "c.setSoftware(SOFTWARE)\n",
    "c.setDataProcInterCom(DATAPROCINTERCOM)\n",
    "c.setJSon_TableCounts_Dir(TBLECNTS_DIR)\n",
    "c.setSql_dir(SQL_DIR)\n",
    "c.setSql_fullPath_dir(SQL_FULLPATH_DIR)\n",
    "# ----------------------------------------------------------------------------"
   ],
   "id": "3e18dcaf2791ba29",
   "outputs": [],
   "execution_count": 425
  },
  {
   "metadata": {},
   "cell_type": "markdown",
   "source": [
    "## Starting the program\n",
    "---"
   ],
   "id": "6c425fdee2527782"
  },
  {
   "metadata": {
    "ExecuteTime": {
     "end_time": "2025-02-26T14:12:17.392971Z",
     "start_time": "2025-02-26T14:12:17.385118Z"
    }
   },
   "cell_type": "code",
   "source": [
    "# --------------------------------------------------------------------------\n",
    "# [Main-code]\n",
    "# --------------------------------------------------------------------------\n",
    "m.printMesgStr(\"This is the main program      :\", c.getCyan(), \"Bench_Grid_HiRep.py\")"
   ],
   "id": "f8f2cc71ad5de6e3",
   "outputs": [
    {
     "name": "stdout",
     "output_type": "stream",
     "text": [
      "\u001B[0;96m == [\u001B[0;94mThis is the main program      :\u001B[0;96m Bench_Grid_HiRep.py\u001B[0;96m] ==\u001B[0m\n"
     ]
    }
   ],
   "execution_count": 426
  },
  {
   "metadata": {},
   "cell_type": "markdown",
   "source": [
    "## Main functions\n",
    "---"
   ],
   "id": "252445d80613b79f"
  },
  {
   "metadata": {},
   "cell_type": "markdown",
   "source": "### Reinitialising_Paths_and_object_content",
   "id": "bda5aeac975fdf38"
  },
  {
   "metadata": {
    "ExecuteTime": {
     "end_time": "2025-02-26T14:12:17.768299Z",
     "start_time": "2025-02-26T14:12:17.760497Z"
    }
   },
   "cell_type": "code",
   "source": [
    "def Reinitialising_Paths_and_object_content(c, m, data_path, b_action, sim_sz):\n",
    "    __func__= sys._getframe().f_code.co_name\n",
    "    rc = c.get_RC_SUCCESS()\n",
    "    m.printMesgStr(\"Getting target file list      :\", c.getGreen(), __func__)\n",
    "    # ----------------------------------------------------------------------\n",
    "    c.setData_path(data_path)\n",
    "    c.setTarget_File(\"target.txt\")\n",
    "\n",
    "    target_file_default = c.getTarget_File()\n",
    "    m.printMesgStr(\"Default target file           :\", c.getMagenta(), target_file_default)\n",
    "\n",
    "    msg_analysis = c.getTarget_File().split(\".txt\")[0] + c.undr_scr + \\\n",
    "                    b_action      + c.undr_scr                      + \\\n",
    "                    sim_sz        + c.undr_scr                      + \\\n",
    "                    \"batch_files\" + c.txt_ext\n",
    "\n",
    "    c.setTarget_File(str(msg_analysis))\n",
    "    m.printMesgStr(\"Target file for analysis      :\", c.getMagenta(), c.getTarget_File())\n",
    "\n",
    "    c.setTargetdir( os.path.join(c.getData_path(), c.getTarget_File()))\n",
    "    m.printMesgStr(\"Full Path target file         :\", c.getCyan(), c.getTargetdir())\n",
    "\n",
    "    if Path(c.getTargetdir()).is_file():\n",
    "        m.printMesgAddStr(\"[Check]: target file       --->: \", c.getGreen(), \"Exists\")\n",
    "    # ----------------------------------------------------------------------\n",
    "    return rc\n",
    "# [end-function]\n",
    "# --------------------------------------------------------------------------"
   ],
   "id": "ecd3e0551bfff9a3",
   "outputs": [],
   "execution_count": 427
  },
  {
   "metadata": {},
   "cell_type": "markdown",
   "source": "### getTarget_file_lst",
   "id": "eda34a8a78543807"
  },
  {
   "metadata": {
    "ExecuteTime": {
     "end_time": "2025-02-26T14:12:18.045477Z",
     "start_time": "2025-02-26T14:12:18.036403Z"
    }
   },
   "cell_type": "code",
   "source": [
    "def getTarget_file_lst(c, m, target_file):\n",
    "    __func__= sys._getframe().f_code.co_name\n",
    "    rc = c.get_RC_SUCCESS()\n",
    "    m.printMesgStr(\"Getting target file list      :\", c.getGreen(), __func__)\n",
    "    # ----------------------------------------------------------------------\n",
    "    target_file_lst = []\n",
    "    target_file_dir = []\n",
    "    try:\n",
    "        with open(target_file) as file:\n",
    "            cnt = 0\n",
    "            for line in file:\n",
    "                target_file_lst.append(os.path.basename(line).strip())\n",
    "                target_file_dir.append(os.path.dirname(os.path.realpath(line)).strip())\n",
    "                cnt += 1\n",
    "            # [end-For-Loop]\n",
    "            m.printMesgAddStr(\"Number of files in target_file : \", c.getYellow(), str(cnt))\n",
    "        # [end-with]\n",
    "    except IOError:\n",
    "        m.printMesgAddStr(\" Filename          : \",\n",
    "                                   c.getCyan(), target_file)\n",
    "        m.printMesgAddStr(\"                   : \",\n",
    "                                   c.getRed(), \"cannot be found check\"\n",
    "                                                    \" if file exist\")\n",
    "        #exit(c.get_RC_FAIL())\n",
    "    # [end-try-catch]\n",
    "    return rc, target_file_lst, target_file_dir\n",
    "# [end-function]\n",
    "# --------------------------------------------------------------------------"
   ],
   "id": "9bfba0bb3a31af5e",
   "outputs": [],
   "execution_count": 428
  },
  {
   "metadata": {},
   "cell_type": "markdown",
   "source": "### getTaget_file_cluster_lst",
   "id": "20f970374cad09d8"
  },
  {
   "metadata": {
    "ExecuteTime": {
     "end_time": "2025-02-26T14:12:18.239155Z",
     "start_time": "2025-02-26T14:12:18.229048Z"
    }
   },
   "cell_type": "code",
   "source": [
    "def getTarget_file_cluster_lst(c, m, target_file_lst):\n",
    "    __func__= sys._getframe().f_code.co_name\n",
    "    rc = c.get_RC_SUCCESS()\n",
    "    m.printMesgStr(\"Getting target file list      :\", c.getGreen(), __func__)\n",
    "    # ----------------------------------------------------------------------\n",
    "    target_file_cluster_lst = []\n",
    "    for i in range(len(target_file_lst[:])):\n",
    "        msg = (os.path.join(c.getData_path(), batch_action, simulation_size, str(target_file_lst[i].split(\".sh\")[0]), target_file_lst[i])).strip()\n",
    "        if Path(msg).is_file():\n",
    "            m.printMesgAddStr(\"[Check]: target file       --->: \", c.getGreen(), c.getMagenta()+ msg + c.getGreen() + \" ---> Exists\")\n",
    "            # Now get the output file to analise and put it into a list\n",
    "            cluster_out_file = msg.split(\".sh\")[0]+\".out\"\n",
    "            # Extracting cluster files that has been benched\n",
    "            if Path(cluster_out_file).is_file():\n",
    "                m.printMesgAddStr(\"[Check]: Cluster file      --->: \", c.getGreen(), c.getYellow()+ cluster_out_file + c.getGreen() + \" ---> Exists\")\n",
    "                target_file_cluster_lst.append(cluster_out_file)\n",
    "            # [end-if]\n",
    "        # [end-if]\n",
    "    # [end-for-loop]\n",
    "    return rc, target_file_cluster_lst\n",
    "# [end-function]\n",
    "# --------------------------------------------------------------------------\n"
   ],
   "id": "867a9b93449cdcf4",
   "outputs": [],
   "execution_count": 429
  },
  {
   "metadata": {},
   "cell_type": "markdown",
   "source": "### extract_dataframes_representation",
   "id": "b61842f777476517"
  },
  {
   "metadata": {
    "ExecuteTime": {
     "end_time": "2025-02-26T14:12:18.357510Z",
     "start_time": "2025-02-26T14:12:18.345420Z"
    }
   },
   "cell_type": "code",
   "source": [
    "def extract_dataframes_from_representation(c, line,\n",
    "                                            split_string,\n",
    "                                            cg_run_time_lst,\n",
    "                                            FlOps_GFlOps_lst,\n",
    "                                            Comms_MB_lst,\n",
    "                                            Memory_GB_lst,\n",
    "                                            mpi_distribution_lst,\n",
    "                                            nnodes_lst,\n",
    "                                            lattice_size_lst,\n",
    "                                            representation_lst,\n",
    "                                            ith_target_filename,\n",
    "                                            run_file_name_lst):\n",
    "    __func__= sys._getframe().f_code.co_name\n",
    "    rc = c.get_RC_SUCCESS()\n",
    "    #m.printMesgStr(\"Getting target file list      :\", c.getGreen(), __func__)\n",
    "    # ----------------------------------------------------------------------\n",
    "    start_bkeeper_key = \"BKeeper\"\n",
    "    if start_bkeeper_key in line.split('\\n')[0]:\n",
    "        #for ikey in range(len(start_key_rep_lst[:])):\n",
    "        #    start_key_rep_ith = start_key_rep_lst[ikey]\n",
    "        #    print(\" start_key_rep_ith -->: \", start_key_rep_ith)\n",
    "        #    if start_key_rep_ith in  line.split('\\n')[0]:\n",
    "        #        rep_value = str(start_key_rep_ith).split('Performing benchmark for ')[1]\n",
    "        #        representation_lst.append(rep_value)\n",
    "        #rep_value = \"empty_string\"\n",
    "        if 'Performing benchmark for ' in line.split('\\n')[0]:\n",
    "            rep_value = str(line.split('\\n')[0]).split('Performing benchmark for ')[1].split(' #')[0]\n",
    "            #print(\"rep_value --->: \", rep_value)\n",
    "            if rep_value != 'Sp(4), fundamental':\n",
    "                representation_lst.append(rep_value)\n",
    "                run_file_name_lst.append(ith_target_filename)\n",
    "\n",
    "        if \"CG Run Time (s)\" in line.split('\\n')[0]:\n",
    "            key   = \"CG Run Time (s)\" #str(lines[j]).split(':')[0]\n",
    "            value = str(str(line).split(':')[4]).split('\\n')[0]\n",
    "            cg_run_time_lst.append(float(value))\n",
    "\n",
    "            lattice_size_lst.append(str(split_string[0]).split('lat'  )[1])\n",
    "            mpi_distribution_lst.append(str(split_string[2]).split('mpi'  )[1])\n",
    "            nnodes_lst.append(str(split_string[1]).split('nodes')[1])\n",
    "            #if rep_value != \"empty_string\":\n",
    "\n",
    "        if \"FlOp/S (GFlOp/s)\" in line.split('\\n')[0]:\n",
    "            key   = \"FlOp/S (GFlOp/s)\" #str(lines[j]).split(':')[0]\n",
    "            value = str(str(line).split(':')[4]).split('\\n')[0]\n",
    "            FlOps_GFlOps_lst.append(float(value))\n",
    "        if \"Comms  (MB)\" in  line.split('\\n')[0]:\n",
    "            key   = \"Comms\" #str(lines[j]).split(':')[0]\n",
    "            value = str(str(line).split(':')[4]).split('\\n')[0]\n",
    "            Comms_MB_lst.append(float(value))\n",
    "        if \"Memory (GB)\" in line.split('\\n')[0]:\n",
    "            key   = \"Memory (GB)\" #str(lines[j]).split(':')[0]\n",
    "            value = str(str(line).split(':')[4]).split('\\n')[0]\n",
    "            Memory_GB_lst.append(float(value))\n",
    "    # [end-if]\n",
    "    # ----------------------------------------------------------------------\n",
    "    return rc #, cg_run_time_lst, FlOps_GFlOps_lst, Comms_MB_lst, Memory_GB_lst, mpi_distribution_lst, nnodes_lst, lattice_size_lst, representation_lst\n",
    "# [end-function]\n",
    "# --------------------------------------------------------------------------\n"
   ],
   "id": "9cc6e6b3db817e0",
   "outputs": [],
   "execution_count": 430
  },
  {
   "metadata": {},
   "cell_type": "markdown",
   "source": "### Get number of representation in the raget file",
   "id": "2e3eb4c267be3453"
  },
  {
   "metadata": {
    "ExecuteTime": {
     "end_time": "2025-02-26T14:12:18.626068Z",
     "start_time": "2025-02-26T14:12:18.619691Z"
    }
   },
   "cell_type": "code",
   "source": [
    "def get_target_file_cluster_usable(c, nrep, line):\n",
    "    __func__= sys._getframe().f_code.co_name\n",
    "    rc = c.get_RC_SUCCESS()\n",
    "    #m.printMesgStr(\"Getting target file list      :\", c.getGreen(), __func__)\n",
    "    # ----------------------------------------------------------------------\n",
    "    start_bkeeper_key = \"BKeeper\"\n",
    "    if start_bkeeper_key in line.split('\\n')[0]:\n",
    "        if 'Performing benchmark for ' in line.split('\\n')[0]:\n",
    "            rep_value = str(line.split('\\n')[0]).split('Performing benchmark for ')[1].split(' #')[0]\n",
    "            #print(\"rep_value --->: \", rep_value)\n",
    "            nrep += 1\n",
    "        # [end-if]\n",
    "    # [end-if]\n",
    "    # ----------------------------------------------------------------------\n",
    "    return rc, nrep\n",
    "# [end-function]\n",
    "# --------------------------------------------------------------------------\n"
   ],
   "id": "6fbe0d94ffdea219",
   "outputs": [],
   "execution_count": 431
  },
  {
   "metadata": {},
   "cell_type": "markdown",
   "source": "### readCluster_file_out",
   "id": "1c31dc890566573d"
  },
  {
   "metadata": {
    "ExecuteTime": {
     "end_time": "2025-02-26T14:12:18.869615Z",
     "start_time": "2025-02-26T14:12:18.855763Z"
    }
   },
   "cell_type": "code",
   "source": [
    "def read_BKeeper_file_out(c, m, batch_action, simulation_size, target_file_cluster_lst):\n",
    "    __func__= sys._getframe().f_code.co_name\n",
    "    rc = c.get_RC_SUCCESS()\n",
    "    m.printMesgStr(\"Getting target file list      :\", c.getGreen(), __func__)\n",
    "    # ----------------------------------------------------------------------\n",
    "    end_key_rep = \"###############################################\"\n",
    "    bench_BKeeper_dict = {}\n",
    "    #start_bkeeper_key = \"BKeeper\"\n",
    "    # Starting the parsing of files over the start_key_lst\n",
    "    # TODO: loop over the representation key\n",
    "    #ikey = 0\n",
    "    cg_run_time_lst = []\n",
    "    FlOps_GFlOps_lst = []\n",
    "    Comms_MB_lst = []\n",
    "    Memory_GB_lst = []\n",
    "    mpi_distribution_lst = []\n",
    "    nnodes_lst = []\n",
    "    lattice_size_lst = []\n",
    "    representation_lst = []\n",
    "    run_file_name_lst = []\n",
    "    # Making sure that the list are empty before inserting anything\n",
    "    cg_run_time_lst.clear()\n",
    "    FlOps_GFlOps_lst.clear()\n",
    "    Comms_MB_lst.clear()\n",
    "    Memory_GB_lst.clear()\n",
    "    mpi_distribution_lst.clear()\n",
    "    nnodes_lst.clear()\n",
    "    lattice_size_lst.clear()\n",
    "    representation_lst.clear()\n",
    "    run_file_name_lst.clear()\n",
    "    #\n",
    "    #for i in range(6):\n",
    "    for i in tqdm.tqdm(range(len(target_file_cluster_lst[:])), ncols=100, desc='bench_BKeeper_dict'):\n",
    "        #for i in range(len(target_file_cluster_lst[:])):\n",
    "        try:\n",
    "            if len(target_file_cluster_lst[:]) != 0:\n",
    "                cluster_file = open(target_file_cluster_lst[i])\n",
    "                # Getting the mpi_distribution, lattice size and number of nodes\n",
    "                ith_file = os.path.basename(target_file_cluster_lst[i].split('\\n')[0]).split('.out')[0].split('Run_')[1].split(batch_action+'_')[1].split('_'+simulation_size)[0]\n",
    "                split_string = ith_file.split('_')\n",
    "\n",
    "                lines = cluster_file.readlines()\n",
    "                database_file_len = len(lines)\n",
    "                #print(\"target_file_cluster_lst[i] -->: \", target_file_cluster_lst[i])\n",
    "\n",
    "                for j in range(database_file_len):\n",
    "                    rc = extract_dataframes_from_representation(c, lines[j], split_string,\n",
    "                                                                cg_run_time_lst, FlOps_GFlOps_lst,\n",
    "                                                                Comms_MB_lst, Memory_GB_lst,\n",
    "                                                                mpi_distribution_lst, nnodes_lst,\n",
    "                                                                lattice_size_lst, representation_lst,\n",
    "                                                                target_file_cluster_lst[i], run_file_name_lst)\n",
    "                # [end-for-loop [j]]\n",
    "            # [end-if]\n",
    "        except IOError:\n",
    "            m.printMesgAddStr(\" Filename          : \", c.getCyan(), target_file_cluster_lst[i])\n",
    "            m.printMesgAddStr(\"                   : \", c.getRed(), \"cannot be found check if file exist\")\n",
    "            #exit(c.get_RC_FAIL())\n",
    "        # [end-try-catch]\n",
    "    # [end-for-loop [i]]\n",
    "    #print (\"representation_lst[:]      --->: \", representation_lst[:] )\n",
    "    #print (\"len(representation_lst[:]) --->: \", len(representation_lst[:]) )\n",
    "    #print (\"cg_run_time_lst[:]         --->: \", cg_run_time_lst[:] )\n",
    "    #print (\"len(cg_run_time_lst[:])    --->: \", len(cg_run_time_lst[:]) )\n",
    "    #print (\"run_file_name_lst[:]       --->: \", run_file_name_lst[:] )\n",
    "    #print (\"len(run_file_name_lst[:])    --->: \", len(run_file_name_lst[:]) )\n",
    "\n",
    "    bench_BKeeper_dict[\"Representation\"]   = representation_lst[:]\n",
    "    bench_BKeeper_dict[\"CG Run Time (s)\"]  = cg_run_time_lst[:]\n",
    "    bench_BKeeper_dict[\"FlOp/S (GFlOp/s)\"] = FlOps_GFlOps_lst[:]\n",
    "    bench_BKeeper_dict[\"Comms  (MB)\"]      = Comms_MB_lst[:]\n",
    "    bench_BKeeper_dict[\"Memory (GB)\"]      = Memory_GB_lst[:]\n",
    "    bench_BKeeper_dict[\"lattice\"]          = lattice_size_lst[:]\n",
    "    bench_BKeeper_dict[\"nodes\"]            = nnodes_lst[:]\n",
    "    bench_BKeeper_dict[\"mpi_distribution\"] = mpi_distribution_lst[:]\n",
    "    bench_BKeeper_dict[\"Run output file\"]  = run_file_name_lst[:]\n",
    "\n",
    "    # creating a dictionary from the output data\n",
    "    #print(\" printing the dictionay ---->: \", bench_BKeeper_dict)\n",
    "    dataframe = pandas.DataFrame.from_dict(bench_BKeeper_dict)\n",
    "\n",
    "    return rc, dataframe\n",
    "# [end-function]\n",
    "# --------------------------------------------------------------------------\n"
   ],
   "id": "efe6a79aebed5971",
   "outputs": [],
   "execution_count": 432
  },
  {
   "metadata": {},
   "cell_type": "markdown",
   "source": "### filter_target_file_cluster_lst",
   "id": "7f4934d19162b49e"
  },
  {
   "metadata": {
    "ExecuteTime": {
     "end_time": "2025-02-26T14:12:19.141013Z",
     "start_time": "2025-02-26T14:12:19.128737Z"
    }
   },
   "cell_type": "code",
   "source": [
    "def filter_target_file_cluster_lst(c, m, start_key_rep_lst, target_file_cluster_lst):\n",
    "    __func__= sys._getframe().f_code.co_name\n",
    "    rc = c.get_RC_SUCCESS()\n",
    "    m.printMesgStr(\"Getting target file list      :\", c.getGreen(), __func__)\n",
    "    # ----------------------------------------------------------------------\n",
    "\n",
    "    target_file_cluster_filtered_lst = []\n",
    "\n",
    "    for i in tqdm.tqdm(range(len(target_file_cluster_lst[:])), ncols=100, desc='filter target file'):\n",
    "        #for i in range(len(target_file_cluster_lst[:])):\n",
    "        try:\n",
    "            if len(target_file_cluster_lst[:]) != 0:\n",
    "                cluster_file = open(target_file_cluster_lst[i])\n",
    "                # Getting the mpi_distribution, lattice size and number of nodes\n",
    "                ith_file = os.path.basename(target_file_cluster_lst[i].split('\\n')[0]).split('.out')[0].split('Run_')[1].split(batch_action+'_')[1].split('_'+simulation_size)[0]\n",
    "                split_string = ith_file.split('_')\n",
    "\n",
    "                lines = cluster_file.readlines()\n",
    "                database_file_len = len(lines)\n",
    "\n",
    "                #print(\"target_file_cluster_lst[i] -->: \", target_file_cluster_lst[i])\n",
    "                nrep = 0\n",
    "                for j in range(database_file_len):\n",
    "                    rc, nrep = get_target_file_cluster_usable(c, nrep, lines[j])\n",
    "                # [end-for-loop [j]]\n",
    "\n",
    "                #print(\"nrep ---->: \", nrep)\n",
    "                if nrep == len(start_key_rep_lst[:]):\n",
    "                    target_file_cluster_filtered_lst.append(target_file_cluster_lst[i])\n",
    "\n",
    "        except IOError:\n",
    "            m.printMesgAddStr(\" Filename          : \", c.getCyan(), target_file_cluster_lst[i])\n",
    "            m.printMesgAddStr(\"                   : \", c.getRed(), \"cannot be found check if file exist\")\n",
    "            #exit(c.get_RC_FAIL())\n",
    "        # [end-try-catch]\n",
    "    # [end-for-loop [i]]\n",
    "\n",
    "    return rc, target_file_cluster_filtered_lst\n",
    "# [end-function]\n",
    "# --------------------------------------------------------------------------"
   ],
   "id": "538e079e69a2a38c",
   "outputs": [],
   "execution_count": 433
  },
  {
   "metadata": {},
   "cell_type": "markdown",
   "source": [
    "## Lumi\n",
    "### [BKeeper_run_gpu : small]\n",
    "---"
   ],
   "id": "1943c8f7741307b7"
  },
  {
   "metadata": {
    "ExecuteTime": {
     "end_time": "2025-02-26T14:12:19.354476Z",
     "start_time": "2025-02-26T14:12:19.347467Z"
    }
   },
   "cell_type": "code",
   "source": [
    "machine_name = \"Lumi\"\n",
    "DATA_PATH         = os.path.join('E:','LatticeRuns','Clusters',machine_name,'LatticeRuns')"
   ],
   "id": "269327d82d98614b",
   "outputs": [],
   "execution_count": 434
  },
  {
   "metadata": {
    "ExecuteTime": {
     "end_time": "2025-02-26T14:12:19.513700Z",
     "start_time": "2025-02-26T14:12:19.506655Z"
    }
   },
   "cell_type": "code",
   "source": [
    "batch_action = \"BKeeper_run_gpu\"\n",
    "simulation_size=\"small\"\n",
    "rc = Reinitialising_Paths_and_object_content(c, m, DATA_PATH, batch_action, simulation_size)"
   ],
   "id": "d356081392b5b746",
   "outputs": [
    {
     "name": "stdout",
     "output_type": "stream",
     "text": [
      "\u001B[0;96m == [\u001B[0;94mGetting target file list      :\u001B[0;92m Reinitialising_Paths_and_object_content\u001B[0;96m] ==\u001B[0m\n",
      "\u001B[0;96m == [\u001B[0;94mDefault target file           :\u001B[0;95m target.txt\u001B[0;96m] ==\u001B[0m\n",
      "\u001B[0;96m == [\u001B[0;94mTarget file for analysis      :\u001B[0;95m target_BKeeper_run_gpu_small_batch_files.txt\u001B[0;96m] ==\u001B[0m\n",
      "\u001B[0;96m == [\u001B[0;94mFull Path target file         :\u001B[0;96m E:LatticeRuns\\Clusters\\Lumi\\LatticeRuns\\target_BKeeper_run_gpu_small_batch_files.txt\u001B[0;96m] ==\u001B[0m\n",
      "\u001B[0;96m    \u001B[0;94m[Check]: target file       --->: \u001B[0;92mExists\u001B[0m\n"
     ]
    }
   ],
   "execution_count": 435
  },
  {
   "metadata": {
    "ExecuteTime": {
     "end_time": "2025-02-26T14:12:19.858288Z",
     "start_time": "2025-02-26T14:12:19.796216Z"
    }
   },
   "cell_type": "code",
   "source": [
    "# --------------------------------------------------------------------------\n",
    "# Getting content in the target file\n",
    "rc, target_file_lst_lumi, target_file_dir_lumi = getTarget_file_lst(c, m, c.getTargetdir())\n"
   ],
   "id": "ee881dd986be3bf",
   "outputs": [
    {
     "name": "stdout",
     "output_type": "stream",
     "text": [
      "\u001B[0;96m == [\u001B[0;94mGetting target file list      :\u001B[0;92m getTarget_file_lst\u001B[0;96m] ==\u001B[0m\n",
      "\u001B[0;96m    \u001B[0;94mNumber of files in target_file : \u001B[0;93m51\u001B[0m\n"
     ]
    }
   ],
   "execution_count": 436
  },
  {
   "metadata": {
    "ExecuteTime": {
     "end_time": "2025-02-26T14:12:20.359176Z",
     "start_time": "2025-02-26T14:12:20.330222Z"
    }
   },
   "cell_type": "code",
   "source": [
    "# --------------------------------------------------------------------------\n",
    "# Getting content in the target file\n",
    "rc, target_file_cluster_lst_lumi = getTarget_file_cluster_lst(c, m, target_file_lst_lumi[:])"
   ],
   "id": "d35b470828562f39",
   "outputs": [
    {
     "name": "stdout",
     "output_type": "stream",
     "text": [
      "\u001B[0;96m == [\u001B[0;94mGetting target file list      :\u001B[0;92m getTarget_file_cluster_lst\u001B[0;96m] ==\u001B[0m\n",
      "\u001B[0;96m    \u001B[0;94m[Check]: target file       --->: \u001B[0;92m\u001B[0;95mE:LatticeRuns\\Clusters\\Lumi\\LatticeRuns\\BKeeper_run_gpu\\small\\Run_BKeeper_run_gpu_lat24.24.24.32_nodes002_mpi01-01-04-04_small\\Run_BKeeper_run_gpu_lat24.24.24.32_nodes002_mpi01-01-04-04_small.sh\u001B[0;92m ---> Exists\u001B[0m\n",
      "\u001B[0;96m    \u001B[0;94m[Check]: Cluster file      --->: \u001B[0;92m\u001B[0;93mE:LatticeRuns\\Clusters\\Lumi\\LatticeRuns\\BKeeper_run_gpu\\small\\Run_BKeeper_run_gpu_lat24.24.24.32_nodes002_mpi01-01-04-04_small\\Run_BKeeper_run_gpu_lat24.24.24.32_nodes002_mpi01-01-04-04_small.out\u001B[0;92m ---> Exists\u001B[0m\n",
      "\u001B[0;96m    \u001B[0;94m[Check]: target file       --->: \u001B[0;92m\u001B[0;95mE:LatticeRuns\\Clusters\\Lumi\\LatticeRuns\\BKeeper_run_gpu\\small\\Run_BKeeper_run_gpu_lat24.24.24.32_nodes002_mpi04-02-02-01_small\\Run_BKeeper_run_gpu_lat24.24.24.32_nodes002_mpi04-02-02-01_small.sh\u001B[0;92m ---> Exists\u001B[0m\n",
      "\u001B[0;96m    \u001B[0;94m[Check]: Cluster file      --->: \u001B[0;92m\u001B[0;93mE:LatticeRuns\\Clusters\\Lumi\\LatticeRuns\\BKeeper_run_gpu\\small\\Run_BKeeper_run_gpu_lat24.24.24.32_nodes002_mpi04-02-02-01_small\\Run_BKeeper_run_gpu_lat24.24.24.32_nodes002_mpi04-02-02-01_small.out\u001B[0;92m ---> Exists\u001B[0m\n",
      "\u001B[0;96m    \u001B[0;94m[Check]: target file       --->: \u001B[0;92m\u001B[0;95mE:LatticeRuns\\Clusters\\Lumi\\LatticeRuns\\BKeeper_run_gpu\\small\\Run_BKeeper_run_gpu_lat24.24.24.32_nodes002_mpi01-08-02-01_small\\Run_BKeeper_run_gpu_lat24.24.24.32_nodes002_mpi01-08-02-01_small.sh\u001B[0;92m ---> Exists\u001B[0m\n",
      "\u001B[0;96m    \u001B[0;94m[Check]: Cluster file      --->: \u001B[0;92m\u001B[0;93mE:LatticeRuns\\Clusters\\Lumi\\LatticeRuns\\BKeeper_run_gpu\\small\\Run_BKeeper_run_gpu_lat24.24.24.32_nodes002_mpi01-08-02-01_small\\Run_BKeeper_run_gpu_lat24.24.24.32_nodes002_mpi01-08-02-01_small.out\u001B[0;92m ---> Exists\u001B[0m\n",
      "\u001B[0;96m    \u001B[0;94m[Check]: target file       --->: \u001B[0;92m\u001B[0;95mE:LatticeRuns\\Clusters\\Lumi\\LatticeRuns\\BKeeper_run_gpu\\small\\Run_BKeeper_run_gpu_lat24.24.24.32_nodes002_mpi01-02-08-01_small\\Run_BKeeper_run_gpu_lat24.24.24.32_nodes002_mpi01-02-08-01_small.sh\u001B[0;92m ---> Exists\u001B[0m\n",
      "\u001B[0;96m    \u001B[0;94m[Check]: Cluster file      --->: \u001B[0;92m\u001B[0;93mE:LatticeRuns\\Clusters\\Lumi\\LatticeRuns\\BKeeper_run_gpu\\small\\Run_BKeeper_run_gpu_lat24.24.24.32_nodes002_mpi01-02-08-01_small\\Run_BKeeper_run_gpu_lat24.24.24.32_nodes002_mpi01-02-08-01_small.out\u001B[0;92m ---> Exists\u001B[0m\n",
      "\u001B[0;96m    \u001B[0;94m[Check]: target file       --->: \u001B[0;92m\u001B[0;95mE:LatticeRuns\\Clusters\\Lumi\\LatticeRuns\\BKeeper_run_gpu\\small\\Run_BKeeper_run_gpu_lat24.24.24.32_nodes002_mpi08-01-02-01_small\\Run_BKeeper_run_gpu_lat24.24.24.32_nodes002_mpi08-01-02-01_small.sh\u001B[0;92m ---> Exists\u001B[0m\n",
      "\u001B[0;96m    \u001B[0;94m[Check]: Cluster file      --->: \u001B[0;92m\u001B[0;93mE:LatticeRuns\\Clusters\\Lumi\\LatticeRuns\\BKeeper_run_gpu\\small\\Run_BKeeper_run_gpu_lat24.24.24.32_nodes002_mpi08-01-02-01_small\\Run_BKeeper_run_gpu_lat24.24.24.32_nodes002_mpi08-01-02-01_small.out\u001B[0;92m ---> Exists\u001B[0m\n",
      "\u001B[0;96m    \u001B[0;94m[Check]: target file       --->: \u001B[0;92m\u001B[0;95mE:LatticeRuns\\Clusters\\Lumi\\LatticeRuns\\BKeeper_run_gpu\\small\\Run_BKeeper_run_gpu_lat24.24.24.32_nodes001_mpi04-01-01-02_small\\Run_BKeeper_run_gpu_lat24.24.24.32_nodes001_mpi04-01-01-02_small.sh\u001B[0;92m ---> Exists\u001B[0m\n",
      "\u001B[0;96m    \u001B[0;94m[Check]: Cluster file      --->: \u001B[0;92m\u001B[0;93mE:LatticeRuns\\Clusters\\Lumi\\LatticeRuns\\BKeeper_run_gpu\\small\\Run_BKeeper_run_gpu_lat24.24.24.32_nodes001_mpi04-01-01-02_small\\Run_BKeeper_run_gpu_lat24.24.24.32_nodes001_mpi04-01-01-02_small.out\u001B[0;92m ---> Exists\u001B[0m\n",
      "\u001B[0;96m    \u001B[0;94m[Check]: target file       --->: \u001B[0;92m\u001B[0;95mE:LatticeRuns\\Clusters\\Lumi\\LatticeRuns\\BKeeper_run_gpu\\small\\Run_BKeeper_run_gpu_lat24.24.24.32_nodes001_mpi08-01-01-01_small\\Run_BKeeper_run_gpu_lat24.24.24.32_nodes001_mpi08-01-01-01_small.sh\u001B[0;92m ---> Exists\u001B[0m\n",
      "\u001B[0;96m    \u001B[0;94m[Check]: Cluster file      --->: \u001B[0;92m\u001B[0;93mE:LatticeRuns\\Clusters\\Lumi\\LatticeRuns\\BKeeper_run_gpu\\small\\Run_BKeeper_run_gpu_lat24.24.24.32_nodes001_mpi08-01-01-01_small\\Run_BKeeper_run_gpu_lat24.24.24.32_nodes001_mpi08-01-01-01_small.out\u001B[0;92m ---> Exists\u001B[0m\n",
      "\u001B[0;96m    \u001B[0;94m[Check]: target file       --->: \u001B[0;92m\u001B[0;95mE:LatticeRuns\\Clusters\\Lumi\\LatticeRuns\\BKeeper_run_gpu\\small\\Run_BKeeper_run_gpu_lat24.24.24.32_nodes002_mpi01-01-08-02_small\\Run_BKeeper_run_gpu_lat24.24.24.32_nodes002_mpi01-01-08-02_small.sh\u001B[0;92m ---> Exists\u001B[0m\n",
      "\u001B[0;96m    \u001B[0;94m[Check]: Cluster file      --->: \u001B[0;92m\u001B[0;93mE:LatticeRuns\\Clusters\\Lumi\\LatticeRuns\\BKeeper_run_gpu\\small\\Run_BKeeper_run_gpu_lat24.24.24.32_nodes002_mpi01-01-08-02_small\\Run_BKeeper_run_gpu_lat24.24.24.32_nodes002_mpi01-01-08-02_small.out\u001B[0;92m ---> Exists\u001B[0m\n",
      "\u001B[0;96m    \u001B[0;94m[Check]: target file       --->: \u001B[0;92m\u001B[0;95mE:LatticeRuns\\Clusters\\Lumi\\LatticeRuns\\BKeeper_run_gpu\\small\\Run_BKeeper_run_gpu_lat24.24.24.32_nodes002_mpi02-01-04-02_small\\Run_BKeeper_run_gpu_lat24.24.24.32_nodes002_mpi02-01-04-02_small.sh\u001B[0;92m ---> Exists\u001B[0m\n",
      "\u001B[0;96m    \u001B[0;94m[Check]: Cluster file      --->: \u001B[0;92m\u001B[0;93mE:LatticeRuns\\Clusters\\Lumi\\LatticeRuns\\BKeeper_run_gpu\\small\\Run_BKeeper_run_gpu_lat24.24.24.32_nodes002_mpi02-01-04-02_small\\Run_BKeeper_run_gpu_lat24.24.24.32_nodes002_mpi02-01-04-02_small.out\u001B[0;92m ---> Exists\u001B[0m\n",
      "\u001B[0;96m    \u001B[0;94m[Check]: target file       --->: \u001B[0;92m\u001B[0;95mE:LatticeRuns\\Clusters\\Lumi\\LatticeRuns\\BKeeper_run_gpu\\small\\Run_BKeeper_run_gpu_lat24.24.24.32_nodes002_mpi04-01-04-01_small\\Run_BKeeper_run_gpu_lat24.24.24.32_nodes002_mpi04-01-04-01_small.sh\u001B[0;92m ---> Exists\u001B[0m\n",
      "\u001B[0;96m    \u001B[0;94m[Check]: Cluster file      --->: \u001B[0;92m\u001B[0;93mE:LatticeRuns\\Clusters\\Lumi\\LatticeRuns\\BKeeper_run_gpu\\small\\Run_BKeeper_run_gpu_lat24.24.24.32_nodes002_mpi04-01-04-01_small\\Run_BKeeper_run_gpu_lat24.24.24.32_nodes002_mpi04-01-04-01_small.out\u001B[0;92m ---> Exists\u001B[0m\n",
      "\u001B[0;96m    \u001B[0;94m[Check]: target file       --->: \u001B[0;92m\u001B[0;95mE:LatticeRuns\\Clusters\\Lumi\\LatticeRuns\\BKeeper_run_gpu\\small\\Run_BKeeper_run_gpu_lat24.24.24.32_nodes002_mpi08-02-01-01_small\\Run_BKeeper_run_gpu_lat24.24.24.32_nodes002_mpi08-02-01-01_small.sh\u001B[0;92m ---> Exists\u001B[0m\n",
      "\u001B[0;96m    \u001B[0;94m[Check]: Cluster file      --->: \u001B[0;92m\u001B[0;93mE:LatticeRuns\\Clusters\\Lumi\\LatticeRuns\\BKeeper_run_gpu\\small\\Run_BKeeper_run_gpu_lat24.24.24.32_nodes002_mpi08-02-01-01_small\\Run_BKeeper_run_gpu_lat24.24.24.32_nodes002_mpi08-02-01-01_small.out\u001B[0;92m ---> Exists\u001B[0m\n",
      "\u001B[0;96m    \u001B[0;94m[Check]: target file       --->: \u001B[0;92m\u001B[0;95mE:LatticeRuns\\Clusters\\Lumi\\LatticeRuns\\BKeeper_run_gpu\\small\\Run_BKeeper_run_gpu_lat24.24.24.32_nodes002_mpi04-02-01-02_small\\Run_BKeeper_run_gpu_lat24.24.24.32_nodes002_mpi04-02-01-02_small.sh\u001B[0;92m ---> Exists\u001B[0m\n",
      "\u001B[0;96m    \u001B[0;94m[Check]: Cluster file      --->: \u001B[0;92m\u001B[0;93mE:LatticeRuns\\Clusters\\Lumi\\LatticeRuns\\BKeeper_run_gpu\\small\\Run_BKeeper_run_gpu_lat24.24.24.32_nodes002_mpi04-02-01-02_small\\Run_BKeeper_run_gpu_lat24.24.24.32_nodes002_mpi04-02-01-02_small.out\u001B[0;92m ---> Exists\u001B[0m\n",
      "\u001B[0;96m    \u001B[0;94m[Check]: target file       --->: \u001B[0;92m\u001B[0;95mE:LatticeRuns\\Clusters\\Lumi\\LatticeRuns\\BKeeper_run_gpu\\small\\Run_BKeeper_run_gpu_lat24.24.24.32_nodes002_mpi01-04-02-02_small\\Run_BKeeper_run_gpu_lat24.24.24.32_nodes002_mpi01-04-02-02_small.sh\u001B[0;92m ---> Exists\u001B[0m\n",
      "\u001B[0;96m    \u001B[0;94m[Check]: Cluster file      --->: \u001B[0;92m\u001B[0;93mE:LatticeRuns\\Clusters\\Lumi\\LatticeRuns\\BKeeper_run_gpu\\small\\Run_BKeeper_run_gpu_lat24.24.24.32_nodes002_mpi01-04-02-02_small\\Run_BKeeper_run_gpu_lat24.24.24.32_nodes002_mpi01-04-02-02_small.out\u001B[0;92m ---> Exists\u001B[0m\n",
      "\u001B[0;96m    \u001B[0;94m[Check]: target file       --->: \u001B[0;92m\u001B[0;95mE:LatticeRuns\\Clusters\\Lumi\\LatticeRuns\\BKeeper_run_gpu\\small\\Run_BKeeper_run_gpu_lat24.24.24.32_nodes001_mpi04-01-02-01_small\\Run_BKeeper_run_gpu_lat24.24.24.32_nodes001_mpi04-01-02-01_small.sh\u001B[0;92m ---> Exists\u001B[0m\n",
      "\u001B[0;96m    \u001B[0;94m[Check]: Cluster file      --->: \u001B[0;92m\u001B[0;93mE:LatticeRuns\\Clusters\\Lumi\\LatticeRuns\\BKeeper_run_gpu\\small\\Run_BKeeper_run_gpu_lat24.24.24.32_nodes001_mpi04-01-02-01_small\\Run_BKeeper_run_gpu_lat24.24.24.32_nodes001_mpi04-01-02-01_small.out\u001B[0;92m ---> Exists\u001B[0m\n",
      "\u001B[0;96m    \u001B[0;94m[Check]: target file       --->: \u001B[0;92m\u001B[0;95mE:LatticeRuns\\Clusters\\Lumi\\LatticeRuns\\BKeeper_run_gpu\\small\\Run_BKeeper_run_gpu_lat24.24.24.32_nodes002_mpi01-02-01-08_small\\Run_BKeeper_run_gpu_lat24.24.24.32_nodes002_mpi01-02-01-08_small.sh\u001B[0;92m ---> Exists\u001B[0m\n",
      "\u001B[0;96m    \u001B[0;94m[Check]: Cluster file      --->: \u001B[0;92m\u001B[0;93mE:LatticeRuns\\Clusters\\Lumi\\LatticeRuns\\BKeeper_run_gpu\\small\\Run_BKeeper_run_gpu_lat24.24.24.32_nodes002_mpi01-02-01-08_small\\Run_BKeeper_run_gpu_lat24.24.24.32_nodes002_mpi01-02-01-08_small.out\u001B[0;92m ---> Exists\u001B[0m\n",
      "\u001B[0;96m    \u001B[0;94m[Check]: target file       --->: \u001B[0;92m\u001B[0;95mE:LatticeRuns\\Clusters\\Lumi\\LatticeRuns\\BKeeper_run_gpu\\small\\Run_BKeeper_run_gpu_lat24.24.24.32_nodes001_mpi01-01-01-08_small\\Run_BKeeper_run_gpu_lat24.24.24.32_nodes001_mpi01-01-01-08_small.sh\u001B[0;92m ---> Exists\u001B[0m\n",
      "\u001B[0;96m    \u001B[0;94m[Check]: Cluster file      --->: \u001B[0;92m\u001B[0;93mE:LatticeRuns\\Clusters\\Lumi\\LatticeRuns\\BKeeper_run_gpu\\small\\Run_BKeeper_run_gpu_lat24.24.24.32_nodes001_mpi01-01-01-08_small\\Run_BKeeper_run_gpu_lat24.24.24.32_nodes001_mpi01-01-01-08_small.out\u001B[0;92m ---> Exists\u001B[0m\n",
      "\u001B[0;96m    \u001B[0;94m[Check]: target file       --->: \u001B[0;92m\u001B[0;95mE:LatticeRuns\\Clusters\\Lumi\\LatticeRuns\\BKeeper_run_gpu\\small\\Run_BKeeper_run_gpu_lat24.24.24.32_nodes002_mpi02-01-08-01_small\\Run_BKeeper_run_gpu_lat24.24.24.32_nodes002_mpi02-01-08-01_small.sh\u001B[0;92m ---> Exists\u001B[0m\n",
      "\u001B[0;96m    \u001B[0;94m[Check]: Cluster file      --->: \u001B[0;92m\u001B[0;93mE:LatticeRuns\\Clusters\\Lumi\\LatticeRuns\\BKeeper_run_gpu\\small\\Run_BKeeper_run_gpu_lat24.24.24.32_nodes002_mpi02-01-08-01_small\\Run_BKeeper_run_gpu_lat24.24.24.32_nodes002_mpi02-01-08-01_small.out\u001B[0;92m ---> Exists\u001B[0m\n",
      "\u001B[0;96m    \u001B[0;94m[Check]: target file       --->: \u001B[0;92m\u001B[0;95mE:LatticeRuns\\Clusters\\Lumi\\LatticeRuns\\BKeeper_run_gpu\\small\\Run_BKeeper_run_gpu_lat24.24.24.32_nodes001_mpi01-01-04-02_small\\Run_BKeeper_run_gpu_lat24.24.24.32_nodes001_mpi01-01-04-02_small.sh\u001B[0;92m ---> Exists\u001B[0m\n",
      "\u001B[0;96m    \u001B[0;94m[Check]: Cluster file      --->: \u001B[0;92m\u001B[0;93mE:LatticeRuns\\Clusters\\Lumi\\LatticeRuns\\BKeeper_run_gpu\\small\\Run_BKeeper_run_gpu_lat24.24.24.32_nodes001_mpi01-01-04-02_small\\Run_BKeeper_run_gpu_lat24.24.24.32_nodes001_mpi01-01-04-02_small.out\u001B[0;92m ---> Exists\u001B[0m\n",
      "\u001B[0;96m    \u001B[0;94m[Check]: target file       --->: \u001B[0;92m\u001B[0;95mE:LatticeRuns\\Clusters\\Lumi\\LatticeRuns\\BKeeper_run_gpu\\small\\Run_BKeeper_run_gpu_lat24.24.24.32_nodes001_mpi04-02-01-01_small\\Run_BKeeper_run_gpu_lat24.24.24.32_nodes001_mpi04-02-01-01_small.sh\u001B[0;92m ---> Exists\u001B[0m\n",
      "\u001B[0;96m    \u001B[0;94m[Check]: Cluster file      --->: \u001B[0;92m\u001B[0;93mE:LatticeRuns\\Clusters\\Lumi\\LatticeRuns\\BKeeper_run_gpu\\small\\Run_BKeeper_run_gpu_lat24.24.24.32_nodes001_mpi04-02-01-01_small\\Run_BKeeper_run_gpu_lat24.24.24.32_nodes001_mpi04-02-01-01_small.out\u001B[0;92m ---> Exists\u001B[0m\n",
      "\u001B[0;96m    \u001B[0;94m[Check]: target file       --->: \u001B[0;92m\u001B[0;95mE:LatticeRuns\\Clusters\\Lumi\\LatticeRuns\\BKeeper_run_gpu\\small\\Run_BKeeper_run_gpu_lat24.24.24.32_nodes002_mpi08-01-01-02_small\\Run_BKeeper_run_gpu_lat24.24.24.32_nodes002_mpi08-01-01-02_small.sh\u001B[0;92m ---> Exists\u001B[0m\n",
      "\u001B[0;96m    \u001B[0;94m[Check]: Cluster file      --->: \u001B[0;92m\u001B[0;93mE:LatticeRuns\\Clusters\\Lumi\\LatticeRuns\\BKeeper_run_gpu\\small\\Run_BKeeper_run_gpu_lat24.24.24.32_nodes002_mpi08-01-01-02_small\\Run_BKeeper_run_gpu_lat24.24.24.32_nodes002_mpi08-01-01-02_small.out\u001B[0;92m ---> Exists\u001B[0m\n",
      "\u001B[0;96m    \u001B[0;94m[Check]: target file       --->: \u001B[0;92m\u001B[0;95mE:LatticeRuns\\Clusters\\Lumi\\LatticeRuns\\BKeeper_run_gpu\\small\\Run_BKeeper_run_gpu_lat24.24.24.32_nodes001_mpi02-04-01-01_small\\Run_BKeeper_run_gpu_lat24.24.24.32_nodes001_mpi02-04-01-01_small.sh\u001B[0;92m ---> Exists\u001B[0m\n",
      "\u001B[0;96m    \u001B[0;94m[Check]: Cluster file      --->: \u001B[0;92m\u001B[0;93mE:LatticeRuns\\Clusters\\Lumi\\LatticeRuns\\BKeeper_run_gpu\\small\\Run_BKeeper_run_gpu_lat24.24.24.32_nodes001_mpi02-04-01-01_small\\Run_BKeeper_run_gpu_lat24.24.24.32_nodes001_mpi02-04-01-01_small.out\u001B[0;92m ---> Exists\u001B[0m\n",
      "\u001B[0;96m    \u001B[0;94m[Check]: target file       --->: \u001B[0;92m\u001B[0;95mE:LatticeRuns\\Clusters\\Lumi\\LatticeRuns\\BKeeper_run_gpu\\small\\Run_BKeeper_run_gpu_lat24.24.24.32_nodes001_mpi01-02-01-04_small\\Run_BKeeper_run_gpu_lat24.24.24.32_nodes001_mpi01-02-01-04_small.sh\u001B[0;92m ---> Exists\u001B[0m\n",
      "\u001B[0;96m    \u001B[0;94m[Check]: Cluster file      --->: \u001B[0;92m\u001B[0;93mE:LatticeRuns\\Clusters\\Lumi\\LatticeRuns\\BKeeper_run_gpu\\small\\Run_BKeeper_run_gpu_lat24.24.24.32_nodes001_mpi01-02-01-04_small\\Run_BKeeper_run_gpu_lat24.24.24.32_nodes001_mpi01-02-01-04_small.out\u001B[0;92m ---> Exists\u001B[0m\n",
      "\u001B[0;96m    \u001B[0;94m[Check]: target file       --->: \u001B[0;92m\u001B[0;95mE:LatticeRuns\\Clusters\\Lumi\\LatticeRuns\\BKeeper_run_gpu\\small\\Run_BKeeper_run_gpu_lat24.24.24.32_nodes002_mpi02-04-02-01_small\\Run_BKeeper_run_gpu_lat24.24.24.32_nodes002_mpi02-04-02-01_small.sh\u001B[0;92m ---> Exists\u001B[0m\n",
      "\u001B[0;96m    \u001B[0;94m[Check]: Cluster file      --->: \u001B[0;92m\u001B[0;93mE:LatticeRuns\\Clusters\\Lumi\\LatticeRuns\\BKeeper_run_gpu\\small\\Run_BKeeper_run_gpu_lat24.24.24.32_nodes002_mpi02-04-02-01_small\\Run_BKeeper_run_gpu_lat24.24.24.32_nodes002_mpi02-04-02-01_small.out\u001B[0;92m ---> Exists\u001B[0m\n",
      "\u001B[0;96m    \u001B[0;94m[Check]: target file       --->: \u001B[0;92m\u001B[0;95mE:LatticeRuns\\Clusters\\Lumi\\LatticeRuns\\BKeeper_run_gpu\\small\\Run_BKeeper_run_gpu_lat24.24.24.32_nodes002_mpi01-08-01-02_small\\Run_BKeeper_run_gpu_lat24.24.24.32_nodes002_mpi01-08-01-02_small.sh\u001B[0;92m ---> Exists\u001B[0m\n",
      "\u001B[0;96m    \u001B[0;94m[Check]: Cluster file      --->: \u001B[0;92m\u001B[0;93mE:LatticeRuns\\Clusters\\Lumi\\LatticeRuns\\BKeeper_run_gpu\\small\\Run_BKeeper_run_gpu_lat24.24.24.32_nodes002_mpi01-08-01-02_small\\Run_BKeeper_run_gpu_lat24.24.24.32_nodes002_mpi01-08-01-02_small.out\u001B[0;92m ---> Exists\u001B[0m\n",
      "\u001B[0;96m    \u001B[0;94m[Check]: target file       --->: \u001B[0;92m\u001B[0;95mE:LatticeRuns\\Clusters\\Lumi\\LatticeRuns\\BKeeper_run_gpu\\small\\Run_BKeeper_run_gpu_lat24.24.24.32_nodes002_mpi04-04-01-01_small\\Run_BKeeper_run_gpu_lat24.24.24.32_nodes002_mpi04-04-01-01_small.sh\u001B[0;92m ---> Exists\u001B[0m\n",
      "\u001B[0;96m    \u001B[0;94m[Check]: Cluster file      --->: \u001B[0;92m\u001B[0;93mE:LatticeRuns\\Clusters\\Lumi\\LatticeRuns\\BKeeper_run_gpu\\small\\Run_BKeeper_run_gpu_lat24.24.24.32_nodes002_mpi04-04-01-01_small\\Run_BKeeper_run_gpu_lat24.24.24.32_nodes002_mpi04-04-01-01_small.out\u001B[0;92m ---> Exists\u001B[0m\n",
      "\u001B[0;96m    \u001B[0;94m[Check]: target file       --->: \u001B[0;92m\u001B[0;95mE:LatticeRuns\\Clusters\\Lumi\\LatticeRuns\\BKeeper_run_gpu\\small\\Run_BKeeper_run_gpu_lat24.24.24.32_nodes002_mpi01-04-01-04_small\\Run_BKeeper_run_gpu_lat24.24.24.32_nodes002_mpi01-04-01-04_small.sh\u001B[0;92m ---> Exists\u001B[0m\n",
      "\u001B[0;96m    \u001B[0;94m[Check]: Cluster file      --->: \u001B[0;92m\u001B[0;93mE:LatticeRuns\\Clusters\\Lumi\\LatticeRuns\\BKeeper_run_gpu\\small\\Run_BKeeper_run_gpu_lat24.24.24.32_nodes002_mpi01-04-01-04_small\\Run_BKeeper_run_gpu_lat24.24.24.32_nodes002_mpi01-04-01-04_small.out\u001B[0;92m ---> Exists\u001B[0m\n",
      "\u001B[0;96m    \u001B[0;94m[Check]: target file       --->: \u001B[0;92m\u001B[0;95mE:LatticeRuns\\Clusters\\Lumi\\LatticeRuns\\BKeeper_run_gpu\\small\\Run_BKeeper_run_gpu_lat24.24.24.32_nodes002_mpi01-04-04-01_small\\Run_BKeeper_run_gpu_lat24.24.24.32_nodes002_mpi01-04-04-01_small.sh\u001B[0;92m ---> Exists\u001B[0m\n",
      "\u001B[0;96m    \u001B[0;94m[Check]: Cluster file      --->: \u001B[0;92m\u001B[0;93mE:LatticeRuns\\Clusters\\Lumi\\LatticeRuns\\BKeeper_run_gpu\\small\\Run_BKeeper_run_gpu_lat24.24.24.32_nodes002_mpi01-04-04-01_small\\Run_BKeeper_run_gpu_lat24.24.24.32_nodes002_mpi01-04-04-01_small.out\u001B[0;92m ---> Exists\u001B[0m\n",
      "\u001B[0;96m    \u001B[0;94m[Check]: target file       --->: \u001B[0;92m\u001B[0;95mE:LatticeRuns\\Clusters\\Lumi\\LatticeRuns\\BKeeper_run_gpu\\small\\Run_BKeeper_run_gpu_lat24.24.24.32_nodes002_mpi01-01-02-08_small\\Run_BKeeper_run_gpu_lat24.24.24.32_nodes002_mpi01-01-02-08_small.sh\u001B[0;92m ---> Exists\u001B[0m\n",
      "\u001B[0;96m    \u001B[0;94m[Check]: Cluster file      --->: \u001B[0;92m\u001B[0;93mE:LatticeRuns\\Clusters\\Lumi\\LatticeRuns\\BKeeper_run_gpu\\small\\Run_BKeeper_run_gpu_lat24.24.24.32_nodes002_mpi01-01-02-08_small\\Run_BKeeper_run_gpu_lat24.24.24.32_nodes002_mpi01-01-02-08_small.out\u001B[0;92m ---> Exists\u001B[0m\n",
      "\u001B[0;96m    \u001B[0;94m[Check]: target file       --->: \u001B[0;92m\u001B[0;95mE:LatticeRuns\\Clusters\\Lumi\\LatticeRuns\\BKeeper_run_gpu\\small\\Run_BKeeper_run_gpu_lat24.24.24.32_nodes002_mpi04-01-01-04_small\\Run_BKeeper_run_gpu_lat24.24.24.32_nodes002_mpi04-01-01-04_small.sh\u001B[0;92m ---> Exists\u001B[0m\n",
      "\u001B[0;96m    \u001B[0;94m[Check]: Cluster file      --->: \u001B[0;92m\u001B[0;93mE:LatticeRuns\\Clusters\\Lumi\\LatticeRuns\\BKeeper_run_gpu\\small\\Run_BKeeper_run_gpu_lat24.24.24.32_nodes002_mpi04-01-01-04_small\\Run_BKeeper_run_gpu_lat24.24.24.32_nodes002_mpi04-01-01-04_small.out\u001B[0;92m ---> Exists\u001B[0m\n",
      "\u001B[0;96m    \u001B[0;94m[Check]: target file       --->: \u001B[0;92m\u001B[0;95mE:LatticeRuns\\Clusters\\Lumi\\LatticeRuns\\BKeeper_run_gpu\\small\\Run_BKeeper_run_gpu_lat24.24.24.32_nodes001_mpi01-02-04-01_small\\Run_BKeeper_run_gpu_lat24.24.24.32_nodes001_mpi01-02-04-01_small.sh\u001B[0;92m ---> Exists\u001B[0m\n",
      "\u001B[0;96m    \u001B[0;94m[Check]: Cluster file      --->: \u001B[0;92m\u001B[0;93mE:LatticeRuns\\Clusters\\Lumi\\LatticeRuns\\BKeeper_run_gpu\\small\\Run_BKeeper_run_gpu_lat24.24.24.32_nodes001_mpi01-02-04-01_small\\Run_BKeeper_run_gpu_lat24.24.24.32_nodes001_mpi01-02-04-01_small.out\u001B[0;92m ---> Exists\u001B[0m\n",
      "\u001B[0;96m    \u001B[0;94m[Check]: target file       --->: \u001B[0;92m\u001B[0;95mE:LatticeRuns\\Clusters\\Lumi\\LatticeRuns\\BKeeper_run_gpu\\small\\Run_BKeeper_run_gpu_lat24.24.24.32_nodes001_mpi01-01-08-01_small\\Run_BKeeper_run_gpu_lat24.24.24.32_nodes001_mpi01-01-08-01_small.sh\u001B[0;92m ---> Exists\u001B[0m\n",
      "\u001B[0;96m    \u001B[0;94m[Check]: Cluster file      --->: \u001B[0;92m\u001B[0;93mE:LatticeRuns\\Clusters\\Lumi\\LatticeRuns\\BKeeper_run_gpu\\small\\Run_BKeeper_run_gpu_lat24.24.24.32_nodes001_mpi01-01-08-01_small\\Run_BKeeper_run_gpu_lat24.24.24.32_nodes001_mpi01-01-08-01_small.out\u001B[0;92m ---> Exists\u001B[0m\n",
      "\u001B[0;96m    \u001B[0;94m[Check]: target file       --->: \u001B[0;92m\u001B[0;95mE:LatticeRuns\\Clusters\\Lumi\\LatticeRuns\\BKeeper_run_gpu\\small\\Run_BKeeper_run_gpu_lat24.24.24.32_nodes002_mpi01-02-04-02_small\\Run_BKeeper_run_gpu_lat24.24.24.32_nodes002_mpi01-02-04-02_small.sh\u001B[0;92m ---> Exists\u001B[0m\n",
      "\u001B[0;96m    \u001B[0;94m[Check]: Cluster file      --->: \u001B[0;92m\u001B[0;93mE:LatticeRuns\\Clusters\\Lumi\\LatticeRuns\\BKeeper_run_gpu\\small\\Run_BKeeper_run_gpu_lat24.24.24.32_nodes002_mpi01-02-04-02_small\\Run_BKeeper_run_gpu_lat24.24.24.32_nodes002_mpi01-02-04-02_small.out\u001B[0;92m ---> Exists\u001B[0m\n",
      "\u001B[0;96m    \u001B[0;94m[Check]: target file       --->: \u001B[0;92m\u001B[0;95mE:LatticeRuns\\Clusters\\Lumi\\LatticeRuns\\BKeeper_run_gpu\\small\\Run_BKeeper_run_gpu_lat24.24.24.32_nodes002_mpi02-01-02-04_small\\Run_BKeeper_run_gpu_lat24.24.24.32_nodes002_mpi02-01-02-04_small.sh\u001B[0;92m ---> Exists\u001B[0m\n",
      "\u001B[0;96m    \u001B[0;94m[Check]: Cluster file      --->: \u001B[0;92m\u001B[0;93mE:LatticeRuns\\Clusters\\Lumi\\LatticeRuns\\BKeeper_run_gpu\\small\\Run_BKeeper_run_gpu_lat24.24.24.32_nodes002_mpi02-01-02-04_small\\Run_BKeeper_run_gpu_lat24.24.24.32_nodes002_mpi02-01-02-04_small.out\u001B[0;92m ---> Exists\u001B[0m\n",
      "\u001B[0;96m    \u001B[0;94m[Check]: target file       --->: \u001B[0;92m\u001B[0;95mE:LatticeRuns\\Clusters\\Lumi\\LatticeRuns\\BKeeper_run_gpu\\small\\Run_BKeeper_run_gpu_lat24.24.24.32_nodes002_mpi02-08-01-01_small\\Run_BKeeper_run_gpu_lat24.24.24.32_nodes002_mpi02-08-01-01_small.sh\u001B[0;92m ---> Exists\u001B[0m\n",
      "\u001B[0;96m    \u001B[0;94m[Check]: Cluster file      --->: \u001B[0;92m\u001B[0;93mE:LatticeRuns\\Clusters\\Lumi\\LatticeRuns\\BKeeper_run_gpu\\small\\Run_BKeeper_run_gpu_lat24.24.24.32_nodes002_mpi02-08-01-01_small\\Run_BKeeper_run_gpu_lat24.24.24.32_nodes002_mpi02-08-01-01_small.out\u001B[0;92m ---> Exists\u001B[0m\n",
      "\u001B[0;96m    \u001B[0;94m[Check]: target file       --->: \u001B[0;92m\u001B[0;95mE:LatticeRuns\\Clusters\\Lumi\\LatticeRuns\\BKeeper_run_gpu\\small\\Run_BKeeper_run_gpu_lat24.24.24.32_nodes002_mpi01-02-02-04_small\\Run_BKeeper_run_gpu_lat24.24.24.32_nodes002_mpi01-02-02-04_small.sh\u001B[0;92m ---> Exists\u001B[0m\n",
      "\u001B[0;96m    \u001B[0;94m[Check]: Cluster file      --->: \u001B[0;92m\u001B[0;93mE:LatticeRuns\\Clusters\\Lumi\\LatticeRuns\\BKeeper_run_gpu\\small\\Run_BKeeper_run_gpu_lat24.24.24.32_nodes002_mpi01-02-02-04_small\\Run_BKeeper_run_gpu_lat24.24.24.32_nodes002_mpi01-02-02-04_small.out\u001B[0;92m ---> Exists\u001B[0m\n",
      "\u001B[0;96m    \u001B[0;94m[Check]: target file       --->: \u001B[0;92m\u001B[0;95mE:LatticeRuns\\Clusters\\Lumi\\LatticeRuns\\BKeeper_run_gpu\\small\\Run_BKeeper_run_gpu_lat24.24.24.32_nodes002_mpi02-02-02-02_small\\Run_BKeeper_run_gpu_lat24.24.24.32_nodes002_mpi02-02-02-02_small.sh\u001B[0;92m ---> Exists\u001B[0m\n",
      "\u001B[0;96m    \u001B[0;94m[Check]: Cluster file      --->: \u001B[0;92m\u001B[0;93mE:LatticeRuns\\Clusters\\Lumi\\LatticeRuns\\BKeeper_run_gpu\\small\\Run_BKeeper_run_gpu_lat24.24.24.32_nodes002_mpi02-02-02-02_small\\Run_BKeeper_run_gpu_lat24.24.24.32_nodes002_mpi02-02-02-02_small.out\u001B[0;92m ---> Exists\u001B[0m\n",
      "\u001B[0;96m    \u001B[0;94m[Check]: target file       --->: \u001B[0;92m\u001B[0;95mE:LatticeRuns\\Clusters\\Lumi\\LatticeRuns\\BKeeper_run_gpu\\small\\Run_BKeeper_run_gpu_lat24.24.24.32_nodes001_mpi01-08-01-01_small\\Run_BKeeper_run_gpu_lat24.24.24.32_nodes001_mpi01-08-01-01_small.sh\u001B[0;92m ---> Exists\u001B[0m\n",
      "\u001B[0;96m    \u001B[0;94m[Check]: Cluster file      --->: \u001B[0;92m\u001B[0;93mE:LatticeRuns\\Clusters\\Lumi\\LatticeRuns\\BKeeper_run_gpu\\small\\Run_BKeeper_run_gpu_lat24.24.24.32_nodes001_mpi01-08-01-01_small\\Run_BKeeper_run_gpu_lat24.24.24.32_nodes001_mpi01-08-01-01_small.out\u001B[0;92m ---> Exists\u001B[0m\n",
      "\u001B[0;96m    \u001B[0;94m[Check]: target file       --->: \u001B[0;92m\u001B[0;95mE:LatticeRuns\\Clusters\\Lumi\\LatticeRuns\\BKeeper_run_gpu\\small\\Run_BKeeper_run_gpu_lat24.24.24.32_nodes001_mpi01-01-02-04_small\\Run_BKeeper_run_gpu_lat24.24.24.32_nodes001_mpi01-01-02-04_small.sh\u001B[0;92m ---> Exists\u001B[0m\n",
      "\u001B[0;96m    \u001B[0;94m[Check]: Cluster file      --->: \u001B[0;92m\u001B[0;93mE:LatticeRuns\\Clusters\\Lumi\\LatticeRuns\\BKeeper_run_gpu\\small\\Run_BKeeper_run_gpu_lat24.24.24.32_nodes001_mpi01-01-02-04_small\\Run_BKeeper_run_gpu_lat24.24.24.32_nodes001_mpi01-01-02-04_small.out\u001B[0;92m ---> Exists\u001B[0m\n",
      "\u001B[0;96m    \u001B[0;94m[Check]: target file       --->: \u001B[0;92m\u001B[0;95mE:LatticeRuns\\Clusters\\Lumi\\LatticeRuns\\BKeeper_run_gpu\\small\\Run_BKeeper_run_gpu_lat24.24.24.32_nodes001_mpi01-02-02-02_small\\Run_BKeeper_run_gpu_lat24.24.24.32_nodes001_mpi01-02-02-02_small.sh\u001B[0;92m ---> Exists\u001B[0m\n",
      "\u001B[0;96m    \u001B[0;94m[Check]: Cluster file      --->: \u001B[0;92m\u001B[0;93mE:LatticeRuns\\Clusters\\Lumi\\LatticeRuns\\BKeeper_run_gpu\\small\\Run_BKeeper_run_gpu_lat24.24.24.32_nodes001_mpi01-02-02-02_small\\Run_BKeeper_run_gpu_lat24.24.24.32_nodes001_mpi01-02-02-02_small.out\u001B[0;92m ---> Exists\u001B[0m\n",
      "\u001B[0;96m    \u001B[0;94m[Check]: target file       --->: \u001B[0;92m\u001B[0;95mE:LatticeRuns\\Clusters\\Lumi\\LatticeRuns\\BKeeper_run_gpu\\small\\Run_BKeeper_run_gpu_lat24.24.24.32_nodes001_mpi02-02-01-02_small\\Run_BKeeper_run_gpu_lat24.24.24.32_nodes001_mpi02-02-01-02_small.sh\u001B[0;92m ---> Exists\u001B[0m\n",
      "\u001B[0;96m    \u001B[0;94m[Check]: Cluster file      --->: \u001B[0;92m\u001B[0;93mE:LatticeRuns\\Clusters\\Lumi\\LatticeRuns\\BKeeper_run_gpu\\small\\Run_BKeeper_run_gpu_lat24.24.24.32_nodes001_mpi02-02-01-02_small\\Run_BKeeper_run_gpu_lat24.24.24.32_nodes001_mpi02-02-01-02_small.out\u001B[0;92m ---> Exists\u001B[0m\n",
      "\u001B[0;96m    \u001B[0;94m[Check]: target file       --->: \u001B[0;92m\u001B[0;95mE:LatticeRuns\\Clusters\\Lumi\\LatticeRuns\\BKeeper_run_gpu\\small\\Run_BKeeper_run_gpu_lat24.24.24.32_nodes001_mpi02-01-02-02_small\\Run_BKeeper_run_gpu_lat24.24.24.32_nodes001_mpi02-01-02-02_small.sh\u001B[0;92m ---> Exists\u001B[0m\n",
      "\u001B[0;96m    \u001B[0;94m[Check]: Cluster file      --->: \u001B[0;92m\u001B[0;93mE:LatticeRuns\\Clusters\\Lumi\\LatticeRuns\\BKeeper_run_gpu\\small\\Run_BKeeper_run_gpu_lat24.24.24.32_nodes001_mpi02-01-02-02_small\\Run_BKeeper_run_gpu_lat24.24.24.32_nodes001_mpi02-01-02-02_small.out\u001B[0;92m ---> Exists\u001B[0m\n",
      "\u001B[0;96m    \u001B[0;94m[Check]: target file       --->: \u001B[0;92m\u001B[0;95mE:LatticeRuns\\Clusters\\Lumi\\LatticeRuns\\BKeeper_run_gpu\\small\\Run_BKeeper_run_gpu_lat24.24.24.32_nodes001_mpi01-04-01-02_small\\Run_BKeeper_run_gpu_lat24.24.24.32_nodes001_mpi01-04-01-02_small.sh\u001B[0;92m ---> Exists\u001B[0m\n",
      "\u001B[0;96m    \u001B[0;94m[Check]: Cluster file      --->: \u001B[0;92m\u001B[0;93mE:LatticeRuns\\Clusters\\Lumi\\LatticeRuns\\BKeeper_run_gpu\\small\\Run_BKeeper_run_gpu_lat24.24.24.32_nodes001_mpi01-04-01-02_small\\Run_BKeeper_run_gpu_lat24.24.24.32_nodes001_mpi01-04-01-02_small.out\u001B[0;92m ---> Exists\u001B[0m\n",
      "\u001B[0;96m    \u001B[0;94m[Check]: target file       --->: \u001B[0;92m\u001B[0;95mE:LatticeRuns\\Clusters\\Lumi\\LatticeRuns\\BKeeper_run_gpu\\small\\Run_BKeeper_run_gpu_lat24.24.24.32_nodes002_mpi02-02-04-01_small\\Run_BKeeper_run_gpu_lat24.24.24.32_nodes002_mpi02-02-04-01_small.sh\u001B[0;92m ---> Exists\u001B[0m\n",
      "\u001B[0;96m    \u001B[0;94m[Check]: Cluster file      --->: \u001B[0;92m\u001B[0;93mE:LatticeRuns\\Clusters\\Lumi\\LatticeRuns\\BKeeper_run_gpu\\small\\Run_BKeeper_run_gpu_lat24.24.24.32_nodes002_mpi02-02-04-01_small\\Run_BKeeper_run_gpu_lat24.24.24.32_nodes002_mpi02-02-04-01_small.out\u001B[0;92m ---> Exists\u001B[0m\n",
      "\u001B[0;96m    \u001B[0;94m[Check]: target file       --->: \u001B[0;92m\u001B[0;95mE:LatticeRuns\\Clusters\\Lumi\\LatticeRuns\\BKeeper_run_gpu\\small\\Run_BKeeper_run_gpu_lat24.24.24.32_nodes002_mpi04-01-02-02_small\\Run_BKeeper_run_gpu_lat24.24.24.32_nodes002_mpi04-01-02-02_small.sh\u001B[0;92m ---> Exists\u001B[0m\n",
      "\u001B[0;96m    \u001B[0;94m[Check]: Cluster file      --->: \u001B[0;92m\u001B[0;93mE:LatticeRuns\\Clusters\\Lumi\\LatticeRuns\\BKeeper_run_gpu\\small\\Run_BKeeper_run_gpu_lat24.24.24.32_nodes002_mpi04-01-02-02_small\\Run_BKeeper_run_gpu_lat24.24.24.32_nodes002_mpi04-01-02-02_small.out\u001B[0;92m ---> Exists\u001B[0m\n",
      "\u001B[0;96m    \u001B[0;94m[Check]: target file       --->: \u001B[0;92m\u001B[0;95mE:LatticeRuns\\Clusters\\Lumi\\LatticeRuns\\BKeeper_run_gpu\\small\\Run_BKeeper_run_gpu_lat24.24.24.32_nodes002_mpi02-01-01-08_small\\Run_BKeeper_run_gpu_lat24.24.24.32_nodes002_mpi02-01-01-08_small.sh\u001B[0;92m ---> Exists\u001B[0m\n",
      "\u001B[0;96m    \u001B[0;94m[Check]: Cluster file      --->: \u001B[0;92m\u001B[0;93mE:LatticeRuns\\Clusters\\Lumi\\LatticeRuns\\BKeeper_run_gpu\\small\\Run_BKeeper_run_gpu_lat24.24.24.32_nodes002_mpi02-01-01-08_small\\Run_BKeeper_run_gpu_lat24.24.24.32_nodes002_mpi02-01-01-08_small.out\u001B[0;92m ---> Exists\u001B[0m\n",
      "\u001B[0;96m    \u001B[0;94m[Check]: target file       --->: \u001B[0;92m\u001B[0;95mE:LatticeRuns\\Clusters\\Lumi\\LatticeRuns\\BKeeper_run_gpu\\small\\Run_BKeeper_run_gpu_lat24.24.24.32_nodes002_mpi02-02-01-04_small\\Run_BKeeper_run_gpu_lat24.24.24.32_nodes002_mpi02-02-01-04_small.sh\u001B[0;92m ---> Exists\u001B[0m\n",
      "\u001B[0;96m    \u001B[0;94m[Check]: Cluster file      --->: \u001B[0;92m\u001B[0;93mE:LatticeRuns\\Clusters\\Lumi\\LatticeRuns\\BKeeper_run_gpu\\small\\Run_BKeeper_run_gpu_lat24.24.24.32_nodes002_mpi02-02-01-04_small\\Run_BKeeper_run_gpu_lat24.24.24.32_nodes002_mpi02-02-01-04_small.out\u001B[0;92m ---> Exists\u001B[0m\n",
      "\u001B[0;96m    \u001B[0;94m[Check]: target file       --->: \u001B[0;92m\u001B[0;95mE:LatticeRuns\\Clusters\\Lumi\\LatticeRuns\\BKeeper_run_gpu\\small\\Run_BKeeper_run_gpu_lat24.24.24.32_nodes001_mpi02-02-02-01_small\\Run_BKeeper_run_gpu_lat24.24.24.32_nodes001_mpi02-02-02-01_small.sh\u001B[0;92m ---> Exists\u001B[0m\n",
      "\u001B[0;96m    \u001B[0;94m[Check]: Cluster file      --->: \u001B[0;92m\u001B[0;93mE:LatticeRuns\\Clusters\\Lumi\\LatticeRuns\\BKeeper_run_gpu\\small\\Run_BKeeper_run_gpu_lat24.24.24.32_nodes001_mpi02-02-02-01_small\\Run_BKeeper_run_gpu_lat24.24.24.32_nodes001_mpi02-02-02-01_small.out\u001B[0;92m ---> Exists\u001B[0m\n",
      "\u001B[0;96m    \u001B[0;94m[Check]: target file       --->: \u001B[0;92m\u001B[0;95mE:LatticeRuns\\Clusters\\Lumi\\LatticeRuns\\BKeeper_run_gpu\\small\\Run_BKeeper_run_gpu_lat24.24.24.32_nodes001_mpi02-01-04-01_small\\Run_BKeeper_run_gpu_lat24.24.24.32_nodes001_mpi02-01-04-01_small.sh\u001B[0;92m ---> Exists\u001B[0m\n",
      "\u001B[0;96m    \u001B[0;94m[Check]: Cluster file      --->: \u001B[0;92m\u001B[0;93mE:LatticeRuns\\Clusters\\Lumi\\LatticeRuns\\BKeeper_run_gpu\\small\\Run_BKeeper_run_gpu_lat24.24.24.32_nodes001_mpi02-01-04-01_small\\Run_BKeeper_run_gpu_lat24.24.24.32_nodes001_mpi02-01-04-01_small.out\u001B[0;92m ---> Exists\u001B[0m\n",
      "\u001B[0;96m    \u001B[0;94m[Check]: target file       --->: \u001B[0;92m\u001B[0;95mE:LatticeRuns\\Clusters\\Lumi\\LatticeRuns\\BKeeper_run_gpu\\small\\Run_BKeeper_run_gpu_lat24.24.24.32_nodes002_mpi02-04-01-02_small\\Run_BKeeper_run_gpu_lat24.24.24.32_nodes002_mpi02-04-01-02_small.sh\u001B[0;92m ---> Exists\u001B[0m\n",
      "\u001B[0;96m    \u001B[0;94m[Check]: Cluster file      --->: \u001B[0;92m\u001B[0;93mE:LatticeRuns\\Clusters\\Lumi\\LatticeRuns\\BKeeper_run_gpu\\small\\Run_BKeeper_run_gpu_lat24.24.24.32_nodes002_mpi02-04-01-02_small\\Run_BKeeper_run_gpu_lat24.24.24.32_nodes002_mpi02-04-01-02_small.out\u001B[0;92m ---> Exists\u001B[0m\n",
      "\u001B[0;96m    \u001B[0;94m[Check]: target file       --->: \u001B[0;92m\u001B[0;95mE:LatticeRuns\\Clusters\\Lumi\\LatticeRuns\\BKeeper_run_gpu\\small\\Run_BKeeper_run_gpu_lat24.24.24.32_nodes001_mpi02-01-01-04_small\\Run_BKeeper_run_gpu_lat24.24.24.32_nodes001_mpi02-01-01-04_small.sh\u001B[0;92m ---> Exists\u001B[0m\n",
      "\u001B[0;96m    \u001B[0;94m[Check]: Cluster file      --->: \u001B[0;92m\u001B[0;93mE:LatticeRuns\\Clusters\\Lumi\\LatticeRuns\\BKeeper_run_gpu\\small\\Run_BKeeper_run_gpu_lat24.24.24.32_nodes001_mpi02-01-01-04_small\\Run_BKeeper_run_gpu_lat24.24.24.32_nodes001_mpi02-01-01-04_small.out\u001B[0;92m ---> Exists\u001B[0m\n",
      "\u001B[0;96m    \u001B[0;94m[Check]: target file       --->: \u001B[0;92m\u001B[0;95mE:LatticeRuns\\Clusters\\Lumi\\LatticeRuns\\BKeeper_run_gpu\\small\\Run_BKeeper_run_gpu_lat24.24.24.32_nodes001_mpi01-04-02-01_small\\Run_BKeeper_run_gpu_lat24.24.24.32_nodes001_mpi01-04-02-01_small.sh\u001B[0;92m ---> Exists\u001B[0m\n",
      "\u001B[0;96m    \u001B[0;94m[Check]: Cluster file      --->: \u001B[0;92m\u001B[0;93mE:LatticeRuns\\Clusters\\Lumi\\LatticeRuns\\BKeeper_run_gpu\\small\\Run_BKeeper_run_gpu_lat24.24.24.32_nodes001_mpi01-04-02-01_small\\Run_BKeeper_run_gpu_lat24.24.24.32_nodes001_mpi01-04-02-01_small.out\u001B[0;92m ---> Exists\u001B[0m\n"
     ]
    }
   ],
   "execution_count": 437
  },
  {
   "metadata": {
    "ExecuteTime": {
     "end_time": "2025-02-26T14:12:20.826201Z",
     "start_time": "2025-02-26T14:12:20.817011Z"
    }
   },
   "cell_type": "code",
   "source": [
    "# --------------------------------------------------------------------------\n",
    "# [Data-Extraction]\n",
    "# --------------------------------------------------------------------------\n",
    "m.printMesgStr(   \"Data extraction cluster out                       : \", c.getGreen(), machine_name)\n",
    "m.printMesgAddStr(\"Simulation size                                   : \", c.getRed(), simulation_size)\n",
    "m.printMesgAddStr(\"target_file_cluster_lst_lumi[:]               --->: \", c.getYellow(), target_file_cluster_lst_lumi[:])\n",
    "m.printMesgAddStr(\"Length target_file_cluster_lst_lumi[:]        --->: \", c.getYellow(), len(target_file_cluster_lst_lumi[:]))\n"
   ],
   "id": "837629d0c6e6df59",
   "outputs": [
    {
     "name": "stdout",
     "output_type": "stream",
     "text": [
      "\u001B[0;96m == [\u001B[0;94mData extraction cluster out                       : \u001B[0;92m Lumi\u001B[0;96m] ==\u001B[0m\n",
      "\u001B[0;96m    \u001B[0;94mSimulation size                                   : \u001B[0;91msmall\u001B[0m\n",
      "\u001B[0;96m    \u001B[0;94mtarget_file_cluster_lst_lumi[:]               --->: \u001B[0;93m['E:LatticeRuns\\\\Clusters\\\\Lumi\\\\LatticeRuns\\\\BKeeper_run_gpu\\\\small\\\\Run_BKeeper_run_gpu_lat24.24.24.32_nodes002_mpi01-01-04-04_small\\\\Run_BKeeper_run_gpu_lat24.24.24.32_nodes002_mpi01-01-04-04_small.out', 'E:LatticeRuns\\\\Clusters\\\\Lumi\\\\LatticeRuns\\\\BKeeper_run_gpu\\\\small\\\\Run_BKeeper_run_gpu_lat24.24.24.32_nodes002_mpi04-02-02-01_small\\\\Run_BKeeper_run_gpu_lat24.24.24.32_nodes002_mpi04-02-02-01_small.out', 'E:LatticeRuns\\\\Clusters\\\\Lumi\\\\LatticeRuns\\\\BKeeper_run_gpu\\\\small\\\\Run_BKeeper_run_gpu_lat24.24.24.32_nodes002_mpi01-08-02-01_small\\\\Run_BKeeper_run_gpu_lat24.24.24.32_nodes002_mpi01-08-02-01_small.out', 'E:LatticeRuns\\\\Clusters\\\\Lumi\\\\LatticeRuns\\\\BKeeper_run_gpu\\\\small\\\\Run_BKeeper_run_gpu_lat24.24.24.32_nodes002_mpi01-02-08-01_small\\\\Run_BKeeper_run_gpu_lat24.24.24.32_nodes002_mpi01-02-08-01_small.out', 'E:LatticeRuns\\\\Clusters\\\\Lumi\\\\LatticeRuns\\\\BKeeper_run_gpu\\\\small\\\\Run_BKeeper_run_gpu_lat24.24.24.32_nodes002_mpi08-01-02-01_small\\\\Run_BKeeper_run_gpu_lat24.24.24.32_nodes002_mpi08-01-02-01_small.out', 'E:LatticeRuns\\\\Clusters\\\\Lumi\\\\LatticeRuns\\\\BKeeper_run_gpu\\\\small\\\\Run_BKeeper_run_gpu_lat24.24.24.32_nodes001_mpi04-01-01-02_small\\\\Run_BKeeper_run_gpu_lat24.24.24.32_nodes001_mpi04-01-01-02_small.out', 'E:LatticeRuns\\\\Clusters\\\\Lumi\\\\LatticeRuns\\\\BKeeper_run_gpu\\\\small\\\\Run_BKeeper_run_gpu_lat24.24.24.32_nodes001_mpi08-01-01-01_small\\\\Run_BKeeper_run_gpu_lat24.24.24.32_nodes001_mpi08-01-01-01_small.out', 'E:LatticeRuns\\\\Clusters\\\\Lumi\\\\LatticeRuns\\\\BKeeper_run_gpu\\\\small\\\\Run_BKeeper_run_gpu_lat24.24.24.32_nodes002_mpi01-01-08-02_small\\\\Run_BKeeper_run_gpu_lat24.24.24.32_nodes002_mpi01-01-08-02_small.out', 'E:LatticeRuns\\\\Clusters\\\\Lumi\\\\LatticeRuns\\\\BKeeper_run_gpu\\\\small\\\\Run_BKeeper_run_gpu_lat24.24.24.32_nodes002_mpi02-01-04-02_small\\\\Run_BKeeper_run_gpu_lat24.24.24.32_nodes002_mpi02-01-04-02_small.out', 'E:LatticeRuns\\\\Clusters\\\\Lumi\\\\LatticeRuns\\\\BKeeper_run_gpu\\\\small\\\\Run_BKeeper_run_gpu_lat24.24.24.32_nodes002_mpi04-01-04-01_small\\\\Run_BKeeper_run_gpu_lat24.24.24.32_nodes002_mpi04-01-04-01_small.out', 'E:LatticeRuns\\\\Clusters\\\\Lumi\\\\LatticeRuns\\\\BKeeper_run_gpu\\\\small\\\\Run_BKeeper_run_gpu_lat24.24.24.32_nodes002_mpi08-02-01-01_small\\\\Run_BKeeper_run_gpu_lat24.24.24.32_nodes002_mpi08-02-01-01_small.out', 'E:LatticeRuns\\\\Clusters\\\\Lumi\\\\LatticeRuns\\\\BKeeper_run_gpu\\\\small\\\\Run_BKeeper_run_gpu_lat24.24.24.32_nodes002_mpi04-02-01-02_small\\\\Run_BKeeper_run_gpu_lat24.24.24.32_nodes002_mpi04-02-01-02_small.out', 'E:LatticeRuns\\\\Clusters\\\\Lumi\\\\LatticeRuns\\\\BKeeper_run_gpu\\\\small\\\\Run_BKeeper_run_gpu_lat24.24.24.32_nodes002_mpi01-04-02-02_small\\\\Run_BKeeper_run_gpu_lat24.24.24.32_nodes002_mpi01-04-02-02_small.out', 'E:LatticeRuns\\\\Clusters\\\\Lumi\\\\LatticeRuns\\\\BKeeper_run_gpu\\\\small\\\\Run_BKeeper_run_gpu_lat24.24.24.32_nodes001_mpi04-01-02-01_small\\\\Run_BKeeper_run_gpu_lat24.24.24.32_nodes001_mpi04-01-02-01_small.out', 'E:LatticeRuns\\\\Clusters\\\\Lumi\\\\LatticeRuns\\\\BKeeper_run_gpu\\\\small\\\\Run_BKeeper_run_gpu_lat24.24.24.32_nodes002_mpi01-02-01-08_small\\\\Run_BKeeper_run_gpu_lat24.24.24.32_nodes002_mpi01-02-01-08_small.out', 'E:LatticeRuns\\\\Clusters\\\\Lumi\\\\LatticeRuns\\\\BKeeper_run_gpu\\\\small\\\\Run_BKeeper_run_gpu_lat24.24.24.32_nodes001_mpi01-01-01-08_small\\\\Run_BKeeper_run_gpu_lat24.24.24.32_nodes001_mpi01-01-01-08_small.out', 'E:LatticeRuns\\\\Clusters\\\\Lumi\\\\LatticeRuns\\\\BKeeper_run_gpu\\\\small\\\\Run_BKeeper_run_gpu_lat24.24.24.32_nodes002_mpi02-01-08-01_small\\\\Run_BKeeper_run_gpu_lat24.24.24.32_nodes002_mpi02-01-08-01_small.out', 'E:LatticeRuns\\\\Clusters\\\\Lumi\\\\LatticeRuns\\\\BKeeper_run_gpu\\\\small\\\\Run_BKeeper_run_gpu_lat24.24.24.32_nodes001_mpi01-01-04-02_small\\\\Run_BKeeper_run_gpu_lat24.24.24.32_nodes001_mpi01-01-04-02_small.out', 'E:LatticeRuns\\\\Clusters\\\\Lumi\\\\LatticeRuns\\\\BKeeper_run_gpu\\\\small\\\\Run_BKeeper_run_gpu_lat24.24.24.32_nodes001_mpi04-02-01-01_small\\\\Run_BKeeper_run_gpu_lat24.24.24.32_nodes001_mpi04-02-01-01_small.out', 'E:LatticeRuns\\\\Clusters\\\\Lumi\\\\LatticeRuns\\\\BKeeper_run_gpu\\\\small\\\\Run_BKeeper_run_gpu_lat24.24.24.32_nodes002_mpi08-01-01-02_small\\\\Run_BKeeper_run_gpu_lat24.24.24.32_nodes002_mpi08-01-01-02_small.out', 'E:LatticeRuns\\\\Clusters\\\\Lumi\\\\LatticeRuns\\\\BKeeper_run_gpu\\\\small\\\\Run_BKeeper_run_gpu_lat24.24.24.32_nodes001_mpi02-04-01-01_small\\\\Run_BKeeper_run_gpu_lat24.24.24.32_nodes001_mpi02-04-01-01_small.out', 'E:LatticeRuns\\\\Clusters\\\\Lumi\\\\LatticeRuns\\\\BKeeper_run_gpu\\\\small\\\\Run_BKeeper_run_gpu_lat24.24.24.32_nodes001_mpi01-02-01-04_small\\\\Run_BKeeper_run_gpu_lat24.24.24.32_nodes001_mpi01-02-01-04_small.out', 'E:LatticeRuns\\\\Clusters\\\\Lumi\\\\LatticeRuns\\\\BKeeper_run_gpu\\\\small\\\\Run_BKeeper_run_gpu_lat24.24.24.32_nodes002_mpi02-04-02-01_small\\\\Run_BKeeper_run_gpu_lat24.24.24.32_nodes002_mpi02-04-02-01_small.out', 'E:LatticeRuns\\\\Clusters\\\\Lumi\\\\LatticeRuns\\\\BKeeper_run_gpu\\\\small\\\\Run_BKeeper_run_gpu_lat24.24.24.32_nodes002_mpi01-08-01-02_small\\\\Run_BKeeper_run_gpu_lat24.24.24.32_nodes002_mpi01-08-01-02_small.out', 'E:LatticeRuns\\\\Clusters\\\\Lumi\\\\LatticeRuns\\\\BKeeper_run_gpu\\\\small\\\\Run_BKeeper_run_gpu_lat24.24.24.32_nodes002_mpi04-04-01-01_small\\\\Run_BKeeper_run_gpu_lat24.24.24.32_nodes002_mpi04-04-01-01_small.out', 'E:LatticeRuns\\\\Clusters\\\\Lumi\\\\LatticeRuns\\\\BKeeper_run_gpu\\\\small\\\\Run_BKeeper_run_gpu_lat24.24.24.32_nodes002_mpi01-04-01-04_small\\\\Run_BKeeper_run_gpu_lat24.24.24.32_nodes002_mpi01-04-01-04_small.out', 'E:LatticeRuns\\\\Clusters\\\\Lumi\\\\LatticeRuns\\\\BKeeper_run_gpu\\\\small\\\\Run_BKeeper_run_gpu_lat24.24.24.32_nodes002_mpi01-04-04-01_small\\\\Run_BKeeper_run_gpu_lat24.24.24.32_nodes002_mpi01-04-04-01_small.out', 'E:LatticeRuns\\\\Clusters\\\\Lumi\\\\LatticeRuns\\\\BKeeper_run_gpu\\\\small\\\\Run_BKeeper_run_gpu_lat24.24.24.32_nodes002_mpi01-01-02-08_small\\\\Run_BKeeper_run_gpu_lat24.24.24.32_nodes002_mpi01-01-02-08_small.out', 'E:LatticeRuns\\\\Clusters\\\\Lumi\\\\LatticeRuns\\\\BKeeper_run_gpu\\\\small\\\\Run_BKeeper_run_gpu_lat24.24.24.32_nodes002_mpi04-01-01-04_small\\\\Run_BKeeper_run_gpu_lat24.24.24.32_nodes002_mpi04-01-01-04_small.out', 'E:LatticeRuns\\\\Clusters\\\\Lumi\\\\LatticeRuns\\\\BKeeper_run_gpu\\\\small\\\\Run_BKeeper_run_gpu_lat24.24.24.32_nodes001_mpi01-02-04-01_small\\\\Run_BKeeper_run_gpu_lat24.24.24.32_nodes001_mpi01-02-04-01_small.out', 'E:LatticeRuns\\\\Clusters\\\\Lumi\\\\LatticeRuns\\\\BKeeper_run_gpu\\\\small\\\\Run_BKeeper_run_gpu_lat24.24.24.32_nodes001_mpi01-01-08-01_small\\\\Run_BKeeper_run_gpu_lat24.24.24.32_nodes001_mpi01-01-08-01_small.out', 'E:LatticeRuns\\\\Clusters\\\\Lumi\\\\LatticeRuns\\\\BKeeper_run_gpu\\\\small\\\\Run_BKeeper_run_gpu_lat24.24.24.32_nodes002_mpi01-02-04-02_small\\\\Run_BKeeper_run_gpu_lat24.24.24.32_nodes002_mpi01-02-04-02_small.out', 'E:LatticeRuns\\\\Clusters\\\\Lumi\\\\LatticeRuns\\\\BKeeper_run_gpu\\\\small\\\\Run_BKeeper_run_gpu_lat24.24.24.32_nodes002_mpi02-01-02-04_small\\\\Run_BKeeper_run_gpu_lat24.24.24.32_nodes002_mpi02-01-02-04_small.out', 'E:LatticeRuns\\\\Clusters\\\\Lumi\\\\LatticeRuns\\\\BKeeper_run_gpu\\\\small\\\\Run_BKeeper_run_gpu_lat24.24.24.32_nodes002_mpi02-08-01-01_small\\\\Run_BKeeper_run_gpu_lat24.24.24.32_nodes002_mpi02-08-01-01_small.out', 'E:LatticeRuns\\\\Clusters\\\\Lumi\\\\LatticeRuns\\\\BKeeper_run_gpu\\\\small\\\\Run_BKeeper_run_gpu_lat24.24.24.32_nodes002_mpi01-02-02-04_small\\\\Run_BKeeper_run_gpu_lat24.24.24.32_nodes002_mpi01-02-02-04_small.out', 'E:LatticeRuns\\\\Clusters\\\\Lumi\\\\LatticeRuns\\\\BKeeper_run_gpu\\\\small\\\\Run_BKeeper_run_gpu_lat24.24.24.32_nodes002_mpi02-02-02-02_small\\\\Run_BKeeper_run_gpu_lat24.24.24.32_nodes002_mpi02-02-02-02_small.out', 'E:LatticeRuns\\\\Clusters\\\\Lumi\\\\LatticeRuns\\\\BKeeper_run_gpu\\\\small\\\\Run_BKeeper_run_gpu_lat24.24.24.32_nodes001_mpi01-08-01-01_small\\\\Run_BKeeper_run_gpu_lat24.24.24.32_nodes001_mpi01-08-01-01_small.out', 'E:LatticeRuns\\\\Clusters\\\\Lumi\\\\LatticeRuns\\\\BKeeper_run_gpu\\\\small\\\\Run_BKeeper_run_gpu_lat24.24.24.32_nodes001_mpi01-01-02-04_small\\\\Run_BKeeper_run_gpu_lat24.24.24.32_nodes001_mpi01-01-02-04_small.out', 'E:LatticeRuns\\\\Clusters\\\\Lumi\\\\LatticeRuns\\\\BKeeper_run_gpu\\\\small\\\\Run_BKeeper_run_gpu_lat24.24.24.32_nodes001_mpi01-02-02-02_small\\\\Run_BKeeper_run_gpu_lat24.24.24.32_nodes001_mpi01-02-02-02_small.out', 'E:LatticeRuns\\\\Clusters\\\\Lumi\\\\LatticeRuns\\\\BKeeper_run_gpu\\\\small\\\\Run_BKeeper_run_gpu_lat24.24.24.32_nodes001_mpi02-02-01-02_small\\\\Run_BKeeper_run_gpu_lat24.24.24.32_nodes001_mpi02-02-01-02_small.out', 'E:LatticeRuns\\\\Clusters\\\\Lumi\\\\LatticeRuns\\\\BKeeper_run_gpu\\\\small\\\\Run_BKeeper_run_gpu_lat24.24.24.32_nodes001_mpi02-01-02-02_small\\\\Run_BKeeper_run_gpu_lat24.24.24.32_nodes001_mpi02-01-02-02_small.out', 'E:LatticeRuns\\\\Clusters\\\\Lumi\\\\LatticeRuns\\\\BKeeper_run_gpu\\\\small\\\\Run_BKeeper_run_gpu_lat24.24.24.32_nodes001_mpi01-04-01-02_small\\\\Run_BKeeper_run_gpu_lat24.24.24.32_nodes001_mpi01-04-01-02_small.out', 'E:LatticeRuns\\\\Clusters\\\\Lumi\\\\LatticeRuns\\\\BKeeper_run_gpu\\\\small\\\\Run_BKeeper_run_gpu_lat24.24.24.32_nodes002_mpi02-02-04-01_small\\\\Run_BKeeper_run_gpu_lat24.24.24.32_nodes002_mpi02-02-04-01_small.out', 'E:LatticeRuns\\\\Clusters\\\\Lumi\\\\LatticeRuns\\\\BKeeper_run_gpu\\\\small\\\\Run_BKeeper_run_gpu_lat24.24.24.32_nodes002_mpi04-01-02-02_small\\\\Run_BKeeper_run_gpu_lat24.24.24.32_nodes002_mpi04-01-02-02_small.out', 'E:LatticeRuns\\\\Clusters\\\\Lumi\\\\LatticeRuns\\\\BKeeper_run_gpu\\\\small\\\\Run_BKeeper_run_gpu_lat24.24.24.32_nodes002_mpi02-01-01-08_small\\\\Run_BKeeper_run_gpu_lat24.24.24.32_nodes002_mpi02-01-01-08_small.out', 'E:LatticeRuns\\\\Clusters\\\\Lumi\\\\LatticeRuns\\\\BKeeper_run_gpu\\\\small\\\\Run_BKeeper_run_gpu_lat24.24.24.32_nodes002_mpi02-02-01-04_small\\\\Run_BKeeper_run_gpu_lat24.24.24.32_nodes002_mpi02-02-01-04_small.out', 'E:LatticeRuns\\\\Clusters\\\\Lumi\\\\LatticeRuns\\\\BKeeper_run_gpu\\\\small\\\\Run_BKeeper_run_gpu_lat24.24.24.32_nodes001_mpi02-02-02-01_small\\\\Run_BKeeper_run_gpu_lat24.24.24.32_nodes001_mpi02-02-02-01_small.out', 'E:LatticeRuns\\\\Clusters\\\\Lumi\\\\LatticeRuns\\\\BKeeper_run_gpu\\\\small\\\\Run_BKeeper_run_gpu_lat24.24.24.32_nodes001_mpi02-01-04-01_small\\\\Run_BKeeper_run_gpu_lat24.24.24.32_nodes001_mpi02-01-04-01_small.out', 'E:LatticeRuns\\\\Clusters\\\\Lumi\\\\LatticeRuns\\\\BKeeper_run_gpu\\\\small\\\\Run_BKeeper_run_gpu_lat24.24.24.32_nodes002_mpi02-04-01-02_small\\\\Run_BKeeper_run_gpu_lat24.24.24.32_nodes002_mpi02-04-01-02_small.out', 'E:LatticeRuns\\\\Clusters\\\\Lumi\\\\LatticeRuns\\\\BKeeper_run_gpu\\\\small\\\\Run_BKeeper_run_gpu_lat24.24.24.32_nodes001_mpi02-01-01-04_small\\\\Run_BKeeper_run_gpu_lat24.24.24.32_nodes001_mpi02-01-01-04_small.out', 'E:LatticeRuns\\\\Clusters\\\\Lumi\\\\LatticeRuns\\\\BKeeper_run_gpu\\\\small\\\\Run_BKeeper_run_gpu_lat24.24.24.32_nodes001_mpi01-04-02-01_small\\\\Run_BKeeper_run_gpu_lat24.24.24.32_nodes001_mpi01-04-02-01_small.out']\u001B[0m\n",
      "\u001B[0;96m    \u001B[0;94mLength target_file_cluster_lst_lumi[:]        --->: \u001B[0;93m51\u001B[0m\n"
     ]
    }
   ],
   "execution_count": 438
  },
  {
   "metadata": {
    "ExecuteTime": {
     "end_time": "2025-02-26T14:12:21.322013Z",
     "start_time": "2025-02-26T14:12:21.281311Z"
    }
   },
   "cell_type": "code",
   "source": [
    "# --------------------------------------------------------------------------\n",
    "# Reading in the inout file\n",
    "rc, target_file_cluster_filtered_lst_lumi = filter_target_file_cluster_lst(c, m,\n",
    "                                                                            start_key_rep_lst[:],\n",
    "                                                                            target_file_cluster_lst_lumi[:])\n",
    "\n",
    "m.printMesgAddStr(\"len(target_file_cluster_filtered_lst_lumi[:]) --->: \", c.getYellow(), len(target_file_cluster_filtered_lst_lumi[:]))\n"
   ],
   "id": "222d1dbbc56d5c15",
   "outputs": [
    {
     "name": "stdout",
     "output_type": "stream",
     "text": [
      "\u001B[0;96m == [\u001B[0;94mGetting target file list      :\u001B[0;92m filter_target_file_cluster_lst\u001B[0;96m] ==\u001B[0m\n"
     ]
    },
    {
     "name": "stderr",
     "output_type": "stream",
     "text": [
      "filter target file: 100%|█████████████████████████████████████████| 51/51 [00:00<00:00, 1822.07it/s]"
     ]
    },
    {
     "name": "stdout",
     "output_type": "stream",
     "text": [
      "\u001B[0;96m    \u001B[0;94mlen(target_file_cluster_filtered_lst_lumi[:]) --->: \u001B[0;93m33\u001B[0m\n"
     ]
    },
    {
     "name": "stderr",
     "output_type": "stream",
     "text": [
      "\n"
     ]
    }
   ],
   "execution_count": 439
  },
  {
   "metadata": {
    "ExecuteTime": {
     "end_time": "2025-02-26T14:12:22.359490Z",
     "start_time": "2025-02-26T14:12:22.318091Z"
    }
   },
   "cell_type": "code",
   "source": [
    "# --------------------------------------------------------------------------\n",
    "# Reading in the inout file\n",
    "#rc, dataFrame_BKeeper_small_lumi = read_BKeeper_file_out(c, m, batch_action, simulation_size, target_file_cluster_lst_lumi[:])\n",
    "rc, dataFrame_BKeeper_small_lumi = read_BKeeper_file_out(c, m, batch_action, simulation_size, target_file_cluster_filtered_lst_lumi[:])\n"
   ],
   "id": "769be543eea12ae8",
   "outputs": [
    {
     "name": "stdout",
     "output_type": "stream",
     "text": [
      "\u001B[0;96m == [\u001B[0;94mGetting target file list      :\u001B[0;92m read_BKeeper_file_out\u001B[0;96m] ==\u001B[0m\n"
     ]
    },
    {
     "name": "stderr",
     "output_type": "stream",
     "text": [
      "bench_BKeeper_dict: 100%|█████████████████████████████████████████| 33/33 [00:00<00:00, 1435.01it/s]\n"
     ]
    }
   ],
   "execution_count": 440
  },
  {
   "metadata": {
    "ExecuteTime": {
     "end_time": "2025-02-26T14:12:23.182394Z",
     "start_time": "2025-02-26T14:12:23.161867Z"
    }
   },
   "cell_type": "code",
   "source": [
    "# --------------------------------------------------------------------------\n",
    "# Reading in the inout file\n",
    "m.printMesgStr(\"DataFrame BKeeper small Lumi-G                    : \", c.getGreen(), machine_name)\n",
    "dataFrame_BKeeper_small_lumi"
   ],
   "id": "11556e97bbe14fd2",
   "outputs": [
    {
     "name": "stdout",
     "output_type": "stream",
     "text": [
      "\u001B[0;96m == [\u001B[0;94mDataFrame BKeeper small Lumi-G                    : \u001B[0;92m Lumi\u001B[0;96m] ==\u001B[0m\n"
     ]
    },
    {
     "data": {
      "text/plain": [
       "        Representation  CG Run Time (s)  FlOp/S (GFlOp/s)  Comms  (MB)  \\\n",
       "0       SU(2), adjoint         0.144327        1399.27649    46.006272   \n",
       "1   SU(2), fundamental         0.036000        2807.26733    30.670848   \n",
       "2   SU(3), fundamental         0.115908        1742.35927    46.006272   \n",
       "3       SU(2), adjoint         0.110589        1826.16154   368.050176   \n",
       "4   SU(2), fundamental         0.041386        2441.92780   245.366784   \n",
       "..                 ...              ...               ...          ...   \n",
       "94  SU(2), fundamental         0.046139        2190.37309   122.683392   \n",
       "95  SU(3), fundamental         0.120837        1671.28759   184.025088   \n",
       "96      SU(2), adjoint         0.116994        1726.18577    92.012544   \n",
       "97  SU(2), fundamental         0.043705        2312.35840    61.341696   \n",
       "98  SU(3), fundamental         0.115643        1746.35195    92.012544   \n",
       "\n",
       "    Memory (GB)      lattice nodes mpi_distribution  \\\n",
       "0     64.928076  24.24.24.32   002      01-08-02-01   \n",
       "1     33.118019  24.24.24.32   002      01-08-02-01   \n",
       "2     64.928076  24.24.24.32   002      01-08-02-01   \n",
       "3     69.133746  24.24.24.32   001      04-01-01-02   \n",
       "4     35.741303  24.24.24.32   001      04-01-01-02   \n",
       "..          ...          ...   ...              ...   \n",
       "94    34.812551  24.24.24.32   001      02-01-01-04   \n",
       "95    67.560132  24.24.24.32   001      02-01-01-04   \n",
       "96    64.756957  24.24.24.32   001      01-04-02-01   \n",
       "97    33.003929  24.24.24.32   001      01-04-02-01   \n",
       "98    64.756957  24.24.24.32   001      01-04-02-01   \n",
       "\n",
       "                                      Run output file  \n",
       "0   E:LatticeRuns\\Clusters\\Lumi\\LatticeRuns\\BKeepe...  \n",
       "1   E:LatticeRuns\\Clusters\\Lumi\\LatticeRuns\\BKeepe...  \n",
       "2   E:LatticeRuns\\Clusters\\Lumi\\LatticeRuns\\BKeepe...  \n",
       "3   E:LatticeRuns\\Clusters\\Lumi\\LatticeRuns\\BKeepe...  \n",
       "4   E:LatticeRuns\\Clusters\\Lumi\\LatticeRuns\\BKeepe...  \n",
       "..                                                ...  \n",
       "94  E:LatticeRuns\\Clusters\\Lumi\\LatticeRuns\\BKeepe...  \n",
       "95  E:LatticeRuns\\Clusters\\Lumi\\LatticeRuns\\BKeepe...  \n",
       "96  E:LatticeRuns\\Clusters\\Lumi\\LatticeRuns\\BKeepe...  \n",
       "97  E:LatticeRuns\\Clusters\\Lumi\\LatticeRuns\\BKeepe...  \n",
       "98  E:LatticeRuns\\Clusters\\Lumi\\LatticeRuns\\BKeepe...  \n",
       "\n",
       "[99 rows x 9 columns]"
      ],
      "text/html": [
       "<div>\n",
       "<style scoped>\n",
       "    .dataframe tbody tr th:only-of-type {\n",
       "        vertical-align: middle;\n",
       "    }\n",
       "\n",
       "    .dataframe tbody tr th {\n",
       "        vertical-align: top;\n",
       "    }\n",
       "\n",
       "    .dataframe thead th {\n",
       "        text-align: right;\n",
       "    }\n",
       "</style>\n",
       "<table border=\"1\" class=\"dataframe\">\n",
       "  <thead>\n",
       "    <tr style=\"text-align: right;\">\n",
       "      <th></th>\n",
       "      <th>Representation</th>\n",
       "      <th>CG Run Time (s)</th>\n",
       "      <th>FlOp/S (GFlOp/s)</th>\n",
       "      <th>Comms  (MB)</th>\n",
       "      <th>Memory (GB)</th>\n",
       "      <th>lattice</th>\n",
       "      <th>nodes</th>\n",
       "      <th>mpi_distribution</th>\n",
       "      <th>Run output file</th>\n",
       "    </tr>\n",
       "  </thead>\n",
       "  <tbody>\n",
       "    <tr>\n",
       "      <th>0</th>\n",
       "      <td>SU(2), adjoint</td>\n",
       "      <td>0.144327</td>\n",
       "      <td>1399.27649</td>\n",
       "      <td>46.006272</td>\n",
       "      <td>64.928076</td>\n",
       "      <td>24.24.24.32</td>\n",
       "      <td>002</td>\n",
       "      <td>01-08-02-01</td>\n",
       "      <td>E:LatticeRuns\\Clusters\\Lumi\\LatticeRuns\\BKeepe...</td>\n",
       "    </tr>\n",
       "    <tr>\n",
       "      <th>1</th>\n",
       "      <td>SU(2), fundamental</td>\n",
       "      <td>0.036000</td>\n",
       "      <td>2807.26733</td>\n",
       "      <td>30.670848</td>\n",
       "      <td>33.118019</td>\n",
       "      <td>24.24.24.32</td>\n",
       "      <td>002</td>\n",
       "      <td>01-08-02-01</td>\n",
       "      <td>E:LatticeRuns\\Clusters\\Lumi\\LatticeRuns\\BKeepe...</td>\n",
       "    </tr>\n",
       "    <tr>\n",
       "      <th>2</th>\n",
       "      <td>SU(3), fundamental</td>\n",
       "      <td>0.115908</td>\n",
       "      <td>1742.35927</td>\n",
       "      <td>46.006272</td>\n",
       "      <td>64.928076</td>\n",
       "      <td>24.24.24.32</td>\n",
       "      <td>002</td>\n",
       "      <td>01-08-02-01</td>\n",
       "      <td>E:LatticeRuns\\Clusters\\Lumi\\LatticeRuns\\BKeepe...</td>\n",
       "    </tr>\n",
       "    <tr>\n",
       "      <th>3</th>\n",
       "      <td>SU(2), adjoint</td>\n",
       "      <td>0.110589</td>\n",
       "      <td>1826.16154</td>\n",
       "      <td>368.050176</td>\n",
       "      <td>69.133746</td>\n",
       "      <td>24.24.24.32</td>\n",
       "      <td>001</td>\n",
       "      <td>04-01-01-02</td>\n",
       "      <td>E:LatticeRuns\\Clusters\\Lumi\\LatticeRuns\\BKeepe...</td>\n",
       "    </tr>\n",
       "    <tr>\n",
       "      <th>4</th>\n",
       "      <td>SU(2), fundamental</td>\n",
       "      <td>0.041386</td>\n",
       "      <td>2441.92780</td>\n",
       "      <td>245.366784</td>\n",
       "      <td>35.741303</td>\n",
       "      <td>24.24.24.32</td>\n",
       "      <td>001</td>\n",
       "      <td>04-01-01-02</td>\n",
       "      <td>E:LatticeRuns\\Clusters\\Lumi\\LatticeRuns\\BKeepe...</td>\n",
       "    </tr>\n",
       "    <tr>\n",
       "      <th>...</th>\n",
       "      <td>...</td>\n",
       "      <td>...</td>\n",
       "      <td>...</td>\n",
       "      <td>...</td>\n",
       "      <td>...</td>\n",
       "      <td>...</td>\n",
       "      <td>...</td>\n",
       "      <td>...</td>\n",
       "      <td>...</td>\n",
       "    </tr>\n",
       "    <tr>\n",
       "      <th>94</th>\n",
       "      <td>SU(2), fundamental</td>\n",
       "      <td>0.046139</td>\n",
       "      <td>2190.37309</td>\n",
       "      <td>122.683392</td>\n",
       "      <td>34.812551</td>\n",
       "      <td>24.24.24.32</td>\n",
       "      <td>001</td>\n",
       "      <td>02-01-01-04</td>\n",
       "      <td>E:LatticeRuns\\Clusters\\Lumi\\LatticeRuns\\BKeepe...</td>\n",
       "    </tr>\n",
       "    <tr>\n",
       "      <th>95</th>\n",
       "      <td>SU(3), fundamental</td>\n",
       "      <td>0.120837</td>\n",
       "      <td>1671.28759</td>\n",
       "      <td>184.025088</td>\n",
       "      <td>67.560132</td>\n",
       "      <td>24.24.24.32</td>\n",
       "      <td>001</td>\n",
       "      <td>02-01-01-04</td>\n",
       "      <td>E:LatticeRuns\\Clusters\\Lumi\\LatticeRuns\\BKeepe...</td>\n",
       "    </tr>\n",
       "    <tr>\n",
       "      <th>96</th>\n",
       "      <td>SU(2), adjoint</td>\n",
       "      <td>0.116994</td>\n",
       "      <td>1726.18577</td>\n",
       "      <td>92.012544</td>\n",
       "      <td>64.756957</td>\n",
       "      <td>24.24.24.32</td>\n",
       "      <td>001</td>\n",
       "      <td>01-04-02-01</td>\n",
       "      <td>E:LatticeRuns\\Clusters\\Lumi\\LatticeRuns\\BKeepe...</td>\n",
       "    </tr>\n",
       "    <tr>\n",
       "      <th>97</th>\n",
       "      <td>SU(2), fundamental</td>\n",
       "      <td>0.043705</td>\n",
       "      <td>2312.35840</td>\n",
       "      <td>61.341696</td>\n",
       "      <td>33.003929</td>\n",
       "      <td>24.24.24.32</td>\n",
       "      <td>001</td>\n",
       "      <td>01-04-02-01</td>\n",
       "      <td>E:LatticeRuns\\Clusters\\Lumi\\LatticeRuns\\BKeepe...</td>\n",
       "    </tr>\n",
       "    <tr>\n",
       "      <th>98</th>\n",
       "      <td>SU(3), fundamental</td>\n",
       "      <td>0.115643</td>\n",
       "      <td>1746.35195</td>\n",
       "      <td>92.012544</td>\n",
       "      <td>64.756957</td>\n",
       "      <td>24.24.24.32</td>\n",
       "      <td>001</td>\n",
       "      <td>01-04-02-01</td>\n",
       "      <td>E:LatticeRuns\\Clusters\\Lumi\\LatticeRuns\\BKeepe...</td>\n",
       "    </tr>\n",
       "  </tbody>\n",
       "</table>\n",
       "<p>99 rows × 9 columns</p>\n",
       "</div>"
      ]
     },
     "execution_count": 441,
     "metadata": {},
     "output_type": "execute_result"
    }
   ],
   "execution_count": 441
  },
  {
   "metadata": {
    "ExecuteTime": {
     "end_time": "2025-02-26T16:01:22.517652Z",
     "start_time": "2025-02-26T16:01:22.156897Z"
    }
   },
   "cell_type": "code",
   "source": [
    "# --------------------------------------------------------------------------\n",
    "# Reading in the inout file\n",
    "m.printMesgStr(\"Plots DataFrame BKeeper small Lumi-G              : \", c.getGreen(), machine_name)\n",
    "\n",
    "print(dataFrame_BKeeper_small_lumi['Representation'][''])\n",
    "\n"
   ],
   "id": "c2c02622c71472c5",
   "outputs": [
    {
     "name": "stdout",
     "output_type": "stream",
     "text": [
      "\u001B[0;96m == [\u001B[0;94mPlots DataFrame BKeeper small Lumi-G              : \u001B[0;92m Leonardo\u001B[0;96m] ==\u001B[0m\n",
      "0         SU(2), adjoint\n",
      "1     SU(2), fundamental\n",
      "2     SU(3), fundamental\n",
      "3         SU(2), adjoint\n",
      "4     SU(2), fundamental\n",
      "             ...        \n",
      "94    SU(2), fundamental\n",
      "95    SU(3), fundamental\n",
      "96        SU(2), adjoint\n",
      "97    SU(2), fundamental\n",
      "98    SU(3), fundamental\n",
      "Name: Representation, Length: 99, dtype: object\n"
     ]
    }
   ],
   "execution_count": 458
  },
  {
   "metadata": {},
   "cell_type": "markdown",
   "source": [
    "## Vega\n",
    "### [BKeeper_run_gpu : small]\n",
    "---"
   ],
   "id": "6baf30c4081ee933"
  },
  {
   "metadata": {
    "ExecuteTime": {
     "end_time": "2025-02-26T14:12:24.041217Z",
     "start_time": "2025-02-26T14:12:24.035894Z"
    }
   },
   "cell_type": "code",
   "source": [
    "machine_name = \"Vega\"\n",
    "DATA_PATH         = os.path.join('E:','LatticeRuns','Clusters',machine_name,'LatticeRuns')"
   ],
   "id": "cb158d60922eb51c",
   "outputs": [],
   "execution_count": 442
  },
  {
   "metadata": {
    "ExecuteTime": {
     "end_time": "2025-02-26T14:12:26.188190Z",
     "start_time": "2025-02-26T14:12:26.179459Z"
    }
   },
   "cell_type": "code",
   "source": [
    "# Reinitialising the paths and object content.\n",
    "batch_action = \"BKeeper_run_gpu\"\n",
    "simulation_size=\"small\"\n",
    "rc = Reinitialising_Paths_and_object_content(c, m, DATA_PATH, batch_action, simulation_size)"
   ],
   "id": "f43b1c84d820137",
   "outputs": [
    {
     "name": "stdout",
     "output_type": "stream",
     "text": [
      "\u001B[0;96m == [\u001B[0;94mGetting target file list      :\u001B[0;92m Reinitialising_Paths_and_object_content\u001B[0;96m] ==\u001B[0m\n",
      "\u001B[0;96m == [\u001B[0;94mDefault target file           :\u001B[0;95m target.txt\u001B[0;96m] ==\u001B[0m\n",
      "\u001B[0;96m == [\u001B[0;94mTarget file for analysis      :\u001B[0;95m target_BKeeper_run_gpu_small_batch_files.txt\u001B[0;96m] ==\u001B[0m\n",
      "\u001B[0;96m == [\u001B[0;94mFull Path target file         :\u001B[0;96m E:LatticeRuns\\Clusters\\Vega\\LatticeRuns\\target_BKeeper_run_gpu_small_batch_files.txt\u001B[0;96m] ==\u001B[0m\n",
      "\u001B[0;96m    \u001B[0;94m[Check]: target file       --->: \u001B[0;92mExists\u001B[0m\n"
     ]
    }
   ],
   "execution_count": 443
  },
  {
   "metadata": {
    "ExecuteTime": {
     "end_time": "2025-02-26T14:12:27.558372Z",
     "start_time": "2025-02-26T14:12:27.516524Z"
    }
   },
   "cell_type": "code",
   "source": [
    "# --------------------------------------------------------------------------\n",
    "# Getting content in the target file\n",
    "rc, target_file_lst_vega, target_file_dir_vega = getTarget_file_lst(c, m, c.getTargetdir())"
   ],
   "id": "345ed4054122875d",
   "outputs": [
    {
     "name": "stdout",
     "output_type": "stream",
     "text": [
      "\u001B[0;96m == [\u001B[0;94mGetting target file list      :\u001B[0;92m getTarget_file_lst\u001B[0;96m] ==\u001B[0m\n",
      "\u001B[0;96m    \u001B[0;94mNumber of files in target_file : \u001B[0;93m26\u001B[0m\n"
     ]
    }
   ],
   "execution_count": 444
  },
  {
   "metadata": {
    "ExecuteTime": {
     "end_time": "2025-02-26T14:12:28.549289Z",
     "start_time": "2025-02-26T14:12:28.525969Z"
    }
   },
   "cell_type": "code",
   "source": [
    "# --------------------------------------------------------------------------\n",
    "# Getting content in the target file\n",
    "rc, target_file_cluster_lst_vega = getTarget_file_cluster_lst(c, m, target_file_lst_vega[:])"
   ],
   "id": "301a84c8fe4a047d",
   "outputs": [
    {
     "name": "stdout",
     "output_type": "stream",
     "text": [
      "\u001B[0;96m == [\u001B[0;94mGetting target file list      :\u001B[0;92m getTarget_file_cluster_lst\u001B[0;96m] ==\u001B[0m\n",
      "\u001B[0;96m    \u001B[0;94m[Check]: target file       --->: \u001B[0;92m\u001B[0;95mE:LatticeRuns\\Clusters\\Vega\\LatticeRuns\\BKeeper_run_gpu\\small\\Run_BKeeper_run_gpu_lat24.24.24.32_nodes002_mpi01-01-04-02_small\\Run_BKeeper_run_gpu_lat24.24.24.32_nodes002_mpi01-01-04-02_small.sh\u001B[0;92m ---> Exists\u001B[0m\n",
      "\u001B[0;96m    \u001B[0;94m[Check]: Cluster file      --->: \u001B[0;92m\u001B[0;93mE:LatticeRuns\\Clusters\\Vega\\LatticeRuns\\BKeeper_run_gpu\\small\\Run_BKeeper_run_gpu_lat24.24.24.32_nodes002_mpi01-01-04-02_small\\Run_BKeeper_run_gpu_lat24.24.24.32_nodes002_mpi01-01-04-02_small.out\u001B[0;92m ---> Exists\u001B[0m\n",
      "\u001B[0;96m    \u001B[0;94m[Check]: target file       --->: \u001B[0;92m\u001B[0;95mE:LatticeRuns\\Clusters\\Vega\\LatticeRuns\\BKeeper_run_gpu\\small\\Run_BKeeper_run_gpu_lat24.24.24.32_nodes002_mpi04-02-01-01_small\\Run_BKeeper_run_gpu_lat24.24.24.32_nodes002_mpi04-02-01-01_small.sh\u001B[0;92m ---> Exists\u001B[0m\n",
      "\u001B[0;96m    \u001B[0;94m[Check]: Cluster file      --->: \u001B[0;92m\u001B[0;93mE:LatticeRuns\\Clusters\\Vega\\LatticeRuns\\BKeeper_run_gpu\\small\\Run_BKeeper_run_gpu_lat24.24.24.32_nodes002_mpi04-02-01-01_small\\Run_BKeeper_run_gpu_lat24.24.24.32_nodes002_mpi04-02-01-01_small.out\u001B[0;92m ---> Exists\u001B[0m\n",
      "\u001B[0;96m    \u001B[0;94m[Check]: target file       --->: \u001B[0;92m\u001B[0;95mE:LatticeRuns\\Clusters\\Vega\\LatticeRuns\\BKeeper_run_gpu\\small\\Run_BKeeper_run_gpu_lat24.24.24.32_nodes001_mpi04-01-01-01_small\\Run_BKeeper_run_gpu_lat24.24.24.32_nodes001_mpi04-01-01-01_small.sh\u001B[0;92m ---> Exists\u001B[0m\n",
      "\u001B[0;96m    \u001B[0;94m[Check]: Cluster file      --->: \u001B[0;92m\u001B[0;93mE:LatticeRuns\\Clusters\\Vega\\LatticeRuns\\BKeeper_run_gpu\\small\\Run_BKeeper_run_gpu_lat24.24.24.32_nodes001_mpi04-01-01-01_small\\Run_BKeeper_run_gpu_lat24.24.24.32_nodes001_mpi04-01-01-01_small.out\u001B[0;92m ---> Exists\u001B[0m\n",
      "\u001B[0;96m    \u001B[0;94m[Check]: target file       --->: \u001B[0;92m\u001B[0;95mE:LatticeRuns\\Clusters\\Vega\\LatticeRuns\\BKeeper_run_gpu\\small\\Run_BKeeper_run_gpu_lat24.24.24.32_nodes002_mpi01-01-02-04_small\\Run_BKeeper_run_gpu_lat24.24.24.32_nodes002_mpi01-01-02-04_small.sh\u001B[0;92m ---> Exists\u001B[0m\n",
      "\u001B[0;96m    \u001B[0;94m[Check]: Cluster file      --->: \u001B[0;92m\u001B[0;93mE:LatticeRuns\\Clusters\\Vega\\LatticeRuns\\BKeeper_run_gpu\\small\\Run_BKeeper_run_gpu_lat24.24.24.32_nodes002_mpi01-01-02-04_small\\Run_BKeeper_run_gpu_lat24.24.24.32_nodes002_mpi01-01-02-04_small.out\u001B[0;92m ---> Exists\u001B[0m\n",
      "\u001B[0;96m    \u001B[0;94m[Check]: target file       --->: \u001B[0;92m\u001B[0;95mE:LatticeRuns\\Clusters\\Vega\\LatticeRuns\\BKeeper_run_gpu\\small\\Run_BKeeper_run_gpu_lat24.24.24.32_nodes002_mpi01-02-01-04_small\\Run_BKeeper_run_gpu_lat24.24.24.32_nodes002_mpi01-02-01-04_small.sh\u001B[0;92m ---> Exists\u001B[0m\n",
      "\u001B[0;96m    \u001B[0;94m[Check]: Cluster file      --->: \u001B[0;92m\u001B[0;93mE:LatticeRuns\\Clusters\\Vega\\LatticeRuns\\BKeeper_run_gpu\\small\\Run_BKeeper_run_gpu_lat24.24.24.32_nodes002_mpi01-02-01-04_small\\Run_BKeeper_run_gpu_lat24.24.24.32_nodes002_mpi01-02-01-04_small.out\u001B[0;92m ---> Exists\u001B[0m\n",
      "\u001B[0;96m    \u001B[0;94m[Check]: target file       --->: \u001B[0;92m\u001B[0;95mE:LatticeRuns\\Clusters\\Vega\\LatticeRuns\\BKeeper_run_gpu\\small\\Run_BKeeper_run_gpu_lat24.24.24.32_nodes002_mpi01-04-01-02_small\\Run_BKeeper_run_gpu_lat24.24.24.32_nodes002_mpi01-04-01-02_small.sh\u001B[0;92m ---> Exists\u001B[0m\n",
      "\u001B[0;96m    \u001B[0;94m[Check]: Cluster file      --->: \u001B[0;92m\u001B[0;93mE:LatticeRuns\\Clusters\\Vega\\LatticeRuns\\BKeeper_run_gpu\\small\\Run_BKeeper_run_gpu_lat24.24.24.32_nodes002_mpi01-04-01-02_small\\Run_BKeeper_run_gpu_lat24.24.24.32_nodes002_mpi01-04-01-02_small.out\u001B[0;92m ---> Exists\u001B[0m\n",
      "\u001B[0;96m    \u001B[0;94m[Check]: target file       --->: \u001B[0;92m\u001B[0;95mE:LatticeRuns\\Clusters\\Vega\\LatticeRuns\\BKeeper_run_gpu\\small\\Run_BKeeper_run_gpu_lat24.24.24.32_nodes001_mpi01-01-04-01_small\\Run_BKeeper_run_gpu_lat24.24.24.32_nodes001_mpi01-01-04-01_small.sh\u001B[0;92m ---> Exists\u001B[0m\n",
      "\u001B[0;96m    \u001B[0;94m[Check]: Cluster file      --->: \u001B[0;92m\u001B[0;93mE:LatticeRuns\\Clusters\\Vega\\LatticeRuns\\BKeeper_run_gpu\\small\\Run_BKeeper_run_gpu_lat24.24.24.32_nodes001_mpi01-01-04-01_small\\Run_BKeeper_run_gpu_lat24.24.24.32_nodes001_mpi01-01-04-01_small.out\u001B[0;92m ---> Exists\u001B[0m\n",
      "\u001B[0;96m    \u001B[0;94m[Check]: target file       --->: \u001B[0;92m\u001B[0;95mE:LatticeRuns\\Clusters\\Vega\\LatticeRuns\\BKeeper_run_gpu\\small\\Run_BKeeper_run_gpu_lat24.24.24.32_nodes001_mpi01-04-01-01_small\\Run_BKeeper_run_gpu_lat24.24.24.32_nodes001_mpi01-04-01-01_small.sh\u001B[0;92m ---> Exists\u001B[0m\n",
      "\u001B[0;96m    \u001B[0;94m[Check]: Cluster file      --->: \u001B[0;92m\u001B[0;93mE:LatticeRuns\\Clusters\\Vega\\LatticeRuns\\BKeeper_run_gpu\\small\\Run_BKeeper_run_gpu_lat24.24.24.32_nodes001_mpi01-04-01-01_small\\Run_BKeeper_run_gpu_lat24.24.24.32_nodes001_mpi01-04-01-01_small.out\u001B[0;92m ---> Exists\u001B[0m\n",
      "\u001B[0;96m    \u001B[0;94m[Check]: target file       --->: \u001B[0;92m\u001B[0;95mE:LatticeRuns\\Clusters\\Vega\\LatticeRuns\\BKeeper_run_gpu\\small\\Run_BKeeper_run_gpu_lat24.24.24.32_nodes002_mpi02-04-01-01_small\\Run_BKeeper_run_gpu_lat24.24.24.32_nodes002_mpi02-04-01-01_small.sh\u001B[0;92m ---> Exists\u001B[0m\n",
      "\u001B[0;96m    \u001B[0;94m[Check]: Cluster file      --->: \u001B[0;92m\u001B[0;93mE:LatticeRuns\\Clusters\\Vega\\LatticeRuns\\BKeeper_run_gpu\\small\\Run_BKeeper_run_gpu_lat24.24.24.32_nodes002_mpi02-04-01-01_small\\Run_BKeeper_run_gpu_lat24.24.24.32_nodes002_mpi02-04-01-01_small.out\u001B[0;92m ---> Exists\u001B[0m\n",
      "\u001B[0;96m    \u001B[0;94m[Check]: target file       --->: \u001B[0;92m\u001B[0;95mE:LatticeRuns\\Clusters\\Vega\\LatticeRuns\\BKeeper_run_gpu\\small\\Run_BKeeper_run_gpu_lat24.24.24.32_nodes002_mpi01-02-02-02_small\\Run_BKeeper_run_gpu_lat24.24.24.32_nodes002_mpi01-02-02-02_small.sh\u001B[0;92m ---> Exists\u001B[0m\n",
      "\u001B[0;96m    \u001B[0;94m[Check]: Cluster file      --->: \u001B[0;92m\u001B[0;93mE:LatticeRuns\\Clusters\\Vega\\LatticeRuns\\BKeeper_run_gpu\\small\\Run_BKeeper_run_gpu_lat24.24.24.32_nodes002_mpi01-02-02-02_small\\Run_BKeeper_run_gpu_lat24.24.24.32_nodes002_mpi01-02-02-02_small.out\u001B[0;92m ---> Exists\u001B[0m\n",
      "\u001B[0;96m    \u001B[0;94m[Check]: target file       --->: \u001B[0;92m\u001B[0;95mE:LatticeRuns\\Clusters\\Vega\\LatticeRuns\\BKeeper_run_gpu\\small\\Run_BKeeper_run_gpu_lat24.24.24.32_nodes002_mpi01-02-04-01_small\\Run_BKeeper_run_gpu_lat24.24.24.32_nodes002_mpi01-02-04-01_small.sh\u001B[0;92m ---> Exists\u001B[0m\n",
      "\u001B[0;96m    \u001B[0;94m[Check]: Cluster file      --->: \u001B[0;92m\u001B[0;93mE:LatticeRuns\\Clusters\\Vega\\LatticeRuns\\BKeeper_run_gpu\\small\\Run_BKeeper_run_gpu_lat24.24.24.32_nodes002_mpi01-02-04-01_small\\Run_BKeeper_run_gpu_lat24.24.24.32_nodes002_mpi01-02-04-01_small.out\u001B[0;92m ---> Exists\u001B[0m\n",
      "\u001B[0;96m    \u001B[0;94m[Check]: target file       --->: \u001B[0;92m\u001B[0;95mE:LatticeRuns\\Clusters\\Vega\\LatticeRuns\\BKeeper_run_gpu\\small\\Run_BKeeper_run_gpu_lat24.24.24.32_nodes001_mpi02-01-02-01_small\\Run_BKeeper_run_gpu_lat24.24.24.32_nodes001_mpi02-01-02-01_small.sh\u001B[0;92m ---> Exists\u001B[0m\n",
      "\u001B[0;96m    \u001B[0;94m[Check]: Cluster file      --->: \u001B[0;92m\u001B[0;93mE:LatticeRuns\\Clusters\\Vega\\LatticeRuns\\BKeeper_run_gpu\\small\\Run_BKeeper_run_gpu_lat24.24.24.32_nodes001_mpi02-01-02-01_small\\Run_BKeeper_run_gpu_lat24.24.24.32_nodes001_mpi02-01-02-01_small.out\u001B[0;92m ---> Exists\u001B[0m\n",
      "\u001B[0;96m    \u001B[0;94m[Check]: target file       --->: \u001B[0;92m\u001B[0;95mE:LatticeRuns\\Clusters\\Vega\\LatticeRuns\\BKeeper_run_gpu\\small\\Run_BKeeper_run_gpu_lat24.24.24.32_nodes001_mpi02-01-01-02_small\\Run_BKeeper_run_gpu_lat24.24.24.32_nodes001_mpi02-01-01-02_small.sh\u001B[0;92m ---> Exists\u001B[0m\n",
      "\u001B[0;96m    \u001B[0;94m[Check]: Cluster file      --->: \u001B[0;92m\u001B[0;93mE:LatticeRuns\\Clusters\\Vega\\LatticeRuns\\BKeeper_run_gpu\\small\\Run_BKeeper_run_gpu_lat24.24.24.32_nodes001_mpi02-01-01-02_small\\Run_BKeeper_run_gpu_lat24.24.24.32_nodes001_mpi02-01-01-02_small.out\u001B[0;92m ---> Exists\u001B[0m\n",
      "\u001B[0;96m    \u001B[0;94m[Check]: target file       --->: \u001B[0;92m\u001B[0;95mE:LatticeRuns\\Clusters\\Vega\\LatticeRuns\\BKeeper_run_gpu\\small\\Run_BKeeper_run_gpu_lat24.24.24.32_nodes002_mpi02-01-04-01_small\\Run_BKeeper_run_gpu_lat24.24.24.32_nodes002_mpi02-01-04-01_small.sh\u001B[0;92m ---> Exists\u001B[0m\n",
      "\u001B[0;96m    \u001B[0;94m[Check]: Cluster file      --->: \u001B[0;92m\u001B[0;93mE:LatticeRuns\\Clusters\\Vega\\LatticeRuns\\BKeeper_run_gpu\\small\\Run_BKeeper_run_gpu_lat24.24.24.32_nodes002_mpi02-01-04-01_small\\Run_BKeeper_run_gpu_lat24.24.24.32_nodes002_mpi02-01-04-01_small.out\u001B[0;92m ---> Exists\u001B[0m\n",
      "\u001B[0;96m    \u001B[0;94m[Check]: target file       --->: \u001B[0;92m\u001B[0;95mE:LatticeRuns\\Clusters\\Vega\\LatticeRuns\\BKeeper_run_gpu\\small\\Run_BKeeper_run_gpu_lat24.24.24.32_nodes002_mpi04-01-02-01_small\\Run_BKeeper_run_gpu_lat24.24.24.32_nodes002_mpi04-01-02-01_small.sh\u001B[0;92m ---> Exists\u001B[0m\n",
      "\u001B[0;96m    \u001B[0;94m[Check]: Cluster file      --->: \u001B[0;92m\u001B[0;93mE:LatticeRuns\\Clusters\\Vega\\LatticeRuns\\BKeeper_run_gpu\\small\\Run_BKeeper_run_gpu_lat24.24.24.32_nodes002_mpi04-01-02-01_small\\Run_BKeeper_run_gpu_lat24.24.24.32_nodes002_mpi04-01-02-01_small.out\u001B[0;92m ---> Exists\u001B[0m\n",
      "\u001B[0;96m    \u001B[0;94m[Check]: target file       --->: \u001B[0;92m\u001B[0;95mE:LatticeRuns\\Clusters\\Vega\\LatticeRuns\\BKeeper_run_gpu\\small\\Run_BKeeper_run_gpu_lat24.24.24.32_nodes002_mpi04-01-01-02_small\\Run_BKeeper_run_gpu_lat24.24.24.32_nodes002_mpi04-01-01-02_small.sh\u001B[0;92m ---> Exists\u001B[0m\n",
      "\u001B[0;96m    \u001B[0;94m[Check]: Cluster file      --->: \u001B[0;92m\u001B[0;93mE:LatticeRuns\\Clusters\\Vega\\LatticeRuns\\BKeeper_run_gpu\\small\\Run_BKeeper_run_gpu_lat24.24.24.32_nodes002_mpi04-01-01-02_small\\Run_BKeeper_run_gpu_lat24.24.24.32_nodes002_mpi04-01-01-02_small.out\u001B[0;92m ---> Exists\u001B[0m\n",
      "\u001B[0;96m    \u001B[0;94m[Check]: target file       --->: \u001B[0;92m\u001B[0;95mE:LatticeRuns\\Clusters\\Vega\\LatticeRuns\\BKeeper_run_gpu\\small\\Run_BKeeper_run_gpu_lat24.24.24.32_nodes001_mpi01-02-02-01_small\\Run_BKeeper_run_gpu_lat24.24.24.32_nodes001_mpi01-02-02-01_small.sh\u001B[0;92m ---> Exists\u001B[0m\n",
      "\u001B[0;96m    \u001B[0;94m[Check]: Cluster file      --->: \u001B[0;92m\u001B[0;93mE:LatticeRuns\\Clusters\\Vega\\LatticeRuns\\BKeeper_run_gpu\\small\\Run_BKeeper_run_gpu_lat24.24.24.32_nodes001_mpi01-02-02-01_small\\Run_BKeeper_run_gpu_lat24.24.24.32_nodes001_mpi01-02-02-01_small.out\u001B[0;92m ---> Exists\u001B[0m\n",
      "\u001B[0;96m    \u001B[0;94m[Check]: target file       --->: \u001B[0;92m\u001B[0;95mE:LatticeRuns\\Clusters\\Vega\\LatticeRuns\\BKeeper_run_gpu\\small\\Run_BKeeper_run_gpu_lat24.24.24.32_nodes002_mpi01-04-02-01_small\\Run_BKeeper_run_gpu_lat24.24.24.32_nodes002_mpi01-04-02-01_small.sh\u001B[0;92m ---> Exists\u001B[0m\n",
      "\u001B[0;96m    \u001B[0;94m[Check]: Cluster file      --->: \u001B[0;92m\u001B[0;93mE:LatticeRuns\\Clusters\\Vega\\LatticeRuns\\BKeeper_run_gpu\\small\\Run_BKeeper_run_gpu_lat24.24.24.32_nodes002_mpi01-04-02-01_small\\Run_BKeeper_run_gpu_lat24.24.24.32_nodes002_mpi01-04-02-01_small.out\u001B[0;92m ---> Exists\u001B[0m\n",
      "\u001B[0;96m    \u001B[0;94m[Check]: target file       --->: \u001B[0;92m\u001B[0;95mE:LatticeRuns\\Clusters\\Vega\\LatticeRuns\\BKeeper_run_gpu\\small\\Run_BKeeper_run_gpu_lat24.24.24.32_nodes001_mpi01-02-01-02_small\\Run_BKeeper_run_gpu_lat24.24.24.32_nodes001_mpi01-02-01-02_small.sh\u001B[0;92m ---> Exists\u001B[0m\n",
      "\u001B[0;96m    \u001B[0;94m[Check]: Cluster file      --->: \u001B[0;92m\u001B[0;93mE:LatticeRuns\\Clusters\\Vega\\LatticeRuns\\BKeeper_run_gpu\\small\\Run_BKeeper_run_gpu_lat24.24.24.32_nodes001_mpi01-02-01-02_small\\Run_BKeeper_run_gpu_lat24.24.24.32_nodes001_mpi01-02-01-02_small.out\u001B[0;92m ---> Exists\u001B[0m\n",
      "\u001B[0;96m    \u001B[0;94m[Check]: target file       --->: \u001B[0;92m\u001B[0;95mE:LatticeRuns\\Clusters\\Vega\\LatticeRuns\\BKeeper_run_gpu\\small\\Run_BKeeper_run_gpu_lat24.24.24.32_nodes002_mpi02-02-02-01_small\\Run_BKeeper_run_gpu_lat24.24.24.32_nodes002_mpi02-02-02-01_small.sh\u001B[0;92m ---> Exists\u001B[0m\n",
      "\u001B[0;96m    \u001B[0;94m[Check]: Cluster file      --->: \u001B[0;92m\u001B[0;93mE:LatticeRuns\\Clusters\\Vega\\LatticeRuns\\BKeeper_run_gpu\\small\\Run_BKeeper_run_gpu_lat24.24.24.32_nodes002_mpi02-02-02-01_small\\Run_BKeeper_run_gpu_lat24.24.24.32_nodes002_mpi02-02-02-01_small.out\u001B[0;92m ---> Exists\u001B[0m\n",
      "\u001B[0;96m    \u001B[0;94m[Check]: target file       --->: \u001B[0;92m\u001B[0;95mE:LatticeRuns\\Clusters\\Vega\\LatticeRuns\\BKeeper_run_gpu\\small\\Run_BKeeper_run_gpu_lat24.24.24.32_nodes002_mpi02-02-01-02_small\\Run_BKeeper_run_gpu_lat24.24.24.32_nodes002_mpi02-02-01-02_small.sh\u001B[0;92m ---> Exists\u001B[0m\n",
      "\u001B[0;96m    \u001B[0;94m[Check]: Cluster file      --->: \u001B[0;92m\u001B[0;93mE:LatticeRuns\\Clusters\\Vega\\LatticeRuns\\BKeeper_run_gpu\\small\\Run_BKeeper_run_gpu_lat24.24.24.32_nodes002_mpi02-02-01-02_small\\Run_BKeeper_run_gpu_lat24.24.24.32_nodes002_mpi02-02-01-02_small.out\u001B[0;92m ---> Exists\u001B[0m\n",
      "\u001B[0;96m    \u001B[0;94m[Check]: target file       --->: \u001B[0;92m\u001B[0;95mE:LatticeRuns\\Clusters\\Vega\\LatticeRuns\\BKeeper_run_gpu\\small\\Run_BKeeper_run_gpu_lat24.24.24.32_nodes001_mpi01-01-01-04_small\\Run_BKeeper_run_gpu_lat24.24.24.32_nodes001_mpi01-01-01-04_small.sh\u001B[0;92m ---> Exists\u001B[0m\n",
      "\u001B[0;96m    \u001B[0;94m[Check]: Cluster file      --->: \u001B[0;92m\u001B[0;93mE:LatticeRuns\\Clusters\\Vega\\LatticeRuns\\BKeeper_run_gpu\\small\\Run_BKeeper_run_gpu_lat24.24.24.32_nodes001_mpi01-01-01-04_small\\Run_BKeeper_run_gpu_lat24.24.24.32_nodes001_mpi01-01-01-04_small.out\u001B[0;92m ---> Exists\u001B[0m\n",
      "\u001B[0;96m    \u001B[0;94m[Check]: target file       --->: \u001B[0;92m\u001B[0;95mE:LatticeRuns\\Clusters\\Vega\\LatticeRuns\\BKeeper_run_gpu\\small\\Run_BKeeper_run_gpu_lat24.24.24.32_nodes002_mpi02-01-02-02_small\\Run_BKeeper_run_gpu_lat24.24.24.32_nodes002_mpi02-01-02-02_small.sh\u001B[0;92m ---> Exists\u001B[0m\n",
      "\u001B[0;96m    \u001B[0;94m[Check]: Cluster file      --->: \u001B[0;92m\u001B[0;93mE:LatticeRuns\\Clusters\\Vega\\LatticeRuns\\BKeeper_run_gpu\\small\\Run_BKeeper_run_gpu_lat24.24.24.32_nodes002_mpi02-01-02-02_small\\Run_BKeeper_run_gpu_lat24.24.24.32_nodes002_mpi02-01-02-02_small.out\u001B[0;92m ---> Exists\u001B[0m\n",
      "\u001B[0;96m    \u001B[0;94m[Check]: target file       --->: \u001B[0;92m\u001B[0;95mE:LatticeRuns\\Clusters\\Vega\\LatticeRuns\\BKeeper_run_gpu\\small\\Run_BKeeper_run_gpu_lat24.24.24.32_nodes002_mpi02-01-01-04_small\\Run_BKeeper_run_gpu_lat24.24.24.32_nodes002_mpi02-01-01-04_small.sh\u001B[0;92m ---> Exists\u001B[0m\n",
      "\u001B[0;96m    \u001B[0;94m[Check]: Cluster file      --->: \u001B[0;92m\u001B[0;93mE:LatticeRuns\\Clusters\\Vega\\LatticeRuns\\BKeeper_run_gpu\\small\\Run_BKeeper_run_gpu_lat24.24.24.32_nodes002_mpi02-01-01-04_small\\Run_BKeeper_run_gpu_lat24.24.24.32_nodes002_mpi02-01-01-04_small.out\u001B[0;92m ---> Exists\u001B[0m\n",
      "\u001B[0;96m    \u001B[0;94m[Check]: target file       --->: \u001B[0;92m\u001B[0;95mE:LatticeRuns\\Clusters\\Vega\\LatticeRuns\\BKeeper_run_gpu\\small\\Run_BKeeper_run_gpu_lat24.24.24.32_nodes001_mpi02-02-01-01_small\\Run_BKeeper_run_gpu_lat24.24.24.32_nodes001_mpi02-02-01-01_small.sh\u001B[0;92m ---> Exists\u001B[0m\n",
      "\u001B[0;96m    \u001B[0;94m[Check]: Cluster file      --->: \u001B[0;92m\u001B[0;93mE:LatticeRuns\\Clusters\\Vega\\LatticeRuns\\BKeeper_run_gpu\\small\\Run_BKeeper_run_gpu_lat24.24.24.32_nodes001_mpi02-02-01-01_small\\Run_BKeeper_run_gpu_lat24.24.24.32_nodes001_mpi02-02-01-01_small.out\u001B[0;92m ---> Exists\u001B[0m\n",
      "\u001B[0;96m    \u001B[0;94m[Check]: target file       --->: \u001B[0;92m\u001B[0;95mE:LatticeRuns\\Clusters\\Vega\\LatticeRuns\\BKeeper_run_gpu\\small\\Run_BKeeper_run_gpu_lat24.24.24.32_nodes001_mpi01-01-02-02_small\\Run_BKeeper_run_gpu_lat24.24.24.32_nodes001_mpi01-01-02-02_small.sh\u001B[0;92m ---> Exists\u001B[0m\n",
      "\u001B[0;96m    \u001B[0;94m[Check]: Cluster file      --->: \u001B[0;92m\u001B[0;93mE:LatticeRuns\\Clusters\\Vega\\LatticeRuns\\BKeeper_run_gpu\\small\\Run_BKeeper_run_gpu_lat24.24.24.32_nodes001_mpi01-01-02-02_small\\Run_BKeeper_run_gpu_lat24.24.24.32_nodes001_mpi01-01-02-02_small.out\u001B[0;92m ---> Exists\u001B[0m\n"
     ]
    }
   ],
   "execution_count": 445
  },
  {
   "metadata": {
    "ExecuteTime": {
     "end_time": "2025-02-26T14:12:29.383854Z",
     "start_time": "2025-02-26T14:12:29.374261Z"
    }
   },
   "cell_type": "code",
   "source": [
    "# --------------------------------------------------------------------------\n",
    "# [Data-Extraction]\n",
    "# --------------------------------------------------------------------------\n",
    "m.printMesgStr(   \"Data extraction cluster out                       : \", c.getGreen(), machine_name)\n",
    "m.printMesgAddStr(\"Simulation size                                   : \", c.getRed(), simulation_size)\n",
    "m.printMesgAddStr(\"target_file_cluster_lst_vega[:]               --->: \", c.getYellow(), target_file_cluster_lst_vega[:])\n",
    "m.printMesgAddStr(\"Length target_file_cluster_lst_vega[:]        --->: \", c.getYellow(), len(target_file_cluster_lst_vega[:]))\n"
   ],
   "id": "b401a4ca382732f6",
   "outputs": [
    {
     "name": "stdout",
     "output_type": "stream",
     "text": [
      "\u001B[0;96m == [\u001B[0;94mData extraction cluster out                       : \u001B[0;92m Vega\u001B[0;96m] ==\u001B[0m\n",
      "\u001B[0;96m    \u001B[0;94mSimulation size                                   : \u001B[0;91msmall\u001B[0m\n",
      "\u001B[0;96m    \u001B[0;94mtarget_file_cluster_lst_vega[:]               --->: \u001B[0;93m['E:LatticeRuns\\\\Clusters\\\\Vega\\\\LatticeRuns\\\\BKeeper_run_gpu\\\\small\\\\Run_BKeeper_run_gpu_lat24.24.24.32_nodes002_mpi01-01-04-02_small\\\\Run_BKeeper_run_gpu_lat24.24.24.32_nodes002_mpi01-01-04-02_small.out', 'E:LatticeRuns\\\\Clusters\\\\Vega\\\\LatticeRuns\\\\BKeeper_run_gpu\\\\small\\\\Run_BKeeper_run_gpu_lat24.24.24.32_nodes002_mpi04-02-01-01_small\\\\Run_BKeeper_run_gpu_lat24.24.24.32_nodes002_mpi04-02-01-01_small.out', 'E:LatticeRuns\\\\Clusters\\\\Vega\\\\LatticeRuns\\\\BKeeper_run_gpu\\\\small\\\\Run_BKeeper_run_gpu_lat24.24.24.32_nodes001_mpi04-01-01-01_small\\\\Run_BKeeper_run_gpu_lat24.24.24.32_nodes001_mpi04-01-01-01_small.out', 'E:LatticeRuns\\\\Clusters\\\\Vega\\\\LatticeRuns\\\\BKeeper_run_gpu\\\\small\\\\Run_BKeeper_run_gpu_lat24.24.24.32_nodes002_mpi01-01-02-04_small\\\\Run_BKeeper_run_gpu_lat24.24.24.32_nodes002_mpi01-01-02-04_small.out', 'E:LatticeRuns\\\\Clusters\\\\Vega\\\\LatticeRuns\\\\BKeeper_run_gpu\\\\small\\\\Run_BKeeper_run_gpu_lat24.24.24.32_nodes002_mpi01-02-01-04_small\\\\Run_BKeeper_run_gpu_lat24.24.24.32_nodes002_mpi01-02-01-04_small.out', 'E:LatticeRuns\\\\Clusters\\\\Vega\\\\LatticeRuns\\\\BKeeper_run_gpu\\\\small\\\\Run_BKeeper_run_gpu_lat24.24.24.32_nodes002_mpi01-04-01-02_small\\\\Run_BKeeper_run_gpu_lat24.24.24.32_nodes002_mpi01-04-01-02_small.out', 'E:LatticeRuns\\\\Clusters\\\\Vega\\\\LatticeRuns\\\\BKeeper_run_gpu\\\\small\\\\Run_BKeeper_run_gpu_lat24.24.24.32_nodes001_mpi01-01-04-01_small\\\\Run_BKeeper_run_gpu_lat24.24.24.32_nodes001_mpi01-01-04-01_small.out', 'E:LatticeRuns\\\\Clusters\\\\Vega\\\\LatticeRuns\\\\BKeeper_run_gpu\\\\small\\\\Run_BKeeper_run_gpu_lat24.24.24.32_nodes001_mpi01-04-01-01_small\\\\Run_BKeeper_run_gpu_lat24.24.24.32_nodes001_mpi01-04-01-01_small.out', 'E:LatticeRuns\\\\Clusters\\\\Vega\\\\LatticeRuns\\\\BKeeper_run_gpu\\\\small\\\\Run_BKeeper_run_gpu_lat24.24.24.32_nodes002_mpi02-04-01-01_small\\\\Run_BKeeper_run_gpu_lat24.24.24.32_nodes002_mpi02-04-01-01_small.out', 'E:LatticeRuns\\\\Clusters\\\\Vega\\\\LatticeRuns\\\\BKeeper_run_gpu\\\\small\\\\Run_BKeeper_run_gpu_lat24.24.24.32_nodes002_mpi01-02-02-02_small\\\\Run_BKeeper_run_gpu_lat24.24.24.32_nodes002_mpi01-02-02-02_small.out', 'E:LatticeRuns\\\\Clusters\\\\Vega\\\\LatticeRuns\\\\BKeeper_run_gpu\\\\small\\\\Run_BKeeper_run_gpu_lat24.24.24.32_nodes002_mpi01-02-04-01_small\\\\Run_BKeeper_run_gpu_lat24.24.24.32_nodes002_mpi01-02-04-01_small.out', 'E:LatticeRuns\\\\Clusters\\\\Vega\\\\LatticeRuns\\\\BKeeper_run_gpu\\\\small\\\\Run_BKeeper_run_gpu_lat24.24.24.32_nodes001_mpi02-01-02-01_small\\\\Run_BKeeper_run_gpu_lat24.24.24.32_nodes001_mpi02-01-02-01_small.out', 'E:LatticeRuns\\\\Clusters\\\\Vega\\\\LatticeRuns\\\\BKeeper_run_gpu\\\\small\\\\Run_BKeeper_run_gpu_lat24.24.24.32_nodes001_mpi02-01-01-02_small\\\\Run_BKeeper_run_gpu_lat24.24.24.32_nodes001_mpi02-01-01-02_small.out', 'E:LatticeRuns\\\\Clusters\\\\Vega\\\\LatticeRuns\\\\BKeeper_run_gpu\\\\small\\\\Run_BKeeper_run_gpu_lat24.24.24.32_nodes002_mpi02-01-04-01_small\\\\Run_BKeeper_run_gpu_lat24.24.24.32_nodes002_mpi02-01-04-01_small.out', 'E:LatticeRuns\\\\Clusters\\\\Vega\\\\LatticeRuns\\\\BKeeper_run_gpu\\\\small\\\\Run_BKeeper_run_gpu_lat24.24.24.32_nodes002_mpi04-01-02-01_small\\\\Run_BKeeper_run_gpu_lat24.24.24.32_nodes002_mpi04-01-02-01_small.out', 'E:LatticeRuns\\\\Clusters\\\\Vega\\\\LatticeRuns\\\\BKeeper_run_gpu\\\\small\\\\Run_BKeeper_run_gpu_lat24.24.24.32_nodes002_mpi04-01-01-02_small\\\\Run_BKeeper_run_gpu_lat24.24.24.32_nodes002_mpi04-01-01-02_small.out', 'E:LatticeRuns\\\\Clusters\\\\Vega\\\\LatticeRuns\\\\BKeeper_run_gpu\\\\small\\\\Run_BKeeper_run_gpu_lat24.24.24.32_nodes001_mpi01-02-02-01_small\\\\Run_BKeeper_run_gpu_lat24.24.24.32_nodes001_mpi01-02-02-01_small.out', 'E:LatticeRuns\\\\Clusters\\\\Vega\\\\LatticeRuns\\\\BKeeper_run_gpu\\\\small\\\\Run_BKeeper_run_gpu_lat24.24.24.32_nodes002_mpi01-04-02-01_small\\\\Run_BKeeper_run_gpu_lat24.24.24.32_nodes002_mpi01-04-02-01_small.out', 'E:LatticeRuns\\\\Clusters\\\\Vega\\\\LatticeRuns\\\\BKeeper_run_gpu\\\\small\\\\Run_BKeeper_run_gpu_lat24.24.24.32_nodes001_mpi01-02-01-02_small\\\\Run_BKeeper_run_gpu_lat24.24.24.32_nodes001_mpi01-02-01-02_small.out', 'E:LatticeRuns\\\\Clusters\\\\Vega\\\\LatticeRuns\\\\BKeeper_run_gpu\\\\small\\\\Run_BKeeper_run_gpu_lat24.24.24.32_nodes002_mpi02-02-02-01_small\\\\Run_BKeeper_run_gpu_lat24.24.24.32_nodes002_mpi02-02-02-01_small.out', 'E:LatticeRuns\\\\Clusters\\\\Vega\\\\LatticeRuns\\\\BKeeper_run_gpu\\\\small\\\\Run_BKeeper_run_gpu_lat24.24.24.32_nodes002_mpi02-02-01-02_small\\\\Run_BKeeper_run_gpu_lat24.24.24.32_nodes002_mpi02-02-01-02_small.out', 'E:LatticeRuns\\\\Clusters\\\\Vega\\\\LatticeRuns\\\\BKeeper_run_gpu\\\\small\\\\Run_BKeeper_run_gpu_lat24.24.24.32_nodes001_mpi01-01-01-04_small\\\\Run_BKeeper_run_gpu_lat24.24.24.32_nodes001_mpi01-01-01-04_small.out', 'E:LatticeRuns\\\\Clusters\\\\Vega\\\\LatticeRuns\\\\BKeeper_run_gpu\\\\small\\\\Run_BKeeper_run_gpu_lat24.24.24.32_nodes002_mpi02-01-02-02_small\\\\Run_BKeeper_run_gpu_lat24.24.24.32_nodes002_mpi02-01-02-02_small.out', 'E:LatticeRuns\\\\Clusters\\\\Vega\\\\LatticeRuns\\\\BKeeper_run_gpu\\\\small\\\\Run_BKeeper_run_gpu_lat24.24.24.32_nodes002_mpi02-01-01-04_small\\\\Run_BKeeper_run_gpu_lat24.24.24.32_nodes002_mpi02-01-01-04_small.out', 'E:LatticeRuns\\\\Clusters\\\\Vega\\\\LatticeRuns\\\\BKeeper_run_gpu\\\\small\\\\Run_BKeeper_run_gpu_lat24.24.24.32_nodes001_mpi02-02-01-01_small\\\\Run_BKeeper_run_gpu_lat24.24.24.32_nodes001_mpi02-02-01-01_small.out', 'E:LatticeRuns\\\\Clusters\\\\Vega\\\\LatticeRuns\\\\BKeeper_run_gpu\\\\small\\\\Run_BKeeper_run_gpu_lat24.24.24.32_nodes001_mpi01-01-02-02_small\\\\Run_BKeeper_run_gpu_lat24.24.24.32_nodes001_mpi01-01-02-02_small.out']\u001B[0m\n",
      "\u001B[0;96m    \u001B[0;94mLength target_file_cluster_lst_vega[:]        --->: \u001B[0;93m26\u001B[0m\n"
     ]
    }
   ],
   "execution_count": 446
  },
  {
   "metadata": {
    "ExecuteTime": {
     "end_time": "2025-02-26T14:12:30.247120Z",
     "start_time": "2025-02-26T14:12:30.159511Z"
    }
   },
   "cell_type": "code",
   "source": [
    "# --------------------------------------------------------------------------\n",
    "# Reading in the inout file\n",
    "rc, target_file_cluster_filtered_lst_vega = filter_target_file_cluster_lst(c, m,\n",
    "                                                                           start_key_rep_lst[:],\n",
    "                                                                           target_file_cluster_lst_vega[:])\n",
    "\n",
    "m.printMesgAddStr(\"len(target_file_cluster_filtered_lst_vega[:]) --->: \", c.getYellow(), len(target_file_cluster_filtered_lst_vega[:]))\n"
   ],
   "id": "b8fa8d2fb7914545",
   "outputs": [
    {
     "name": "stdout",
     "output_type": "stream",
     "text": [
      "\u001B[0;96m == [\u001B[0;94mGetting target file list      :\u001B[0;92m filter_target_file_cluster_lst\u001B[0;96m] ==\u001B[0m\n"
     ]
    },
    {
     "name": "stderr",
     "output_type": "stream",
     "text": [
      "filter target file: 100%|█████████████████████████████████████████| 26/26 [00:00<00:00, 1301.52it/s]"
     ]
    },
    {
     "name": "stdout",
     "output_type": "stream",
     "text": [
      "\u001B[0;96m    \u001B[0;94mlen(target_file_cluster_filtered_lst_vega[:]) --->: \u001B[0;93m17\u001B[0m\n"
     ]
    },
    {
     "name": "stderr",
     "output_type": "stream",
     "text": [
      "\n"
     ]
    }
   ],
   "execution_count": 447
  },
  {
   "metadata": {
    "ExecuteTime": {
     "end_time": "2025-02-26T14:12:31.314287Z",
     "start_time": "2025-02-26T14:12:31.278159Z"
    }
   },
   "cell_type": "code",
   "source": [
    "# --------------------------------------------------------------------------\n",
    "# Reading in the inout file\n",
    "rc, dataFrame_BKeeper_small_vega = read_BKeeper_file_out(c, m, batch_action, simulation_size, target_file_cluster_filtered_lst_vega[:])"
   ],
   "id": "1eb9ceadaa2ce03e",
   "outputs": [
    {
     "name": "stdout",
     "output_type": "stream",
     "text": [
      "\u001B[0;96m == [\u001B[0;94mGetting target file list      :\u001B[0;92m read_BKeeper_file_out\u001B[0;96m] ==\u001B[0m\n"
     ]
    },
    {
     "name": "stderr",
     "output_type": "stream",
     "text": [
      "bench_BKeeper_dict: 100%|██████████████████████████████████████████| 17/17 [00:00<00:00, 738.08it/s]\n"
     ]
    }
   ],
   "execution_count": 448
  },
  {
   "metadata": {
    "ExecuteTime": {
     "end_time": "2025-02-26T14:12:32.085637Z",
     "start_time": "2025-02-26T14:12:32.056167Z"
    }
   },
   "cell_type": "code",
   "source": [
    "# --------------------------------------------------------------------------\n",
    "# Reading in the inout file\n",
    "m.printMesgStr(\"DataFrame BKeeper small Vega-GPU                  : \", c.getGreen(), machine_name)\n",
    "dataFrame_BKeeper_small_vega"
   ],
   "id": "c7b32ded4b8c11e2",
   "outputs": [
    {
     "name": "stdout",
     "output_type": "stream",
     "text": [
      "\u001B[0;96m == [\u001B[0;94mDataFrame BKeeper small Vega-GPU                  : \u001B[0;92m Vega\u001B[0;96m] ==\u001B[0m\n"
     ]
    },
    {
     "data": {
      "text/plain": [
       "        Representation  CG Run Time (s)  FlOp/S (GFlOp/s)  Comms  (MB)  \\\n",
       "0       SU(2), adjoint         0.495914        407.234678   368.050176   \n",
       "1   SU(2), fundamental         0.278170        363.308854   245.366784   \n",
       "2   SU(3), fundamental         0.222764        906.579960   368.050176   \n",
       "3       SU(2), adjoint         0.377185        535.422613   736.100352   \n",
       "4   SU(2), fundamental         0.185771        544.011842   490.733568   \n",
       "5   SU(3), fundamental         0.320326        630.462024   736.100352   \n",
       "6       SU(2), adjoint         0.209931        961.998839    92.012544   \n",
       "7   SU(2), fundamental         0.150005        673.721701    61.341696   \n",
       "8   SU(3), fundamental         0.212661        949.649340    92.012544   \n",
       "9       SU(2), adjoint         0.228991        881.927143    92.012544   \n",
       "10  SU(2), fundamental         0.191770        526.993919    61.341696   \n",
       "11  SU(3), fundamental         0.253060        798.045437    92.012544   \n",
       "12      SU(2), adjoint         0.271894        742.765115   184.025088   \n",
       "13  SU(2), fundamental         0.234030        431.831918   122.683392   \n",
       "14  SU(3), fundamental         0.308451        654.734069   184.025088   \n",
       "15      SU(2), adjoint         0.288018        701.183184   184.025088   \n",
       "16  SU(2), fundamental         0.219833        459.719987   122.683392   \n",
       "17  SU(3), fundamental         0.195835       1031.242520   184.025088   \n",
       "18      SU(2), adjoint         0.296403        681.347282   368.050176   \n",
       "19  SU(2), fundamental         0.214087        472.058667   245.366784   \n",
       "20  SU(3), fundamental         0.292980        689.307729   368.050176   \n",
       "21      SU(2), adjoint         0.237373        850.784960   368.050176   \n",
       "22  SU(2), fundamental         0.201135        502.456677   245.366784   \n",
       "23  SU(3), fundamental         0.236201        855.006449   368.050176   \n",
       "24      SU(2), adjoint         0.242557        832.601732   368.050176   \n",
       "25  SU(2), fundamental         0.208917        483.740547   245.366784   \n",
       "26  SU(3), fundamental         0.294577        685.570762   368.050176   \n",
       "27      SU(2), adjoint         0.305757        660.502877   184.025088   \n",
       "28  SU(2), fundamental         0.196020        515.567921   122.683392   \n",
       "29  SU(3), fundamental         0.284708        709.335102   184.025088   \n",
       "30      SU(2), adjoint         0.229865        878.573851    92.012544   \n",
       "31  SU(2), fundamental         0.151241        668.215787    61.341696   \n",
       "32  SU(3), fundamental         0.303384        665.669179    92.012544   \n",
       "33      SU(2), adjoint         0.316312        638.462589   184.025088   \n",
       "34  SU(2), fundamental         0.242967        415.947943   122.683392   \n",
       "35  SU(3), fundamental         0.338323        596.924768   184.025088   \n",
       "36      SU(2), adjoint         0.372212        542.576215   184.025088   \n",
       "37  SU(2), fundamental         0.218787        461.917864   122.683392   \n",
       "38  SU(3), fundamental         0.273090        739.512169   184.025088   \n",
       "39      SU(2), adjoint         0.287786        701.748446   184.025088   \n",
       "40  SU(2), fundamental         0.188934        534.904378   122.683392   \n",
       "41  SU(3), fundamental         0.242571        832.553678   184.025088   \n",
       "42      SU(2), adjoint         0.258334        781.752995   184.025088   \n",
       "43  SU(2), fundamental         0.168446        599.964522   122.683392   \n",
       "44  SU(3), fundamental         0.228148        885.185837   184.025088   \n",
       "45      SU(2), adjoint         0.433025        466.378104   368.050176   \n",
       "46  SU(2), fundamental         0.250994        402.645576   245.366784   \n",
       "47  SU(3), fundamental         0.312215        646.840729   368.050176   \n",
       "48      SU(2), adjoint         0.284494        709.868673   184.025088   \n",
       "49  SU(2), fundamental         0.198638        508.772862   122.683392   \n",
       "50  SU(3), fundamental         0.242955        831.237794   184.025088   \n",
       "\n",
       "    Memory (GB)      lattice nodes mpi_distribution  \\\n",
       "0     68.547166  24.24.24.32   002      04-02-01-01   \n",
       "1     35.350249  24.24.24.32   002      04-02-01-01   \n",
       "2     68.547166  24.24.24.32   002      04-02-01-01   \n",
       "3     68.498268  24.24.24.32   001      04-01-01-01   \n",
       "4     35.317645  24.24.24.32   001      04-01-01-01   \n",
       "5     68.498268  24.24.24.32   001      04-01-01-01   \n",
       "6     66.296729  24.24.24.32   002      01-01-02-04   \n",
       "7     34.030444  24.24.24.32   002      01-01-02-04   \n",
       "8     66.296729  24.24.24.32   002      01-01-02-04   \n",
       "9     66.296729  24.24.24.32   002      01-02-01-04   \n",
       "10    34.030444  24.24.24.32   002      01-02-01-04   \n",
       "11    66.296729  24.24.24.32   002      01-02-01-04   \n",
       "12    64.708059  24.24.24.32   001      01-04-01-01   \n",
       "13    32.971325  24.24.24.32   001      01-04-01-01   \n",
       "14    64.708059  24.24.24.32   001      01-04-01-01   \n",
       "15    66.020360  24.24.24.32   002      02-04-01-01   \n",
       "16    33.786036  24.24.24.32   002      02-04-01-01   \n",
       "17    66.020360  24.24.24.32   002      02-04-01-01   \n",
       "18    65.934801  24.24.24.32   001      02-01-02-01   \n",
       "19    33.728991  24.24.24.32   001      02-01-02-01   \n",
       "20    65.934801  24.24.24.32   001      02-01-02-01   \n",
       "21    66.448058  24.24.24.32   001      02-01-01-02   \n",
       "22    34.071163  24.24.24.32   001      02-01-01-02   \n",
       "23    66.448058  24.24.24.32   001      02-01-01-02   \n",
       "24    68.547166  24.24.24.32   002      04-01-02-01   \n",
       "25    35.350249  24.24.24.32   002      04-01-02-01   \n",
       "26    68.547166  24.24.24.32   002      04-01-02-01   \n",
       "27    64.671398  24.24.24.32   001      01-02-02-01   \n",
       "28    32.946885  24.24.24.32   001      01-02-02-01   \n",
       "29    64.671398  24.24.24.32   001      01-02-02-01   \n",
       "30    64.756957  24.24.24.32   002      01-04-02-01   \n",
       "31    33.003929  24.24.24.32   002      01-04-02-01   \n",
       "32    64.756957  24.24.24.32   002      01-04-02-01   \n",
       "33    65.184655  24.24.24.32   001      01-02-01-02   \n",
       "34    33.289056  24.24.24.32   001      01-02-01-02   \n",
       "35    65.184655  24.24.24.32   001      01-02-01-02   \n",
       "36    65.980879  24.24.24.32   002      02-02-02-01   \n",
       "37    33.759715  24.24.24.32   002      02-02-02-01   \n",
       "38    65.980879  24.24.24.32   002      02-02-02-01   \n",
       "39    66.137848  24.24.24.32   001      01-01-01-04   \n",
       "40    33.924518  24.24.24.32   001      01-01-01-04   \n",
       "41    66.137848  24.24.24.32   001      01-01-01-04   \n",
       "42    67.560132  24.24.24.32   002      02-01-01-04   \n",
       "43    34.812551  24.24.24.32   002      02-01-01-04   \n",
       "44    67.560132  24.24.24.32   002      02-01-01-04   \n",
       "45    65.934801  24.24.24.32   001      02-02-01-01   \n",
       "46    33.728991  24.24.24.32   001      02-02-01-01   \n",
       "47    65.934801  24.24.24.32   001      02-02-01-01   \n",
       "48    65.184655  24.24.24.32   001      01-01-02-02   \n",
       "49    33.289056  24.24.24.32   001      01-01-02-02   \n",
       "50    65.184655  24.24.24.32   001      01-01-02-02   \n",
       "\n",
       "                                      Run output file  \n",
       "0   E:LatticeRuns\\Clusters\\Vega\\LatticeRuns\\BKeepe...  \n",
       "1   E:LatticeRuns\\Clusters\\Vega\\LatticeRuns\\BKeepe...  \n",
       "2   E:LatticeRuns\\Clusters\\Vega\\LatticeRuns\\BKeepe...  \n",
       "3   E:LatticeRuns\\Clusters\\Vega\\LatticeRuns\\BKeepe...  \n",
       "4   E:LatticeRuns\\Clusters\\Vega\\LatticeRuns\\BKeepe...  \n",
       "5   E:LatticeRuns\\Clusters\\Vega\\LatticeRuns\\BKeepe...  \n",
       "6   E:LatticeRuns\\Clusters\\Vega\\LatticeRuns\\BKeepe...  \n",
       "7   E:LatticeRuns\\Clusters\\Vega\\LatticeRuns\\BKeepe...  \n",
       "8   E:LatticeRuns\\Clusters\\Vega\\LatticeRuns\\BKeepe...  \n",
       "9   E:LatticeRuns\\Clusters\\Vega\\LatticeRuns\\BKeepe...  \n",
       "10  E:LatticeRuns\\Clusters\\Vega\\LatticeRuns\\BKeepe...  \n",
       "11  E:LatticeRuns\\Clusters\\Vega\\LatticeRuns\\BKeepe...  \n",
       "12  E:LatticeRuns\\Clusters\\Vega\\LatticeRuns\\BKeepe...  \n",
       "13  E:LatticeRuns\\Clusters\\Vega\\LatticeRuns\\BKeepe...  \n",
       "14  E:LatticeRuns\\Clusters\\Vega\\LatticeRuns\\BKeepe...  \n",
       "15  E:LatticeRuns\\Clusters\\Vega\\LatticeRuns\\BKeepe...  \n",
       "16  E:LatticeRuns\\Clusters\\Vega\\LatticeRuns\\BKeepe...  \n",
       "17  E:LatticeRuns\\Clusters\\Vega\\LatticeRuns\\BKeepe...  \n",
       "18  E:LatticeRuns\\Clusters\\Vega\\LatticeRuns\\BKeepe...  \n",
       "19  E:LatticeRuns\\Clusters\\Vega\\LatticeRuns\\BKeepe...  \n",
       "20  E:LatticeRuns\\Clusters\\Vega\\LatticeRuns\\BKeepe...  \n",
       "21  E:LatticeRuns\\Clusters\\Vega\\LatticeRuns\\BKeepe...  \n",
       "22  E:LatticeRuns\\Clusters\\Vega\\LatticeRuns\\BKeepe...  \n",
       "23  E:LatticeRuns\\Clusters\\Vega\\LatticeRuns\\BKeepe...  \n",
       "24  E:LatticeRuns\\Clusters\\Vega\\LatticeRuns\\BKeepe...  \n",
       "25  E:LatticeRuns\\Clusters\\Vega\\LatticeRuns\\BKeepe...  \n",
       "26  E:LatticeRuns\\Clusters\\Vega\\LatticeRuns\\BKeepe...  \n",
       "27  E:LatticeRuns\\Clusters\\Vega\\LatticeRuns\\BKeepe...  \n",
       "28  E:LatticeRuns\\Clusters\\Vega\\LatticeRuns\\BKeepe...  \n",
       "29  E:LatticeRuns\\Clusters\\Vega\\LatticeRuns\\BKeepe...  \n",
       "30  E:LatticeRuns\\Clusters\\Vega\\LatticeRuns\\BKeepe...  \n",
       "31  E:LatticeRuns\\Clusters\\Vega\\LatticeRuns\\BKeepe...  \n",
       "32  E:LatticeRuns\\Clusters\\Vega\\LatticeRuns\\BKeepe...  \n",
       "33  E:LatticeRuns\\Clusters\\Vega\\LatticeRuns\\BKeepe...  \n",
       "34  E:LatticeRuns\\Clusters\\Vega\\LatticeRuns\\BKeepe...  \n",
       "35  E:LatticeRuns\\Clusters\\Vega\\LatticeRuns\\BKeepe...  \n",
       "36  E:LatticeRuns\\Clusters\\Vega\\LatticeRuns\\BKeepe...  \n",
       "37  E:LatticeRuns\\Clusters\\Vega\\LatticeRuns\\BKeepe...  \n",
       "38  E:LatticeRuns\\Clusters\\Vega\\LatticeRuns\\BKeepe...  \n",
       "39  E:LatticeRuns\\Clusters\\Vega\\LatticeRuns\\BKeepe...  \n",
       "40  E:LatticeRuns\\Clusters\\Vega\\LatticeRuns\\BKeepe...  \n",
       "41  E:LatticeRuns\\Clusters\\Vega\\LatticeRuns\\BKeepe...  \n",
       "42  E:LatticeRuns\\Clusters\\Vega\\LatticeRuns\\BKeepe...  \n",
       "43  E:LatticeRuns\\Clusters\\Vega\\LatticeRuns\\BKeepe...  \n",
       "44  E:LatticeRuns\\Clusters\\Vega\\LatticeRuns\\BKeepe...  \n",
       "45  E:LatticeRuns\\Clusters\\Vega\\LatticeRuns\\BKeepe...  \n",
       "46  E:LatticeRuns\\Clusters\\Vega\\LatticeRuns\\BKeepe...  \n",
       "47  E:LatticeRuns\\Clusters\\Vega\\LatticeRuns\\BKeepe...  \n",
       "48  E:LatticeRuns\\Clusters\\Vega\\LatticeRuns\\BKeepe...  \n",
       "49  E:LatticeRuns\\Clusters\\Vega\\LatticeRuns\\BKeepe...  \n",
       "50  E:LatticeRuns\\Clusters\\Vega\\LatticeRuns\\BKeepe...  "
      ],
      "text/html": [
       "<div>\n",
       "<style scoped>\n",
       "    .dataframe tbody tr th:only-of-type {\n",
       "        vertical-align: middle;\n",
       "    }\n",
       "\n",
       "    .dataframe tbody tr th {\n",
       "        vertical-align: top;\n",
       "    }\n",
       "\n",
       "    .dataframe thead th {\n",
       "        text-align: right;\n",
       "    }\n",
       "</style>\n",
       "<table border=\"1\" class=\"dataframe\">\n",
       "  <thead>\n",
       "    <tr style=\"text-align: right;\">\n",
       "      <th></th>\n",
       "      <th>Representation</th>\n",
       "      <th>CG Run Time (s)</th>\n",
       "      <th>FlOp/S (GFlOp/s)</th>\n",
       "      <th>Comms  (MB)</th>\n",
       "      <th>Memory (GB)</th>\n",
       "      <th>lattice</th>\n",
       "      <th>nodes</th>\n",
       "      <th>mpi_distribution</th>\n",
       "      <th>Run output file</th>\n",
       "    </tr>\n",
       "  </thead>\n",
       "  <tbody>\n",
       "    <tr>\n",
       "      <th>0</th>\n",
       "      <td>SU(2), adjoint</td>\n",
       "      <td>0.495914</td>\n",
       "      <td>407.234678</td>\n",
       "      <td>368.050176</td>\n",
       "      <td>68.547166</td>\n",
       "      <td>24.24.24.32</td>\n",
       "      <td>002</td>\n",
       "      <td>04-02-01-01</td>\n",
       "      <td>E:LatticeRuns\\Clusters\\Vega\\LatticeRuns\\BKeepe...</td>\n",
       "    </tr>\n",
       "    <tr>\n",
       "      <th>1</th>\n",
       "      <td>SU(2), fundamental</td>\n",
       "      <td>0.278170</td>\n",
       "      <td>363.308854</td>\n",
       "      <td>245.366784</td>\n",
       "      <td>35.350249</td>\n",
       "      <td>24.24.24.32</td>\n",
       "      <td>002</td>\n",
       "      <td>04-02-01-01</td>\n",
       "      <td>E:LatticeRuns\\Clusters\\Vega\\LatticeRuns\\BKeepe...</td>\n",
       "    </tr>\n",
       "    <tr>\n",
       "      <th>2</th>\n",
       "      <td>SU(3), fundamental</td>\n",
       "      <td>0.222764</td>\n",
       "      <td>906.579960</td>\n",
       "      <td>368.050176</td>\n",
       "      <td>68.547166</td>\n",
       "      <td>24.24.24.32</td>\n",
       "      <td>002</td>\n",
       "      <td>04-02-01-01</td>\n",
       "      <td>E:LatticeRuns\\Clusters\\Vega\\LatticeRuns\\BKeepe...</td>\n",
       "    </tr>\n",
       "    <tr>\n",
       "      <th>3</th>\n",
       "      <td>SU(2), adjoint</td>\n",
       "      <td>0.377185</td>\n",
       "      <td>535.422613</td>\n",
       "      <td>736.100352</td>\n",
       "      <td>68.498268</td>\n",
       "      <td>24.24.24.32</td>\n",
       "      <td>001</td>\n",
       "      <td>04-01-01-01</td>\n",
       "      <td>E:LatticeRuns\\Clusters\\Vega\\LatticeRuns\\BKeepe...</td>\n",
       "    </tr>\n",
       "    <tr>\n",
       "      <th>4</th>\n",
       "      <td>SU(2), fundamental</td>\n",
       "      <td>0.185771</td>\n",
       "      <td>544.011842</td>\n",
       "      <td>490.733568</td>\n",
       "      <td>35.317645</td>\n",
       "      <td>24.24.24.32</td>\n",
       "      <td>001</td>\n",
       "      <td>04-01-01-01</td>\n",
       "      <td>E:LatticeRuns\\Clusters\\Vega\\LatticeRuns\\BKeepe...</td>\n",
       "    </tr>\n",
       "    <tr>\n",
       "      <th>5</th>\n",
       "      <td>SU(3), fundamental</td>\n",
       "      <td>0.320326</td>\n",
       "      <td>630.462024</td>\n",
       "      <td>736.100352</td>\n",
       "      <td>68.498268</td>\n",
       "      <td>24.24.24.32</td>\n",
       "      <td>001</td>\n",
       "      <td>04-01-01-01</td>\n",
       "      <td>E:LatticeRuns\\Clusters\\Vega\\LatticeRuns\\BKeepe...</td>\n",
       "    </tr>\n",
       "    <tr>\n",
       "      <th>6</th>\n",
       "      <td>SU(2), adjoint</td>\n",
       "      <td>0.209931</td>\n",
       "      <td>961.998839</td>\n",
       "      <td>92.012544</td>\n",
       "      <td>66.296729</td>\n",
       "      <td>24.24.24.32</td>\n",
       "      <td>002</td>\n",
       "      <td>01-01-02-04</td>\n",
       "      <td>E:LatticeRuns\\Clusters\\Vega\\LatticeRuns\\BKeepe...</td>\n",
       "    </tr>\n",
       "    <tr>\n",
       "      <th>7</th>\n",
       "      <td>SU(2), fundamental</td>\n",
       "      <td>0.150005</td>\n",
       "      <td>673.721701</td>\n",
       "      <td>61.341696</td>\n",
       "      <td>34.030444</td>\n",
       "      <td>24.24.24.32</td>\n",
       "      <td>002</td>\n",
       "      <td>01-01-02-04</td>\n",
       "      <td>E:LatticeRuns\\Clusters\\Vega\\LatticeRuns\\BKeepe...</td>\n",
       "    </tr>\n",
       "    <tr>\n",
       "      <th>8</th>\n",
       "      <td>SU(3), fundamental</td>\n",
       "      <td>0.212661</td>\n",
       "      <td>949.649340</td>\n",
       "      <td>92.012544</td>\n",
       "      <td>66.296729</td>\n",
       "      <td>24.24.24.32</td>\n",
       "      <td>002</td>\n",
       "      <td>01-01-02-04</td>\n",
       "      <td>E:LatticeRuns\\Clusters\\Vega\\LatticeRuns\\BKeepe...</td>\n",
       "    </tr>\n",
       "    <tr>\n",
       "      <th>9</th>\n",
       "      <td>SU(2), adjoint</td>\n",
       "      <td>0.228991</td>\n",
       "      <td>881.927143</td>\n",
       "      <td>92.012544</td>\n",
       "      <td>66.296729</td>\n",
       "      <td>24.24.24.32</td>\n",
       "      <td>002</td>\n",
       "      <td>01-02-01-04</td>\n",
       "      <td>E:LatticeRuns\\Clusters\\Vega\\LatticeRuns\\BKeepe...</td>\n",
       "    </tr>\n",
       "    <tr>\n",
       "      <th>10</th>\n",
       "      <td>SU(2), fundamental</td>\n",
       "      <td>0.191770</td>\n",
       "      <td>526.993919</td>\n",
       "      <td>61.341696</td>\n",
       "      <td>34.030444</td>\n",
       "      <td>24.24.24.32</td>\n",
       "      <td>002</td>\n",
       "      <td>01-02-01-04</td>\n",
       "      <td>E:LatticeRuns\\Clusters\\Vega\\LatticeRuns\\BKeepe...</td>\n",
       "    </tr>\n",
       "    <tr>\n",
       "      <th>11</th>\n",
       "      <td>SU(3), fundamental</td>\n",
       "      <td>0.253060</td>\n",
       "      <td>798.045437</td>\n",
       "      <td>92.012544</td>\n",
       "      <td>66.296729</td>\n",
       "      <td>24.24.24.32</td>\n",
       "      <td>002</td>\n",
       "      <td>01-02-01-04</td>\n",
       "      <td>E:LatticeRuns\\Clusters\\Vega\\LatticeRuns\\BKeepe...</td>\n",
       "    </tr>\n",
       "    <tr>\n",
       "      <th>12</th>\n",
       "      <td>SU(2), adjoint</td>\n",
       "      <td>0.271894</td>\n",
       "      <td>742.765115</td>\n",
       "      <td>184.025088</td>\n",
       "      <td>64.708059</td>\n",
       "      <td>24.24.24.32</td>\n",
       "      <td>001</td>\n",
       "      <td>01-04-01-01</td>\n",
       "      <td>E:LatticeRuns\\Clusters\\Vega\\LatticeRuns\\BKeepe...</td>\n",
       "    </tr>\n",
       "    <tr>\n",
       "      <th>13</th>\n",
       "      <td>SU(2), fundamental</td>\n",
       "      <td>0.234030</td>\n",
       "      <td>431.831918</td>\n",
       "      <td>122.683392</td>\n",
       "      <td>32.971325</td>\n",
       "      <td>24.24.24.32</td>\n",
       "      <td>001</td>\n",
       "      <td>01-04-01-01</td>\n",
       "      <td>E:LatticeRuns\\Clusters\\Vega\\LatticeRuns\\BKeepe...</td>\n",
       "    </tr>\n",
       "    <tr>\n",
       "      <th>14</th>\n",
       "      <td>SU(3), fundamental</td>\n",
       "      <td>0.308451</td>\n",
       "      <td>654.734069</td>\n",
       "      <td>184.025088</td>\n",
       "      <td>64.708059</td>\n",
       "      <td>24.24.24.32</td>\n",
       "      <td>001</td>\n",
       "      <td>01-04-01-01</td>\n",
       "      <td>E:LatticeRuns\\Clusters\\Vega\\LatticeRuns\\BKeepe...</td>\n",
       "    </tr>\n",
       "    <tr>\n",
       "      <th>15</th>\n",
       "      <td>SU(2), adjoint</td>\n",
       "      <td>0.288018</td>\n",
       "      <td>701.183184</td>\n",
       "      <td>184.025088</td>\n",
       "      <td>66.020360</td>\n",
       "      <td>24.24.24.32</td>\n",
       "      <td>002</td>\n",
       "      <td>02-04-01-01</td>\n",
       "      <td>E:LatticeRuns\\Clusters\\Vega\\LatticeRuns\\BKeepe...</td>\n",
       "    </tr>\n",
       "    <tr>\n",
       "      <th>16</th>\n",
       "      <td>SU(2), fundamental</td>\n",
       "      <td>0.219833</td>\n",
       "      <td>459.719987</td>\n",
       "      <td>122.683392</td>\n",
       "      <td>33.786036</td>\n",
       "      <td>24.24.24.32</td>\n",
       "      <td>002</td>\n",
       "      <td>02-04-01-01</td>\n",
       "      <td>E:LatticeRuns\\Clusters\\Vega\\LatticeRuns\\BKeepe...</td>\n",
       "    </tr>\n",
       "    <tr>\n",
       "      <th>17</th>\n",
       "      <td>SU(3), fundamental</td>\n",
       "      <td>0.195835</td>\n",
       "      <td>1031.242520</td>\n",
       "      <td>184.025088</td>\n",
       "      <td>66.020360</td>\n",
       "      <td>24.24.24.32</td>\n",
       "      <td>002</td>\n",
       "      <td>02-04-01-01</td>\n",
       "      <td>E:LatticeRuns\\Clusters\\Vega\\LatticeRuns\\BKeepe...</td>\n",
       "    </tr>\n",
       "    <tr>\n",
       "      <th>18</th>\n",
       "      <td>SU(2), adjoint</td>\n",
       "      <td>0.296403</td>\n",
       "      <td>681.347282</td>\n",
       "      <td>368.050176</td>\n",
       "      <td>65.934801</td>\n",
       "      <td>24.24.24.32</td>\n",
       "      <td>001</td>\n",
       "      <td>02-01-02-01</td>\n",
       "      <td>E:LatticeRuns\\Clusters\\Vega\\LatticeRuns\\BKeepe...</td>\n",
       "    </tr>\n",
       "    <tr>\n",
       "      <th>19</th>\n",
       "      <td>SU(2), fundamental</td>\n",
       "      <td>0.214087</td>\n",
       "      <td>472.058667</td>\n",
       "      <td>245.366784</td>\n",
       "      <td>33.728991</td>\n",
       "      <td>24.24.24.32</td>\n",
       "      <td>001</td>\n",
       "      <td>02-01-02-01</td>\n",
       "      <td>E:LatticeRuns\\Clusters\\Vega\\LatticeRuns\\BKeepe...</td>\n",
       "    </tr>\n",
       "    <tr>\n",
       "      <th>20</th>\n",
       "      <td>SU(3), fundamental</td>\n",
       "      <td>0.292980</td>\n",
       "      <td>689.307729</td>\n",
       "      <td>368.050176</td>\n",
       "      <td>65.934801</td>\n",
       "      <td>24.24.24.32</td>\n",
       "      <td>001</td>\n",
       "      <td>02-01-02-01</td>\n",
       "      <td>E:LatticeRuns\\Clusters\\Vega\\LatticeRuns\\BKeepe...</td>\n",
       "    </tr>\n",
       "    <tr>\n",
       "      <th>21</th>\n",
       "      <td>SU(2), adjoint</td>\n",
       "      <td>0.237373</td>\n",
       "      <td>850.784960</td>\n",
       "      <td>368.050176</td>\n",
       "      <td>66.448058</td>\n",
       "      <td>24.24.24.32</td>\n",
       "      <td>001</td>\n",
       "      <td>02-01-01-02</td>\n",
       "      <td>E:LatticeRuns\\Clusters\\Vega\\LatticeRuns\\BKeepe...</td>\n",
       "    </tr>\n",
       "    <tr>\n",
       "      <th>22</th>\n",
       "      <td>SU(2), fundamental</td>\n",
       "      <td>0.201135</td>\n",
       "      <td>502.456677</td>\n",
       "      <td>245.366784</td>\n",
       "      <td>34.071163</td>\n",
       "      <td>24.24.24.32</td>\n",
       "      <td>001</td>\n",
       "      <td>02-01-01-02</td>\n",
       "      <td>E:LatticeRuns\\Clusters\\Vega\\LatticeRuns\\BKeepe...</td>\n",
       "    </tr>\n",
       "    <tr>\n",
       "      <th>23</th>\n",
       "      <td>SU(3), fundamental</td>\n",
       "      <td>0.236201</td>\n",
       "      <td>855.006449</td>\n",
       "      <td>368.050176</td>\n",
       "      <td>66.448058</td>\n",
       "      <td>24.24.24.32</td>\n",
       "      <td>001</td>\n",
       "      <td>02-01-01-02</td>\n",
       "      <td>E:LatticeRuns\\Clusters\\Vega\\LatticeRuns\\BKeepe...</td>\n",
       "    </tr>\n",
       "    <tr>\n",
       "      <th>24</th>\n",
       "      <td>SU(2), adjoint</td>\n",
       "      <td>0.242557</td>\n",
       "      <td>832.601732</td>\n",
       "      <td>368.050176</td>\n",
       "      <td>68.547166</td>\n",
       "      <td>24.24.24.32</td>\n",
       "      <td>002</td>\n",
       "      <td>04-01-02-01</td>\n",
       "      <td>E:LatticeRuns\\Clusters\\Vega\\LatticeRuns\\BKeepe...</td>\n",
       "    </tr>\n",
       "    <tr>\n",
       "      <th>25</th>\n",
       "      <td>SU(2), fundamental</td>\n",
       "      <td>0.208917</td>\n",
       "      <td>483.740547</td>\n",
       "      <td>245.366784</td>\n",
       "      <td>35.350249</td>\n",
       "      <td>24.24.24.32</td>\n",
       "      <td>002</td>\n",
       "      <td>04-01-02-01</td>\n",
       "      <td>E:LatticeRuns\\Clusters\\Vega\\LatticeRuns\\BKeepe...</td>\n",
       "    </tr>\n",
       "    <tr>\n",
       "      <th>26</th>\n",
       "      <td>SU(3), fundamental</td>\n",
       "      <td>0.294577</td>\n",
       "      <td>685.570762</td>\n",
       "      <td>368.050176</td>\n",
       "      <td>68.547166</td>\n",
       "      <td>24.24.24.32</td>\n",
       "      <td>002</td>\n",
       "      <td>04-01-02-01</td>\n",
       "      <td>E:LatticeRuns\\Clusters\\Vega\\LatticeRuns\\BKeepe...</td>\n",
       "    </tr>\n",
       "    <tr>\n",
       "      <th>27</th>\n",
       "      <td>SU(2), adjoint</td>\n",
       "      <td>0.305757</td>\n",
       "      <td>660.502877</td>\n",
       "      <td>184.025088</td>\n",
       "      <td>64.671398</td>\n",
       "      <td>24.24.24.32</td>\n",
       "      <td>001</td>\n",
       "      <td>01-02-02-01</td>\n",
       "      <td>E:LatticeRuns\\Clusters\\Vega\\LatticeRuns\\BKeepe...</td>\n",
       "    </tr>\n",
       "    <tr>\n",
       "      <th>28</th>\n",
       "      <td>SU(2), fundamental</td>\n",
       "      <td>0.196020</td>\n",
       "      <td>515.567921</td>\n",
       "      <td>122.683392</td>\n",
       "      <td>32.946885</td>\n",
       "      <td>24.24.24.32</td>\n",
       "      <td>001</td>\n",
       "      <td>01-02-02-01</td>\n",
       "      <td>E:LatticeRuns\\Clusters\\Vega\\LatticeRuns\\BKeepe...</td>\n",
       "    </tr>\n",
       "    <tr>\n",
       "      <th>29</th>\n",
       "      <td>SU(3), fundamental</td>\n",
       "      <td>0.284708</td>\n",
       "      <td>709.335102</td>\n",
       "      <td>184.025088</td>\n",
       "      <td>64.671398</td>\n",
       "      <td>24.24.24.32</td>\n",
       "      <td>001</td>\n",
       "      <td>01-02-02-01</td>\n",
       "      <td>E:LatticeRuns\\Clusters\\Vega\\LatticeRuns\\BKeepe...</td>\n",
       "    </tr>\n",
       "    <tr>\n",
       "      <th>30</th>\n",
       "      <td>SU(2), adjoint</td>\n",
       "      <td>0.229865</td>\n",
       "      <td>878.573851</td>\n",
       "      <td>92.012544</td>\n",
       "      <td>64.756957</td>\n",
       "      <td>24.24.24.32</td>\n",
       "      <td>002</td>\n",
       "      <td>01-04-02-01</td>\n",
       "      <td>E:LatticeRuns\\Clusters\\Vega\\LatticeRuns\\BKeepe...</td>\n",
       "    </tr>\n",
       "    <tr>\n",
       "      <th>31</th>\n",
       "      <td>SU(2), fundamental</td>\n",
       "      <td>0.151241</td>\n",
       "      <td>668.215787</td>\n",
       "      <td>61.341696</td>\n",
       "      <td>33.003929</td>\n",
       "      <td>24.24.24.32</td>\n",
       "      <td>002</td>\n",
       "      <td>01-04-02-01</td>\n",
       "      <td>E:LatticeRuns\\Clusters\\Vega\\LatticeRuns\\BKeepe...</td>\n",
       "    </tr>\n",
       "    <tr>\n",
       "      <th>32</th>\n",
       "      <td>SU(3), fundamental</td>\n",
       "      <td>0.303384</td>\n",
       "      <td>665.669179</td>\n",
       "      <td>92.012544</td>\n",
       "      <td>64.756957</td>\n",
       "      <td>24.24.24.32</td>\n",
       "      <td>002</td>\n",
       "      <td>01-04-02-01</td>\n",
       "      <td>E:LatticeRuns\\Clusters\\Vega\\LatticeRuns\\BKeepe...</td>\n",
       "    </tr>\n",
       "    <tr>\n",
       "      <th>33</th>\n",
       "      <td>SU(2), adjoint</td>\n",
       "      <td>0.316312</td>\n",
       "      <td>638.462589</td>\n",
       "      <td>184.025088</td>\n",
       "      <td>65.184655</td>\n",
       "      <td>24.24.24.32</td>\n",
       "      <td>001</td>\n",
       "      <td>01-02-01-02</td>\n",
       "      <td>E:LatticeRuns\\Clusters\\Vega\\LatticeRuns\\BKeepe...</td>\n",
       "    </tr>\n",
       "    <tr>\n",
       "      <th>34</th>\n",
       "      <td>SU(2), fundamental</td>\n",
       "      <td>0.242967</td>\n",
       "      <td>415.947943</td>\n",
       "      <td>122.683392</td>\n",
       "      <td>33.289056</td>\n",
       "      <td>24.24.24.32</td>\n",
       "      <td>001</td>\n",
       "      <td>01-02-01-02</td>\n",
       "      <td>E:LatticeRuns\\Clusters\\Vega\\LatticeRuns\\BKeepe...</td>\n",
       "    </tr>\n",
       "    <tr>\n",
       "      <th>35</th>\n",
       "      <td>SU(3), fundamental</td>\n",
       "      <td>0.338323</td>\n",
       "      <td>596.924768</td>\n",
       "      <td>184.025088</td>\n",
       "      <td>65.184655</td>\n",
       "      <td>24.24.24.32</td>\n",
       "      <td>001</td>\n",
       "      <td>01-02-01-02</td>\n",
       "      <td>E:LatticeRuns\\Clusters\\Vega\\LatticeRuns\\BKeepe...</td>\n",
       "    </tr>\n",
       "    <tr>\n",
       "      <th>36</th>\n",
       "      <td>SU(2), adjoint</td>\n",
       "      <td>0.372212</td>\n",
       "      <td>542.576215</td>\n",
       "      <td>184.025088</td>\n",
       "      <td>65.980879</td>\n",
       "      <td>24.24.24.32</td>\n",
       "      <td>002</td>\n",
       "      <td>02-02-02-01</td>\n",
       "      <td>E:LatticeRuns\\Clusters\\Vega\\LatticeRuns\\BKeepe...</td>\n",
       "    </tr>\n",
       "    <tr>\n",
       "      <th>37</th>\n",
       "      <td>SU(2), fundamental</td>\n",
       "      <td>0.218787</td>\n",
       "      <td>461.917864</td>\n",
       "      <td>122.683392</td>\n",
       "      <td>33.759715</td>\n",
       "      <td>24.24.24.32</td>\n",
       "      <td>002</td>\n",
       "      <td>02-02-02-01</td>\n",
       "      <td>E:LatticeRuns\\Clusters\\Vega\\LatticeRuns\\BKeepe...</td>\n",
       "    </tr>\n",
       "    <tr>\n",
       "      <th>38</th>\n",
       "      <td>SU(3), fundamental</td>\n",
       "      <td>0.273090</td>\n",
       "      <td>739.512169</td>\n",
       "      <td>184.025088</td>\n",
       "      <td>65.980879</td>\n",
       "      <td>24.24.24.32</td>\n",
       "      <td>002</td>\n",
       "      <td>02-02-02-01</td>\n",
       "      <td>E:LatticeRuns\\Clusters\\Vega\\LatticeRuns\\BKeepe...</td>\n",
       "    </tr>\n",
       "    <tr>\n",
       "      <th>39</th>\n",
       "      <td>SU(2), adjoint</td>\n",
       "      <td>0.287786</td>\n",
       "      <td>701.748446</td>\n",
       "      <td>184.025088</td>\n",
       "      <td>66.137848</td>\n",
       "      <td>24.24.24.32</td>\n",
       "      <td>001</td>\n",
       "      <td>01-01-01-04</td>\n",
       "      <td>E:LatticeRuns\\Clusters\\Vega\\LatticeRuns\\BKeepe...</td>\n",
       "    </tr>\n",
       "    <tr>\n",
       "      <th>40</th>\n",
       "      <td>SU(2), fundamental</td>\n",
       "      <td>0.188934</td>\n",
       "      <td>534.904378</td>\n",
       "      <td>122.683392</td>\n",
       "      <td>33.924518</td>\n",
       "      <td>24.24.24.32</td>\n",
       "      <td>001</td>\n",
       "      <td>01-01-01-04</td>\n",
       "      <td>E:LatticeRuns\\Clusters\\Vega\\LatticeRuns\\BKeepe...</td>\n",
       "    </tr>\n",
       "    <tr>\n",
       "      <th>41</th>\n",
       "      <td>SU(3), fundamental</td>\n",
       "      <td>0.242571</td>\n",
       "      <td>832.553678</td>\n",
       "      <td>184.025088</td>\n",
       "      <td>66.137848</td>\n",
       "      <td>24.24.24.32</td>\n",
       "      <td>001</td>\n",
       "      <td>01-01-01-04</td>\n",
       "      <td>E:LatticeRuns\\Clusters\\Vega\\LatticeRuns\\BKeepe...</td>\n",
       "    </tr>\n",
       "    <tr>\n",
       "      <th>42</th>\n",
       "      <td>SU(2), adjoint</td>\n",
       "      <td>0.258334</td>\n",
       "      <td>781.752995</td>\n",
       "      <td>184.025088</td>\n",
       "      <td>67.560132</td>\n",
       "      <td>24.24.24.32</td>\n",
       "      <td>002</td>\n",
       "      <td>02-01-01-04</td>\n",
       "      <td>E:LatticeRuns\\Clusters\\Vega\\LatticeRuns\\BKeepe...</td>\n",
       "    </tr>\n",
       "    <tr>\n",
       "      <th>43</th>\n",
       "      <td>SU(2), fundamental</td>\n",
       "      <td>0.168446</td>\n",
       "      <td>599.964522</td>\n",
       "      <td>122.683392</td>\n",
       "      <td>34.812551</td>\n",
       "      <td>24.24.24.32</td>\n",
       "      <td>002</td>\n",
       "      <td>02-01-01-04</td>\n",
       "      <td>E:LatticeRuns\\Clusters\\Vega\\LatticeRuns\\BKeepe...</td>\n",
       "    </tr>\n",
       "    <tr>\n",
       "      <th>44</th>\n",
       "      <td>SU(3), fundamental</td>\n",
       "      <td>0.228148</td>\n",
       "      <td>885.185837</td>\n",
       "      <td>184.025088</td>\n",
       "      <td>67.560132</td>\n",
       "      <td>24.24.24.32</td>\n",
       "      <td>002</td>\n",
       "      <td>02-01-01-04</td>\n",
       "      <td>E:LatticeRuns\\Clusters\\Vega\\LatticeRuns\\BKeepe...</td>\n",
       "    </tr>\n",
       "    <tr>\n",
       "      <th>45</th>\n",
       "      <td>SU(2), adjoint</td>\n",
       "      <td>0.433025</td>\n",
       "      <td>466.378104</td>\n",
       "      <td>368.050176</td>\n",
       "      <td>65.934801</td>\n",
       "      <td>24.24.24.32</td>\n",
       "      <td>001</td>\n",
       "      <td>02-02-01-01</td>\n",
       "      <td>E:LatticeRuns\\Clusters\\Vega\\LatticeRuns\\BKeepe...</td>\n",
       "    </tr>\n",
       "    <tr>\n",
       "      <th>46</th>\n",
       "      <td>SU(2), fundamental</td>\n",
       "      <td>0.250994</td>\n",
       "      <td>402.645576</td>\n",
       "      <td>245.366784</td>\n",
       "      <td>33.728991</td>\n",
       "      <td>24.24.24.32</td>\n",
       "      <td>001</td>\n",
       "      <td>02-02-01-01</td>\n",
       "      <td>E:LatticeRuns\\Clusters\\Vega\\LatticeRuns\\BKeepe...</td>\n",
       "    </tr>\n",
       "    <tr>\n",
       "      <th>47</th>\n",
       "      <td>SU(3), fundamental</td>\n",
       "      <td>0.312215</td>\n",
       "      <td>646.840729</td>\n",
       "      <td>368.050176</td>\n",
       "      <td>65.934801</td>\n",
       "      <td>24.24.24.32</td>\n",
       "      <td>001</td>\n",
       "      <td>02-02-01-01</td>\n",
       "      <td>E:LatticeRuns\\Clusters\\Vega\\LatticeRuns\\BKeepe...</td>\n",
       "    </tr>\n",
       "    <tr>\n",
       "      <th>48</th>\n",
       "      <td>SU(2), adjoint</td>\n",
       "      <td>0.284494</td>\n",
       "      <td>709.868673</td>\n",
       "      <td>184.025088</td>\n",
       "      <td>65.184655</td>\n",
       "      <td>24.24.24.32</td>\n",
       "      <td>001</td>\n",
       "      <td>01-01-02-02</td>\n",
       "      <td>E:LatticeRuns\\Clusters\\Vega\\LatticeRuns\\BKeepe...</td>\n",
       "    </tr>\n",
       "    <tr>\n",
       "      <th>49</th>\n",
       "      <td>SU(2), fundamental</td>\n",
       "      <td>0.198638</td>\n",
       "      <td>508.772862</td>\n",
       "      <td>122.683392</td>\n",
       "      <td>33.289056</td>\n",
       "      <td>24.24.24.32</td>\n",
       "      <td>001</td>\n",
       "      <td>01-01-02-02</td>\n",
       "      <td>E:LatticeRuns\\Clusters\\Vega\\LatticeRuns\\BKeepe...</td>\n",
       "    </tr>\n",
       "    <tr>\n",
       "      <th>50</th>\n",
       "      <td>SU(3), fundamental</td>\n",
       "      <td>0.242955</td>\n",
       "      <td>831.237794</td>\n",
       "      <td>184.025088</td>\n",
       "      <td>65.184655</td>\n",
       "      <td>24.24.24.32</td>\n",
       "      <td>001</td>\n",
       "      <td>01-01-02-02</td>\n",
       "      <td>E:LatticeRuns\\Clusters\\Vega\\LatticeRuns\\BKeepe...</td>\n",
       "    </tr>\n",
       "  </tbody>\n",
       "</table>\n",
       "</div>"
      ]
     },
     "execution_count": 449,
     "metadata": {},
     "output_type": "execute_result"
    }
   ],
   "execution_count": 449
  },
  {
   "metadata": {},
   "cell_type": "markdown",
   "source": [
    "## Leonardo\n",
    "### [BKeeper_run_gpu : small]\n",
    "---"
   ],
   "id": "8212dee029c9b191"
  },
  {
   "metadata": {
    "ExecuteTime": {
     "end_time": "2025-02-26T14:12:32.843810Z",
     "start_time": "2025-02-26T14:12:32.838402Z"
    }
   },
   "cell_type": "code",
   "source": [
    "machine_name = \"Leonardo\"\n",
    "DATA_PATH         = os.path.join('E:','LatticeRuns','Clusters',machine_name,'LatticeRuns')"
   ],
   "id": "4440196c8cd3288b",
   "outputs": [],
   "execution_count": 450
  },
  {
   "metadata": {
    "ExecuteTime": {
     "end_time": "2025-02-26T14:12:34.303841Z",
     "start_time": "2025-02-26T14:12:34.294048Z"
    }
   },
   "cell_type": "code",
   "source": [
    "# Reinitialising the paths and object content.\n",
    "batch_action = \"BKeeper_run_gpu\"\n",
    "simulation_size=\"small\"\n",
    "rc = Reinitialising_Paths_and_object_content(c, m, DATA_PATH, batch_action, simulation_size)"
   ],
   "id": "f81103bf0133cf27",
   "outputs": [
    {
     "name": "stdout",
     "output_type": "stream",
     "text": [
      "\u001B[0;96m == [\u001B[0;94mGetting target file list      :\u001B[0;92m Reinitialising_Paths_and_object_content\u001B[0;96m] ==\u001B[0m\n",
      "\u001B[0;96m == [\u001B[0;94mDefault target file           :\u001B[0;95m target.txt\u001B[0;96m] ==\u001B[0m\n",
      "\u001B[0;96m == [\u001B[0;94mTarget file for analysis      :\u001B[0;95m target_BKeeper_run_gpu_small_batch_files.txt\u001B[0;96m] ==\u001B[0m\n",
      "\u001B[0;96m == [\u001B[0;94mFull Path target file         :\u001B[0;96m E:LatticeRuns\\Clusters\\Leonardo\\LatticeRuns\\target_BKeeper_run_gpu_small_batch_files.txt\u001B[0;96m] ==\u001B[0m\n"
     ]
    }
   ],
   "execution_count": 451
  },
  {
   "metadata": {
    "ExecuteTime": {
     "end_time": "2025-02-26T14:12:35.599107Z",
     "start_time": "2025-02-26T14:12:35.593193Z"
    }
   },
   "cell_type": "code",
   "source": [
    "# --------------------------------------------------------------------------\n",
    "# Getting content in the target file\n",
    "rc, target_file_lst_leonardo, target_file_dir_leonardo = getTarget_file_lst(c, m, c.getTargetdir())"
   ],
   "id": "557762140af3fc96",
   "outputs": [
    {
     "name": "stdout",
     "output_type": "stream",
     "text": [
      "\u001B[0;96m == [\u001B[0;94mGetting target file list      :\u001B[0;92m getTarget_file_lst\u001B[0;96m] ==\u001B[0m\n",
      "\u001B[0;96m    \u001B[0;94m Filename          : \u001B[0;96mE:LatticeRuns\\Clusters\\Leonardo\\LatticeRuns\\target_BKeeper_run_gpu_small_batch_files.txt\u001B[0m\n",
      "\u001B[0;96m    \u001B[0;94m                   : \u001B[0;91mcannot be found check if file exist\u001B[0m\n"
     ]
    }
   ],
   "execution_count": 452
  },
  {
   "metadata": {
    "ExecuteTime": {
     "end_time": "2025-02-26T14:12:36.445421Z",
     "start_time": "2025-02-26T14:12:36.436421Z"
    }
   },
   "cell_type": "code",
   "source": [
    "# --------------------------------------------------------------------------\n",
    "# Getting content in the target file\n",
    "rc, target_file_cluster_lst_leonardo = getTarget_file_cluster_lst(c, m, target_file_lst_leonardo[:])"
   ],
   "id": "bbfed3dcdee3a38a",
   "outputs": [
    {
     "name": "stdout",
     "output_type": "stream",
     "text": [
      "\u001B[0;96m == [\u001B[0;94mGetting target file list      :\u001B[0;92m getTarget_file_cluster_lst\u001B[0;96m] ==\u001B[0m\n"
     ]
    }
   ],
   "execution_count": 453
  },
  {
   "metadata": {
    "ExecuteTime": {
     "end_time": "2025-02-26T14:12:36.894751Z",
     "start_time": "2025-02-26T14:12:36.885343Z"
    }
   },
   "cell_type": "code",
   "source": [
    "# --------------------------------------------------------------------------\n",
    "# [Data-Extraction]\n",
    "# --------------------------------------------------------------------------\n",
    "m.printMesgStr(   \"Data extraction cluster out                    : \", c.getGreen(), machine_name)\n",
    "m.printMesgAddStr(\"Simulation size                                : \", c.getRed(), simulation_size)\n",
    "m.printMesgAddStr(\"target_file_cluster_lst_leonardo[:]        --->: \", c.getYellow(), target_file_cluster_lst_leonardo[:])\n",
    "m.printMesgAddStr(\"Length target_file_cluster_lst_leonardo[:] --->: \", c.getYellow(), len(target_file_cluster_lst_leonardo[:]))\n"
   ],
   "id": "fbf7288450f24c48",
   "outputs": [
    {
     "name": "stdout",
     "output_type": "stream",
     "text": [
      "\u001B[0;96m == [\u001B[0;94mData extraction cluster out                    : \u001B[0;92m Leonardo\u001B[0;96m] ==\u001B[0m\n",
      "\u001B[0;96m    \u001B[0;94mSimulation size                                : \u001B[0;91msmall\u001B[0m\n",
      "\u001B[0;96m    \u001B[0;94mtarget_file_cluster_lst_leonardo[:]        --->: \u001B[0;93m[]\u001B[0m\n",
      "\u001B[0;96m    \u001B[0;94mLength target_file_cluster_lst_leonardo[:] --->: \u001B[0;93m0\u001B[0m\n"
     ]
    }
   ],
   "execution_count": 454
  },
  {
   "metadata": {
    "ExecuteTime": {
     "end_time": "2025-02-26T14:12:37.421249Z",
     "start_time": "2025-02-26T14:12:37.409136Z"
    }
   },
   "cell_type": "code",
   "source": [
    "# --------------------------------------------------------------------------\n",
    "# Reading in the inout file\n",
    "rc, target_file_cluster_filtered_lst_leonardo = filter_target_file_cluster_lst(c, m,\n",
    "                                                                                start_key_rep_lst[:],\n",
    "                                                                                target_file_cluster_lst_leonardo[:])\n",
    "\n",
    "m.printMesgAddStr(\"len(target_file_cluster_filtered_lst_leonardo[:]) --->: \", c.getYellow(), len(target_file_cluster_filtered_lst_leonardo[:]))\n"
   ],
   "id": "923f74ac943d2c2",
   "outputs": [
    {
     "name": "stdout",
     "output_type": "stream",
     "text": [
      "\u001B[0;96m == [\u001B[0;94mGetting target file list      :\u001B[0;92m filter_target_file_cluster_lst\u001B[0;96m] ==\u001B[0m\n"
     ]
    },
    {
     "name": "stderr",
     "output_type": "stream",
     "text": [
      "filter target file: 0it [00:00, ?it/s]"
     ]
    },
    {
     "name": "stdout",
     "output_type": "stream",
     "text": [
      "\u001B[0;96m    \u001B[0;94mlen(target_file_cluster_filtered_lst_leonardo[:]) --->: \u001B[0;93m0\u001B[0m\n"
     ]
    },
    {
     "name": "stderr",
     "output_type": "stream",
     "text": [
      "\n"
     ]
    }
   ],
   "execution_count": 455
  },
  {
   "metadata": {
    "ExecuteTime": {
     "end_time": "2025-02-26T14:12:38.401952Z",
     "start_time": "2025-02-26T14:12:38.389369Z"
    }
   },
   "cell_type": "code",
   "source": [
    "# --------------------------------------------------------------------------\n",
    "# Reading in the inout file\n",
    "rc, dataFrame_BKeeper_small_leonardo = read_BKeeper_file_out(c, m, batch_action, simulation_size, target_file_cluster_filtered_lst_leonardo[:])"
   ],
   "id": "3e8598f60d767ed2",
   "outputs": [
    {
     "name": "stdout",
     "output_type": "stream",
     "text": [
      "\u001B[0;96m == [\u001B[0;94mGetting target file list      :\u001B[0;92m read_BKeeper_file_out\u001B[0;96m] ==\u001B[0m\n"
     ]
    },
    {
     "name": "stderr",
     "output_type": "stream",
     "text": [
      "bench_BKeeper_dict: 0it [00:00, ?it/s]\n"
     ]
    }
   ],
   "execution_count": 456
  },
  {
   "metadata": {
    "ExecuteTime": {
     "end_time": "2025-02-26T14:12:39.327763Z",
     "start_time": "2025-02-26T14:12:39.313789Z"
    }
   },
   "cell_type": "code",
   "source": [
    "# --------------------------------------------------------------------------\n",
    "# Reading in the inout file\n",
    "m.printMesgStr(\"DataFrame BKeeper small Leonardo-Booster          : \", c.getGreen(), machine_name)\n",
    "dataFrame_BKeeper_small_leonardo"
   ],
   "id": "c4bb8c97e664960e",
   "outputs": [
    {
     "name": "stdout",
     "output_type": "stream",
     "text": [
      "\u001B[0;96m == [\u001B[0;94mDataFrame BKeeper small Leonardo-Booster          : \u001B[0;92m Leonardo\u001B[0;96m] ==\u001B[0m\n"
     ]
    },
    {
     "data": {
      "text/plain": [
       "Empty DataFrame\n",
       "Columns: [Representation, CG Run Time (s), FlOp/S (GFlOp/s), Comms  (MB), Memory (GB), lattice, nodes, mpi_distribution, Run output file]\n",
       "Index: []"
      ],
      "text/html": [
       "<div>\n",
       "<style scoped>\n",
       "    .dataframe tbody tr th:only-of-type {\n",
       "        vertical-align: middle;\n",
       "    }\n",
       "\n",
       "    .dataframe tbody tr th {\n",
       "        vertical-align: top;\n",
       "    }\n",
       "\n",
       "    .dataframe thead th {\n",
       "        text-align: right;\n",
       "    }\n",
       "</style>\n",
       "<table border=\"1\" class=\"dataframe\">\n",
       "  <thead>\n",
       "    <tr style=\"text-align: right;\">\n",
       "      <th></th>\n",
       "      <th>Representation</th>\n",
       "      <th>CG Run Time (s)</th>\n",
       "      <th>FlOp/S (GFlOp/s)</th>\n",
       "      <th>Comms  (MB)</th>\n",
       "      <th>Memory (GB)</th>\n",
       "      <th>lattice</th>\n",
       "      <th>nodes</th>\n",
       "      <th>mpi_distribution</th>\n",
       "      <th>Run output file</th>\n",
       "    </tr>\n",
       "  </thead>\n",
       "  <tbody>\n",
       "  </tbody>\n",
       "</table>\n",
       "</div>"
      ]
     },
     "execution_count": 457,
     "metadata": {},
     "output_type": "execute_result"
    }
   ],
   "execution_count": 457
  }
 ],
 "metadata": {
  "kernelspec": {
   "display_name": "Python 3",
   "language": "python",
   "name": "python3"
  },
  "language_info": {
   "codemirror_mode": {
    "name": "ipython",
    "version": 2
   },
   "file_extension": ".py",
   "mimetype": "text/x-python",
   "name": "python",
   "nbconvert_exporter": "python",
   "pygments_lexer": "ipython2",
   "version": "2.7.6"
  }
 },
 "nbformat": 4,
 "nbformat_minor": 5
}
