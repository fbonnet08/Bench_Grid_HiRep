{
 "cells": [
  {
   "metadata": {
    "ExecuteTime": {
     "end_time": "2025-02-16T19:47:29.379844Z",
     "start_time": "2025-02-16T19:47:29.364869Z"
    }
   },
   "cell_type": "code",
   "source": [
    "# ----------------------------------------------------------------------------\n",
    "# [Python-3.12] basic import for system check\n",
    "# ----------------------------------------------------------------------------\n",
    "import os\n",
    "import sys\n",
    "import time\n",
    "import requests\n",
    "import multiprocessing\n",
    "import multiprocess\n",
    "from collections import defaultdict\n",
    "from functools import cache\n",
    "from pathlib import Path\n",
    "from glob import glob\n",
    "# ----------------------------------------------------------------------------\n",
    "# [Data-Plotting]\n",
    "# ----------------------------------------------------------------------------\n",
    "try:\n",
    "    import matplotlib\n",
    "    MATPLOTLIB_AVAILABLE = True\n",
    "except (ImportError, NameError, AttributeError, OSError):\n",
    "    print(\" Python package matplotlib is not installed on your system, verify or install\\n\")\n",
    "    MATPLOTLIB_AVAILABLE = False\n",
    "try:\n",
    "    import tqdm\n",
    "    TQDM_AVAILABLE = True\n",
    "except (ImportError, NameError, AttributeError, OSError):\n",
    "    print(\" Python package tqdm is not installed on your system, verify or install\\n\")\n",
    "    TQDM_AVAILABLE = False\n",
    "try:\n",
    "    import pandas\n",
    "    PANDAS_AVAILABLE = True\n",
    "except (ImportError, NameError, AttributeError, OSError):\n",
    "    print(\" Python package pandas is not installed on your system, verify or install\\n\")\n",
    "    PANDAS_AVAILABLE = False\n",
    "try:\n",
    "    import seaborn\n",
    "    SEABORN_AVAILABLE = True\n",
    "except (ImportError, NameError, AttributeError, OSError):\n",
    "    print(\" Python package seaborn is not installed on your system, verify or install\\n\")\n",
    "    SEABORN_AVAILABLE = False\n",
    "# ----------------------------------------------------------------------------\n",
    "# [Import-checks]\n",
    "# ----------------------------------------------------------------------------\n",
    "print(\"\\n\")\n",
    "print(\"MATPLOTLIB_AVAILABLE --- installed --->: \", MATPLOTLIB_AVAILABLE)\n",
    "print(\"TQDM_AVAILABLE       --- installed --->: \", TQDM_AVAILABLE)\n",
    "print(\"PANDAS_AVAILABLE     --- installed --->: \", PANDAS_AVAILABLE)\n",
    "print(\"SEABORN_AVAILABLE    --- installed --->: \", SEABORN_AVAILABLE)\n",
    "print(\"\\n\")\n",
    "# ----------------------------------------------------------------------------\n",
    "# [Path]\n",
    "# ----------------------------------------------------------------------------\n",
    "current_path = str(Path(sys.path[0]) / \"..\")\n",
    "if current_path not in sys.path: sys.path.append(current_path)\n",
    "\n",
    "APP_ROOT          = os.path.join(os.getcwd(), '..','..','..','..')\n",
    "PROJECTNAME       = \"\"\n",
    "POOL_COMPONENTDIR = \"\"\n",
    "SOFTWARE          = \"N/A\"\n",
    "SQL_DIR           = 'SQLFiles_sql'\n",
    "APP_DATA_PATH     = \"N/A\"\n",
    "\n",
    "#DATA_PATH         = os.path.join(APP_ROOT, '.','src','PythonCodes','data','Lumi')\n",
    "DATA_PATH         = os.path.join(APP_ROOT, '..','LatticeRuns','Clusters','Lumi','LatticeRuns')\n",
    "DATAPROCINTERCOM  = \"\"\n",
    "TBLECNTS_DIR      = \"\"\n",
    "SQL_FULLPATH_DIR  = os.path.join(os.getcwd())\n",
    "# ----------------------------------------------------------------------------\n",
    "# [SystemPath-Appens]\n",
    "# ----------------------------------------------------------------------------\n",
    "sys.path.append(APP_ROOT)\n",
    "sys.path.append(APP_DATA_PATH)\n",
    "sys.path.append(DATA_PATH)\n",
    "sys.path.append(os.path.join(APP_ROOT, '.'))\n",
    "sys.path.append(os.path.join(APP_ROOT, '.','src','PythonCodes'))\n",
    "sys.path.append(os.path.join(APP_ROOT, '.','src','PythonCodes','utils'))\n",
    "\n",
    "print(\"Current Path  --->: \", current_path)\n",
    "print(\"APP_ROOT      --->: \", APP_ROOT)\n",
    "print(\"DATA_PATH     --->: \", DATA_PATH)\n",
    "print(\"APP_DATA_PATH --->: \", APP_DATA_PATH)\n",
    "# ----------------------------------------------------------------------------\n",
    "# [Application]\n",
    "# ----------------------------------------------------------------------------\n",
    "#Application imports\n",
    "import src.PythonCodes.DataManage_common\n",
    "import src.PythonCodes.utils.messageHandler\n",
    "import src.PythonCodes.utils.Command_line\n",
    "import src.PythonCodes.DataManage_header"
   ],
   "id": "c8bffc4b1eb4e35a",
   "outputs": [
    {
     "name": "stdout",
     "output_type": "stream",
     "text": [
      "\n",
      "\n",
      "MATPLOTLIB_AVAILABLE --- installed --->:  True\n",
      "TQDM_AVAILABLE       --- installed --->:  True\n",
      "PANDAS_AVAILABLE     --- installed --->:  True\n",
      "SEABORN_AVAILABLE    --- installed --->:  True\n",
      "\n",
      "\n",
      "Current Path  --->:  C:\\cygwin64\\home\\Frederic\\SwanSea\\SourceCodes\\Bench_Grid_HiRep\\src\\PythonCodes\\Jupyter-NoteBooks\\LLR-Bench_Grid_HiRep_Notebooks\\..\n",
      "APP_ROOT      --->:  C:\\cygwin64\\home\\Frederic\\SwanSea\\SourceCodes\\Bench_Grid_HiRep\\src\\PythonCodes\\Jupyter-NoteBooks\\LLR-Bench_Grid_HiRep_Notebooks\\..\\..\\..\\..\n",
      "DATA_PATH     --->:  C:\\cygwin64\\home\\Frederic\\SwanSea\\SourceCodes\\Bench_Grid_HiRep\\src\\PythonCodes\\Jupyter-NoteBooks\\LLR-Bench_Grid_HiRep_Notebooks\\..\\..\\..\\..\\..\\LatticeRuns\\Clusters\\Lumi\\LatticeRuns\n",
      "APP_DATA_PATH --->:  N/A\n"
     ]
    }
   ],
   "execution_count": 675
  },
  {
   "metadata": {
    "ExecuteTime": {
     "end_time": "2025-02-16T19:47:29.490175Z",
     "start_time": "2025-02-16T19:47:29.480853Z"
    }
   },
   "cell_type": "code",
   "source": [
    "version = src.PythonCodes.DataManage_common.DataManage_version()\n",
    "c = src.PythonCodes.DataManage_common.DataManage_common()\n",
    "rc = c.get_RC_SUCCESS()\n",
    "# Getting the log file\n",
    "logfile = c.getLogfileName()  #getting the name of the global log file\n",
    "m = src.PythonCodes.utils.messageHandler.messageHandler(logfile = logfile)\n",
    "# printing the header of Application\n",
    "src.PythonCodes.DataManage_header.print_Bench_Grid_header(common=c, messageHandler=m)"
   ],
   "id": "f262adb47028c616",
   "outputs": [
    {
     "name": "stdout",
     "output_type": "stream",
     "text": [
      "\n",
      "\u001B[0;96m == [\u001B[1;93m ************************************************************************************\u001B[0;96m] ==\u001B[0m\n",
      "\u001B[0;96m == [\u001B[1;93m *                    python code to run the Benchmarking suite.                    *\u001B[0;96m] ==\u001B[0m\n",
      "\u001B[0;96m == [\u001B[1;93m *                                                                                  *\u001B[0;96m] ==\u001B[0m\n",
      "\u001B[0;96m == [\u001B[1;93m * XXXXXX                          XX                XXXX             X        XX   *\u001B[0;96m] ==\u001B[0m\n",
      "\u001B[0;96m == [\u001B[1;93m * X    X                          X               X    X                      X    *\u001B[0;96m] ==\u001B[0m\n",
      "\u001B[0;96m == [\u001B[1;93m * X    X                          X              X                            X    *\u001B[0;96m] ==\u001B[0m\n",
      "\u001B[0;96m == [\u001B[1;93m * X    X  XXXXX  XX XX    XXXXX   X XX           X       XXX XX   XXX     XXXXX    *\u001B[0;96m] ==\u001B[0m\n",
      "\u001B[0;96m == [\u001B[1;93m * XXXXX  X     X  XX  X  X     X  XX  X          X         XX  X    X    X    X    *\u001B[0;96m] ==\u001B[0m\n",
      "\u001B[0;96m == [\u001B[1;93m * X    X XXXXXXX  X   X  X        X   X  XXXXXXX X   XXX   X        X    X    X    *\u001B[0;96m] ==\u001B[0m\n",
      "\u001B[0;96m == [\u001B[1;93m * X    X X        X   X  X        X   X          X     X   X        X    X    X    *\u001B[0;96m] ==\u001B[0m\n",
      "\u001B[0;96m == [\u001B[1;93m * X    X X     X  X   X  X     X  X   X           X    X   X        X    X    X    *\u001B[0;96m] ==\u001B[0m\n",
      "\u001B[0;96m == [\u001B[1;93m * XXXXXX   XXXXX  XXX XXX  XXXXX  XXX XXX           XXXX  XXXXX    XXXXX   XXXXXX  *\u001B[0;96m] ==\u001B[0m\n",
      "\u001B[0;96m == [\u001B[1;93m *                                                                                  *\u001B[0;96m] ==\u001B[0m\n",
      "\u001B[0;96m == [\u001B[1;93m ************************************************************************************\u001B[0;96m] ==\u001B[0m\n"
     ]
    }
   ],
   "execution_count": 676
  },
  {
   "metadata": {
    "ExecuteTime": {
     "end_time": "2025-02-16T19:47:29.677814Z",
     "start_time": "2025-02-16T19:47:29.669570Z"
    }
   },
   "cell_type": "code",
   "source": [
    "c.setApp_root(APP_ROOT)\n",
    "c.setData_path(DATA_PATH)\n",
    "c.setProjectName(PROJECTNAME)\n",
    "c.setPool_componentdir(POOL_COMPONENTDIR)\n",
    "c.setSoftware(SOFTWARE)\n",
    "c.setDataProcInterCom(DATAPROCINTERCOM)\n",
    "c.setJSon_TableCounts_Dir(TBLECNTS_DIR)\n",
    "c.setSql_dir(SQL_DIR)\n",
    "c.setSql_fullPath_dir(SQL_FULLPATH_DIR)"
   ],
   "id": "3e18dcaf2791ba29",
   "outputs": [],
   "execution_count": 677
  },
  {
   "metadata": {
    "ExecuteTime": {
     "end_time": "2025-02-16T19:47:29.727210Z",
     "start_time": "2025-02-16T19:47:29.719133Z"
    }
   },
   "cell_type": "code",
   "source": [
    "# --------------------------------------------------------------------------\n",
    "# [Main-code]\n",
    "# --------------------------------------------------------------------------\n",
    "m.printMesgStr(\"This is the main program      :\", c.getCyan(), \"Bench_Grid_HiRep.py\")"
   ],
   "id": "f8f2cc71ad5de6e3",
   "outputs": [
    {
     "name": "stdout",
     "output_type": "stream",
     "text": [
      "\u001B[0;96m == [\u001B[0;94mThis is the main program      :\u001B[0;96m Bench_Grid_HiRep.py\u001B[0;96m] ==\u001B[0m\n"
     ]
    }
   ],
   "execution_count": 678
  },
  {
   "metadata": {
    "ExecuteTime": {
     "end_time": "2025-02-16T19:47:29.827124Z",
     "start_time": "2025-02-16T19:47:29.815573Z"
    }
   },
   "cell_type": "code",
   "source": [
    "target_file_default = c.getTarget_File()\n",
    "m.printMesgStr(\"Default target file           :\", c.getMagenta(), target_file_default)\n",
    "\n",
    "machine_name = \"Lumi\"\n",
    "batch_action = \"BKeeper_run_gpu\"\n",
    "simulation_size=\"small\"\n",
    "\n",
    "msg_analysis = c.getTarget_File().split(\".txt\")[0] + c.undr_scr + \\\n",
    "                batch_action    + c.undr_scr                    + \\\n",
    "                simulation_size + c.undr_scr                    + \\\n",
    "                \"batch_files\"   + c.txt_ext\n",
    "c.setTarget_File(str(msg_analysis))\n",
    "m.printMesgStr(\"Target file for analysis      :\", c.getMagenta(), c.getTarget_File())\n",
    "\n",
    "c.setTargetdir( os.path.join(c.getData_path(), c.getTarget_File()))\n",
    "m.printMesgStr(\"Full Path target file         :\", c.getCyan(), c.getTargetdir())\n",
    "\n",
    "if Path(c.getTargetdir()).is_file():\n",
    "    m.printMesgAddStr(\"[Check]: target file       --->: \", c.getGreen(), \"Exists\")"
   ],
   "id": "582e1358de2e1988",
   "outputs": [
    {
     "name": "stdout",
     "output_type": "stream",
     "text": [
      "\u001B[0;96m == [\u001B[0;94mDefault target file           :\u001B[0;95m target.txt\u001B[0;96m] ==\u001B[0m\n",
      "\u001B[0;96m == [\u001B[0;94mTarget file for analysis      :\u001B[0;95m target_BKeeper_run_gpu_small_batch_files.txt\u001B[0;96m] ==\u001B[0m\n",
      "\u001B[0;96m == [\u001B[0;94mFull Path target file         :\u001B[0;96m C:\\cygwin64\\home\\Frederic\\SwanSea\\SourceCodes\\Bench_Grid_HiRep\\src\\PythonCodes\\Jupyter-NoteBooks\\LLR-Bench_Grid_HiRep_Notebooks\\..\\..\\..\\..\\..\\LatticeRuns\\Clusters\\Lumi\\LatticeRuns\\target_BKeeper_run_gpu_small_batch_files.txt\u001B[0;96m] ==\u001B[0m\n",
      "\u001B[0;96m    \u001B[0;94m[Check]: target file       --->: \u001B[0;92mExists\u001B[0m\n"
     ]
    }
   ],
   "execution_count": 679
  },
  {
   "metadata": {
    "ExecuteTime": {
     "end_time": "2025-02-16T19:47:30.035587Z",
     "start_time": "2025-02-16T19:47:29.916144Z"
    }
   },
   "cell_type": "code",
   "source": [
    "# --------------------------------------------------------------------------\n",
    "# [Data-Screening]\n",
    "# --------------------------------------------------------------------------\n",
    "def getTarget_file_lst(c, m, target_file):\n",
    "    __func__= sys._getframe().f_code.co_name\n",
    "    rc = c.get_RC_SUCCESS()\n",
    "    m.printMesgStr(\"Getting target file list      :\", c.getGreen(), __func__)\n",
    "    target_file_lst = []\n",
    "    target_file_dir = []\n",
    "    with open(target_file) as file:\n",
    "        cnt = 0\n",
    "        for line in file:\n",
    "            target_file_lst.append(os.path.basename(line).strip())\n",
    "            target_file_dir.append(os.path.dirname(os.path.realpath(line)).strip())\n",
    "            cnt += 1\n",
    "        # [end-For-Loop]\n",
    "        m.printMesgAddStr(\"Number of files in target_file : \", c.getYellow(), str(cnt))\n",
    "    # [end-with]\n",
    "    return rc, target_file_lst, target_file_dir\n",
    "# [end-function]\n",
    "# --------------------------------------------------------------------------\n",
    "# Getting content in the target file\n",
    "rc, target_file_lst, target_file_dir = getTarget_file_lst(c, m, c.getTargetdir())\n",
    "#print(target_file_lst)\n",
    "#print(target_file_dir)\n"
   ],
   "id": "9bfba0bb3a31af5e",
   "outputs": [
    {
     "name": "stdout",
     "output_type": "stream",
     "text": [
      "\u001B[0;96m == [\u001B[0;94mGetting target file list      :\u001B[0;92m getTarget_file_lst\u001B[0;96m] ==\u001B[0m\n",
      "\u001B[0;96m    \u001B[0;94mNumber of files in target_file : \u001B[0;93m51\u001B[0m\n"
     ]
    }
   ],
   "execution_count": 680
  },
  {
   "metadata": {
    "ExecuteTime": {
     "end_time": "2025-02-16T19:47:30.143773Z",
     "start_time": "2025-02-16T19:47:30.096219Z"
    }
   },
   "cell_type": "code",
   "source": [
    "def getTarget_file_lst(c, m, target_file_lst):\n",
    "    __func__= sys._getframe().f_code.co_name\n",
    "    rc = c.get_RC_SUCCESS()\n",
    "    m.printMesgStr(\"Getting target file list      :\", c.getGreen(), __func__)\n",
    "    target_file_cluster_lst = []\n",
    "    for i in range(len(target_file_lst[:])):\n",
    "        msg = ( os.path.join(c.getData_path(), batch_action, simulation_size, str(target_file_lst[i].split(\".sh\")[0]), target_file_lst[i]) ).strip()\n",
    "        if Path(msg).is_file():\n",
    "            m.printMesgAddStr(\"[Check]: target file       --->: \", c.getGreen(), c.getMagenta()+ msg + c.getGreen() + \" ---> Exists\")\n",
    "            # Now get the output file to analise and put it into a list\n",
    "            cluster_out_file = msg.split(\".sh\")[0]+\".out\"\n",
    "            # Extracting cluster files that has been benched\n",
    "            if Path(cluster_out_file).is_file():\n",
    "                m.printMesgAddStr(\"[Check]: Cluster file      --->: \", c.getGreen(), c.getYellow()+ cluster_out_file + c.getGreen() + \" ---> Exists\")\n",
    "                target_file_cluster_lst.append(cluster_out_file)\n",
    "            # [end-if]\n",
    "        # [end-if]\n",
    "    # [end-for-loop]\n",
    "    return rc, target_file_cluster_lst\n",
    "# [end-function]\n",
    "# --------------------------------------------------------------------------\n",
    "rc, target_file_cluster_lst = getTarget_file_lst(c, m, target_file_lst[:])"
   ],
   "id": "867a9b93449cdcf4",
   "outputs": [
    {
     "name": "stdout",
     "output_type": "stream",
     "text": [
      "\u001B[0;96m == [\u001B[0;94mGetting target file list      :\u001B[0;92m getTarget_file_lst\u001B[0;96m] ==\u001B[0m\n",
      "\u001B[0;96m    \u001B[0;94m[Check]: target file       --->: \u001B[0;92m\u001B[0;95mC:\\cygwin64\\home\\Frederic\\SwanSea\\SourceCodes\\Bench_Grid_HiRep\\src\\PythonCodes\\Jupyter-NoteBooks\\LLR-Bench_Grid_HiRep_Notebooks\\..\\..\\..\\..\\..\\LatticeRuns\\Clusters\\Lumi\\LatticeRuns\\BKeeper_run_gpu\\small\\Run_BKeeper_run_gpu_lat24.24.24.32_nodes002_mpi01-01-04-04_small\\Run_BKeeper_run_gpu_lat24.24.24.32_nodes002_mpi01-01-04-04_small.sh\u001B[0;92m ---> Exists\u001B[0m\n",
      "\u001B[0;96m    \u001B[0;94m[Check]: target file       --->: \u001B[0;92m\u001B[0;95mC:\\cygwin64\\home\\Frederic\\SwanSea\\SourceCodes\\Bench_Grid_HiRep\\src\\PythonCodes\\Jupyter-NoteBooks\\LLR-Bench_Grid_HiRep_Notebooks\\..\\..\\..\\..\\..\\LatticeRuns\\Clusters\\Lumi\\LatticeRuns\\BKeeper_run_gpu\\small\\Run_BKeeper_run_gpu_lat24.24.24.32_nodes002_mpi04-02-02-01_small\\Run_BKeeper_run_gpu_lat24.24.24.32_nodes002_mpi04-02-02-01_small.sh\u001B[0;92m ---> Exists\u001B[0m\n",
      "\u001B[0;96m    \u001B[0;94m[Check]: target file       --->: \u001B[0;92m\u001B[0;95mC:\\cygwin64\\home\\Frederic\\SwanSea\\SourceCodes\\Bench_Grid_HiRep\\src\\PythonCodes\\Jupyter-NoteBooks\\LLR-Bench_Grid_HiRep_Notebooks\\..\\..\\..\\..\\..\\LatticeRuns\\Clusters\\Lumi\\LatticeRuns\\BKeeper_run_gpu\\small\\Run_BKeeper_run_gpu_lat24.24.24.32_nodes002_mpi01-08-02-01_small\\Run_BKeeper_run_gpu_lat24.24.24.32_nodes002_mpi01-08-02-01_small.sh\u001B[0;92m ---> Exists\u001B[0m\n",
      "\u001B[0;96m    \u001B[0;94m[Check]: target file       --->: \u001B[0;92m\u001B[0;95mC:\\cygwin64\\home\\Frederic\\SwanSea\\SourceCodes\\Bench_Grid_HiRep\\src\\PythonCodes\\Jupyter-NoteBooks\\LLR-Bench_Grid_HiRep_Notebooks\\..\\..\\..\\..\\..\\LatticeRuns\\Clusters\\Lumi\\LatticeRuns\\BKeeper_run_gpu\\small\\Run_BKeeper_run_gpu_lat24.24.24.32_nodes002_mpi01-02-08-01_small\\Run_BKeeper_run_gpu_lat24.24.24.32_nodes002_mpi01-02-08-01_small.sh\u001B[0;92m ---> Exists\u001B[0m\n",
      "\u001B[0;96m    \u001B[0;94m[Check]: target file       --->: \u001B[0;92m\u001B[0;95mC:\\cygwin64\\home\\Frederic\\SwanSea\\SourceCodes\\Bench_Grid_HiRep\\src\\PythonCodes\\Jupyter-NoteBooks\\LLR-Bench_Grid_HiRep_Notebooks\\..\\..\\..\\..\\..\\LatticeRuns\\Clusters\\Lumi\\LatticeRuns\\BKeeper_run_gpu\\small\\Run_BKeeper_run_gpu_lat24.24.24.32_nodes002_mpi08-01-02-01_small\\Run_BKeeper_run_gpu_lat24.24.24.32_nodes002_mpi08-01-02-01_small.sh\u001B[0;92m ---> Exists\u001B[0m\n",
      "\u001B[0;96m    \u001B[0;94m[Check]: target file       --->: \u001B[0;92m\u001B[0;95mC:\\cygwin64\\home\\Frederic\\SwanSea\\SourceCodes\\Bench_Grid_HiRep\\src\\PythonCodes\\Jupyter-NoteBooks\\LLR-Bench_Grid_HiRep_Notebooks\\..\\..\\..\\..\\..\\LatticeRuns\\Clusters\\Lumi\\LatticeRuns\\BKeeper_run_gpu\\small\\Run_BKeeper_run_gpu_lat24.24.24.32_nodes001_mpi04-01-01-02_small\\Run_BKeeper_run_gpu_lat24.24.24.32_nodes001_mpi04-01-01-02_small.sh\u001B[0;92m ---> Exists\u001B[0m\n",
      "\u001B[0;96m    \u001B[0;94m[Check]: target file       --->: \u001B[0;92m\u001B[0;95mC:\\cygwin64\\home\\Frederic\\SwanSea\\SourceCodes\\Bench_Grid_HiRep\\src\\PythonCodes\\Jupyter-NoteBooks\\LLR-Bench_Grid_HiRep_Notebooks\\..\\..\\..\\..\\..\\LatticeRuns\\Clusters\\Lumi\\LatticeRuns\\BKeeper_run_gpu\\small\\Run_BKeeper_run_gpu_lat24.24.24.32_nodes001_mpi08-01-01-01_small\\Run_BKeeper_run_gpu_lat24.24.24.32_nodes001_mpi08-01-01-01_small.sh\u001B[0;92m ---> Exists\u001B[0m\n",
      "\u001B[0;96m    \u001B[0;94m[Check]: target file       --->: \u001B[0;92m\u001B[0;95mC:\\cygwin64\\home\\Frederic\\SwanSea\\SourceCodes\\Bench_Grid_HiRep\\src\\PythonCodes\\Jupyter-NoteBooks\\LLR-Bench_Grid_HiRep_Notebooks\\..\\..\\..\\..\\..\\LatticeRuns\\Clusters\\Lumi\\LatticeRuns\\BKeeper_run_gpu\\small\\Run_BKeeper_run_gpu_lat24.24.24.32_nodes002_mpi01-01-08-02_small\\Run_BKeeper_run_gpu_lat24.24.24.32_nodes002_mpi01-01-08-02_small.sh\u001B[0;92m ---> Exists\u001B[0m\n",
      "\u001B[0;96m    \u001B[0;94m[Check]: target file       --->: \u001B[0;92m\u001B[0;95mC:\\cygwin64\\home\\Frederic\\SwanSea\\SourceCodes\\Bench_Grid_HiRep\\src\\PythonCodes\\Jupyter-NoteBooks\\LLR-Bench_Grid_HiRep_Notebooks\\..\\..\\..\\..\\..\\LatticeRuns\\Clusters\\Lumi\\LatticeRuns\\BKeeper_run_gpu\\small\\Run_BKeeper_run_gpu_lat24.24.24.32_nodes002_mpi02-01-04-02_small\\Run_BKeeper_run_gpu_lat24.24.24.32_nodes002_mpi02-01-04-02_small.sh\u001B[0;92m ---> Exists\u001B[0m\n",
      "\u001B[0;96m    \u001B[0;94m[Check]: target file       --->: \u001B[0;92m\u001B[0;95mC:\\cygwin64\\home\\Frederic\\SwanSea\\SourceCodes\\Bench_Grid_HiRep\\src\\PythonCodes\\Jupyter-NoteBooks\\LLR-Bench_Grid_HiRep_Notebooks\\..\\..\\..\\..\\..\\LatticeRuns\\Clusters\\Lumi\\LatticeRuns\\BKeeper_run_gpu\\small\\Run_BKeeper_run_gpu_lat24.24.24.32_nodes002_mpi04-01-04-01_small\\Run_BKeeper_run_gpu_lat24.24.24.32_nodes002_mpi04-01-04-01_small.sh\u001B[0;92m ---> Exists\u001B[0m\n",
      "\u001B[0;96m    \u001B[0;94m[Check]: target file       --->: \u001B[0;92m\u001B[0;95mC:\\cygwin64\\home\\Frederic\\SwanSea\\SourceCodes\\Bench_Grid_HiRep\\src\\PythonCodes\\Jupyter-NoteBooks\\LLR-Bench_Grid_HiRep_Notebooks\\..\\..\\..\\..\\..\\LatticeRuns\\Clusters\\Lumi\\LatticeRuns\\BKeeper_run_gpu\\small\\Run_BKeeper_run_gpu_lat24.24.24.32_nodes002_mpi08-02-01-01_small\\Run_BKeeper_run_gpu_lat24.24.24.32_nodes002_mpi08-02-01-01_small.sh\u001B[0;92m ---> Exists\u001B[0m\n",
      "\u001B[0;96m    \u001B[0;94m[Check]: target file       --->: \u001B[0;92m\u001B[0;95mC:\\cygwin64\\home\\Frederic\\SwanSea\\SourceCodes\\Bench_Grid_HiRep\\src\\PythonCodes\\Jupyter-NoteBooks\\LLR-Bench_Grid_HiRep_Notebooks\\..\\..\\..\\..\\..\\LatticeRuns\\Clusters\\Lumi\\LatticeRuns\\BKeeper_run_gpu\\small\\Run_BKeeper_run_gpu_lat24.24.24.32_nodes002_mpi04-02-01-02_small\\Run_BKeeper_run_gpu_lat24.24.24.32_nodes002_mpi04-02-01-02_small.sh\u001B[0;92m ---> Exists\u001B[0m\n",
      "\u001B[0;96m    \u001B[0;94m[Check]: target file       --->: \u001B[0;92m\u001B[0;95mC:\\cygwin64\\home\\Frederic\\SwanSea\\SourceCodes\\Bench_Grid_HiRep\\src\\PythonCodes\\Jupyter-NoteBooks\\LLR-Bench_Grid_HiRep_Notebooks\\..\\..\\..\\..\\..\\LatticeRuns\\Clusters\\Lumi\\LatticeRuns\\BKeeper_run_gpu\\small\\Run_BKeeper_run_gpu_lat24.24.24.32_nodes002_mpi01-04-02-02_small\\Run_BKeeper_run_gpu_lat24.24.24.32_nodes002_mpi01-04-02-02_small.sh\u001B[0;92m ---> Exists\u001B[0m\n",
      "\u001B[0;96m    \u001B[0;94m[Check]: target file       --->: \u001B[0;92m\u001B[0;95mC:\\cygwin64\\home\\Frederic\\SwanSea\\SourceCodes\\Bench_Grid_HiRep\\src\\PythonCodes\\Jupyter-NoteBooks\\LLR-Bench_Grid_HiRep_Notebooks\\..\\..\\..\\..\\..\\LatticeRuns\\Clusters\\Lumi\\LatticeRuns\\BKeeper_run_gpu\\small\\Run_BKeeper_run_gpu_lat24.24.24.32_nodes001_mpi04-01-02-01_small\\Run_BKeeper_run_gpu_lat24.24.24.32_nodes001_mpi04-01-02-01_small.sh\u001B[0;92m ---> Exists\u001B[0m\n",
      "\u001B[0;96m    \u001B[0;94m[Check]: target file       --->: \u001B[0;92m\u001B[0;95mC:\\cygwin64\\home\\Frederic\\SwanSea\\SourceCodes\\Bench_Grid_HiRep\\src\\PythonCodes\\Jupyter-NoteBooks\\LLR-Bench_Grid_HiRep_Notebooks\\..\\..\\..\\..\\..\\LatticeRuns\\Clusters\\Lumi\\LatticeRuns\\BKeeper_run_gpu\\small\\Run_BKeeper_run_gpu_lat24.24.24.32_nodes002_mpi01-02-01-08_small\\Run_BKeeper_run_gpu_lat24.24.24.32_nodes002_mpi01-02-01-08_small.sh\u001B[0;92m ---> Exists\u001B[0m\n",
      "\u001B[0;96m    \u001B[0;94m[Check]: target file       --->: \u001B[0;92m\u001B[0;95mC:\\cygwin64\\home\\Frederic\\SwanSea\\SourceCodes\\Bench_Grid_HiRep\\src\\PythonCodes\\Jupyter-NoteBooks\\LLR-Bench_Grid_HiRep_Notebooks\\..\\..\\..\\..\\..\\LatticeRuns\\Clusters\\Lumi\\LatticeRuns\\BKeeper_run_gpu\\small\\Run_BKeeper_run_gpu_lat24.24.24.32_nodes001_mpi01-01-01-08_small\\Run_BKeeper_run_gpu_lat24.24.24.32_nodes001_mpi01-01-01-08_small.sh\u001B[0;92m ---> Exists\u001B[0m\n",
      "\u001B[0;96m    \u001B[0;94m[Check]: target file       --->: \u001B[0;92m\u001B[0;95mC:\\cygwin64\\home\\Frederic\\SwanSea\\SourceCodes\\Bench_Grid_HiRep\\src\\PythonCodes\\Jupyter-NoteBooks\\LLR-Bench_Grid_HiRep_Notebooks\\..\\..\\..\\..\\..\\LatticeRuns\\Clusters\\Lumi\\LatticeRuns\\BKeeper_run_gpu\\small\\Run_BKeeper_run_gpu_lat24.24.24.32_nodes002_mpi02-01-08-01_small\\Run_BKeeper_run_gpu_lat24.24.24.32_nodes002_mpi02-01-08-01_small.sh\u001B[0;92m ---> Exists\u001B[0m\n",
      "\u001B[0;96m    \u001B[0;94m[Check]: target file       --->: \u001B[0;92m\u001B[0;95mC:\\cygwin64\\home\\Frederic\\SwanSea\\SourceCodes\\Bench_Grid_HiRep\\src\\PythonCodes\\Jupyter-NoteBooks\\LLR-Bench_Grid_HiRep_Notebooks\\..\\..\\..\\..\\..\\LatticeRuns\\Clusters\\Lumi\\LatticeRuns\\BKeeper_run_gpu\\small\\Run_BKeeper_run_gpu_lat24.24.24.32_nodes001_mpi01-01-04-02_small\\Run_BKeeper_run_gpu_lat24.24.24.32_nodes001_mpi01-01-04-02_small.sh\u001B[0;92m ---> Exists\u001B[0m\n",
      "\u001B[0;96m    \u001B[0;94m[Check]: target file       --->: \u001B[0;92m\u001B[0;95mC:\\cygwin64\\home\\Frederic\\SwanSea\\SourceCodes\\Bench_Grid_HiRep\\src\\PythonCodes\\Jupyter-NoteBooks\\LLR-Bench_Grid_HiRep_Notebooks\\..\\..\\..\\..\\..\\LatticeRuns\\Clusters\\Lumi\\LatticeRuns\\BKeeper_run_gpu\\small\\Run_BKeeper_run_gpu_lat24.24.24.32_nodes001_mpi04-02-01-01_small\\Run_BKeeper_run_gpu_lat24.24.24.32_nodes001_mpi04-02-01-01_small.sh\u001B[0;92m ---> Exists\u001B[0m\n",
      "\u001B[0;96m    \u001B[0;94m[Check]: target file       --->: \u001B[0;92m\u001B[0;95mC:\\cygwin64\\home\\Frederic\\SwanSea\\SourceCodes\\Bench_Grid_HiRep\\src\\PythonCodes\\Jupyter-NoteBooks\\LLR-Bench_Grid_HiRep_Notebooks\\..\\..\\..\\..\\..\\LatticeRuns\\Clusters\\Lumi\\LatticeRuns\\BKeeper_run_gpu\\small\\Run_BKeeper_run_gpu_lat24.24.24.32_nodes002_mpi08-01-01-02_small\\Run_BKeeper_run_gpu_lat24.24.24.32_nodes002_mpi08-01-01-02_small.sh\u001B[0;92m ---> Exists\u001B[0m\n",
      "\u001B[0;96m    \u001B[0;94m[Check]: target file       --->: \u001B[0;92m\u001B[0;95mC:\\cygwin64\\home\\Frederic\\SwanSea\\SourceCodes\\Bench_Grid_HiRep\\src\\PythonCodes\\Jupyter-NoteBooks\\LLR-Bench_Grid_HiRep_Notebooks\\..\\..\\..\\..\\..\\LatticeRuns\\Clusters\\Lumi\\LatticeRuns\\BKeeper_run_gpu\\small\\Run_BKeeper_run_gpu_lat24.24.24.32_nodes001_mpi02-04-01-01_small\\Run_BKeeper_run_gpu_lat24.24.24.32_nodes001_mpi02-04-01-01_small.sh\u001B[0;92m ---> Exists\u001B[0m\n",
      "\u001B[0;96m    \u001B[0;94m[Check]: target file       --->: \u001B[0;92m\u001B[0;95mC:\\cygwin64\\home\\Frederic\\SwanSea\\SourceCodes\\Bench_Grid_HiRep\\src\\PythonCodes\\Jupyter-NoteBooks\\LLR-Bench_Grid_HiRep_Notebooks\\..\\..\\..\\..\\..\\LatticeRuns\\Clusters\\Lumi\\LatticeRuns\\BKeeper_run_gpu\\small\\Run_BKeeper_run_gpu_lat24.24.24.32_nodes001_mpi01-02-01-04_small\\Run_BKeeper_run_gpu_lat24.24.24.32_nodes001_mpi01-02-01-04_small.sh\u001B[0;92m ---> Exists\u001B[0m\n",
      "\u001B[0;96m    \u001B[0;94m[Check]: target file       --->: \u001B[0;92m\u001B[0;95mC:\\cygwin64\\home\\Frederic\\SwanSea\\SourceCodes\\Bench_Grid_HiRep\\src\\PythonCodes\\Jupyter-NoteBooks\\LLR-Bench_Grid_HiRep_Notebooks\\..\\..\\..\\..\\..\\LatticeRuns\\Clusters\\Lumi\\LatticeRuns\\BKeeper_run_gpu\\small\\Run_BKeeper_run_gpu_lat24.24.24.32_nodes002_mpi02-04-02-01_small\\Run_BKeeper_run_gpu_lat24.24.24.32_nodes002_mpi02-04-02-01_small.sh\u001B[0;92m ---> Exists\u001B[0m\n",
      "\u001B[0;96m    \u001B[0;94m[Check]: target file       --->: \u001B[0;92m\u001B[0;95mC:\\cygwin64\\home\\Frederic\\SwanSea\\SourceCodes\\Bench_Grid_HiRep\\src\\PythonCodes\\Jupyter-NoteBooks\\LLR-Bench_Grid_HiRep_Notebooks\\..\\..\\..\\..\\..\\LatticeRuns\\Clusters\\Lumi\\LatticeRuns\\BKeeper_run_gpu\\small\\Run_BKeeper_run_gpu_lat24.24.24.32_nodes002_mpi01-08-01-02_small\\Run_BKeeper_run_gpu_lat24.24.24.32_nodes002_mpi01-08-01-02_small.sh\u001B[0;92m ---> Exists\u001B[0m\n",
      "\u001B[0;96m    \u001B[0;94m[Check]: target file       --->: \u001B[0;92m\u001B[0;95mC:\\cygwin64\\home\\Frederic\\SwanSea\\SourceCodes\\Bench_Grid_HiRep\\src\\PythonCodes\\Jupyter-NoteBooks\\LLR-Bench_Grid_HiRep_Notebooks\\..\\..\\..\\..\\..\\LatticeRuns\\Clusters\\Lumi\\LatticeRuns\\BKeeper_run_gpu\\small\\Run_BKeeper_run_gpu_lat24.24.24.32_nodes002_mpi04-04-01-01_small\\Run_BKeeper_run_gpu_lat24.24.24.32_nodes002_mpi04-04-01-01_small.sh\u001B[0;92m ---> Exists\u001B[0m\n",
      "\u001B[0;96m    \u001B[0;94m[Check]: target file       --->: \u001B[0;92m\u001B[0;95mC:\\cygwin64\\home\\Frederic\\SwanSea\\SourceCodes\\Bench_Grid_HiRep\\src\\PythonCodes\\Jupyter-NoteBooks\\LLR-Bench_Grid_HiRep_Notebooks\\..\\..\\..\\..\\..\\LatticeRuns\\Clusters\\Lumi\\LatticeRuns\\BKeeper_run_gpu\\small\\Run_BKeeper_run_gpu_lat24.24.24.32_nodes002_mpi01-04-01-04_small\\Run_BKeeper_run_gpu_lat24.24.24.32_nodes002_mpi01-04-01-04_small.sh\u001B[0;92m ---> Exists\u001B[0m\n",
      "\u001B[0;96m    \u001B[0;94m[Check]: target file       --->: \u001B[0;92m\u001B[0;95mC:\\cygwin64\\home\\Frederic\\SwanSea\\SourceCodes\\Bench_Grid_HiRep\\src\\PythonCodes\\Jupyter-NoteBooks\\LLR-Bench_Grid_HiRep_Notebooks\\..\\..\\..\\..\\..\\LatticeRuns\\Clusters\\Lumi\\LatticeRuns\\BKeeper_run_gpu\\small\\Run_BKeeper_run_gpu_lat24.24.24.32_nodes002_mpi01-04-04-01_small\\Run_BKeeper_run_gpu_lat24.24.24.32_nodes002_mpi01-04-04-01_small.sh\u001B[0;92m ---> Exists\u001B[0m\n",
      "\u001B[0;96m    \u001B[0;94m[Check]: target file       --->: \u001B[0;92m\u001B[0;95mC:\\cygwin64\\home\\Frederic\\SwanSea\\SourceCodes\\Bench_Grid_HiRep\\src\\PythonCodes\\Jupyter-NoteBooks\\LLR-Bench_Grid_HiRep_Notebooks\\..\\..\\..\\..\\..\\LatticeRuns\\Clusters\\Lumi\\LatticeRuns\\BKeeper_run_gpu\\small\\Run_BKeeper_run_gpu_lat24.24.24.32_nodes002_mpi01-01-02-08_small\\Run_BKeeper_run_gpu_lat24.24.24.32_nodes002_mpi01-01-02-08_small.sh\u001B[0;92m ---> Exists\u001B[0m\n",
      "\u001B[0;96m    \u001B[0;94m[Check]: target file       --->: \u001B[0;92m\u001B[0;95mC:\\cygwin64\\home\\Frederic\\SwanSea\\SourceCodes\\Bench_Grid_HiRep\\src\\PythonCodes\\Jupyter-NoteBooks\\LLR-Bench_Grid_HiRep_Notebooks\\..\\..\\..\\..\\..\\LatticeRuns\\Clusters\\Lumi\\LatticeRuns\\BKeeper_run_gpu\\small\\Run_BKeeper_run_gpu_lat24.24.24.32_nodes002_mpi04-01-01-04_small\\Run_BKeeper_run_gpu_lat24.24.24.32_nodes002_mpi04-01-01-04_small.sh\u001B[0;92m ---> Exists\u001B[0m\n",
      "\u001B[0;96m    \u001B[0;94m[Check]: target file       --->: \u001B[0;92m\u001B[0;95mC:\\cygwin64\\home\\Frederic\\SwanSea\\SourceCodes\\Bench_Grid_HiRep\\src\\PythonCodes\\Jupyter-NoteBooks\\LLR-Bench_Grid_HiRep_Notebooks\\..\\..\\..\\..\\..\\LatticeRuns\\Clusters\\Lumi\\LatticeRuns\\BKeeper_run_gpu\\small\\Run_BKeeper_run_gpu_lat24.24.24.32_nodes001_mpi01-02-04-01_small\\Run_BKeeper_run_gpu_lat24.24.24.32_nodes001_mpi01-02-04-01_small.sh\u001B[0;92m ---> Exists\u001B[0m\n",
      "\u001B[0;96m    \u001B[0;94m[Check]: target file       --->: \u001B[0;92m\u001B[0;95mC:\\cygwin64\\home\\Frederic\\SwanSea\\SourceCodes\\Bench_Grid_HiRep\\src\\PythonCodes\\Jupyter-NoteBooks\\LLR-Bench_Grid_HiRep_Notebooks\\..\\..\\..\\..\\..\\LatticeRuns\\Clusters\\Lumi\\LatticeRuns\\BKeeper_run_gpu\\small\\Run_BKeeper_run_gpu_lat24.24.24.32_nodes001_mpi01-01-08-01_small\\Run_BKeeper_run_gpu_lat24.24.24.32_nodes001_mpi01-01-08-01_small.sh\u001B[0;92m ---> Exists\u001B[0m\n",
      "\u001B[0;96m    \u001B[0;94m[Check]: target file       --->: \u001B[0;92m\u001B[0;95mC:\\cygwin64\\home\\Frederic\\SwanSea\\SourceCodes\\Bench_Grid_HiRep\\src\\PythonCodes\\Jupyter-NoteBooks\\LLR-Bench_Grid_HiRep_Notebooks\\..\\..\\..\\..\\..\\LatticeRuns\\Clusters\\Lumi\\LatticeRuns\\BKeeper_run_gpu\\small\\Run_BKeeper_run_gpu_lat24.24.24.32_nodes002_mpi01-02-04-02_small\\Run_BKeeper_run_gpu_lat24.24.24.32_nodes002_mpi01-02-04-02_small.sh\u001B[0;92m ---> Exists\u001B[0m\n",
      "\u001B[0;96m    \u001B[0;94m[Check]: target file       --->: \u001B[0;92m\u001B[0;95mC:\\cygwin64\\home\\Frederic\\SwanSea\\SourceCodes\\Bench_Grid_HiRep\\src\\PythonCodes\\Jupyter-NoteBooks\\LLR-Bench_Grid_HiRep_Notebooks\\..\\..\\..\\..\\..\\LatticeRuns\\Clusters\\Lumi\\LatticeRuns\\BKeeper_run_gpu\\small\\Run_BKeeper_run_gpu_lat24.24.24.32_nodes002_mpi02-01-02-04_small\\Run_BKeeper_run_gpu_lat24.24.24.32_nodes002_mpi02-01-02-04_small.sh\u001B[0;92m ---> Exists\u001B[0m\n",
      "\u001B[0;96m    \u001B[0;94m[Check]: target file       --->: \u001B[0;92m\u001B[0;95mC:\\cygwin64\\home\\Frederic\\SwanSea\\SourceCodes\\Bench_Grid_HiRep\\src\\PythonCodes\\Jupyter-NoteBooks\\LLR-Bench_Grid_HiRep_Notebooks\\..\\..\\..\\..\\..\\LatticeRuns\\Clusters\\Lumi\\LatticeRuns\\BKeeper_run_gpu\\small\\Run_BKeeper_run_gpu_lat24.24.24.32_nodes002_mpi02-08-01-01_small\\Run_BKeeper_run_gpu_lat24.24.24.32_nodes002_mpi02-08-01-01_small.sh\u001B[0;92m ---> Exists\u001B[0m\n",
      "\u001B[0;96m    \u001B[0;94m[Check]: target file       --->: \u001B[0;92m\u001B[0;95mC:\\cygwin64\\home\\Frederic\\SwanSea\\SourceCodes\\Bench_Grid_HiRep\\src\\PythonCodes\\Jupyter-NoteBooks\\LLR-Bench_Grid_HiRep_Notebooks\\..\\..\\..\\..\\..\\LatticeRuns\\Clusters\\Lumi\\LatticeRuns\\BKeeper_run_gpu\\small\\Run_BKeeper_run_gpu_lat24.24.24.32_nodes002_mpi01-02-02-04_small\\Run_BKeeper_run_gpu_lat24.24.24.32_nodes002_mpi01-02-02-04_small.sh\u001B[0;92m ---> Exists\u001B[0m\n",
      "\u001B[0;96m    \u001B[0;94m[Check]: target file       --->: \u001B[0;92m\u001B[0;95mC:\\cygwin64\\home\\Frederic\\SwanSea\\SourceCodes\\Bench_Grid_HiRep\\src\\PythonCodes\\Jupyter-NoteBooks\\LLR-Bench_Grid_HiRep_Notebooks\\..\\..\\..\\..\\..\\LatticeRuns\\Clusters\\Lumi\\LatticeRuns\\BKeeper_run_gpu\\small\\Run_BKeeper_run_gpu_lat24.24.24.32_nodes002_mpi02-02-02-02_small\\Run_BKeeper_run_gpu_lat24.24.24.32_nodes002_mpi02-02-02-02_small.sh\u001B[0;92m ---> Exists\u001B[0m\n",
      "\u001B[0;96m    \u001B[0;94m[Check]: target file       --->: \u001B[0;92m\u001B[0;95mC:\\cygwin64\\home\\Frederic\\SwanSea\\SourceCodes\\Bench_Grid_HiRep\\src\\PythonCodes\\Jupyter-NoteBooks\\LLR-Bench_Grid_HiRep_Notebooks\\..\\..\\..\\..\\..\\LatticeRuns\\Clusters\\Lumi\\LatticeRuns\\BKeeper_run_gpu\\small\\Run_BKeeper_run_gpu_lat24.24.24.32_nodes001_mpi01-08-01-01_small\\Run_BKeeper_run_gpu_lat24.24.24.32_nodes001_mpi01-08-01-01_small.sh\u001B[0;92m ---> Exists\u001B[0m\n",
      "\u001B[0;96m    \u001B[0;94m[Check]: target file       --->: \u001B[0;92m\u001B[0;95mC:\\cygwin64\\home\\Frederic\\SwanSea\\SourceCodes\\Bench_Grid_HiRep\\src\\PythonCodes\\Jupyter-NoteBooks\\LLR-Bench_Grid_HiRep_Notebooks\\..\\..\\..\\..\\..\\LatticeRuns\\Clusters\\Lumi\\LatticeRuns\\BKeeper_run_gpu\\small\\Run_BKeeper_run_gpu_lat24.24.24.32_nodes001_mpi01-01-02-04_small\\Run_BKeeper_run_gpu_lat24.24.24.32_nodes001_mpi01-01-02-04_small.sh\u001B[0;92m ---> Exists\u001B[0m\n",
      "\u001B[0;96m    \u001B[0;94m[Check]: target file       --->: \u001B[0;92m\u001B[0;95mC:\\cygwin64\\home\\Frederic\\SwanSea\\SourceCodes\\Bench_Grid_HiRep\\src\\PythonCodes\\Jupyter-NoteBooks\\LLR-Bench_Grid_HiRep_Notebooks\\..\\..\\..\\..\\..\\LatticeRuns\\Clusters\\Lumi\\LatticeRuns\\BKeeper_run_gpu\\small\\Run_BKeeper_run_gpu_lat24.24.24.32_nodes001_mpi01-02-02-02_small\\Run_BKeeper_run_gpu_lat24.24.24.32_nodes001_mpi01-02-02-02_small.sh\u001B[0;92m ---> Exists\u001B[0m\n",
      "\u001B[0;96m    \u001B[0;94m[Check]: target file       --->: \u001B[0;92m\u001B[0;95mC:\\cygwin64\\home\\Frederic\\SwanSea\\SourceCodes\\Bench_Grid_HiRep\\src\\PythonCodes\\Jupyter-NoteBooks\\LLR-Bench_Grid_HiRep_Notebooks\\..\\..\\..\\..\\..\\LatticeRuns\\Clusters\\Lumi\\LatticeRuns\\BKeeper_run_gpu\\small\\Run_BKeeper_run_gpu_lat24.24.24.32_nodes001_mpi02-02-01-02_small\\Run_BKeeper_run_gpu_lat24.24.24.32_nodes001_mpi02-02-01-02_small.sh\u001B[0;92m ---> Exists\u001B[0m\n",
      "\u001B[0;96m    \u001B[0;94m[Check]: target file       --->: \u001B[0;92m\u001B[0;95mC:\\cygwin64\\home\\Frederic\\SwanSea\\SourceCodes\\Bench_Grid_HiRep\\src\\PythonCodes\\Jupyter-NoteBooks\\LLR-Bench_Grid_HiRep_Notebooks\\..\\..\\..\\..\\..\\LatticeRuns\\Clusters\\Lumi\\LatticeRuns\\BKeeper_run_gpu\\small\\Run_BKeeper_run_gpu_lat24.24.24.32_nodes001_mpi02-01-02-02_small\\Run_BKeeper_run_gpu_lat24.24.24.32_nodes001_mpi02-01-02-02_small.sh\u001B[0;92m ---> Exists\u001B[0m\n",
      "\u001B[0;96m    \u001B[0;94m[Check]: target file       --->: \u001B[0;92m\u001B[0;95mC:\\cygwin64\\home\\Frederic\\SwanSea\\SourceCodes\\Bench_Grid_HiRep\\src\\PythonCodes\\Jupyter-NoteBooks\\LLR-Bench_Grid_HiRep_Notebooks\\..\\..\\..\\..\\..\\LatticeRuns\\Clusters\\Lumi\\LatticeRuns\\BKeeper_run_gpu\\small\\Run_BKeeper_run_gpu_lat24.24.24.32_nodes001_mpi01-04-01-02_small\\Run_BKeeper_run_gpu_lat24.24.24.32_nodes001_mpi01-04-01-02_small.sh\u001B[0;92m ---> Exists\u001B[0m\n",
      "\u001B[0;96m    \u001B[0;94m[Check]: target file       --->: \u001B[0;92m\u001B[0;95mC:\\cygwin64\\home\\Frederic\\SwanSea\\SourceCodes\\Bench_Grid_HiRep\\src\\PythonCodes\\Jupyter-NoteBooks\\LLR-Bench_Grid_HiRep_Notebooks\\..\\..\\..\\..\\..\\LatticeRuns\\Clusters\\Lumi\\LatticeRuns\\BKeeper_run_gpu\\small\\Run_BKeeper_run_gpu_lat24.24.24.32_nodes002_mpi02-02-04-01_small\\Run_BKeeper_run_gpu_lat24.24.24.32_nodes002_mpi02-02-04-01_small.sh\u001B[0;92m ---> Exists\u001B[0m\n",
      "\u001B[0;96m    \u001B[0;94m[Check]: target file       --->: \u001B[0;92m\u001B[0;95mC:\\cygwin64\\home\\Frederic\\SwanSea\\SourceCodes\\Bench_Grid_HiRep\\src\\PythonCodes\\Jupyter-NoteBooks\\LLR-Bench_Grid_HiRep_Notebooks\\..\\..\\..\\..\\..\\LatticeRuns\\Clusters\\Lumi\\LatticeRuns\\BKeeper_run_gpu\\small\\Run_BKeeper_run_gpu_lat24.24.24.32_nodes002_mpi04-01-02-02_small\\Run_BKeeper_run_gpu_lat24.24.24.32_nodes002_mpi04-01-02-02_small.sh\u001B[0;92m ---> Exists\u001B[0m\n",
      "\u001B[0;96m    \u001B[0;94m[Check]: Cluster file      --->: \u001B[0;92m\u001B[0;93mC:\\cygwin64\\home\\Frederic\\SwanSea\\SourceCodes\\Bench_Grid_HiRep\\src\\PythonCodes\\Jupyter-NoteBooks\\LLR-Bench_Grid_HiRep_Notebooks\\..\\..\\..\\..\\..\\LatticeRuns\\Clusters\\Lumi\\LatticeRuns\\BKeeper_run_gpu\\small\\Run_BKeeper_run_gpu_lat24.24.24.32_nodes002_mpi04-01-02-02_small\\Run_BKeeper_run_gpu_lat24.24.24.32_nodes002_mpi04-01-02-02_small.out\u001B[0;92m ---> Exists\u001B[0m\n",
      "\u001B[0;96m    \u001B[0;94m[Check]: target file       --->: \u001B[0;92m\u001B[0;95mC:\\cygwin64\\home\\Frederic\\SwanSea\\SourceCodes\\Bench_Grid_HiRep\\src\\PythonCodes\\Jupyter-NoteBooks\\LLR-Bench_Grid_HiRep_Notebooks\\..\\..\\..\\..\\..\\LatticeRuns\\Clusters\\Lumi\\LatticeRuns\\BKeeper_run_gpu\\small\\Run_BKeeper_run_gpu_lat24.24.24.32_nodes002_mpi02-01-01-08_small\\Run_BKeeper_run_gpu_lat24.24.24.32_nodes002_mpi02-01-01-08_small.sh\u001B[0;92m ---> Exists\u001B[0m\n",
      "\u001B[0;96m    \u001B[0;94m[Check]: target file       --->: \u001B[0;92m\u001B[0;95mC:\\cygwin64\\home\\Frederic\\SwanSea\\SourceCodes\\Bench_Grid_HiRep\\src\\PythonCodes\\Jupyter-NoteBooks\\LLR-Bench_Grid_HiRep_Notebooks\\..\\..\\..\\..\\..\\LatticeRuns\\Clusters\\Lumi\\LatticeRuns\\BKeeper_run_gpu\\small\\Run_BKeeper_run_gpu_lat24.24.24.32_nodes002_mpi02-02-01-04_small\\Run_BKeeper_run_gpu_lat24.24.24.32_nodes002_mpi02-02-01-04_small.sh\u001B[0;92m ---> Exists\u001B[0m\n",
      "\u001B[0;96m    \u001B[0;94m[Check]: target file       --->: \u001B[0;92m\u001B[0;95mC:\\cygwin64\\home\\Frederic\\SwanSea\\SourceCodes\\Bench_Grid_HiRep\\src\\PythonCodes\\Jupyter-NoteBooks\\LLR-Bench_Grid_HiRep_Notebooks\\..\\..\\..\\..\\..\\LatticeRuns\\Clusters\\Lumi\\LatticeRuns\\BKeeper_run_gpu\\small\\Run_BKeeper_run_gpu_lat24.24.24.32_nodes001_mpi02-02-02-01_small\\Run_BKeeper_run_gpu_lat24.24.24.32_nodes001_mpi02-02-02-01_small.sh\u001B[0;92m ---> Exists\u001B[0m\n",
      "\u001B[0;96m    \u001B[0;94m[Check]: target file       --->: \u001B[0;92m\u001B[0;95mC:\\cygwin64\\home\\Frederic\\SwanSea\\SourceCodes\\Bench_Grid_HiRep\\src\\PythonCodes\\Jupyter-NoteBooks\\LLR-Bench_Grid_HiRep_Notebooks\\..\\..\\..\\..\\..\\LatticeRuns\\Clusters\\Lumi\\LatticeRuns\\BKeeper_run_gpu\\small\\Run_BKeeper_run_gpu_lat24.24.24.32_nodes001_mpi02-01-04-01_small\\Run_BKeeper_run_gpu_lat24.24.24.32_nodes001_mpi02-01-04-01_small.sh\u001B[0;92m ---> Exists\u001B[0m\n",
      "\u001B[0;96m    \u001B[0;94m[Check]: target file       --->: \u001B[0;92m\u001B[0;95mC:\\cygwin64\\home\\Frederic\\SwanSea\\SourceCodes\\Bench_Grid_HiRep\\src\\PythonCodes\\Jupyter-NoteBooks\\LLR-Bench_Grid_HiRep_Notebooks\\..\\..\\..\\..\\..\\LatticeRuns\\Clusters\\Lumi\\LatticeRuns\\BKeeper_run_gpu\\small\\Run_BKeeper_run_gpu_lat24.24.24.32_nodes002_mpi02-04-01-02_small\\Run_BKeeper_run_gpu_lat24.24.24.32_nodes002_mpi02-04-01-02_small.sh\u001B[0;92m ---> Exists\u001B[0m\n",
      "\u001B[0;96m    \u001B[0;94m[Check]: target file       --->: \u001B[0;92m\u001B[0;95mC:\\cygwin64\\home\\Frederic\\SwanSea\\SourceCodes\\Bench_Grid_HiRep\\src\\PythonCodes\\Jupyter-NoteBooks\\LLR-Bench_Grid_HiRep_Notebooks\\..\\..\\..\\..\\..\\LatticeRuns\\Clusters\\Lumi\\LatticeRuns\\BKeeper_run_gpu\\small\\Run_BKeeper_run_gpu_lat24.24.24.32_nodes001_mpi02-01-01-04_small\\Run_BKeeper_run_gpu_lat24.24.24.32_nodes001_mpi02-01-01-04_small.sh\u001B[0;92m ---> Exists\u001B[0m\n",
      "\u001B[0;96m    \u001B[0;94m[Check]: target file       --->: \u001B[0;92m\u001B[0;95mC:\\cygwin64\\home\\Frederic\\SwanSea\\SourceCodes\\Bench_Grid_HiRep\\src\\PythonCodes\\Jupyter-NoteBooks\\LLR-Bench_Grid_HiRep_Notebooks\\..\\..\\..\\..\\..\\LatticeRuns\\Clusters\\Lumi\\LatticeRuns\\BKeeper_run_gpu\\small\\Run_BKeeper_run_gpu_lat24.24.24.32_nodes001_mpi01-04-02-01_small\\Run_BKeeper_run_gpu_lat24.24.24.32_nodes001_mpi01-04-02-01_small.sh\u001B[0;92m ---> Exists\u001B[0m\n"
     ]
    }
   ],
   "execution_count": 681
  },
  {
   "metadata": {
    "ExecuteTime": {
     "end_time": "2025-02-16T19:47:30.235016Z",
     "start_time": "2025-02-16T19:47:30.220626Z"
    }
   },
   "cell_type": "code",
   "source": [
    "# --------------------------------------------------------------------------\n",
    "# [Data-Extraction]\n",
    "# --------------------------------------------------------------------------\n",
    "m.printMesgStr(\"Data extraction cluster out   :\", c.getGreen(), machine_name)\n",
    "m.printMesgAddStr(\"Simulation size                : \", c.getRed(), simulation_size)\n",
    "m.printMesgAddStr(\"target_file_cluster_lst[:] --->: \", c.getYellow(), target_file_cluster_lst[:])\n",
    "\n",
    "def readCluster_file_out(c, m, target_file_cluster_lst):\n",
    "    __func__= sys._getframe().f_code.co_name\n",
    "    rc = c.get_RC_SUCCESS()\n",
    "    m.printMesgStr(\"Getting target file list      :\", c.getGreen(), __func__)\n",
    "    end_key = \"###############################################\"\n",
    "    bench_dict = {}\n",
    "    start_key_lst = [\n",
    "        'Performing benchmark for SU(2), adjoint',\n",
    "        'Perf0orming benchmark for SU(2), fundamental',\n",
    "        'Performing benchmark for SU(3), fundamental',\n",
    "        'Performing benchmark for Sp(4), fundamental'\n",
    "    ]\n",
    "    # Starting the parsing of files over the start_key_lst\n",
    "    for i in range(len(target_file_cluster_lst[:])):\n",
    "        #with open(target_file_cluster_lst[i]) as cluster_file:\n",
    "        cluster_file = open(target_file_cluster_lst[i])\n",
    "        lines = cluster_file.readlines()\n",
    "        database_file_len = len(lines)\n",
    "        print(\"the number of lines in file \"+ str(target_file_cluster_lst[i]) + \" is : \"+str(database_file_len))\n",
    "        start_key_su2_adjoint = \"Performing benchmark for SU(2), adjoint\"\n",
    "        appending = False\n",
    "        cnt = 0\n",
    "        insert_msg = \"\"\n",
    "        for j in range(database_file_len):\n",
    "            if start_key_su2_adjoint in lines[j].split('\\n')[0]:\n",
    "                appending = True\n",
    "            if end_key in lines[j].split('\\n')[0]:\n",
    "                appending = False\n",
    "            elif appending:\n",
    "                print(lines[j].split('\\n')[0])\n",
    "\n",
    "\n",
    "            # [end-if]\n",
    "        # [end-for-loop [j]]\n",
    "    # [end-for-loop [i]]\n",
    "    return rc\n",
    "# [end-function]\n",
    "# --------------------------------------------------------------------------\n",
    "rc = readCluster_file_out(c, m, target_file_cluster_lst)\n",
    "\n",
    "\n",
    "# Continue from here with the delimiter method.\n",
    "\n"
   ],
   "id": "efe6a79aebed5971",
   "outputs": [
    {
     "name": "stdout",
     "output_type": "stream",
     "text": [
      "\u001B[0;96m == [\u001B[0;94mData extraction cluster out   :\u001B[0;92m Lumi\u001B[0;96m] ==\u001B[0m\n",
      "\u001B[0;96m    \u001B[0;94mSimulation size                : \u001B[0;91msmall\u001B[0m\n",
      "\u001B[0;96m    \u001B[0;94mtarget_file_cluster_lst[:] --->: \u001B[0;93m['C:\\\\cygwin64\\\\home\\\\Frederic\\\\SwanSea\\\\SourceCodes\\\\Bench_Grid_HiRep\\\\src\\\\PythonCodes\\\\Jupyter-NoteBooks\\\\LLR-Bench_Grid_HiRep_Notebooks\\\\..\\\\..\\\\..\\\\..\\\\..\\\\LatticeRuns\\\\Clusters\\\\Lumi\\\\LatticeRuns\\\\BKeeper_run_gpu\\\\small\\\\Run_BKeeper_run_gpu_lat24.24.24.32_nodes002_mpi04-01-02-02_small\\\\Run_BKeeper_run_gpu_lat24.24.24.32_nodes002_mpi04-01-02-02_small.out']\u001B[0m\n",
      "\u001B[0;96m == [\u001B[0;94mGetting target file list      :\u001B[0;92m readCluster_file_out\u001B[0;96m] ==\u001B[0m\n",
      "the number of lines in file C:\\cygwin64\\home\\Frederic\\SwanSea\\SourceCodes\\Bench_Grid_HiRep\\src\\PythonCodes\\Jupyter-NoteBooks\\LLR-Bench_Grid_HiRep_Notebooks\\..\\..\\..\\..\\..\\LatticeRuns\\Clusters\\Lumi\\LatticeRuns\\BKeeper_run_gpu\\small\\Run_BKeeper_run_gpu_lat24.24.24.32_nodes002_mpi04-01-02-02_small\\Run_BKeeper_run_gpu_lat24.24.24.32_nodes002_mpi04-01-02-02_small.out is : 198\n",
      "BKeeper : Message  : 0.139000 s : # Performing benchmark for SU(2), adjoint #\n",
      "BKeeper : Message  : 0.140000 s : ###########################################\n",
      "Grid    : Message  : 0.142000 s : Creating Lattice...\n",
      "Grid    : Message  : 0.512400 s : Created Grid:\n",
      "Grid    : Message  : 0.512800 s : \tFull Dimensions    : [24 24 24 32]\n",
      "Grid    : Message  : 0.512900 s : \tSIMD layout        : [1 1 2 2]\n",
      "Grid    : Message  : 0.513000 s : \tGlobal Dimensions  : [24 24 24 32]\n",
      "Grid    : Message  : 0.513100 s : \tLocal Dimensions   : [6 24 12 16]\n",
      "Grid    : Message  : 0.513200 s : \tReduced Dimensions : [6 24 6 8]\n",
      "Grid    : Message  : 0.513300 s : \tOuter strides      : [1 6 144 864]\n",
      "Grid    : Message  : 0.513400 s : \tInner strides      : [1 1 1 2]\n",
      "Grid    : Message  : 0.513500 s : \tiSites             : 4\n",
      "Grid    : Message  : 0.513600 s : \toSites             : 6912\n",
      "Grid    : Message  : 0.513700 s : \tlSites             : 27648\n",
      "Grid    : Message  : 0.513800 s : \tgSites             : 442368\n",
      "Grid    : Message  : 0.513900 s : \tNd                 : 4\n",
      "BKeeper : Message  : 0.586100 s : Creating gauge...\n",
      "BKeeper : Message  : 0.698510 s : Creating Fermion Action...\n",
      "BKeeper : Message  : 0.123941 s : Creating point source...\n",
      "BKeeper : Message  : 0.129484 s : Running CG...\n",
      "Grid    : Message  : 0.272225 s : ConjugateGradient Converged on iteration 51\tComputed residual 0.000507377221\tTrue residual 0.000507377221\tTarget 1e-10\n",
      "Grid    : Message  : 0.272243 s : Time breakdown \n",
      "Grid    : Message  : 0.272245 s : \tElapsed    0.049573 s\n",
      "Grid    : Message  : 0.272247 s : \tMatrix     0.037584 s\n",
      "Grid    : Message  : 0.272249 s : \tLinalg     0.011913 s\n",
      "Grid    : Message  : 0.272250 s : \tInner      0.005219 s\n",
      "Grid    : Message  : 0.272251 s : \tAxpyNorm   0.004020 s\n",
      "Grid    : Message  : 0.272252 s : \tLinearComb 0.002622 s\n",
      "BKeeper : Result   : 0.272459 s : CG Run Time (s): 0.148524\n",
      "BKeeper : Result   : 0.272475 s : FlOp/S (GFlOp/s):   1359.73565\n",
      "BKeeper : Result   : 0.272477 s : Comms  (MB):     184.025088\n",
      "BKeeper : Result   : 0.272479 s : Memory (GB):     69.231542\n"
     ]
    }
   ],
   "execution_count": 682
  }
 ],
 "metadata": {
  "kernelspec": {
   "display_name": "Python 3",
   "language": "python",
   "name": "python3"
  },
  "language_info": {
   "codemirror_mode": {
    "name": "ipython",
    "version": 2
   },
   "file_extension": ".py",
   "mimetype": "text/x-python",
   "name": "python",
   "nbconvert_exporter": "python",
   "pygments_lexer": "ipython2",
   "version": "2.7.6"
  }
 },
 "nbformat": 4,
 "nbformat_minor": 5
}
