{
 "cells": [
  {
   "metadata": {},
   "cell_type": "markdown",
   "source": [
    "---\n",
    "# Jupyter notebook Bench_Grid_HiRep starts\n",
    "---"
   ],
   "id": "f3314407852c666f"
  },
  {
   "metadata": {},
   "cell_type": "markdown",
   "source": [
    "## Importing the packages and checking if they are on system.\n",
    "---"
   ],
   "id": "cf40e00640b4f26f"
  },
  {
   "metadata": {
    "ExecuteTime": {
     "end_time": "2025-02-25T00:55:45.793465Z",
     "start_time": "2025-02-25T00:55:45.785452Z"
    }
   },
   "cell_type": "code",
   "source": [
    "# ----------------------------------------------------------------------------\n",
    "# [Python-3.12] basic import for system check\n",
    "# ----------------------------------------------------------------------------\n",
    "import os\n",
    "import sys\n",
    "import time\n",
    "import requests\n",
    "import multiprocessing\n",
    "import multiprocess\n",
    "from collections import defaultdict\n",
    "from functools import cache\n",
    "from pathlib import Path\n",
    "from glob import glob\n",
    "# ----------------------------------------------------------------------------\n",
    "# [Data-Plotting]\n",
    "# ----------------------------------------------------------------------------\n",
    "try:\n",
    "    import matplotlib\n",
    "    MATPLOTLIB_AVAILABLE = True\n",
    "except (ImportError, NameError, AttributeError, OSError):\n",
    "    print(\" Python package matplotlib is not installed on your system, verify or install\\n\")\n",
    "    MATPLOTLIB_AVAILABLE = False\n",
    "try:\n",
    "    import tqdm\n",
    "    TQDM_AVAILABLE = True\n",
    "except (ImportError, NameError, AttributeError, OSError):\n",
    "    print(\" Python package tqdm is not installed on your system, verify or install\\n\")\n",
    "    TQDM_AVAILABLE = False\n",
    "try:\n",
    "    import pandas\n",
    "    PANDAS_AVAILABLE = True\n",
    "except (ImportError, NameError, AttributeError, OSError):\n",
    "    print(\" Python package pandas is not installed on your system, verify or install\\n\")\n",
    "    PANDAS_AVAILABLE = False\n",
    "try:\n",
    "    import seaborn\n",
    "    SEABORN_AVAILABLE = True\n",
    "except (ImportError, NameError, AttributeError, OSError):\n",
    "    print(\" Python package seaborn is not installed on your system, verify or install\\n\")\n",
    "    SEABORN_AVAILABLE = False"
   ],
   "id": "347a40e994d2ee41",
   "outputs": [],
   "execution_count": 1074
  },
  {
   "metadata": {},
   "cell_type": "markdown",
   "source": [
    "## Checking and printing check result\n",
    "---"
   ],
   "id": "83f3e916bebcf89f"
  },
  {
   "metadata": {
    "ExecuteTime": {
     "end_time": "2025-02-25T00:55:45.921037Z",
     "start_time": "2025-02-25T00:55:45.915398Z"
    }
   },
   "cell_type": "code",
   "source": [
    "# ----------------------------------------------------------------------------\n",
    "# [Import-checks]\n",
    "# ----------------------------------------------------------------------------\n",
    "print(\"\\n\")\n",
    "print(\"MATPLOTLIB_AVAILABLE --- installed --->: \", MATPLOTLIB_AVAILABLE)\n",
    "print(\"TQDM_AVAILABLE       --- installed --->: \", TQDM_AVAILABLE)\n",
    "print(\"PANDAS_AVAILABLE     --- installed --->: \", PANDAS_AVAILABLE)\n",
    "print(\"SEABORN_AVAILABLE    --- installed --->: \", SEABORN_AVAILABLE)\n",
    "print(\"\\n\")"
   ],
   "id": "a174c5f2cb310f49",
   "outputs": [
    {
     "name": "stdout",
     "output_type": "stream",
     "text": [
      "\n",
      "\n",
      "MATPLOTLIB_AVAILABLE --- installed --->:  True\n",
      "TQDM_AVAILABLE       --- installed --->:  True\n",
      "PANDAS_AVAILABLE     --- installed --->:  True\n",
      "SEABORN_AVAILABLE    --- installed --->:  True\n",
      "\n",
      "\n"
     ]
    }
   ],
   "execution_count": 1075
  },
  {
   "metadata": {},
   "cell_type": "markdown",
   "source": [
    "## Setting up the main path structure and appending to system path.\n",
    "---"
   ],
   "id": "2a001c57e98aca59"
  },
  {
   "metadata": {
    "ExecuteTime": {
     "end_time": "2025-02-25T00:55:46.493265Z",
     "start_time": "2025-02-25T00:55:46.480584Z"
    }
   },
   "cell_type": "code",
   "source": [
    "# ----------------------------------------------------------------------------\n",
    "# [Path]\n",
    "# ----------------------------------------------------------------------------\n",
    "current_path = str(Path(sys.path[0]) / \"..\")\n",
    "if current_path not in sys.path: sys.path.append(current_path)\n",
    "\n",
    "APP_ROOT          = os.path.join(os.getcwd(), '..','..','..','..')\n",
    "DATA_PATH         = os.path.join('E:','LatticeRuns','Clusters')\n",
    "PROJECTNAME       = \"\"\n",
    "POOL_COMPONENTDIR = \"\"\n",
    "SOFTWARE          = \"N/A\"\n",
    "SQL_DIR           = 'SQLFiles_sql'\n",
    "APP_DATA_PATH     = \"N/A\"\n",
    "\n",
    "DATAPROCINTERCOM  = \"\"\n",
    "TBLECNTS_DIR      = \"\"\n",
    "SQL_FULLPATH_DIR  = os.path.join(os.getcwd())\n",
    "# ----------------------------------------------------------------------------\n",
    "# [SystemPath-Appens]\n",
    "# ----------------------------------------------------------------------------\n",
    "sys.path.append(APP_ROOT)\n",
    "sys.path.append(APP_DATA_PATH)\n",
    "sys.path.append(DATA_PATH)\n",
    "sys.path.append(os.path.join(APP_ROOT, '.'))\n",
    "sys.path.append(os.path.join(APP_ROOT, '.','src','PythonCodes'))\n",
    "sys.path.append(os.path.join(APP_ROOT, '.','src','PythonCodes','utils'))\n",
    "\n",
    "print(\"Current Path  --->: \", current_path)\n",
    "print(\"APP_ROOT      --->: \", APP_ROOT)\n",
    "print(\"DATA_PATH     --->: \", DATA_PATH)\n",
    "print(\"APP_DATA_PATH --->: \", APP_DATA_PATH)"
   ],
   "id": "2357a002a87e851d",
   "outputs": [
    {
     "name": "stdout",
     "output_type": "stream",
     "text": [
      "Current Path  --->:  C:\\cygwin64\\home\\Frederic\\SwanSea\\SourceCodes\\Bench_Grid_HiRep\\src\\PythonCodes\\Jupyter-NoteBooks\\LLR-Bench_Grid_HiRep_Notebooks\\..\n",
      "APP_ROOT      --->:  C:\\cygwin64\\home\\Frederic\\SwanSea\\SourceCodes\\Bench_Grid_HiRep\\src\\PythonCodes\\Jupyter-NoteBooks\\LLR-Bench_Grid_HiRep_Notebooks\\..\\..\\..\\..\n",
      "DATA_PATH     --->:  E:LatticeRuns\\Clusters\n",
      "APP_DATA_PATH --->:  N/A\n"
     ]
    }
   ],
   "execution_count": 1076
  },
  {
   "metadata": {},
   "cell_type": "markdown",
   "source": [
    "## Importing the application objects.\n",
    "---"
   ],
   "id": "ef2ea9b5a0e380e8"
  },
  {
   "metadata": {
    "ExecuteTime": {
     "end_time": "2025-02-25T00:55:47.263505Z",
     "start_time": "2025-02-25T00:55:47.256537Z"
    }
   },
   "cell_type": "code",
   "source": [
    "# ----------------------------------------------------------------------------\n",
    "# [Application]\n",
    "# ----------------------------------------------------------------------------\n",
    "#Application imports\n",
    "import src.PythonCodes.DataManage_common\n",
    "import src.PythonCodes.utils.messageHandler\n",
    "import src.PythonCodes.utils.Command_line\n",
    "import src.PythonCodes.DataManage_header"
   ],
   "id": "c8bffc4b1eb4e35a",
   "outputs": [],
   "execution_count": 1077
  },
  {
   "metadata": {},
   "cell_type": "markdown",
   "source": [
    "## Instantiating the main objects\n",
    "---"
   ],
   "id": "13cda1433c4de033"
  },
  {
   "metadata": {
    "ExecuteTime": {
     "end_time": "2025-02-25T00:55:47.452715Z",
     "start_time": "2025-02-25T00:55:47.442173Z"
    }
   },
   "cell_type": "code",
   "source": [
    "version = src.PythonCodes.DataManage_common.DataManage_version()\n",
    "c = src.PythonCodes.DataManage_common.DataManage_common()\n",
    "rc = c.get_RC_SUCCESS()\n",
    "# Getting the log file\n",
    "logfile = c.getLogfileName()  #getting the name of the global log file\n",
    "m = src.PythonCodes.utils.messageHandler.messageHandler(logfile = logfile)\n",
    "# printing the header of Application\n",
    "src.PythonCodes.DataManage_header.print_Bench_Grid_header(common=c, messageHandler=m)"
   ],
   "id": "f262adb47028c616",
   "outputs": [
    {
     "name": "stdout",
     "output_type": "stream",
     "text": [
      "\n",
      "\u001B[0;96m == [\u001B[1;93m ************************************************************************************\u001B[0;96m] ==\u001B[0m\n",
      "\u001B[0;96m == [\u001B[1;93m *                    python code to run the Benchmarking suite.                    *\u001B[0;96m] ==\u001B[0m\n",
      "\u001B[0;96m == [\u001B[1;93m *                                                                                  *\u001B[0;96m] ==\u001B[0m\n",
      "\u001B[0;96m == [\u001B[1;93m * XXXXXX                          XX                XXXX             X        XX   *\u001B[0;96m] ==\u001B[0m\n",
      "\u001B[0;96m == [\u001B[1;93m * X    X                          X               X    X                      X    *\u001B[0;96m] ==\u001B[0m\n",
      "\u001B[0;96m == [\u001B[1;93m * X    X                          X              X                            X    *\u001B[0;96m] ==\u001B[0m\n",
      "\u001B[0;96m == [\u001B[1;93m * X    X  XXXXX  XX XX    XXXXX   X XX           X       XXX XX   XXX     XXXXX    *\u001B[0;96m] ==\u001B[0m\n",
      "\u001B[0;96m == [\u001B[1;93m * XXXXX  X     X  XX  X  X     X  XX  X          X         XX  X    X    X    X    *\u001B[0;96m] ==\u001B[0m\n",
      "\u001B[0;96m == [\u001B[1;93m * X    X XXXXXXX  X   X  X        X   X  XXXXXXX X   XXX   X        X    X    X    *\u001B[0;96m] ==\u001B[0m\n",
      "\u001B[0;96m == [\u001B[1;93m * X    X X        X   X  X        X   X          X     X   X        X    X    X    *\u001B[0;96m] ==\u001B[0m\n",
      "\u001B[0;96m == [\u001B[1;93m * X    X X     X  X   X  X     X  X   X           X    X   X        X    X    X    *\u001B[0;96m] ==\u001B[0m\n",
      "\u001B[0;96m == [\u001B[1;93m * XXXXXX   XXXXX  XXX XXX  XXXXX  XXX XXX           XXXX  XXXXX    XXXXX   XXXXXX  *\u001B[0;96m] ==\u001B[0m\n",
      "\u001B[0;96m == [\u001B[1;93m *                                                                                  *\u001B[0;96m] ==\u001B[0m\n",
      "\u001B[0;96m == [\u001B[1;93m ************************************************************************************\u001B[0;96m] ==\u001B[0m\n"
     ]
    }
   ],
   "execution_count": 1078
  },
  {
   "metadata": {},
   "cell_type": "markdown",
   "source": [
    "## Setting the path structure into the main objects\n",
    "---"
   ],
   "id": "5918e31a05a64741"
  },
  {
   "metadata": {
    "ExecuteTime": {
     "end_time": "2025-02-25T00:55:48.250209Z",
     "start_time": "2025-02-25T00:55:48.242791Z"
    }
   },
   "cell_type": "code",
   "source": [
    "c.setApp_root(APP_ROOT)\n",
    "c.setData_path(DATA_PATH)\n",
    "c.setProjectName(PROJECTNAME)\n",
    "c.setPool_componentdir(POOL_COMPONENTDIR)\n",
    "c.setSoftware(SOFTWARE)\n",
    "c.setDataProcInterCom(DATAPROCINTERCOM)\n",
    "c.setJSon_TableCounts_Dir(TBLECNTS_DIR)\n",
    "c.setSql_dir(SQL_DIR)\n",
    "c.setSql_fullPath_dir(SQL_FULLPATH_DIR)"
   ],
   "id": "3e18dcaf2791ba29",
   "outputs": [],
   "execution_count": 1079
  },
  {
   "metadata": {},
   "cell_type": "markdown",
   "source": [
    "## Starting the program\n",
    "---"
   ],
   "id": "6c425fdee2527782"
  },
  {
   "metadata": {
    "ExecuteTime": {
     "end_time": "2025-02-25T00:55:48.449274Z",
     "start_time": "2025-02-25T00:55:48.443253Z"
    }
   },
   "cell_type": "code",
   "source": [
    "# --------------------------------------------------------------------------\n",
    "# [Main-code]\n",
    "# --------------------------------------------------------------------------\n",
    "m.printMesgStr(\"This is the main program      :\", c.getCyan(), \"Bench_Grid_HiRep.py\")"
   ],
   "id": "f8f2cc71ad5de6e3",
   "outputs": [
    {
     "name": "stdout",
     "output_type": "stream",
     "text": [
      "\u001B[0;96m == [\u001B[0;94mThis is the main program      :\u001B[0;96m Bench_Grid_HiRep.py\u001B[0;96m] ==\u001B[0m\n"
     ]
    }
   ],
   "execution_count": 1080
  },
  {
   "metadata": {},
   "cell_type": "markdown",
   "source": [
    "## Main functions\n",
    "---"
   ],
   "id": "252445d80613b79f"
  },
  {
   "metadata": {},
   "cell_type": "markdown",
   "source": "### Reinitialising_Paths_and_object_content",
   "id": "bda5aeac975fdf38"
  },
  {
   "metadata": {
    "ExecuteTime": {
     "end_time": "2025-02-25T00:55:49.280696Z",
     "start_time": "2025-02-25T00:55:49.268638Z"
    }
   },
   "cell_type": "code",
   "source": [
    "def Reinitialising_Paths_and_object_content(c, m, data_path, b_action, sim_sz):\n",
    "    __func__= sys._getframe().f_code.co_name\n",
    "    rc = c.get_RC_SUCCESS()\n",
    "    m.printMesgStr(\"Getting target file list      :\", c.getGreen(), __func__)\n",
    "    # ----------------------------------------------------------------------\n",
    "    c.setData_path(data_path)\n",
    "    c.setTarget_File(\"target.txt\")\n",
    "\n",
    "    target_file_default = c.getTarget_File()\n",
    "    m.printMesgStr(\"Default target file           :\", c.getMagenta(), target_file_default)\n",
    "\n",
    "    msg_analysis = c.getTarget_File().split(\".txt\")[0] + c.undr_scr + \\\n",
    "                    b_action      + c.undr_scr                      + \\\n",
    "                    sim_sz        + c.undr_scr                      + \\\n",
    "                    \"batch_files\" + c.txt_ext\n",
    "\n",
    "    c.setTarget_File(str(msg_analysis))\n",
    "    m.printMesgStr(\"Target file for analysis      :\", c.getMagenta(), c.getTarget_File())\n",
    "\n",
    "    c.setTargetdir( os.path.join(c.getData_path(), c.getTarget_File()))\n",
    "    m.printMesgStr(\"Full Path target file         :\", c.getCyan(), c.getTargetdir())\n",
    "\n",
    "    if Path(c.getTargetdir()).is_file():\n",
    "        m.printMesgAddStr(\"[Check]: target file       --->: \", c.getGreen(), \"Exists\")\n",
    "    # ----------------------------------------------------------------------\n",
    "    return rc\n",
    "# [end-function]\n",
    "# --------------------------------------------------------------------------"
   ],
   "id": "ecd3e0551bfff9a3",
   "outputs": [],
   "execution_count": 1081
  },
  {
   "metadata": {},
   "cell_type": "markdown",
   "source": "### getTarget_file_lst",
   "id": "eda34a8a78543807"
  },
  {
   "metadata": {
    "ExecuteTime": {
     "end_time": "2025-02-25T00:55:49.493976Z",
     "start_time": "2025-02-25T00:55:49.485361Z"
    }
   },
   "cell_type": "code",
   "source": [
    "def getTarget_file_lst(c, m, target_file):\n",
    "    __func__= sys._getframe().f_code.co_name\n",
    "    rc = c.get_RC_SUCCESS()\n",
    "    m.printMesgStr(\"Getting target file list      :\", c.getGreen(), __func__)\n",
    "    target_file_lst = []\n",
    "    target_file_dir = []\n",
    "    try:\n",
    "        with open(target_file) as file:\n",
    "            cnt = 0\n",
    "            for line in file:\n",
    "                target_file_lst.append(os.path.basename(line).strip())\n",
    "                target_file_dir.append(os.path.dirname(os.path.realpath(line)).strip())\n",
    "                cnt += 1\n",
    "            # [end-For-Loop]\n",
    "            m.printMesgAddStr(\"Number of files in target_file : \", c.getYellow(), str(cnt))\n",
    "        # [end-with]\n",
    "    except IOError:\n",
    "        m.printMesgAddStr(\" Filename          : \",\n",
    "                                   c.getCyan(), target_file)\n",
    "        m.printMesgAddStr(\"                   : \",\n",
    "                                   c.getRed(), \"cannot be found check\"\n",
    "                                                    \" if file exist\")\n",
    "        #exit(c.get_RC_FAIL())\n",
    "    # [end-try-catch]\n",
    "    return rc, target_file_lst, target_file_dir\n",
    "# [end-function]\n",
    "# --------------------------------------------------------------------------"
   ],
   "id": "9bfba0bb3a31af5e",
   "outputs": [],
   "execution_count": 1082
  },
  {
   "metadata": {},
   "cell_type": "markdown",
   "source": "### getTaget_file_cluster_lst",
   "id": "20f970374cad09d8"
  },
  {
   "metadata": {
    "ExecuteTime": {
     "end_time": "2025-02-25T00:55:49.661661Z",
     "start_time": "2025-02-25T00:55:49.652668Z"
    }
   },
   "cell_type": "code",
   "source": [
    "def getTarget_file_cluster_lst(c, m, target_file_lst):\n",
    "    __func__= sys._getframe().f_code.co_name\n",
    "    rc = c.get_RC_SUCCESS()\n",
    "    m.printMesgStr(\"Getting target file list      :\", c.getGreen(), __func__)\n",
    "    target_file_cluster_lst = []\n",
    "    for i in range(len(target_file_lst[:])):\n",
    "        msg = (os.path.join(c.getData_path(), batch_action, simulation_size, str(target_file_lst[i].split(\".sh\")[0]), target_file_lst[i])).strip()\n",
    "        if Path(msg).is_file():\n",
    "            m.printMesgAddStr(\"[Check]: target file       --->: \", c.getGreen(), c.getMagenta()+ msg + c.getGreen() + \" ---> Exists\")\n",
    "            # Now get the output file to analise and put it into a list\n",
    "            cluster_out_file = msg.split(\".sh\")[0]+\".out\"\n",
    "            # Extracting cluster files that has been benched\n",
    "            if Path(cluster_out_file).is_file():\n",
    "                m.printMesgAddStr(\"[Check]: Cluster file      --->: \", c.getGreen(), c.getYellow()+ cluster_out_file + c.getGreen() + \" ---> Exists\")\n",
    "                target_file_cluster_lst.append(cluster_out_file)\n",
    "            # [end-if]\n",
    "        # [end-if]\n",
    "    # [end-for-loop]\n",
    "    return rc, target_file_cluster_lst\n",
    "# [end-function]\n",
    "# --------------------------------------------------------------------------"
   ],
   "id": "867a9b93449cdcf4",
   "outputs": [],
   "execution_count": 1083
  },
  {
   "metadata": {},
   "cell_type": "markdown",
   "source": "### readCluster_file_out",
   "id": "1c31dc890566573d"
  },
  {
   "metadata": {
    "ExecuteTime": {
     "end_time": "2025-02-25T00:55:49.903987Z",
     "start_time": "2025-02-25T00:55:49.880049Z"
    }
   },
   "cell_type": "code",
   "source": [
    "def read_BKeeper_file_out(c, m, batch_action, simulation_size, target_file_cluster_lst):\n",
    "    __func__= sys._getframe().f_code.co_name\n",
    "    rc = c.get_RC_SUCCESS()\n",
    "    m.printMesgStr(\"Getting target file list      :\", c.getGreen(), __func__)\n",
    "    end_key = \"###############################################\"\n",
    "    bench_BKeeper_dict = {}\n",
    "    start_key_rep_lst = [\n",
    "        'Performing benchmark for SU(2), adjoint',\n",
    "        'Performing benchmark for SU(2), fundamental',\n",
    "        'Performing benchmark for SU(3), fundamental',\n",
    "        'Performing benchmark for Sp(4), fundamental'\n",
    "    ]\n",
    "    start_BKeeper_key = \"BKeeper\"\n",
    "    start_grid_key    = \"Grid\"\n",
    "    # Starting the parsing of files over the start_key_lst\n",
    "    # TODO: loop over the representation key\n",
    "    ikey = 0\n",
    "    cg_run_time_lst = []\n",
    "    FlOps_GFlOps_lst = []\n",
    "    Comms_MB_lst = []\n",
    "    Memory_GB_lst = []\n",
    "    mpi_distribution_lst = []\n",
    "    nnodes_lst = []\n",
    "    lattice_size_lst = []\n",
    "    # Making sure that the list are empty before inserting anything\n",
    "    cg_run_time_lst.clear()\n",
    "    FlOps_GFlOps_lst.clear()\n",
    "    Comms_MB_lst.clear()\n",
    "    Memory_GB_lst.clear()\n",
    "    mpi_distribution_lst.clear()\n",
    "    nnodes_lst.clear()\n",
    "    lattice_size_lst.clear()\n",
    "    #\n",
    "    for i in tqdm.tqdm(range(len(target_file_cluster_lst[:])), ncols=100, desc='bench_BKeeper_dict:'):\n",
    "    #for i in range(len(target_file_cluster_lst[:])):\n",
    "        cluster_file = open(target_file_cluster_lst[i])\n",
    "        # Getting the mpi_distribution, lattice size and number of nodes\n",
    "        ith_file = os.path.basename(target_file_cluster_lst[i].split('\\n')[0]).split('.out')[0].split('Run_')[1].split(batch_action+'_')[1].split('_'+simulation_size)[0]\n",
    "        split_string = ith_file.split('_')\n",
    "\n",
    "        lines = cluster_file.readlines()\n",
    "        database_file_len = len(lines)\n",
    "        start_key_rep_ith = start_key_rep_lst[ikey]\n",
    "        appending = False\n",
    "        cnt = 0\n",
    "        for j in range(database_file_len):\n",
    "            if start_key_rep_ith in lines[j].split('\\n')[0]:\n",
    "                appending = True\n",
    "            if end_key in lines[j].split('\\n')[0]:\n",
    "                appending = False\n",
    "            elif appending:\n",
    "                if start_BKeeper_key in lines[j].split('\\n')[0]:\n",
    "                    if \"CG Run Time (s)\" in  lines[j].split('\\n')[0]:\n",
    "                        key   = \"CG Run Time (s)\" #str(lines[j]).split(':')[0]\n",
    "                        value = str(str(lines[j]).split(':')[4]).split('\\n')[0]\n",
    "                        cg_run_time_lst.append(float(value))\n",
    "\n",
    "                        lattice_size_lst.append(str(split_string[0]).split('lat'  )[1])\n",
    "                        mpi_distribution_lst.append(str(split_string[2]).split('mpi'  )[1])\n",
    "                        nnodes_lst.append(str(split_string[1]).split('nodes')[1])\n",
    "\n",
    "                    if \"FlOp/S (GFlOp/s)\" in  lines[j].split('\\n')[0]:\n",
    "                        key   = \"FlOp/S (GFlOp/s)\" #str(lines[j]).split(':')[0]\n",
    "                        value = str(str(lines[j]).split(':')[4]).split('\\n')[0]\n",
    "                        FlOps_GFlOps_lst.append(float(value))\n",
    "                    if \"Comms  (MB)\" in  lines[j].split('\\n')[0]:\n",
    "                        key   = \"Comms\" #str(lines[j]).split(':')[0]\n",
    "                        value = str(str(lines[j]).split(':')[4]).split('\\n')[0]\n",
    "                        Comms_MB_lst.append(float(value))\n",
    "                    if \"Memory (GB)\" in  lines[j].split('\\n')[0]:\n",
    "                        key   = \"Memory (GB)\" #str(lines[j]).split(':')[0]\n",
    "                        value = str(str(lines[j]).split(':')[4]).split('\\n')[0]\n",
    "                        Memory_GB_lst.append(float(value))\n",
    "            # [end-if]\n",
    "        # [end-for-loop [j]]\n",
    "    # [end-for-loop [i]]\n",
    "    bench_BKeeper_dict[\"CG Run Time (s)\"]  = cg_run_time_lst[:]\n",
    "    bench_BKeeper_dict[\"FlOp/S (GFlOp/s)\"] = FlOps_GFlOps_lst[:]\n",
    "    bench_BKeeper_dict[\"Comms  (MB)\"]      = Comms_MB_lst[:]\n",
    "    bench_BKeeper_dict[\"Memory (GB)\"]      = Memory_GB_lst[:]\n",
    "    bench_BKeeper_dict[\"lattice\"]          = lattice_size_lst[:]\n",
    "    bench_BKeeper_dict[\"nodes\"]            = nnodes_lst[:]\n",
    "    bench_BKeeper_dict[\"mpi_distribution\"] = mpi_distribution_lst[:]\n",
    "\n",
    "    # creating a dictionary from the output data\n",
    "    #print(\" printing the dictionay ---->: \", bench_BKeeper_dict)\n",
    "    dataframe = pandas.DataFrame.from_dict(bench_BKeeper_dict)\n",
    "\n",
    "    return rc, dataframe\n",
    "# [end-function]\n",
    "# --------------------------------------------------------------------------"
   ],
   "id": "efe6a79aebed5971",
   "outputs": [],
   "execution_count": 1084
  },
  {
   "metadata": {},
   "cell_type": "markdown",
   "source": [
    "## Lumi\n",
    "### [BKeeper_run_gpu : small]\n",
    "---"
   ],
   "id": "1943c8f7741307b7"
  },
  {
   "metadata": {
    "ExecuteTime": {
     "end_time": "2025-02-25T00:55:50.185453Z",
     "start_time": "2025-02-25T00:55:50.180387Z"
    }
   },
   "cell_type": "code",
   "source": [
    "machine_name = \"Lumi\"\n",
    "DATA_PATH         = os.path.join('E:','LatticeRuns','Clusters',machine_name,'LatticeRuns')"
   ],
   "id": "269327d82d98614b",
   "outputs": [],
   "execution_count": 1085
  },
  {
   "metadata": {
    "ExecuteTime": {
     "end_time": "2025-02-25T00:55:50.405399Z",
     "start_time": "2025-02-25T00:55:50.396418Z"
    }
   },
   "cell_type": "code",
   "source": [
    "batch_action = \"BKeeper_run_gpu\"\n",
    "simulation_size=\"small\"\n",
    "rc = Reinitialising_Paths_and_object_content(c, m, DATA_PATH, batch_action, simulation_size)"
   ],
   "id": "d356081392b5b746",
   "outputs": [
    {
     "name": "stdout",
     "output_type": "stream",
     "text": [
      "\u001B[0;96m == [\u001B[0;94mGetting target file list      :\u001B[0;92m Reinitialising_Paths_and_object_content\u001B[0;96m] ==\u001B[0m\n",
      "\u001B[0;96m == [\u001B[0;94mDefault target file           :\u001B[0;95m target.txt\u001B[0;96m] ==\u001B[0m\n",
      "\u001B[0;96m == [\u001B[0;94mTarget file for analysis      :\u001B[0;95m target_BKeeper_run_gpu_small_batch_files.txt\u001B[0;96m] ==\u001B[0m\n",
      "\u001B[0;96m == [\u001B[0;94mFull Path target file         :\u001B[0;96m E:LatticeRuns\\Clusters\\Lumi\\LatticeRuns\\target_BKeeper_run_gpu_small_batch_files.txt\u001B[0;96m] ==\u001B[0m\n",
      "\u001B[0;96m    \u001B[0;94m[Check]: target file       --->: \u001B[0;92mExists\u001B[0m\n"
     ]
    }
   ],
   "execution_count": 1086
  },
  {
   "metadata": {
    "ExecuteTime": {
     "end_time": "2025-02-25T00:55:51.140131Z",
     "start_time": "2025-02-25T00:55:51.072948Z"
    }
   },
   "cell_type": "code",
   "source": [
    "# --------------------------------------------------------------------------\n",
    "# Getting content in the target file\n",
    "rc, target_file_lst_lumi, target_file_dir_lumi = getTarget_file_lst(c, m, c.getTargetdir())\n"
   ],
   "id": "ee881dd986be3bf",
   "outputs": [
    {
     "name": "stdout",
     "output_type": "stream",
     "text": [
      "\u001B[0;96m == [\u001B[0;94mGetting target file list      :\u001B[0;92m getTarget_file_lst\u001B[0;96m] ==\u001B[0m\n",
      "\u001B[0;96m    \u001B[0;94mNumber of files in target_file : \u001B[0;93m51\u001B[0m\n"
     ]
    }
   ],
   "execution_count": 1087
  },
  {
   "metadata": {
    "ExecuteTime": {
     "end_time": "2025-02-25T00:55:51.935549Z",
     "start_time": "2025-02-25T00:55:51.904860Z"
    }
   },
   "cell_type": "code",
   "source": [
    "# --------------------------------------------------------------------------\n",
    "# Getting content in the target file\n",
    "rc, target_file_cluster_lst_lumi = getTarget_file_cluster_lst(c, m, target_file_lst_lumi[:])"
   ],
   "id": "d35b470828562f39",
   "outputs": [
    {
     "name": "stdout",
     "output_type": "stream",
     "text": [
      "\u001B[0;96m == [\u001B[0;94mGetting target file list      :\u001B[0;92m getTarget_file_cluster_lst\u001B[0;96m] ==\u001B[0m\n",
      "\u001B[0;96m    \u001B[0;94m[Check]: target file       --->: \u001B[0;92m\u001B[0;95mE:LatticeRuns\\Clusters\\Lumi\\LatticeRuns\\BKeeper_run_gpu\\small\\Run_BKeeper_run_gpu_lat24.24.24.32_nodes002_mpi01-01-04-04_small\\Run_BKeeper_run_gpu_lat24.24.24.32_nodes002_mpi01-01-04-04_small.sh\u001B[0;92m ---> Exists\u001B[0m\n",
      "\u001B[0;96m    \u001B[0;94m[Check]: Cluster file      --->: \u001B[0;92m\u001B[0;93mE:LatticeRuns\\Clusters\\Lumi\\LatticeRuns\\BKeeper_run_gpu\\small\\Run_BKeeper_run_gpu_lat24.24.24.32_nodes002_mpi01-01-04-04_small\\Run_BKeeper_run_gpu_lat24.24.24.32_nodes002_mpi01-01-04-04_small.out\u001B[0;92m ---> Exists\u001B[0m\n",
      "\u001B[0;96m    \u001B[0;94m[Check]: target file       --->: \u001B[0;92m\u001B[0;95mE:LatticeRuns\\Clusters\\Lumi\\LatticeRuns\\BKeeper_run_gpu\\small\\Run_BKeeper_run_gpu_lat24.24.24.32_nodes002_mpi04-02-02-01_small\\Run_BKeeper_run_gpu_lat24.24.24.32_nodes002_mpi04-02-02-01_small.sh\u001B[0;92m ---> Exists\u001B[0m\n",
      "\u001B[0;96m    \u001B[0;94m[Check]: Cluster file      --->: \u001B[0;92m\u001B[0;93mE:LatticeRuns\\Clusters\\Lumi\\LatticeRuns\\BKeeper_run_gpu\\small\\Run_BKeeper_run_gpu_lat24.24.24.32_nodes002_mpi04-02-02-01_small\\Run_BKeeper_run_gpu_lat24.24.24.32_nodes002_mpi04-02-02-01_small.out\u001B[0;92m ---> Exists\u001B[0m\n",
      "\u001B[0;96m    \u001B[0;94m[Check]: target file       --->: \u001B[0;92m\u001B[0;95mE:LatticeRuns\\Clusters\\Lumi\\LatticeRuns\\BKeeper_run_gpu\\small\\Run_BKeeper_run_gpu_lat24.24.24.32_nodes002_mpi01-08-02-01_small\\Run_BKeeper_run_gpu_lat24.24.24.32_nodes002_mpi01-08-02-01_small.sh\u001B[0;92m ---> Exists\u001B[0m\n",
      "\u001B[0;96m    \u001B[0;94m[Check]: Cluster file      --->: \u001B[0;92m\u001B[0;93mE:LatticeRuns\\Clusters\\Lumi\\LatticeRuns\\BKeeper_run_gpu\\small\\Run_BKeeper_run_gpu_lat24.24.24.32_nodes002_mpi01-08-02-01_small\\Run_BKeeper_run_gpu_lat24.24.24.32_nodes002_mpi01-08-02-01_small.out\u001B[0;92m ---> Exists\u001B[0m\n",
      "\u001B[0;96m    \u001B[0;94m[Check]: target file       --->: \u001B[0;92m\u001B[0;95mE:LatticeRuns\\Clusters\\Lumi\\LatticeRuns\\BKeeper_run_gpu\\small\\Run_BKeeper_run_gpu_lat24.24.24.32_nodes002_mpi01-02-08-01_small\\Run_BKeeper_run_gpu_lat24.24.24.32_nodes002_mpi01-02-08-01_small.sh\u001B[0;92m ---> Exists\u001B[0m\n",
      "\u001B[0;96m    \u001B[0;94m[Check]: Cluster file      --->: \u001B[0;92m\u001B[0;93mE:LatticeRuns\\Clusters\\Lumi\\LatticeRuns\\BKeeper_run_gpu\\small\\Run_BKeeper_run_gpu_lat24.24.24.32_nodes002_mpi01-02-08-01_small\\Run_BKeeper_run_gpu_lat24.24.24.32_nodes002_mpi01-02-08-01_small.out\u001B[0;92m ---> Exists\u001B[0m\n",
      "\u001B[0;96m    \u001B[0;94m[Check]: target file       --->: \u001B[0;92m\u001B[0;95mE:LatticeRuns\\Clusters\\Lumi\\LatticeRuns\\BKeeper_run_gpu\\small\\Run_BKeeper_run_gpu_lat24.24.24.32_nodes002_mpi08-01-02-01_small\\Run_BKeeper_run_gpu_lat24.24.24.32_nodes002_mpi08-01-02-01_small.sh\u001B[0;92m ---> Exists\u001B[0m\n",
      "\u001B[0;96m    \u001B[0;94m[Check]: Cluster file      --->: \u001B[0;92m\u001B[0;93mE:LatticeRuns\\Clusters\\Lumi\\LatticeRuns\\BKeeper_run_gpu\\small\\Run_BKeeper_run_gpu_lat24.24.24.32_nodes002_mpi08-01-02-01_small\\Run_BKeeper_run_gpu_lat24.24.24.32_nodes002_mpi08-01-02-01_small.out\u001B[0;92m ---> Exists\u001B[0m\n",
      "\u001B[0;96m    \u001B[0;94m[Check]: target file       --->: \u001B[0;92m\u001B[0;95mE:LatticeRuns\\Clusters\\Lumi\\LatticeRuns\\BKeeper_run_gpu\\small\\Run_BKeeper_run_gpu_lat24.24.24.32_nodes001_mpi04-01-01-02_small\\Run_BKeeper_run_gpu_lat24.24.24.32_nodes001_mpi04-01-01-02_small.sh\u001B[0;92m ---> Exists\u001B[0m\n",
      "\u001B[0;96m    \u001B[0;94m[Check]: Cluster file      --->: \u001B[0;92m\u001B[0;93mE:LatticeRuns\\Clusters\\Lumi\\LatticeRuns\\BKeeper_run_gpu\\small\\Run_BKeeper_run_gpu_lat24.24.24.32_nodes001_mpi04-01-01-02_small\\Run_BKeeper_run_gpu_lat24.24.24.32_nodes001_mpi04-01-01-02_small.out\u001B[0;92m ---> Exists\u001B[0m\n",
      "\u001B[0;96m    \u001B[0;94m[Check]: target file       --->: \u001B[0;92m\u001B[0;95mE:LatticeRuns\\Clusters\\Lumi\\LatticeRuns\\BKeeper_run_gpu\\small\\Run_BKeeper_run_gpu_lat24.24.24.32_nodes001_mpi08-01-01-01_small\\Run_BKeeper_run_gpu_lat24.24.24.32_nodes001_mpi08-01-01-01_small.sh\u001B[0;92m ---> Exists\u001B[0m\n",
      "\u001B[0;96m    \u001B[0;94m[Check]: Cluster file      --->: \u001B[0;92m\u001B[0;93mE:LatticeRuns\\Clusters\\Lumi\\LatticeRuns\\BKeeper_run_gpu\\small\\Run_BKeeper_run_gpu_lat24.24.24.32_nodes001_mpi08-01-01-01_small\\Run_BKeeper_run_gpu_lat24.24.24.32_nodes001_mpi08-01-01-01_small.out\u001B[0;92m ---> Exists\u001B[0m\n",
      "\u001B[0;96m    \u001B[0;94m[Check]: target file       --->: \u001B[0;92m\u001B[0;95mE:LatticeRuns\\Clusters\\Lumi\\LatticeRuns\\BKeeper_run_gpu\\small\\Run_BKeeper_run_gpu_lat24.24.24.32_nodes002_mpi01-01-08-02_small\\Run_BKeeper_run_gpu_lat24.24.24.32_nodes002_mpi01-01-08-02_small.sh\u001B[0;92m ---> Exists\u001B[0m\n",
      "\u001B[0;96m    \u001B[0;94m[Check]: Cluster file      --->: \u001B[0;92m\u001B[0;93mE:LatticeRuns\\Clusters\\Lumi\\LatticeRuns\\BKeeper_run_gpu\\small\\Run_BKeeper_run_gpu_lat24.24.24.32_nodes002_mpi01-01-08-02_small\\Run_BKeeper_run_gpu_lat24.24.24.32_nodes002_mpi01-01-08-02_small.out\u001B[0;92m ---> Exists\u001B[0m\n",
      "\u001B[0;96m    \u001B[0;94m[Check]: target file       --->: \u001B[0;92m\u001B[0;95mE:LatticeRuns\\Clusters\\Lumi\\LatticeRuns\\BKeeper_run_gpu\\small\\Run_BKeeper_run_gpu_lat24.24.24.32_nodes002_mpi02-01-04-02_small\\Run_BKeeper_run_gpu_lat24.24.24.32_nodes002_mpi02-01-04-02_small.sh\u001B[0;92m ---> Exists\u001B[0m\n",
      "\u001B[0;96m    \u001B[0;94m[Check]: Cluster file      --->: \u001B[0;92m\u001B[0;93mE:LatticeRuns\\Clusters\\Lumi\\LatticeRuns\\BKeeper_run_gpu\\small\\Run_BKeeper_run_gpu_lat24.24.24.32_nodes002_mpi02-01-04-02_small\\Run_BKeeper_run_gpu_lat24.24.24.32_nodes002_mpi02-01-04-02_small.out\u001B[0;92m ---> Exists\u001B[0m\n",
      "\u001B[0;96m    \u001B[0;94m[Check]: target file       --->: \u001B[0;92m\u001B[0;95mE:LatticeRuns\\Clusters\\Lumi\\LatticeRuns\\BKeeper_run_gpu\\small\\Run_BKeeper_run_gpu_lat24.24.24.32_nodes002_mpi04-01-04-01_small\\Run_BKeeper_run_gpu_lat24.24.24.32_nodes002_mpi04-01-04-01_small.sh\u001B[0;92m ---> Exists\u001B[0m\n",
      "\u001B[0;96m    \u001B[0;94m[Check]: Cluster file      --->: \u001B[0;92m\u001B[0;93mE:LatticeRuns\\Clusters\\Lumi\\LatticeRuns\\BKeeper_run_gpu\\small\\Run_BKeeper_run_gpu_lat24.24.24.32_nodes002_mpi04-01-04-01_small\\Run_BKeeper_run_gpu_lat24.24.24.32_nodes002_mpi04-01-04-01_small.out\u001B[0;92m ---> Exists\u001B[0m\n",
      "\u001B[0;96m    \u001B[0;94m[Check]: target file       --->: \u001B[0;92m\u001B[0;95mE:LatticeRuns\\Clusters\\Lumi\\LatticeRuns\\BKeeper_run_gpu\\small\\Run_BKeeper_run_gpu_lat24.24.24.32_nodes002_mpi08-02-01-01_small\\Run_BKeeper_run_gpu_lat24.24.24.32_nodes002_mpi08-02-01-01_small.sh\u001B[0;92m ---> Exists\u001B[0m\n",
      "\u001B[0;96m    \u001B[0;94m[Check]: Cluster file      --->: \u001B[0;92m\u001B[0;93mE:LatticeRuns\\Clusters\\Lumi\\LatticeRuns\\BKeeper_run_gpu\\small\\Run_BKeeper_run_gpu_lat24.24.24.32_nodes002_mpi08-02-01-01_small\\Run_BKeeper_run_gpu_lat24.24.24.32_nodes002_mpi08-02-01-01_small.out\u001B[0;92m ---> Exists\u001B[0m\n",
      "\u001B[0;96m    \u001B[0;94m[Check]: target file       --->: \u001B[0;92m\u001B[0;95mE:LatticeRuns\\Clusters\\Lumi\\LatticeRuns\\BKeeper_run_gpu\\small\\Run_BKeeper_run_gpu_lat24.24.24.32_nodes002_mpi04-02-01-02_small\\Run_BKeeper_run_gpu_lat24.24.24.32_nodes002_mpi04-02-01-02_small.sh\u001B[0;92m ---> Exists\u001B[0m\n",
      "\u001B[0;96m    \u001B[0;94m[Check]: Cluster file      --->: \u001B[0;92m\u001B[0;93mE:LatticeRuns\\Clusters\\Lumi\\LatticeRuns\\BKeeper_run_gpu\\small\\Run_BKeeper_run_gpu_lat24.24.24.32_nodes002_mpi04-02-01-02_small\\Run_BKeeper_run_gpu_lat24.24.24.32_nodes002_mpi04-02-01-02_small.out\u001B[0;92m ---> Exists\u001B[0m\n",
      "\u001B[0;96m    \u001B[0;94m[Check]: target file       --->: \u001B[0;92m\u001B[0;95mE:LatticeRuns\\Clusters\\Lumi\\LatticeRuns\\BKeeper_run_gpu\\small\\Run_BKeeper_run_gpu_lat24.24.24.32_nodes002_mpi01-04-02-02_small\\Run_BKeeper_run_gpu_lat24.24.24.32_nodes002_mpi01-04-02-02_small.sh\u001B[0;92m ---> Exists\u001B[0m\n",
      "\u001B[0;96m    \u001B[0;94m[Check]: Cluster file      --->: \u001B[0;92m\u001B[0;93mE:LatticeRuns\\Clusters\\Lumi\\LatticeRuns\\BKeeper_run_gpu\\small\\Run_BKeeper_run_gpu_lat24.24.24.32_nodes002_mpi01-04-02-02_small\\Run_BKeeper_run_gpu_lat24.24.24.32_nodes002_mpi01-04-02-02_small.out\u001B[0;92m ---> Exists\u001B[0m\n",
      "\u001B[0;96m    \u001B[0;94m[Check]: target file       --->: \u001B[0;92m\u001B[0;95mE:LatticeRuns\\Clusters\\Lumi\\LatticeRuns\\BKeeper_run_gpu\\small\\Run_BKeeper_run_gpu_lat24.24.24.32_nodes001_mpi04-01-02-01_small\\Run_BKeeper_run_gpu_lat24.24.24.32_nodes001_mpi04-01-02-01_small.sh\u001B[0;92m ---> Exists\u001B[0m\n",
      "\u001B[0;96m    \u001B[0;94m[Check]: Cluster file      --->: \u001B[0;92m\u001B[0;93mE:LatticeRuns\\Clusters\\Lumi\\LatticeRuns\\BKeeper_run_gpu\\small\\Run_BKeeper_run_gpu_lat24.24.24.32_nodes001_mpi04-01-02-01_small\\Run_BKeeper_run_gpu_lat24.24.24.32_nodes001_mpi04-01-02-01_small.out\u001B[0;92m ---> Exists\u001B[0m\n",
      "\u001B[0;96m    \u001B[0;94m[Check]: target file       --->: \u001B[0;92m\u001B[0;95mE:LatticeRuns\\Clusters\\Lumi\\LatticeRuns\\BKeeper_run_gpu\\small\\Run_BKeeper_run_gpu_lat24.24.24.32_nodes002_mpi01-02-01-08_small\\Run_BKeeper_run_gpu_lat24.24.24.32_nodes002_mpi01-02-01-08_small.sh\u001B[0;92m ---> Exists\u001B[0m\n",
      "\u001B[0;96m    \u001B[0;94m[Check]: Cluster file      --->: \u001B[0;92m\u001B[0;93mE:LatticeRuns\\Clusters\\Lumi\\LatticeRuns\\BKeeper_run_gpu\\small\\Run_BKeeper_run_gpu_lat24.24.24.32_nodes002_mpi01-02-01-08_small\\Run_BKeeper_run_gpu_lat24.24.24.32_nodes002_mpi01-02-01-08_small.out\u001B[0;92m ---> Exists\u001B[0m\n",
      "\u001B[0;96m    \u001B[0;94m[Check]: target file       --->: \u001B[0;92m\u001B[0;95mE:LatticeRuns\\Clusters\\Lumi\\LatticeRuns\\BKeeper_run_gpu\\small\\Run_BKeeper_run_gpu_lat24.24.24.32_nodes001_mpi01-01-01-08_small\\Run_BKeeper_run_gpu_lat24.24.24.32_nodes001_mpi01-01-01-08_small.sh\u001B[0;92m ---> Exists\u001B[0m\n",
      "\u001B[0;96m    \u001B[0;94m[Check]: Cluster file      --->: \u001B[0;92m\u001B[0;93mE:LatticeRuns\\Clusters\\Lumi\\LatticeRuns\\BKeeper_run_gpu\\small\\Run_BKeeper_run_gpu_lat24.24.24.32_nodes001_mpi01-01-01-08_small\\Run_BKeeper_run_gpu_lat24.24.24.32_nodes001_mpi01-01-01-08_small.out\u001B[0;92m ---> Exists\u001B[0m\n",
      "\u001B[0;96m    \u001B[0;94m[Check]: target file       --->: \u001B[0;92m\u001B[0;95mE:LatticeRuns\\Clusters\\Lumi\\LatticeRuns\\BKeeper_run_gpu\\small\\Run_BKeeper_run_gpu_lat24.24.24.32_nodes002_mpi02-01-08-01_small\\Run_BKeeper_run_gpu_lat24.24.24.32_nodes002_mpi02-01-08-01_small.sh\u001B[0;92m ---> Exists\u001B[0m\n",
      "\u001B[0;96m    \u001B[0;94m[Check]: Cluster file      --->: \u001B[0;92m\u001B[0;93mE:LatticeRuns\\Clusters\\Lumi\\LatticeRuns\\BKeeper_run_gpu\\small\\Run_BKeeper_run_gpu_lat24.24.24.32_nodes002_mpi02-01-08-01_small\\Run_BKeeper_run_gpu_lat24.24.24.32_nodes002_mpi02-01-08-01_small.out\u001B[0;92m ---> Exists\u001B[0m\n",
      "\u001B[0;96m    \u001B[0;94m[Check]: target file       --->: \u001B[0;92m\u001B[0;95mE:LatticeRuns\\Clusters\\Lumi\\LatticeRuns\\BKeeper_run_gpu\\small\\Run_BKeeper_run_gpu_lat24.24.24.32_nodes001_mpi01-01-04-02_small\\Run_BKeeper_run_gpu_lat24.24.24.32_nodes001_mpi01-01-04-02_small.sh\u001B[0;92m ---> Exists\u001B[0m\n",
      "\u001B[0;96m    \u001B[0;94m[Check]: Cluster file      --->: \u001B[0;92m\u001B[0;93mE:LatticeRuns\\Clusters\\Lumi\\LatticeRuns\\BKeeper_run_gpu\\small\\Run_BKeeper_run_gpu_lat24.24.24.32_nodes001_mpi01-01-04-02_small\\Run_BKeeper_run_gpu_lat24.24.24.32_nodes001_mpi01-01-04-02_small.out\u001B[0;92m ---> Exists\u001B[0m\n",
      "\u001B[0;96m    \u001B[0;94m[Check]: target file       --->: \u001B[0;92m\u001B[0;95mE:LatticeRuns\\Clusters\\Lumi\\LatticeRuns\\BKeeper_run_gpu\\small\\Run_BKeeper_run_gpu_lat24.24.24.32_nodes001_mpi04-02-01-01_small\\Run_BKeeper_run_gpu_lat24.24.24.32_nodes001_mpi04-02-01-01_small.sh\u001B[0;92m ---> Exists\u001B[0m\n",
      "\u001B[0;96m    \u001B[0;94m[Check]: Cluster file      --->: \u001B[0;92m\u001B[0;93mE:LatticeRuns\\Clusters\\Lumi\\LatticeRuns\\BKeeper_run_gpu\\small\\Run_BKeeper_run_gpu_lat24.24.24.32_nodes001_mpi04-02-01-01_small\\Run_BKeeper_run_gpu_lat24.24.24.32_nodes001_mpi04-02-01-01_small.out\u001B[0;92m ---> Exists\u001B[0m\n",
      "\u001B[0;96m    \u001B[0;94m[Check]: target file       --->: \u001B[0;92m\u001B[0;95mE:LatticeRuns\\Clusters\\Lumi\\LatticeRuns\\BKeeper_run_gpu\\small\\Run_BKeeper_run_gpu_lat24.24.24.32_nodes002_mpi08-01-01-02_small\\Run_BKeeper_run_gpu_lat24.24.24.32_nodes002_mpi08-01-01-02_small.sh\u001B[0;92m ---> Exists\u001B[0m\n",
      "\u001B[0;96m    \u001B[0;94m[Check]: Cluster file      --->: \u001B[0;92m\u001B[0;93mE:LatticeRuns\\Clusters\\Lumi\\LatticeRuns\\BKeeper_run_gpu\\small\\Run_BKeeper_run_gpu_lat24.24.24.32_nodes002_mpi08-01-01-02_small\\Run_BKeeper_run_gpu_lat24.24.24.32_nodes002_mpi08-01-01-02_small.out\u001B[0;92m ---> Exists\u001B[0m\n",
      "\u001B[0;96m    \u001B[0;94m[Check]: target file       --->: \u001B[0;92m\u001B[0;95mE:LatticeRuns\\Clusters\\Lumi\\LatticeRuns\\BKeeper_run_gpu\\small\\Run_BKeeper_run_gpu_lat24.24.24.32_nodes001_mpi02-04-01-01_small\\Run_BKeeper_run_gpu_lat24.24.24.32_nodes001_mpi02-04-01-01_small.sh\u001B[0;92m ---> Exists\u001B[0m\n",
      "\u001B[0;96m    \u001B[0;94m[Check]: Cluster file      --->: \u001B[0;92m\u001B[0;93mE:LatticeRuns\\Clusters\\Lumi\\LatticeRuns\\BKeeper_run_gpu\\small\\Run_BKeeper_run_gpu_lat24.24.24.32_nodes001_mpi02-04-01-01_small\\Run_BKeeper_run_gpu_lat24.24.24.32_nodes001_mpi02-04-01-01_small.out\u001B[0;92m ---> Exists\u001B[0m\n",
      "\u001B[0;96m    \u001B[0;94m[Check]: target file       --->: \u001B[0;92m\u001B[0;95mE:LatticeRuns\\Clusters\\Lumi\\LatticeRuns\\BKeeper_run_gpu\\small\\Run_BKeeper_run_gpu_lat24.24.24.32_nodes001_mpi01-02-01-04_small\\Run_BKeeper_run_gpu_lat24.24.24.32_nodes001_mpi01-02-01-04_small.sh\u001B[0;92m ---> Exists\u001B[0m\n",
      "\u001B[0;96m    \u001B[0;94m[Check]: Cluster file      --->: \u001B[0;92m\u001B[0;93mE:LatticeRuns\\Clusters\\Lumi\\LatticeRuns\\BKeeper_run_gpu\\small\\Run_BKeeper_run_gpu_lat24.24.24.32_nodes001_mpi01-02-01-04_small\\Run_BKeeper_run_gpu_lat24.24.24.32_nodes001_mpi01-02-01-04_small.out\u001B[0;92m ---> Exists\u001B[0m\n",
      "\u001B[0;96m    \u001B[0;94m[Check]: target file       --->: \u001B[0;92m\u001B[0;95mE:LatticeRuns\\Clusters\\Lumi\\LatticeRuns\\BKeeper_run_gpu\\small\\Run_BKeeper_run_gpu_lat24.24.24.32_nodes002_mpi02-04-02-01_small\\Run_BKeeper_run_gpu_lat24.24.24.32_nodes002_mpi02-04-02-01_small.sh\u001B[0;92m ---> Exists\u001B[0m\n",
      "\u001B[0;96m    \u001B[0;94m[Check]: Cluster file      --->: \u001B[0;92m\u001B[0;93mE:LatticeRuns\\Clusters\\Lumi\\LatticeRuns\\BKeeper_run_gpu\\small\\Run_BKeeper_run_gpu_lat24.24.24.32_nodes002_mpi02-04-02-01_small\\Run_BKeeper_run_gpu_lat24.24.24.32_nodes002_mpi02-04-02-01_small.out\u001B[0;92m ---> Exists\u001B[0m\n",
      "\u001B[0;96m    \u001B[0;94m[Check]: target file       --->: \u001B[0;92m\u001B[0;95mE:LatticeRuns\\Clusters\\Lumi\\LatticeRuns\\BKeeper_run_gpu\\small\\Run_BKeeper_run_gpu_lat24.24.24.32_nodes002_mpi01-08-01-02_small\\Run_BKeeper_run_gpu_lat24.24.24.32_nodes002_mpi01-08-01-02_small.sh\u001B[0;92m ---> Exists\u001B[0m\n",
      "\u001B[0;96m    \u001B[0;94m[Check]: Cluster file      --->: \u001B[0;92m\u001B[0;93mE:LatticeRuns\\Clusters\\Lumi\\LatticeRuns\\BKeeper_run_gpu\\small\\Run_BKeeper_run_gpu_lat24.24.24.32_nodes002_mpi01-08-01-02_small\\Run_BKeeper_run_gpu_lat24.24.24.32_nodes002_mpi01-08-01-02_small.out\u001B[0;92m ---> Exists\u001B[0m\n",
      "\u001B[0;96m    \u001B[0;94m[Check]: target file       --->: \u001B[0;92m\u001B[0;95mE:LatticeRuns\\Clusters\\Lumi\\LatticeRuns\\BKeeper_run_gpu\\small\\Run_BKeeper_run_gpu_lat24.24.24.32_nodes002_mpi04-04-01-01_small\\Run_BKeeper_run_gpu_lat24.24.24.32_nodes002_mpi04-04-01-01_small.sh\u001B[0;92m ---> Exists\u001B[0m\n",
      "\u001B[0;96m    \u001B[0;94m[Check]: Cluster file      --->: \u001B[0;92m\u001B[0;93mE:LatticeRuns\\Clusters\\Lumi\\LatticeRuns\\BKeeper_run_gpu\\small\\Run_BKeeper_run_gpu_lat24.24.24.32_nodes002_mpi04-04-01-01_small\\Run_BKeeper_run_gpu_lat24.24.24.32_nodes002_mpi04-04-01-01_small.out\u001B[0;92m ---> Exists\u001B[0m\n",
      "\u001B[0;96m    \u001B[0;94m[Check]: target file       --->: \u001B[0;92m\u001B[0;95mE:LatticeRuns\\Clusters\\Lumi\\LatticeRuns\\BKeeper_run_gpu\\small\\Run_BKeeper_run_gpu_lat24.24.24.32_nodes002_mpi01-04-01-04_small\\Run_BKeeper_run_gpu_lat24.24.24.32_nodes002_mpi01-04-01-04_small.sh\u001B[0;92m ---> Exists\u001B[0m\n",
      "\u001B[0;96m    \u001B[0;94m[Check]: Cluster file      --->: \u001B[0;92m\u001B[0;93mE:LatticeRuns\\Clusters\\Lumi\\LatticeRuns\\BKeeper_run_gpu\\small\\Run_BKeeper_run_gpu_lat24.24.24.32_nodes002_mpi01-04-01-04_small\\Run_BKeeper_run_gpu_lat24.24.24.32_nodes002_mpi01-04-01-04_small.out\u001B[0;92m ---> Exists\u001B[0m\n",
      "\u001B[0;96m    \u001B[0;94m[Check]: target file       --->: \u001B[0;92m\u001B[0;95mE:LatticeRuns\\Clusters\\Lumi\\LatticeRuns\\BKeeper_run_gpu\\small\\Run_BKeeper_run_gpu_lat24.24.24.32_nodes002_mpi01-04-04-01_small\\Run_BKeeper_run_gpu_lat24.24.24.32_nodes002_mpi01-04-04-01_small.sh\u001B[0;92m ---> Exists\u001B[0m\n",
      "\u001B[0;96m    \u001B[0;94m[Check]: Cluster file      --->: \u001B[0;92m\u001B[0;93mE:LatticeRuns\\Clusters\\Lumi\\LatticeRuns\\BKeeper_run_gpu\\small\\Run_BKeeper_run_gpu_lat24.24.24.32_nodes002_mpi01-04-04-01_small\\Run_BKeeper_run_gpu_lat24.24.24.32_nodes002_mpi01-04-04-01_small.out\u001B[0;92m ---> Exists\u001B[0m\n",
      "\u001B[0;96m    \u001B[0;94m[Check]: target file       --->: \u001B[0;92m\u001B[0;95mE:LatticeRuns\\Clusters\\Lumi\\LatticeRuns\\BKeeper_run_gpu\\small\\Run_BKeeper_run_gpu_lat24.24.24.32_nodes002_mpi01-01-02-08_small\\Run_BKeeper_run_gpu_lat24.24.24.32_nodes002_mpi01-01-02-08_small.sh\u001B[0;92m ---> Exists\u001B[0m\n",
      "\u001B[0;96m    \u001B[0;94m[Check]: Cluster file      --->: \u001B[0;92m\u001B[0;93mE:LatticeRuns\\Clusters\\Lumi\\LatticeRuns\\BKeeper_run_gpu\\small\\Run_BKeeper_run_gpu_lat24.24.24.32_nodes002_mpi01-01-02-08_small\\Run_BKeeper_run_gpu_lat24.24.24.32_nodes002_mpi01-01-02-08_small.out\u001B[0;92m ---> Exists\u001B[0m\n",
      "\u001B[0;96m    \u001B[0;94m[Check]: target file       --->: \u001B[0;92m\u001B[0;95mE:LatticeRuns\\Clusters\\Lumi\\LatticeRuns\\BKeeper_run_gpu\\small\\Run_BKeeper_run_gpu_lat24.24.24.32_nodes002_mpi04-01-01-04_small\\Run_BKeeper_run_gpu_lat24.24.24.32_nodes002_mpi04-01-01-04_small.sh\u001B[0;92m ---> Exists\u001B[0m\n",
      "\u001B[0;96m    \u001B[0;94m[Check]: Cluster file      --->: \u001B[0;92m\u001B[0;93mE:LatticeRuns\\Clusters\\Lumi\\LatticeRuns\\BKeeper_run_gpu\\small\\Run_BKeeper_run_gpu_lat24.24.24.32_nodes002_mpi04-01-01-04_small\\Run_BKeeper_run_gpu_lat24.24.24.32_nodes002_mpi04-01-01-04_small.out\u001B[0;92m ---> Exists\u001B[0m\n",
      "\u001B[0;96m    \u001B[0;94m[Check]: target file       --->: \u001B[0;92m\u001B[0;95mE:LatticeRuns\\Clusters\\Lumi\\LatticeRuns\\BKeeper_run_gpu\\small\\Run_BKeeper_run_gpu_lat24.24.24.32_nodes001_mpi01-02-04-01_small\\Run_BKeeper_run_gpu_lat24.24.24.32_nodes001_mpi01-02-04-01_small.sh\u001B[0;92m ---> Exists\u001B[0m\n",
      "\u001B[0;96m    \u001B[0;94m[Check]: Cluster file      --->: \u001B[0;92m\u001B[0;93mE:LatticeRuns\\Clusters\\Lumi\\LatticeRuns\\BKeeper_run_gpu\\small\\Run_BKeeper_run_gpu_lat24.24.24.32_nodes001_mpi01-02-04-01_small\\Run_BKeeper_run_gpu_lat24.24.24.32_nodes001_mpi01-02-04-01_small.out\u001B[0;92m ---> Exists\u001B[0m\n",
      "\u001B[0;96m    \u001B[0;94m[Check]: target file       --->: \u001B[0;92m\u001B[0;95mE:LatticeRuns\\Clusters\\Lumi\\LatticeRuns\\BKeeper_run_gpu\\small\\Run_BKeeper_run_gpu_lat24.24.24.32_nodes001_mpi01-01-08-01_small\\Run_BKeeper_run_gpu_lat24.24.24.32_nodes001_mpi01-01-08-01_small.sh\u001B[0;92m ---> Exists\u001B[0m\n",
      "\u001B[0;96m    \u001B[0;94m[Check]: Cluster file      --->: \u001B[0;92m\u001B[0;93mE:LatticeRuns\\Clusters\\Lumi\\LatticeRuns\\BKeeper_run_gpu\\small\\Run_BKeeper_run_gpu_lat24.24.24.32_nodes001_mpi01-01-08-01_small\\Run_BKeeper_run_gpu_lat24.24.24.32_nodes001_mpi01-01-08-01_small.out\u001B[0;92m ---> Exists\u001B[0m\n",
      "\u001B[0;96m    \u001B[0;94m[Check]: target file       --->: \u001B[0;92m\u001B[0;95mE:LatticeRuns\\Clusters\\Lumi\\LatticeRuns\\BKeeper_run_gpu\\small\\Run_BKeeper_run_gpu_lat24.24.24.32_nodes002_mpi01-02-04-02_small\\Run_BKeeper_run_gpu_lat24.24.24.32_nodes002_mpi01-02-04-02_small.sh\u001B[0;92m ---> Exists\u001B[0m\n",
      "\u001B[0;96m    \u001B[0;94m[Check]: Cluster file      --->: \u001B[0;92m\u001B[0;93mE:LatticeRuns\\Clusters\\Lumi\\LatticeRuns\\BKeeper_run_gpu\\small\\Run_BKeeper_run_gpu_lat24.24.24.32_nodes002_mpi01-02-04-02_small\\Run_BKeeper_run_gpu_lat24.24.24.32_nodes002_mpi01-02-04-02_small.out\u001B[0;92m ---> Exists\u001B[0m\n",
      "\u001B[0;96m    \u001B[0;94m[Check]: target file       --->: \u001B[0;92m\u001B[0;95mE:LatticeRuns\\Clusters\\Lumi\\LatticeRuns\\BKeeper_run_gpu\\small\\Run_BKeeper_run_gpu_lat24.24.24.32_nodes002_mpi02-01-02-04_small\\Run_BKeeper_run_gpu_lat24.24.24.32_nodes002_mpi02-01-02-04_small.sh\u001B[0;92m ---> Exists\u001B[0m\n",
      "\u001B[0;96m    \u001B[0;94m[Check]: Cluster file      --->: \u001B[0;92m\u001B[0;93mE:LatticeRuns\\Clusters\\Lumi\\LatticeRuns\\BKeeper_run_gpu\\small\\Run_BKeeper_run_gpu_lat24.24.24.32_nodes002_mpi02-01-02-04_small\\Run_BKeeper_run_gpu_lat24.24.24.32_nodes002_mpi02-01-02-04_small.out\u001B[0;92m ---> Exists\u001B[0m\n",
      "\u001B[0;96m    \u001B[0;94m[Check]: target file       --->: \u001B[0;92m\u001B[0;95mE:LatticeRuns\\Clusters\\Lumi\\LatticeRuns\\BKeeper_run_gpu\\small\\Run_BKeeper_run_gpu_lat24.24.24.32_nodes002_mpi02-08-01-01_small\\Run_BKeeper_run_gpu_lat24.24.24.32_nodes002_mpi02-08-01-01_small.sh\u001B[0;92m ---> Exists\u001B[0m\n",
      "\u001B[0;96m    \u001B[0;94m[Check]: Cluster file      --->: \u001B[0;92m\u001B[0;93mE:LatticeRuns\\Clusters\\Lumi\\LatticeRuns\\BKeeper_run_gpu\\small\\Run_BKeeper_run_gpu_lat24.24.24.32_nodes002_mpi02-08-01-01_small\\Run_BKeeper_run_gpu_lat24.24.24.32_nodes002_mpi02-08-01-01_small.out\u001B[0;92m ---> Exists\u001B[0m\n",
      "\u001B[0;96m    \u001B[0;94m[Check]: target file       --->: \u001B[0;92m\u001B[0;95mE:LatticeRuns\\Clusters\\Lumi\\LatticeRuns\\BKeeper_run_gpu\\small\\Run_BKeeper_run_gpu_lat24.24.24.32_nodes002_mpi01-02-02-04_small\\Run_BKeeper_run_gpu_lat24.24.24.32_nodes002_mpi01-02-02-04_small.sh\u001B[0;92m ---> Exists\u001B[0m\n",
      "\u001B[0;96m    \u001B[0;94m[Check]: Cluster file      --->: \u001B[0;92m\u001B[0;93mE:LatticeRuns\\Clusters\\Lumi\\LatticeRuns\\BKeeper_run_gpu\\small\\Run_BKeeper_run_gpu_lat24.24.24.32_nodes002_mpi01-02-02-04_small\\Run_BKeeper_run_gpu_lat24.24.24.32_nodes002_mpi01-02-02-04_small.out\u001B[0;92m ---> Exists\u001B[0m\n",
      "\u001B[0;96m    \u001B[0;94m[Check]: target file       --->: \u001B[0;92m\u001B[0;95mE:LatticeRuns\\Clusters\\Lumi\\LatticeRuns\\BKeeper_run_gpu\\small\\Run_BKeeper_run_gpu_lat24.24.24.32_nodes002_mpi02-02-02-02_small\\Run_BKeeper_run_gpu_lat24.24.24.32_nodes002_mpi02-02-02-02_small.sh\u001B[0;92m ---> Exists\u001B[0m\n",
      "\u001B[0;96m    \u001B[0;94m[Check]: Cluster file      --->: \u001B[0;92m\u001B[0;93mE:LatticeRuns\\Clusters\\Lumi\\LatticeRuns\\BKeeper_run_gpu\\small\\Run_BKeeper_run_gpu_lat24.24.24.32_nodes002_mpi02-02-02-02_small\\Run_BKeeper_run_gpu_lat24.24.24.32_nodes002_mpi02-02-02-02_small.out\u001B[0;92m ---> Exists\u001B[0m\n",
      "\u001B[0;96m    \u001B[0;94m[Check]: target file       --->: \u001B[0;92m\u001B[0;95mE:LatticeRuns\\Clusters\\Lumi\\LatticeRuns\\BKeeper_run_gpu\\small\\Run_BKeeper_run_gpu_lat24.24.24.32_nodes001_mpi01-08-01-01_small\\Run_BKeeper_run_gpu_lat24.24.24.32_nodes001_mpi01-08-01-01_small.sh\u001B[0;92m ---> Exists\u001B[0m\n",
      "\u001B[0;96m    \u001B[0;94m[Check]: Cluster file      --->: \u001B[0;92m\u001B[0;93mE:LatticeRuns\\Clusters\\Lumi\\LatticeRuns\\BKeeper_run_gpu\\small\\Run_BKeeper_run_gpu_lat24.24.24.32_nodes001_mpi01-08-01-01_small\\Run_BKeeper_run_gpu_lat24.24.24.32_nodes001_mpi01-08-01-01_small.out\u001B[0;92m ---> Exists\u001B[0m\n",
      "\u001B[0;96m    \u001B[0;94m[Check]: target file       --->: \u001B[0;92m\u001B[0;95mE:LatticeRuns\\Clusters\\Lumi\\LatticeRuns\\BKeeper_run_gpu\\small\\Run_BKeeper_run_gpu_lat24.24.24.32_nodes001_mpi01-01-02-04_small\\Run_BKeeper_run_gpu_lat24.24.24.32_nodes001_mpi01-01-02-04_small.sh\u001B[0;92m ---> Exists\u001B[0m\n",
      "\u001B[0;96m    \u001B[0;94m[Check]: Cluster file      --->: \u001B[0;92m\u001B[0;93mE:LatticeRuns\\Clusters\\Lumi\\LatticeRuns\\BKeeper_run_gpu\\small\\Run_BKeeper_run_gpu_lat24.24.24.32_nodes001_mpi01-01-02-04_small\\Run_BKeeper_run_gpu_lat24.24.24.32_nodes001_mpi01-01-02-04_small.out\u001B[0;92m ---> Exists\u001B[0m\n",
      "\u001B[0;96m    \u001B[0;94m[Check]: target file       --->: \u001B[0;92m\u001B[0;95mE:LatticeRuns\\Clusters\\Lumi\\LatticeRuns\\BKeeper_run_gpu\\small\\Run_BKeeper_run_gpu_lat24.24.24.32_nodes001_mpi01-02-02-02_small\\Run_BKeeper_run_gpu_lat24.24.24.32_nodes001_mpi01-02-02-02_small.sh\u001B[0;92m ---> Exists\u001B[0m\n",
      "\u001B[0;96m    \u001B[0;94m[Check]: Cluster file      --->: \u001B[0;92m\u001B[0;93mE:LatticeRuns\\Clusters\\Lumi\\LatticeRuns\\BKeeper_run_gpu\\small\\Run_BKeeper_run_gpu_lat24.24.24.32_nodes001_mpi01-02-02-02_small\\Run_BKeeper_run_gpu_lat24.24.24.32_nodes001_mpi01-02-02-02_small.out\u001B[0;92m ---> Exists\u001B[0m\n",
      "\u001B[0;96m    \u001B[0;94m[Check]: target file       --->: \u001B[0;92m\u001B[0;95mE:LatticeRuns\\Clusters\\Lumi\\LatticeRuns\\BKeeper_run_gpu\\small\\Run_BKeeper_run_gpu_lat24.24.24.32_nodes001_mpi02-02-01-02_small\\Run_BKeeper_run_gpu_lat24.24.24.32_nodes001_mpi02-02-01-02_small.sh\u001B[0;92m ---> Exists\u001B[0m\n",
      "\u001B[0;96m    \u001B[0;94m[Check]: Cluster file      --->: \u001B[0;92m\u001B[0;93mE:LatticeRuns\\Clusters\\Lumi\\LatticeRuns\\BKeeper_run_gpu\\small\\Run_BKeeper_run_gpu_lat24.24.24.32_nodes001_mpi02-02-01-02_small\\Run_BKeeper_run_gpu_lat24.24.24.32_nodes001_mpi02-02-01-02_small.out\u001B[0;92m ---> Exists\u001B[0m\n",
      "\u001B[0;96m    \u001B[0;94m[Check]: target file       --->: \u001B[0;92m\u001B[0;95mE:LatticeRuns\\Clusters\\Lumi\\LatticeRuns\\BKeeper_run_gpu\\small\\Run_BKeeper_run_gpu_lat24.24.24.32_nodes001_mpi02-01-02-02_small\\Run_BKeeper_run_gpu_lat24.24.24.32_nodes001_mpi02-01-02-02_small.sh\u001B[0;92m ---> Exists\u001B[0m\n",
      "\u001B[0;96m    \u001B[0;94m[Check]: Cluster file      --->: \u001B[0;92m\u001B[0;93mE:LatticeRuns\\Clusters\\Lumi\\LatticeRuns\\BKeeper_run_gpu\\small\\Run_BKeeper_run_gpu_lat24.24.24.32_nodes001_mpi02-01-02-02_small\\Run_BKeeper_run_gpu_lat24.24.24.32_nodes001_mpi02-01-02-02_small.out\u001B[0;92m ---> Exists\u001B[0m\n",
      "\u001B[0;96m    \u001B[0;94m[Check]: target file       --->: \u001B[0;92m\u001B[0;95mE:LatticeRuns\\Clusters\\Lumi\\LatticeRuns\\BKeeper_run_gpu\\small\\Run_BKeeper_run_gpu_lat24.24.24.32_nodes001_mpi01-04-01-02_small\\Run_BKeeper_run_gpu_lat24.24.24.32_nodes001_mpi01-04-01-02_small.sh\u001B[0;92m ---> Exists\u001B[0m\n",
      "\u001B[0;96m    \u001B[0;94m[Check]: Cluster file      --->: \u001B[0;92m\u001B[0;93mE:LatticeRuns\\Clusters\\Lumi\\LatticeRuns\\BKeeper_run_gpu\\small\\Run_BKeeper_run_gpu_lat24.24.24.32_nodes001_mpi01-04-01-02_small\\Run_BKeeper_run_gpu_lat24.24.24.32_nodes001_mpi01-04-01-02_small.out\u001B[0;92m ---> Exists\u001B[0m\n",
      "\u001B[0;96m    \u001B[0;94m[Check]: target file       --->: \u001B[0;92m\u001B[0;95mE:LatticeRuns\\Clusters\\Lumi\\LatticeRuns\\BKeeper_run_gpu\\small\\Run_BKeeper_run_gpu_lat24.24.24.32_nodes002_mpi02-02-04-01_small\\Run_BKeeper_run_gpu_lat24.24.24.32_nodes002_mpi02-02-04-01_small.sh\u001B[0;92m ---> Exists\u001B[0m\n",
      "\u001B[0;96m    \u001B[0;94m[Check]: Cluster file      --->: \u001B[0;92m\u001B[0;93mE:LatticeRuns\\Clusters\\Lumi\\LatticeRuns\\BKeeper_run_gpu\\small\\Run_BKeeper_run_gpu_lat24.24.24.32_nodes002_mpi02-02-04-01_small\\Run_BKeeper_run_gpu_lat24.24.24.32_nodes002_mpi02-02-04-01_small.out\u001B[0;92m ---> Exists\u001B[0m\n",
      "\u001B[0;96m    \u001B[0;94m[Check]: target file       --->: \u001B[0;92m\u001B[0;95mE:LatticeRuns\\Clusters\\Lumi\\LatticeRuns\\BKeeper_run_gpu\\small\\Run_BKeeper_run_gpu_lat24.24.24.32_nodes002_mpi04-01-02-02_small\\Run_BKeeper_run_gpu_lat24.24.24.32_nodes002_mpi04-01-02-02_small.sh\u001B[0;92m ---> Exists\u001B[0m\n",
      "\u001B[0;96m    \u001B[0;94m[Check]: Cluster file      --->: \u001B[0;92m\u001B[0;93mE:LatticeRuns\\Clusters\\Lumi\\LatticeRuns\\BKeeper_run_gpu\\small\\Run_BKeeper_run_gpu_lat24.24.24.32_nodes002_mpi04-01-02-02_small\\Run_BKeeper_run_gpu_lat24.24.24.32_nodes002_mpi04-01-02-02_small.out\u001B[0;92m ---> Exists\u001B[0m\n",
      "\u001B[0;96m    \u001B[0;94m[Check]: target file       --->: \u001B[0;92m\u001B[0;95mE:LatticeRuns\\Clusters\\Lumi\\LatticeRuns\\BKeeper_run_gpu\\small\\Run_BKeeper_run_gpu_lat24.24.24.32_nodes002_mpi02-01-01-08_small\\Run_BKeeper_run_gpu_lat24.24.24.32_nodes002_mpi02-01-01-08_small.sh\u001B[0;92m ---> Exists\u001B[0m\n",
      "\u001B[0;96m    \u001B[0;94m[Check]: Cluster file      --->: \u001B[0;92m\u001B[0;93mE:LatticeRuns\\Clusters\\Lumi\\LatticeRuns\\BKeeper_run_gpu\\small\\Run_BKeeper_run_gpu_lat24.24.24.32_nodes002_mpi02-01-01-08_small\\Run_BKeeper_run_gpu_lat24.24.24.32_nodes002_mpi02-01-01-08_small.out\u001B[0;92m ---> Exists\u001B[0m\n",
      "\u001B[0;96m    \u001B[0;94m[Check]: target file       --->: \u001B[0;92m\u001B[0;95mE:LatticeRuns\\Clusters\\Lumi\\LatticeRuns\\BKeeper_run_gpu\\small\\Run_BKeeper_run_gpu_lat24.24.24.32_nodes002_mpi02-02-01-04_small\\Run_BKeeper_run_gpu_lat24.24.24.32_nodes002_mpi02-02-01-04_small.sh\u001B[0;92m ---> Exists\u001B[0m\n",
      "\u001B[0;96m    \u001B[0;94m[Check]: Cluster file      --->: \u001B[0;92m\u001B[0;93mE:LatticeRuns\\Clusters\\Lumi\\LatticeRuns\\BKeeper_run_gpu\\small\\Run_BKeeper_run_gpu_lat24.24.24.32_nodes002_mpi02-02-01-04_small\\Run_BKeeper_run_gpu_lat24.24.24.32_nodes002_mpi02-02-01-04_small.out\u001B[0;92m ---> Exists\u001B[0m\n",
      "\u001B[0;96m    \u001B[0;94m[Check]: target file       --->: \u001B[0;92m\u001B[0;95mE:LatticeRuns\\Clusters\\Lumi\\LatticeRuns\\BKeeper_run_gpu\\small\\Run_BKeeper_run_gpu_lat24.24.24.32_nodes001_mpi02-02-02-01_small\\Run_BKeeper_run_gpu_lat24.24.24.32_nodes001_mpi02-02-02-01_small.sh\u001B[0;92m ---> Exists\u001B[0m\n",
      "\u001B[0;96m    \u001B[0;94m[Check]: Cluster file      --->: \u001B[0;92m\u001B[0;93mE:LatticeRuns\\Clusters\\Lumi\\LatticeRuns\\BKeeper_run_gpu\\small\\Run_BKeeper_run_gpu_lat24.24.24.32_nodes001_mpi02-02-02-01_small\\Run_BKeeper_run_gpu_lat24.24.24.32_nodes001_mpi02-02-02-01_small.out\u001B[0;92m ---> Exists\u001B[0m\n",
      "\u001B[0;96m    \u001B[0;94m[Check]: target file       --->: \u001B[0;92m\u001B[0;95mE:LatticeRuns\\Clusters\\Lumi\\LatticeRuns\\BKeeper_run_gpu\\small\\Run_BKeeper_run_gpu_lat24.24.24.32_nodes001_mpi02-01-04-01_small\\Run_BKeeper_run_gpu_lat24.24.24.32_nodes001_mpi02-01-04-01_small.sh\u001B[0;92m ---> Exists\u001B[0m\n",
      "\u001B[0;96m    \u001B[0;94m[Check]: Cluster file      --->: \u001B[0;92m\u001B[0;93mE:LatticeRuns\\Clusters\\Lumi\\LatticeRuns\\BKeeper_run_gpu\\small\\Run_BKeeper_run_gpu_lat24.24.24.32_nodes001_mpi02-01-04-01_small\\Run_BKeeper_run_gpu_lat24.24.24.32_nodes001_mpi02-01-04-01_small.out\u001B[0;92m ---> Exists\u001B[0m\n",
      "\u001B[0;96m    \u001B[0;94m[Check]: target file       --->: \u001B[0;92m\u001B[0;95mE:LatticeRuns\\Clusters\\Lumi\\LatticeRuns\\BKeeper_run_gpu\\small\\Run_BKeeper_run_gpu_lat24.24.24.32_nodes002_mpi02-04-01-02_small\\Run_BKeeper_run_gpu_lat24.24.24.32_nodes002_mpi02-04-01-02_small.sh\u001B[0;92m ---> Exists\u001B[0m\n",
      "\u001B[0;96m    \u001B[0;94m[Check]: Cluster file      --->: \u001B[0;92m\u001B[0;93mE:LatticeRuns\\Clusters\\Lumi\\LatticeRuns\\BKeeper_run_gpu\\small\\Run_BKeeper_run_gpu_lat24.24.24.32_nodes002_mpi02-04-01-02_small\\Run_BKeeper_run_gpu_lat24.24.24.32_nodes002_mpi02-04-01-02_small.out\u001B[0;92m ---> Exists\u001B[0m\n",
      "\u001B[0;96m    \u001B[0;94m[Check]: target file       --->: \u001B[0;92m\u001B[0;95mE:LatticeRuns\\Clusters\\Lumi\\LatticeRuns\\BKeeper_run_gpu\\small\\Run_BKeeper_run_gpu_lat24.24.24.32_nodes001_mpi02-01-01-04_small\\Run_BKeeper_run_gpu_lat24.24.24.32_nodes001_mpi02-01-01-04_small.sh\u001B[0;92m ---> Exists\u001B[0m\n",
      "\u001B[0;96m    \u001B[0;94m[Check]: Cluster file      --->: \u001B[0;92m\u001B[0;93mE:LatticeRuns\\Clusters\\Lumi\\LatticeRuns\\BKeeper_run_gpu\\small\\Run_BKeeper_run_gpu_lat24.24.24.32_nodes001_mpi02-01-01-04_small\\Run_BKeeper_run_gpu_lat24.24.24.32_nodes001_mpi02-01-01-04_small.out\u001B[0;92m ---> Exists\u001B[0m\n",
      "\u001B[0;96m    \u001B[0;94m[Check]: target file       --->: \u001B[0;92m\u001B[0;95mE:LatticeRuns\\Clusters\\Lumi\\LatticeRuns\\BKeeper_run_gpu\\small\\Run_BKeeper_run_gpu_lat24.24.24.32_nodes001_mpi01-04-02-01_small\\Run_BKeeper_run_gpu_lat24.24.24.32_nodes001_mpi01-04-02-01_small.sh\u001B[0;92m ---> Exists\u001B[0m\n",
      "\u001B[0;96m    \u001B[0;94m[Check]: Cluster file      --->: \u001B[0;92m\u001B[0;93mE:LatticeRuns\\Clusters\\Lumi\\LatticeRuns\\BKeeper_run_gpu\\small\\Run_BKeeper_run_gpu_lat24.24.24.32_nodes001_mpi01-04-02-01_small\\Run_BKeeper_run_gpu_lat24.24.24.32_nodes001_mpi01-04-02-01_small.out\u001B[0;92m ---> Exists\u001B[0m\n"
     ]
    }
   ],
   "execution_count": 1088
  },
  {
   "metadata": {
    "ExecuteTime": {
     "end_time": "2025-02-25T00:55:52.700961Z",
     "start_time": "2025-02-25T00:55:52.692906Z"
    }
   },
   "cell_type": "code",
   "source": [
    "# --------------------------------------------------------------------------\n",
    "# [Data-Extraction]\n",
    "# --------------------------------------------------------------------------\n",
    "m.printMesgStr(   \"Data extraction cluster out         : \", c.getGreen(), machine_name)\n",
    "m.printMesgAddStr(\"Simulation size                     : \", c.getRed(), simulation_size)\n",
    "m.printMesgAddStr(\"target_file_cluster_lst_lumi[:] --->: \", c.getYellow(), target_file_cluster_lst_lumi[:])"
   ],
   "id": "837629d0c6e6df59",
   "outputs": [
    {
     "name": "stdout",
     "output_type": "stream",
     "text": [
      "\u001B[0;96m == [\u001B[0;94mData extraction cluster out         : \u001B[0;92m Lumi\u001B[0;96m] ==\u001B[0m\n",
      "\u001B[0;96m    \u001B[0;94mSimulation size                     : \u001B[0;91msmall\u001B[0m\n",
      "\u001B[0;96m    \u001B[0;94mtarget_file_cluster_lst_lumi[:] --->: \u001B[0;93m['E:LatticeRuns\\\\Clusters\\\\Lumi\\\\LatticeRuns\\\\BKeeper_run_gpu\\\\small\\\\Run_BKeeper_run_gpu_lat24.24.24.32_nodes002_mpi01-01-04-04_small\\\\Run_BKeeper_run_gpu_lat24.24.24.32_nodes002_mpi01-01-04-04_small.out', 'E:LatticeRuns\\\\Clusters\\\\Lumi\\\\LatticeRuns\\\\BKeeper_run_gpu\\\\small\\\\Run_BKeeper_run_gpu_lat24.24.24.32_nodes002_mpi04-02-02-01_small\\\\Run_BKeeper_run_gpu_lat24.24.24.32_nodes002_mpi04-02-02-01_small.out', 'E:LatticeRuns\\\\Clusters\\\\Lumi\\\\LatticeRuns\\\\BKeeper_run_gpu\\\\small\\\\Run_BKeeper_run_gpu_lat24.24.24.32_nodes002_mpi01-08-02-01_small\\\\Run_BKeeper_run_gpu_lat24.24.24.32_nodes002_mpi01-08-02-01_small.out', 'E:LatticeRuns\\\\Clusters\\\\Lumi\\\\LatticeRuns\\\\BKeeper_run_gpu\\\\small\\\\Run_BKeeper_run_gpu_lat24.24.24.32_nodes002_mpi01-02-08-01_small\\\\Run_BKeeper_run_gpu_lat24.24.24.32_nodes002_mpi01-02-08-01_small.out', 'E:LatticeRuns\\\\Clusters\\\\Lumi\\\\LatticeRuns\\\\BKeeper_run_gpu\\\\small\\\\Run_BKeeper_run_gpu_lat24.24.24.32_nodes002_mpi08-01-02-01_small\\\\Run_BKeeper_run_gpu_lat24.24.24.32_nodes002_mpi08-01-02-01_small.out', 'E:LatticeRuns\\\\Clusters\\\\Lumi\\\\LatticeRuns\\\\BKeeper_run_gpu\\\\small\\\\Run_BKeeper_run_gpu_lat24.24.24.32_nodes001_mpi04-01-01-02_small\\\\Run_BKeeper_run_gpu_lat24.24.24.32_nodes001_mpi04-01-01-02_small.out', 'E:LatticeRuns\\\\Clusters\\\\Lumi\\\\LatticeRuns\\\\BKeeper_run_gpu\\\\small\\\\Run_BKeeper_run_gpu_lat24.24.24.32_nodes001_mpi08-01-01-01_small\\\\Run_BKeeper_run_gpu_lat24.24.24.32_nodes001_mpi08-01-01-01_small.out', 'E:LatticeRuns\\\\Clusters\\\\Lumi\\\\LatticeRuns\\\\BKeeper_run_gpu\\\\small\\\\Run_BKeeper_run_gpu_lat24.24.24.32_nodes002_mpi01-01-08-02_small\\\\Run_BKeeper_run_gpu_lat24.24.24.32_nodes002_mpi01-01-08-02_small.out', 'E:LatticeRuns\\\\Clusters\\\\Lumi\\\\LatticeRuns\\\\BKeeper_run_gpu\\\\small\\\\Run_BKeeper_run_gpu_lat24.24.24.32_nodes002_mpi02-01-04-02_small\\\\Run_BKeeper_run_gpu_lat24.24.24.32_nodes002_mpi02-01-04-02_small.out', 'E:LatticeRuns\\\\Clusters\\\\Lumi\\\\LatticeRuns\\\\BKeeper_run_gpu\\\\small\\\\Run_BKeeper_run_gpu_lat24.24.24.32_nodes002_mpi04-01-04-01_small\\\\Run_BKeeper_run_gpu_lat24.24.24.32_nodes002_mpi04-01-04-01_small.out', 'E:LatticeRuns\\\\Clusters\\\\Lumi\\\\LatticeRuns\\\\BKeeper_run_gpu\\\\small\\\\Run_BKeeper_run_gpu_lat24.24.24.32_nodes002_mpi08-02-01-01_small\\\\Run_BKeeper_run_gpu_lat24.24.24.32_nodes002_mpi08-02-01-01_small.out', 'E:LatticeRuns\\\\Clusters\\\\Lumi\\\\LatticeRuns\\\\BKeeper_run_gpu\\\\small\\\\Run_BKeeper_run_gpu_lat24.24.24.32_nodes002_mpi04-02-01-02_small\\\\Run_BKeeper_run_gpu_lat24.24.24.32_nodes002_mpi04-02-01-02_small.out', 'E:LatticeRuns\\\\Clusters\\\\Lumi\\\\LatticeRuns\\\\BKeeper_run_gpu\\\\small\\\\Run_BKeeper_run_gpu_lat24.24.24.32_nodes002_mpi01-04-02-02_small\\\\Run_BKeeper_run_gpu_lat24.24.24.32_nodes002_mpi01-04-02-02_small.out', 'E:LatticeRuns\\\\Clusters\\\\Lumi\\\\LatticeRuns\\\\BKeeper_run_gpu\\\\small\\\\Run_BKeeper_run_gpu_lat24.24.24.32_nodes001_mpi04-01-02-01_small\\\\Run_BKeeper_run_gpu_lat24.24.24.32_nodes001_mpi04-01-02-01_small.out', 'E:LatticeRuns\\\\Clusters\\\\Lumi\\\\LatticeRuns\\\\BKeeper_run_gpu\\\\small\\\\Run_BKeeper_run_gpu_lat24.24.24.32_nodes002_mpi01-02-01-08_small\\\\Run_BKeeper_run_gpu_lat24.24.24.32_nodes002_mpi01-02-01-08_small.out', 'E:LatticeRuns\\\\Clusters\\\\Lumi\\\\LatticeRuns\\\\BKeeper_run_gpu\\\\small\\\\Run_BKeeper_run_gpu_lat24.24.24.32_nodes001_mpi01-01-01-08_small\\\\Run_BKeeper_run_gpu_lat24.24.24.32_nodes001_mpi01-01-01-08_small.out', 'E:LatticeRuns\\\\Clusters\\\\Lumi\\\\LatticeRuns\\\\BKeeper_run_gpu\\\\small\\\\Run_BKeeper_run_gpu_lat24.24.24.32_nodes002_mpi02-01-08-01_small\\\\Run_BKeeper_run_gpu_lat24.24.24.32_nodes002_mpi02-01-08-01_small.out', 'E:LatticeRuns\\\\Clusters\\\\Lumi\\\\LatticeRuns\\\\BKeeper_run_gpu\\\\small\\\\Run_BKeeper_run_gpu_lat24.24.24.32_nodes001_mpi01-01-04-02_small\\\\Run_BKeeper_run_gpu_lat24.24.24.32_nodes001_mpi01-01-04-02_small.out', 'E:LatticeRuns\\\\Clusters\\\\Lumi\\\\LatticeRuns\\\\BKeeper_run_gpu\\\\small\\\\Run_BKeeper_run_gpu_lat24.24.24.32_nodes001_mpi04-02-01-01_small\\\\Run_BKeeper_run_gpu_lat24.24.24.32_nodes001_mpi04-02-01-01_small.out', 'E:LatticeRuns\\\\Clusters\\\\Lumi\\\\LatticeRuns\\\\BKeeper_run_gpu\\\\small\\\\Run_BKeeper_run_gpu_lat24.24.24.32_nodes002_mpi08-01-01-02_small\\\\Run_BKeeper_run_gpu_lat24.24.24.32_nodes002_mpi08-01-01-02_small.out', 'E:LatticeRuns\\\\Clusters\\\\Lumi\\\\LatticeRuns\\\\BKeeper_run_gpu\\\\small\\\\Run_BKeeper_run_gpu_lat24.24.24.32_nodes001_mpi02-04-01-01_small\\\\Run_BKeeper_run_gpu_lat24.24.24.32_nodes001_mpi02-04-01-01_small.out', 'E:LatticeRuns\\\\Clusters\\\\Lumi\\\\LatticeRuns\\\\BKeeper_run_gpu\\\\small\\\\Run_BKeeper_run_gpu_lat24.24.24.32_nodes001_mpi01-02-01-04_small\\\\Run_BKeeper_run_gpu_lat24.24.24.32_nodes001_mpi01-02-01-04_small.out', 'E:LatticeRuns\\\\Clusters\\\\Lumi\\\\LatticeRuns\\\\BKeeper_run_gpu\\\\small\\\\Run_BKeeper_run_gpu_lat24.24.24.32_nodes002_mpi02-04-02-01_small\\\\Run_BKeeper_run_gpu_lat24.24.24.32_nodes002_mpi02-04-02-01_small.out', 'E:LatticeRuns\\\\Clusters\\\\Lumi\\\\LatticeRuns\\\\BKeeper_run_gpu\\\\small\\\\Run_BKeeper_run_gpu_lat24.24.24.32_nodes002_mpi01-08-01-02_small\\\\Run_BKeeper_run_gpu_lat24.24.24.32_nodes002_mpi01-08-01-02_small.out', 'E:LatticeRuns\\\\Clusters\\\\Lumi\\\\LatticeRuns\\\\BKeeper_run_gpu\\\\small\\\\Run_BKeeper_run_gpu_lat24.24.24.32_nodes002_mpi04-04-01-01_small\\\\Run_BKeeper_run_gpu_lat24.24.24.32_nodes002_mpi04-04-01-01_small.out', 'E:LatticeRuns\\\\Clusters\\\\Lumi\\\\LatticeRuns\\\\BKeeper_run_gpu\\\\small\\\\Run_BKeeper_run_gpu_lat24.24.24.32_nodes002_mpi01-04-01-04_small\\\\Run_BKeeper_run_gpu_lat24.24.24.32_nodes002_mpi01-04-01-04_small.out', 'E:LatticeRuns\\\\Clusters\\\\Lumi\\\\LatticeRuns\\\\BKeeper_run_gpu\\\\small\\\\Run_BKeeper_run_gpu_lat24.24.24.32_nodes002_mpi01-04-04-01_small\\\\Run_BKeeper_run_gpu_lat24.24.24.32_nodes002_mpi01-04-04-01_small.out', 'E:LatticeRuns\\\\Clusters\\\\Lumi\\\\LatticeRuns\\\\BKeeper_run_gpu\\\\small\\\\Run_BKeeper_run_gpu_lat24.24.24.32_nodes002_mpi01-01-02-08_small\\\\Run_BKeeper_run_gpu_lat24.24.24.32_nodes002_mpi01-01-02-08_small.out', 'E:LatticeRuns\\\\Clusters\\\\Lumi\\\\LatticeRuns\\\\BKeeper_run_gpu\\\\small\\\\Run_BKeeper_run_gpu_lat24.24.24.32_nodes002_mpi04-01-01-04_small\\\\Run_BKeeper_run_gpu_lat24.24.24.32_nodes002_mpi04-01-01-04_small.out', 'E:LatticeRuns\\\\Clusters\\\\Lumi\\\\LatticeRuns\\\\BKeeper_run_gpu\\\\small\\\\Run_BKeeper_run_gpu_lat24.24.24.32_nodes001_mpi01-02-04-01_small\\\\Run_BKeeper_run_gpu_lat24.24.24.32_nodes001_mpi01-02-04-01_small.out', 'E:LatticeRuns\\\\Clusters\\\\Lumi\\\\LatticeRuns\\\\BKeeper_run_gpu\\\\small\\\\Run_BKeeper_run_gpu_lat24.24.24.32_nodes001_mpi01-01-08-01_small\\\\Run_BKeeper_run_gpu_lat24.24.24.32_nodes001_mpi01-01-08-01_small.out', 'E:LatticeRuns\\\\Clusters\\\\Lumi\\\\LatticeRuns\\\\BKeeper_run_gpu\\\\small\\\\Run_BKeeper_run_gpu_lat24.24.24.32_nodes002_mpi01-02-04-02_small\\\\Run_BKeeper_run_gpu_lat24.24.24.32_nodes002_mpi01-02-04-02_small.out', 'E:LatticeRuns\\\\Clusters\\\\Lumi\\\\LatticeRuns\\\\BKeeper_run_gpu\\\\small\\\\Run_BKeeper_run_gpu_lat24.24.24.32_nodes002_mpi02-01-02-04_small\\\\Run_BKeeper_run_gpu_lat24.24.24.32_nodes002_mpi02-01-02-04_small.out', 'E:LatticeRuns\\\\Clusters\\\\Lumi\\\\LatticeRuns\\\\BKeeper_run_gpu\\\\small\\\\Run_BKeeper_run_gpu_lat24.24.24.32_nodes002_mpi02-08-01-01_small\\\\Run_BKeeper_run_gpu_lat24.24.24.32_nodes002_mpi02-08-01-01_small.out', 'E:LatticeRuns\\\\Clusters\\\\Lumi\\\\LatticeRuns\\\\BKeeper_run_gpu\\\\small\\\\Run_BKeeper_run_gpu_lat24.24.24.32_nodes002_mpi01-02-02-04_small\\\\Run_BKeeper_run_gpu_lat24.24.24.32_nodes002_mpi01-02-02-04_small.out', 'E:LatticeRuns\\\\Clusters\\\\Lumi\\\\LatticeRuns\\\\BKeeper_run_gpu\\\\small\\\\Run_BKeeper_run_gpu_lat24.24.24.32_nodes002_mpi02-02-02-02_small\\\\Run_BKeeper_run_gpu_lat24.24.24.32_nodes002_mpi02-02-02-02_small.out', 'E:LatticeRuns\\\\Clusters\\\\Lumi\\\\LatticeRuns\\\\BKeeper_run_gpu\\\\small\\\\Run_BKeeper_run_gpu_lat24.24.24.32_nodes001_mpi01-08-01-01_small\\\\Run_BKeeper_run_gpu_lat24.24.24.32_nodes001_mpi01-08-01-01_small.out', 'E:LatticeRuns\\\\Clusters\\\\Lumi\\\\LatticeRuns\\\\BKeeper_run_gpu\\\\small\\\\Run_BKeeper_run_gpu_lat24.24.24.32_nodes001_mpi01-01-02-04_small\\\\Run_BKeeper_run_gpu_lat24.24.24.32_nodes001_mpi01-01-02-04_small.out', 'E:LatticeRuns\\\\Clusters\\\\Lumi\\\\LatticeRuns\\\\BKeeper_run_gpu\\\\small\\\\Run_BKeeper_run_gpu_lat24.24.24.32_nodes001_mpi01-02-02-02_small\\\\Run_BKeeper_run_gpu_lat24.24.24.32_nodes001_mpi01-02-02-02_small.out', 'E:LatticeRuns\\\\Clusters\\\\Lumi\\\\LatticeRuns\\\\BKeeper_run_gpu\\\\small\\\\Run_BKeeper_run_gpu_lat24.24.24.32_nodes001_mpi02-02-01-02_small\\\\Run_BKeeper_run_gpu_lat24.24.24.32_nodes001_mpi02-02-01-02_small.out', 'E:LatticeRuns\\\\Clusters\\\\Lumi\\\\LatticeRuns\\\\BKeeper_run_gpu\\\\small\\\\Run_BKeeper_run_gpu_lat24.24.24.32_nodes001_mpi02-01-02-02_small\\\\Run_BKeeper_run_gpu_lat24.24.24.32_nodes001_mpi02-01-02-02_small.out', 'E:LatticeRuns\\\\Clusters\\\\Lumi\\\\LatticeRuns\\\\BKeeper_run_gpu\\\\small\\\\Run_BKeeper_run_gpu_lat24.24.24.32_nodes001_mpi01-04-01-02_small\\\\Run_BKeeper_run_gpu_lat24.24.24.32_nodes001_mpi01-04-01-02_small.out', 'E:LatticeRuns\\\\Clusters\\\\Lumi\\\\LatticeRuns\\\\BKeeper_run_gpu\\\\small\\\\Run_BKeeper_run_gpu_lat24.24.24.32_nodes002_mpi02-02-04-01_small\\\\Run_BKeeper_run_gpu_lat24.24.24.32_nodes002_mpi02-02-04-01_small.out', 'E:LatticeRuns\\\\Clusters\\\\Lumi\\\\LatticeRuns\\\\BKeeper_run_gpu\\\\small\\\\Run_BKeeper_run_gpu_lat24.24.24.32_nodes002_mpi04-01-02-02_small\\\\Run_BKeeper_run_gpu_lat24.24.24.32_nodes002_mpi04-01-02-02_small.out', 'E:LatticeRuns\\\\Clusters\\\\Lumi\\\\LatticeRuns\\\\BKeeper_run_gpu\\\\small\\\\Run_BKeeper_run_gpu_lat24.24.24.32_nodes002_mpi02-01-01-08_small\\\\Run_BKeeper_run_gpu_lat24.24.24.32_nodes002_mpi02-01-01-08_small.out', 'E:LatticeRuns\\\\Clusters\\\\Lumi\\\\LatticeRuns\\\\BKeeper_run_gpu\\\\small\\\\Run_BKeeper_run_gpu_lat24.24.24.32_nodes002_mpi02-02-01-04_small\\\\Run_BKeeper_run_gpu_lat24.24.24.32_nodes002_mpi02-02-01-04_small.out', 'E:LatticeRuns\\\\Clusters\\\\Lumi\\\\LatticeRuns\\\\BKeeper_run_gpu\\\\small\\\\Run_BKeeper_run_gpu_lat24.24.24.32_nodes001_mpi02-02-02-01_small\\\\Run_BKeeper_run_gpu_lat24.24.24.32_nodes001_mpi02-02-02-01_small.out', 'E:LatticeRuns\\\\Clusters\\\\Lumi\\\\LatticeRuns\\\\BKeeper_run_gpu\\\\small\\\\Run_BKeeper_run_gpu_lat24.24.24.32_nodes001_mpi02-01-04-01_small\\\\Run_BKeeper_run_gpu_lat24.24.24.32_nodes001_mpi02-01-04-01_small.out', 'E:LatticeRuns\\\\Clusters\\\\Lumi\\\\LatticeRuns\\\\BKeeper_run_gpu\\\\small\\\\Run_BKeeper_run_gpu_lat24.24.24.32_nodes002_mpi02-04-01-02_small\\\\Run_BKeeper_run_gpu_lat24.24.24.32_nodes002_mpi02-04-01-02_small.out', 'E:LatticeRuns\\\\Clusters\\\\Lumi\\\\LatticeRuns\\\\BKeeper_run_gpu\\\\small\\\\Run_BKeeper_run_gpu_lat24.24.24.32_nodes001_mpi02-01-01-04_small\\\\Run_BKeeper_run_gpu_lat24.24.24.32_nodes001_mpi02-01-01-04_small.out', 'E:LatticeRuns\\\\Clusters\\\\Lumi\\\\LatticeRuns\\\\BKeeper_run_gpu\\\\small\\\\Run_BKeeper_run_gpu_lat24.24.24.32_nodes001_mpi01-04-02-01_small\\\\Run_BKeeper_run_gpu_lat24.24.24.32_nodes001_mpi01-04-02-01_small.out']\u001B[0m\n"
     ]
    }
   ],
   "execution_count": 1089
  },
  {
   "metadata": {
    "ExecuteTime": {
     "end_time": "2025-02-25T00:55:53.668890Z",
     "start_time": "2025-02-25T00:55:53.629138Z"
    }
   },
   "cell_type": "code",
   "source": [
    "# --------------------------------------------------------------------------\n",
    "# Reading in the inout file\n",
    "rc, dataFrame_BKeeper_small_lumi = read_BKeeper_file_out(c, m, batch_action, simulation_size, target_file_cluster_lst_lumi[:])"
   ],
   "id": "769be543eea12ae8",
   "outputs": [
    {
     "name": "stdout",
     "output_type": "stream",
     "text": [
      "\u001B[0;96m == [\u001B[0;94mGetting target file list      :\u001B[0;92m read_BKeeper_file_out\u001B[0;96m] ==\u001B[0m\n"
     ]
    },
    {
     "name": "stderr",
     "output_type": "stream",
     "text": [
      "bench_BKeeper_dict:: 100%|████████████████████████████████████████| 51/51 [00:00<00:00, 1819.13it/s]\n"
     ]
    }
   ],
   "execution_count": 1090
  },
  {
   "metadata": {
    "ExecuteTime": {
     "end_time": "2025-02-25T00:55:54.880985Z",
     "start_time": "2025-02-25T00:55:54.855384Z"
    }
   },
   "cell_type": "code",
   "source": [
    "# --------------------------------------------------------------------------\n",
    "# Reading in the inout file\n",
    "dataFrame_BKeeper_small_lumi"
   ],
   "id": "11556e97bbe14fd2",
   "outputs": [
    {
     "data": {
      "text/plain": [
       "    CG Run Time (s)  FlOp/S (GFlOp/s)  Comms  (MB)  Memory (GB)      lattice  \\\n",
       "0          0.144327        1399.27649    46.006272    64.928076  24.24.24.32   \n",
       "1          0.110589        1826.16154   368.050176    69.133746  24.24.24.32   \n",
       "2          0.145297        1389.93495   184.025088    69.231542  24.24.24.32   \n",
       "3          0.136605        1478.37472    46.006272    65.441333  24.24.24.32   \n",
       "4          0.109194        1849.49153   368.050176    68.547166  24.24.24.32   \n",
       "5          0.138894        1454.01082    46.006272    68.520878  24.24.24.32   \n",
       "6          0.106646        1893.67982    92.012544    68.203114  24.24.24.32   \n",
       "7          0.107995        1870.02526   368.050176    68.547166  24.24.24.32   \n",
       "8          0.123481        1635.50164   184.025088    66.020360  24.24.24.32   \n",
       "9          0.114157        1769.08449    92.012544    66.296729  24.24.24.32   \n",
       "10         0.143483        1407.50736    92.012544    66.073035  24.24.24.32   \n",
       "11         0.137929        1464.18359    46.006272    65.661300  24.24.24.32   \n",
       "12         0.136228        1482.46600   184.025088    68.644962  24.24.24.32   \n",
       "13         0.141640        1425.82165    46.006272    66.614493  24.24.24.32   \n",
       "14         0.140917        1433.13708    46.006272    68.520878  24.24.24.32   \n",
       "15         0.138765        1455.36251   184.025088    70.404702  24.24.24.32   \n",
       "16         0.156171        1293.15544    92.012544    67.731251  24.24.24.32   \n",
       "17         0.146522        1378.31437    92.012544    66.191479  24.24.24.32   \n",
       "18         0.138258        1460.69940    46.006272    66.467848  24.24.24.32   \n",
       "19         0.149098        1354.50092    92.012544    66.625773  24.24.24.32   \n",
       "20         0.107053        1886.48033    92.012544    64.866941  24.24.24.32   \n",
       "21         0.116027        1740.57227    92.012544    66.296729  24.24.24.32   \n",
       "22         0.109618        1842.33774    92.012544    65.270214  24.24.24.32   \n",
       "23         0.122837        1644.07612   184.025088    66.533618  24.24.24.32   \n",
       "24         0.113088        1785.80732   184.025088    66.533618  24.24.24.32   \n",
       "25         0.110818        1822.38786    92.012544    65.343537  24.24.24.32   \n",
       "26         0.145233        1390.54745   184.025088    69.231542  24.24.24.32   \n",
       "27         0.157387        1283.16429    92.012544    69.784281  24.24.24.32   \n",
       "28         0.139956        1442.97764    92.012544    67.731251  24.24.24.32   \n",
       "29         0.114692        1760.83230   184.025088    65.980879  24.24.24.32   \n",
       "30         0.158178        1276.74758    92.012544    66.704736  24.24.24.32   \n",
       "31         0.107710        1874.97334   184.025088    67.560132  24.24.24.32   \n",
       "32         0.116994        1726.18577    92.012544    64.756957  24.24.24.32   \n",
       "\n",
       "   nodes mpi_distribution  \n",
       "0    002      01-08-02-01  \n",
       "1    001      04-01-01-02  \n",
       "2    002      04-02-01-02  \n",
       "3    002      01-04-02-02  \n",
       "4    001      04-01-02-01  \n",
       "5    002      01-02-01-08  \n",
       "6    001      01-01-01-08  \n",
       "7    001      04-02-01-01  \n",
       "8    001      02-04-01-01  \n",
       "9    001      01-02-01-04  \n",
       "10   002      02-04-02-01  \n",
       "11   002      01-08-01-02  \n",
       "12   002      04-04-01-01  \n",
       "13   002      01-04-01-04  \n",
       "14   002      01-01-02-08  \n",
       "15   002      04-01-01-04  \n",
       "16   002      02-01-02-04  \n",
       "17   002      02-08-01-01  \n",
       "18   002      01-02-02-04  \n",
       "19   002      02-02-02-02  \n",
       "20   001      01-08-01-01  \n",
       "21   001      01-01-02-04  \n",
       "22   001      01-02-02-02  \n",
       "23   001      02-02-01-02  \n",
       "24   001      02-01-02-02  \n",
       "25   001      01-04-01-02  \n",
       "26   002      04-01-02-02  \n",
       "27   002      02-01-01-08  \n",
       "28   002      02-02-01-04  \n",
       "29   001      02-02-02-01  \n",
       "30   002      02-04-01-02  \n",
       "31   001      02-01-01-04  \n",
       "32   001      01-04-02-01  "
      ],
      "text/html": [
       "<div>\n",
       "<style scoped>\n",
       "    .dataframe tbody tr th:only-of-type {\n",
       "        vertical-align: middle;\n",
       "    }\n",
       "\n",
       "    .dataframe tbody tr th {\n",
       "        vertical-align: top;\n",
       "    }\n",
       "\n",
       "    .dataframe thead th {\n",
       "        text-align: right;\n",
       "    }\n",
       "</style>\n",
       "<table border=\"1\" class=\"dataframe\">\n",
       "  <thead>\n",
       "    <tr style=\"text-align: right;\">\n",
       "      <th></th>\n",
       "      <th>CG Run Time (s)</th>\n",
       "      <th>FlOp/S (GFlOp/s)</th>\n",
       "      <th>Comms  (MB)</th>\n",
       "      <th>Memory (GB)</th>\n",
       "      <th>lattice</th>\n",
       "      <th>nodes</th>\n",
       "      <th>mpi_distribution</th>\n",
       "    </tr>\n",
       "  </thead>\n",
       "  <tbody>\n",
       "    <tr>\n",
       "      <th>0</th>\n",
       "      <td>0.144327</td>\n",
       "      <td>1399.27649</td>\n",
       "      <td>46.006272</td>\n",
       "      <td>64.928076</td>\n",
       "      <td>24.24.24.32</td>\n",
       "      <td>002</td>\n",
       "      <td>01-08-02-01</td>\n",
       "    </tr>\n",
       "    <tr>\n",
       "      <th>1</th>\n",
       "      <td>0.110589</td>\n",
       "      <td>1826.16154</td>\n",
       "      <td>368.050176</td>\n",
       "      <td>69.133746</td>\n",
       "      <td>24.24.24.32</td>\n",
       "      <td>001</td>\n",
       "      <td>04-01-01-02</td>\n",
       "    </tr>\n",
       "    <tr>\n",
       "      <th>2</th>\n",
       "      <td>0.145297</td>\n",
       "      <td>1389.93495</td>\n",
       "      <td>184.025088</td>\n",
       "      <td>69.231542</td>\n",
       "      <td>24.24.24.32</td>\n",
       "      <td>002</td>\n",
       "      <td>04-02-01-02</td>\n",
       "    </tr>\n",
       "    <tr>\n",
       "      <th>3</th>\n",
       "      <td>0.136605</td>\n",
       "      <td>1478.37472</td>\n",
       "      <td>46.006272</td>\n",
       "      <td>65.441333</td>\n",
       "      <td>24.24.24.32</td>\n",
       "      <td>002</td>\n",
       "      <td>01-04-02-02</td>\n",
       "    </tr>\n",
       "    <tr>\n",
       "      <th>4</th>\n",
       "      <td>0.109194</td>\n",
       "      <td>1849.49153</td>\n",
       "      <td>368.050176</td>\n",
       "      <td>68.547166</td>\n",
       "      <td>24.24.24.32</td>\n",
       "      <td>001</td>\n",
       "      <td>04-01-02-01</td>\n",
       "    </tr>\n",
       "    <tr>\n",
       "      <th>5</th>\n",
       "      <td>0.138894</td>\n",
       "      <td>1454.01082</td>\n",
       "      <td>46.006272</td>\n",
       "      <td>68.520878</td>\n",
       "      <td>24.24.24.32</td>\n",
       "      <td>002</td>\n",
       "      <td>01-02-01-08</td>\n",
       "    </tr>\n",
       "    <tr>\n",
       "      <th>6</th>\n",
       "      <td>0.106646</td>\n",
       "      <td>1893.67982</td>\n",
       "      <td>92.012544</td>\n",
       "      <td>68.203114</td>\n",
       "      <td>24.24.24.32</td>\n",
       "      <td>001</td>\n",
       "      <td>01-01-01-08</td>\n",
       "    </tr>\n",
       "    <tr>\n",
       "      <th>7</th>\n",
       "      <td>0.107995</td>\n",
       "      <td>1870.02526</td>\n",
       "      <td>368.050176</td>\n",
       "      <td>68.547166</td>\n",
       "      <td>24.24.24.32</td>\n",
       "      <td>001</td>\n",
       "      <td>04-02-01-01</td>\n",
       "    </tr>\n",
       "    <tr>\n",
       "      <th>8</th>\n",
       "      <td>0.123481</td>\n",
       "      <td>1635.50164</td>\n",
       "      <td>184.025088</td>\n",
       "      <td>66.020360</td>\n",
       "      <td>24.24.24.32</td>\n",
       "      <td>001</td>\n",
       "      <td>02-04-01-01</td>\n",
       "    </tr>\n",
       "    <tr>\n",
       "      <th>9</th>\n",
       "      <td>0.114157</td>\n",
       "      <td>1769.08449</td>\n",
       "      <td>92.012544</td>\n",
       "      <td>66.296729</td>\n",
       "      <td>24.24.24.32</td>\n",
       "      <td>001</td>\n",
       "      <td>01-02-01-04</td>\n",
       "    </tr>\n",
       "    <tr>\n",
       "      <th>10</th>\n",
       "      <td>0.143483</td>\n",
       "      <td>1407.50736</td>\n",
       "      <td>92.012544</td>\n",
       "      <td>66.073035</td>\n",
       "      <td>24.24.24.32</td>\n",
       "      <td>002</td>\n",
       "      <td>02-04-02-01</td>\n",
       "    </tr>\n",
       "    <tr>\n",
       "      <th>11</th>\n",
       "      <td>0.137929</td>\n",
       "      <td>1464.18359</td>\n",
       "      <td>46.006272</td>\n",
       "      <td>65.661300</td>\n",
       "      <td>24.24.24.32</td>\n",
       "      <td>002</td>\n",
       "      <td>01-08-01-02</td>\n",
       "    </tr>\n",
       "    <tr>\n",
       "      <th>12</th>\n",
       "      <td>0.136228</td>\n",
       "      <td>1482.46600</td>\n",
       "      <td>184.025088</td>\n",
       "      <td>68.644962</td>\n",
       "      <td>24.24.24.32</td>\n",
       "      <td>002</td>\n",
       "      <td>04-04-01-01</td>\n",
       "    </tr>\n",
       "    <tr>\n",
       "      <th>13</th>\n",
       "      <td>0.141640</td>\n",
       "      <td>1425.82165</td>\n",
       "      <td>46.006272</td>\n",
       "      <td>66.614493</td>\n",
       "      <td>24.24.24.32</td>\n",
       "      <td>002</td>\n",
       "      <td>01-04-01-04</td>\n",
       "    </tr>\n",
       "    <tr>\n",
       "      <th>14</th>\n",
       "      <td>0.140917</td>\n",
       "      <td>1433.13708</td>\n",
       "      <td>46.006272</td>\n",
       "      <td>68.520878</td>\n",
       "      <td>24.24.24.32</td>\n",
       "      <td>002</td>\n",
       "      <td>01-01-02-08</td>\n",
       "    </tr>\n",
       "    <tr>\n",
       "      <th>15</th>\n",
       "      <td>0.138765</td>\n",
       "      <td>1455.36251</td>\n",
       "      <td>184.025088</td>\n",
       "      <td>70.404702</td>\n",
       "      <td>24.24.24.32</td>\n",
       "      <td>002</td>\n",
       "      <td>04-01-01-04</td>\n",
       "    </tr>\n",
       "    <tr>\n",
       "      <th>16</th>\n",
       "      <td>0.156171</td>\n",
       "      <td>1293.15544</td>\n",
       "      <td>92.012544</td>\n",
       "      <td>67.731251</td>\n",
       "      <td>24.24.24.32</td>\n",
       "      <td>002</td>\n",
       "      <td>02-01-02-04</td>\n",
       "    </tr>\n",
       "    <tr>\n",
       "      <th>17</th>\n",
       "      <td>0.146522</td>\n",
       "      <td>1378.31437</td>\n",
       "      <td>92.012544</td>\n",
       "      <td>66.191479</td>\n",
       "      <td>24.24.24.32</td>\n",
       "      <td>002</td>\n",
       "      <td>02-08-01-01</td>\n",
       "    </tr>\n",
       "    <tr>\n",
       "      <th>18</th>\n",
       "      <td>0.138258</td>\n",
       "      <td>1460.69940</td>\n",
       "      <td>46.006272</td>\n",
       "      <td>66.467848</td>\n",
       "      <td>24.24.24.32</td>\n",
       "      <td>002</td>\n",
       "      <td>01-02-02-04</td>\n",
       "    </tr>\n",
       "    <tr>\n",
       "      <th>19</th>\n",
       "      <td>0.149098</td>\n",
       "      <td>1354.50092</td>\n",
       "      <td>92.012544</td>\n",
       "      <td>66.625773</td>\n",
       "      <td>24.24.24.32</td>\n",
       "      <td>002</td>\n",
       "      <td>02-02-02-02</td>\n",
       "    </tr>\n",
       "    <tr>\n",
       "      <th>20</th>\n",
       "      <td>0.107053</td>\n",
       "      <td>1886.48033</td>\n",
       "      <td>92.012544</td>\n",
       "      <td>64.866941</td>\n",
       "      <td>24.24.24.32</td>\n",
       "      <td>001</td>\n",
       "      <td>01-08-01-01</td>\n",
       "    </tr>\n",
       "    <tr>\n",
       "      <th>21</th>\n",
       "      <td>0.116027</td>\n",
       "      <td>1740.57227</td>\n",
       "      <td>92.012544</td>\n",
       "      <td>66.296729</td>\n",
       "      <td>24.24.24.32</td>\n",
       "      <td>001</td>\n",
       "      <td>01-01-02-04</td>\n",
       "    </tr>\n",
       "    <tr>\n",
       "      <th>22</th>\n",
       "      <td>0.109618</td>\n",
       "      <td>1842.33774</td>\n",
       "      <td>92.012544</td>\n",
       "      <td>65.270214</td>\n",
       "      <td>24.24.24.32</td>\n",
       "      <td>001</td>\n",
       "      <td>01-02-02-02</td>\n",
       "    </tr>\n",
       "    <tr>\n",
       "      <th>23</th>\n",
       "      <td>0.122837</td>\n",
       "      <td>1644.07612</td>\n",
       "      <td>184.025088</td>\n",
       "      <td>66.533618</td>\n",
       "      <td>24.24.24.32</td>\n",
       "      <td>001</td>\n",
       "      <td>02-02-01-02</td>\n",
       "    </tr>\n",
       "    <tr>\n",
       "      <th>24</th>\n",
       "      <td>0.113088</td>\n",
       "      <td>1785.80732</td>\n",
       "      <td>184.025088</td>\n",
       "      <td>66.533618</td>\n",
       "      <td>24.24.24.32</td>\n",
       "      <td>001</td>\n",
       "      <td>02-01-02-02</td>\n",
       "    </tr>\n",
       "    <tr>\n",
       "      <th>25</th>\n",
       "      <td>0.110818</td>\n",
       "      <td>1822.38786</td>\n",
       "      <td>92.012544</td>\n",
       "      <td>65.343537</td>\n",
       "      <td>24.24.24.32</td>\n",
       "      <td>001</td>\n",
       "      <td>01-04-01-02</td>\n",
       "    </tr>\n",
       "    <tr>\n",
       "      <th>26</th>\n",
       "      <td>0.145233</td>\n",
       "      <td>1390.54745</td>\n",
       "      <td>184.025088</td>\n",
       "      <td>69.231542</td>\n",
       "      <td>24.24.24.32</td>\n",
       "      <td>002</td>\n",
       "      <td>04-01-02-02</td>\n",
       "    </tr>\n",
       "    <tr>\n",
       "      <th>27</th>\n",
       "      <td>0.157387</td>\n",
       "      <td>1283.16429</td>\n",
       "      <td>92.012544</td>\n",
       "      <td>69.784281</td>\n",
       "      <td>24.24.24.32</td>\n",
       "      <td>002</td>\n",
       "      <td>02-01-01-08</td>\n",
       "    </tr>\n",
       "    <tr>\n",
       "      <th>28</th>\n",
       "      <td>0.139956</td>\n",
       "      <td>1442.97764</td>\n",
       "      <td>92.012544</td>\n",
       "      <td>67.731251</td>\n",
       "      <td>24.24.24.32</td>\n",
       "      <td>002</td>\n",
       "      <td>02-02-01-04</td>\n",
       "    </tr>\n",
       "    <tr>\n",
       "      <th>29</th>\n",
       "      <td>0.114692</td>\n",
       "      <td>1760.83230</td>\n",
       "      <td>184.025088</td>\n",
       "      <td>65.980879</td>\n",
       "      <td>24.24.24.32</td>\n",
       "      <td>001</td>\n",
       "      <td>02-02-02-01</td>\n",
       "    </tr>\n",
       "    <tr>\n",
       "      <th>30</th>\n",
       "      <td>0.158178</td>\n",
       "      <td>1276.74758</td>\n",
       "      <td>92.012544</td>\n",
       "      <td>66.704736</td>\n",
       "      <td>24.24.24.32</td>\n",
       "      <td>002</td>\n",
       "      <td>02-04-01-02</td>\n",
       "    </tr>\n",
       "    <tr>\n",
       "      <th>31</th>\n",
       "      <td>0.107710</td>\n",
       "      <td>1874.97334</td>\n",
       "      <td>184.025088</td>\n",
       "      <td>67.560132</td>\n",
       "      <td>24.24.24.32</td>\n",
       "      <td>001</td>\n",
       "      <td>02-01-01-04</td>\n",
       "    </tr>\n",
       "    <tr>\n",
       "      <th>32</th>\n",
       "      <td>0.116994</td>\n",
       "      <td>1726.18577</td>\n",
       "      <td>92.012544</td>\n",
       "      <td>64.756957</td>\n",
       "      <td>24.24.24.32</td>\n",
       "      <td>001</td>\n",
       "      <td>01-04-02-01</td>\n",
       "    </tr>\n",
       "  </tbody>\n",
       "</table>\n",
       "</div>"
      ]
     },
     "execution_count": 1091,
     "metadata": {},
     "output_type": "execute_result"
    }
   ],
   "execution_count": 1091
  },
  {
   "metadata": {},
   "cell_type": "markdown",
   "source": [
    "## Vega\n",
    "### [BKeeper_run_gpu : small]\n",
    "---"
   ],
   "id": "6baf30c4081ee933"
  },
  {
   "metadata": {
    "ExecuteTime": {
     "end_time": "2025-02-25T00:55:55.848315Z",
     "start_time": "2025-02-25T00:55:55.841019Z"
    }
   },
   "cell_type": "code",
   "source": [
    "machine_name = \"Vega\"\n",
    "DATA_PATH         = os.path.join('E:','LatticeRuns','Clusters',machine_name,'LatticeRuns')"
   ],
   "id": "cb158d60922eb51c",
   "outputs": [],
   "execution_count": 1092
  },
  {
   "metadata": {
    "ExecuteTime": {
     "end_time": "2025-02-25T00:55:57.296103Z",
     "start_time": "2025-02-25T00:55:57.286557Z"
    }
   },
   "cell_type": "code",
   "source": [
    "# Reinitialising the paths and object content.\n",
    "batch_action = \"BKeeper_run_gpu\"\n",
    "simulation_size=\"small\"\n",
    "rc = Reinitialising_Paths_and_object_content(c, m, DATA_PATH, batch_action, simulation_size)"
   ],
   "id": "f43b1c84d820137",
   "outputs": [
    {
     "name": "stdout",
     "output_type": "stream",
     "text": [
      "\u001B[0;96m == [\u001B[0;94mGetting target file list      :\u001B[0;92m Reinitialising_Paths_and_object_content\u001B[0;96m] ==\u001B[0m\n",
      "\u001B[0;96m == [\u001B[0;94mDefault target file           :\u001B[0;95m target.txt\u001B[0;96m] ==\u001B[0m\n",
      "\u001B[0;96m == [\u001B[0;94mTarget file for analysis      :\u001B[0;95m target_BKeeper_run_gpu_small_batch_files.txt\u001B[0;96m] ==\u001B[0m\n",
      "\u001B[0;96m == [\u001B[0;94mFull Path target file         :\u001B[0;96m E:LatticeRuns\\Clusters\\Vega\\LatticeRuns\\target_BKeeper_run_gpu_small_batch_files.txt\u001B[0;96m] ==\u001B[0m\n",
      "\u001B[0;96m    \u001B[0;94m[Check]: target file       --->: \u001B[0;92mExists\u001B[0m\n"
     ]
    }
   ],
   "execution_count": 1093
  },
  {
   "metadata": {
    "ExecuteTime": {
     "end_time": "2025-02-25T00:55:58.780820Z",
     "start_time": "2025-02-25T00:55:58.739012Z"
    }
   },
   "cell_type": "code",
   "source": [
    "# --------------------------------------------------------------------------\n",
    "# Getting content in the target file\n",
    "rc, target_file_lst_vega, target_file_dir_vega = getTarget_file_lst(c, m, c.getTargetdir())"
   ],
   "id": "345ed4054122875d",
   "outputs": [
    {
     "name": "stdout",
     "output_type": "stream",
     "text": [
      "\u001B[0;96m == [\u001B[0;94mGetting target file list      :\u001B[0;92m getTarget_file_lst\u001B[0;96m] ==\u001B[0m\n",
      "\u001B[0;96m    \u001B[0;94mNumber of files in target_file : \u001B[0;93m26\u001B[0m\n"
     ]
    }
   ],
   "execution_count": 1094
  },
  {
   "metadata": {
    "ExecuteTime": {
     "end_time": "2025-02-25T00:55:59.910436Z",
     "start_time": "2025-02-25T00:55:59.889289Z"
    }
   },
   "cell_type": "code",
   "source": [
    "# --------------------------------------------------------------------------\n",
    "# Getting content in the target file\n",
    "rc, target_file_cluster_lst_vega = getTarget_file_cluster_lst(c, m, target_file_lst_vega[:])"
   ],
   "id": "301a84c8fe4a047d",
   "outputs": [
    {
     "name": "stdout",
     "output_type": "stream",
     "text": [
      "\u001B[0;96m == [\u001B[0;94mGetting target file list      :\u001B[0;92m getTarget_file_cluster_lst\u001B[0;96m] ==\u001B[0m\n",
      "\u001B[0;96m    \u001B[0;94m[Check]: target file       --->: \u001B[0;92m\u001B[0;95mE:LatticeRuns\\Clusters\\Vega\\LatticeRuns\\BKeeper_run_gpu\\small\\Run_BKeeper_run_gpu_lat24.24.24.32_nodes002_mpi01-01-04-02_small\\Run_BKeeper_run_gpu_lat24.24.24.32_nodes002_mpi01-01-04-02_small.sh\u001B[0;92m ---> Exists\u001B[0m\n",
      "\u001B[0;96m    \u001B[0;94m[Check]: Cluster file      --->: \u001B[0;92m\u001B[0;93mE:LatticeRuns\\Clusters\\Vega\\LatticeRuns\\BKeeper_run_gpu\\small\\Run_BKeeper_run_gpu_lat24.24.24.32_nodes002_mpi01-01-04-02_small\\Run_BKeeper_run_gpu_lat24.24.24.32_nodes002_mpi01-01-04-02_small.out\u001B[0;92m ---> Exists\u001B[0m\n",
      "\u001B[0;96m    \u001B[0;94m[Check]: target file       --->: \u001B[0;92m\u001B[0;95mE:LatticeRuns\\Clusters\\Vega\\LatticeRuns\\BKeeper_run_gpu\\small\\Run_BKeeper_run_gpu_lat24.24.24.32_nodes002_mpi04-02-01-01_small\\Run_BKeeper_run_gpu_lat24.24.24.32_nodes002_mpi04-02-01-01_small.sh\u001B[0;92m ---> Exists\u001B[0m\n",
      "\u001B[0;96m    \u001B[0;94m[Check]: Cluster file      --->: \u001B[0;92m\u001B[0;93mE:LatticeRuns\\Clusters\\Vega\\LatticeRuns\\BKeeper_run_gpu\\small\\Run_BKeeper_run_gpu_lat24.24.24.32_nodes002_mpi04-02-01-01_small\\Run_BKeeper_run_gpu_lat24.24.24.32_nodes002_mpi04-02-01-01_small.out\u001B[0;92m ---> Exists\u001B[0m\n",
      "\u001B[0;96m    \u001B[0;94m[Check]: target file       --->: \u001B[0;92m\u001B[0;95mE:LatticeRuns\\Clusters\\Vega\\LatticeRuns\\BKeeper_run_gpu\\small\\Run_BKeeper_run_gpu_lat24.24.24.32_nodes001_mpi04-01-01-01_small\\Run_BKeeper_run_gpu_lat24.24.24.32_nodes001_mpi04-01-01-01_small.sh\u001B[0;92m ---> Exists\u001B[0m\n",
      "\u001B[0;96m    \u001B[0;94m[Check]: Cluster file      --->: \u001B[0;92m\u001B[0;93mE:LatticeRuns\\Clusters\\Vega\\LatticeRuns\\BKeeper_run_gpu\\small\\Run_BKeeper_run_gpu_lat24.24.24.32_nodes001_mpi04-01-01-01_small\\Run_BKeeper_run_gpu_lat24.24.24.32_nodes001_mpi04-01-01-01_small.out\u001B[0;92m ---> Exists\u001B[0m\n",
      "\u001B[0;96m    \u001B[0;94m[Check]: target file       --->: \u001B[0;92m\u001B[0;95mE:LatticeRuns\\Clusters\\Vega\\LatticeRuns\\BKeeper_run_gpu\\small\\Run_BKeeper_run_gpu_lat24.24.24.32_nodes002_mpi01-01-02-04_small\\Run_BKeeper_run_gpu_lat24.24.24.32_nodes002_mpi01-01-02-04_small.sh\u001B[0;92m ---> Exists\u001B[0m\n",
      "\u001B[0;96m    \u001B[0;94m[Check]: Cluster file      --->: \u001B[0;92m\u001B[0;93mE:LatticeRuns\\Clusters\\Vega\\LatticeRuns\\BKeeper_run_gpu\\small\\Run_BKeeper_run_gpu_lat24.24.24.32_nodes002_mpi01-01-02-04_small\\Run_BKeeper_run_gpu_lat24.24.24.32_nodes002_mpi01-01-02-04_small.out\u001B[0;92m ---> Exists\u001B[0m\n",
      "\u001B[0;96m    \u001B[0;94m[Check]: target file       --->: \u001B[0;92m\u001B[0;95mE:LatticeRuns\\Clusters\\Vega\\LatticeRuns\\BKeeper_run_gpu\\small\\Run_BKeeper_run_gpu_lat24.24.24.32_nodes002_mpi01-02-01-04_small\\Run_BKeeper_run_gpu_lat24.24.24.32_nodes002_mpi01-02-01-04_small.sh\u001B[0;92m ---> Exists\u001B[0m\n",
      "\u001B[0;96m    \u001B[0;94m[Check]: Cluster file      --->: \u001B[0;92m\u001B[0;93mE:LatticeRuns\\Clusters\\Vega\\LatticeRuns\\BKeeper_run_gpu\\small\\Run_BKeeper_run_gpu_lat24.24.24.32_nodes002_mpi01-02-01-04_small\\Run_BKeeper_run_gpu_lat24.24.24.32_nodes002_mpi01-02-01-04_small.out\u001B[0;92m ---> Exists\u001B[0m\n",
      "\u001B[0;96m    \u001B[0;94m[Check]: target file       --->: \u001B[0;92m\u001B[0;95mE:LatticeRuns\\Clusters\\Vega\\LatticeRuns\\BKeeper_run_gpu\\small\\Run_BKeeper_run_gpu_lat24.24.24.32_nodes002_mpi01-04-01-02_small\\Run_BKeeper_run_gpu_lat24.24.24.32_nodes002_mpi01-04-01-02_small.sh\u001B[0;92m ---> Exists\u001B[0m\n",
      "\u001B[0;96m    \u001B[0;94m[Check]: Cluster file      --->: \u001B[0;92m\u001B[0;93mE:LatticeRuns\\Clusters\\Vega\\LatticeRuns\\BKeeper_run_gpu\\small\\Run_BKeeper_run_gpu_lat24.24.24.32_nodes002_mpi01-04-01-02_small\\Run_BKeeper_run_gpu_lat24.24.24.32_nodes002_mpi01-04-01-02_small.out\u001B[0;92m ---> Exists\u001B[0m\n",
      "\u001B[0;96m    \u001B[0;94m[Check]: target file       --->: \u001B[0;92m\u001B[0;95mE:LatticeRuns\\Clusters\\Vega\\LatticeRuns\\BKeeper_run_gpu\\small\\Run_BKeeper_run_gpu_lat24.24.24.32_nodes001_mpi01-01-04-01_small\\Run_BKeeper_run_gpu_lat24.24.24.32_nodes001_mpi01-01-04-01_small.sh\u001B[0;92m ---> Exists\u001B[0m\n",
      "\u001B[0;96m    \u001B[0;94m[Check]: Cluster file      --->: \u001B[0;92m\u001B[0;93mE:LatticeRuns\\Clusters\\Vega\\LatticeRuns\\BKeeper_run_gpu\\small\\Run_BKeeper_run_gpu_lat24.24.24.32_nodes001_mpi01-01-04-01_small\\Run_BKeeper_run_gpu_lat24.24.24.32_nodes001_mpi01-01-04-01_small.out\u001B[0;92m ---> Exists\u001B[0m\n",
      "\u001B[0;96m    \u001B[0;94m[Check]: target file       --->: \u001B[0;92m\u001B[0;95mE:LatticeRuns\\Clusters\\Vega\\LatticeRuns\\BKeeper_run_gpu\\small\\Run_BKeeper_run_gpu_lat24.24.24.32_nodes001_mpi01-04-01-01_small\\Run_BKeeper_run_gpu_lat24.24.24.32_nodes001_mpi01-04-01-01_small.sh\u001B[0;92m ---> Exists\u001B[0m\n",
      "\u001B[0;96m    \u001B[0;94m[Check]: Cluster file      --->: \u001B[0;92m\u001B[0;93mE:LatticeRuns\\Clusters\\Vega\\LatticeRuns\\BKeeper_run_gpu\\small\\Run_BKeeper_run_gpu_lat24.24.24.32_nodes001_mpi01-04-01-01_small\\Run_BKeeper_run_gpu_lat24.24.24.32_nodes001_mpi01-04-01-01_small.out\u001B[0;92m ---> Exists\u001B[0m\n",
      "\u001B[0;96m    \u001B[0;94m[Check]: target file       --->: \u001B[0;92m\u001B[0;95mE:LatticeRuns\\Clusters\\Vega\\LatticeRuns\\BKeeper_run_gpu\\small\\Run_BKeeper_run_gpu_lat24.24.24.32_nodes002_mpi02-04-01-01_small\\Run_BKeeper_run_gpu_lat24.24.24.32_nodes002_mpi02-04-01-01_small.sh\u001B[0;92m ---> Exists\u001B[0m\n",
      "\u001B[0;96m    \u001B[0;94m[Check]: Cluster file      --->: \u001B[0;92m\u001B[0;93mE:LatticeRuns\\Clusters\\Vega\\LatticeRuns\\BKeeper_run_gpu\\small\\Run_BKeeper_run_gpu_lat24.24.24.32_nodes002_mpi02-04-01-01_small\\Run_BKeeper_run_gpu_lat24.24.24.32_nodes002_mpi02-04-01-01_small.out\u001B[0;92m ---> Exists\u001B[0m\n",
      "\u001B[0;96m    \u001B[0;94m[Check]: target file       --->: \u001B[0;92m\u001B[0;95mE:LatticeRuns\\Clusters\\Vega\\LatticeRuns\\BKeeper_run_gpu\\small\\Run_BKeeper_run_gpu_lat24.24.24.32_nodes002_mpi01-02-02-02_small\\Run_BKeeper_run_gpu_lat24.24.24.32_nodes002_mpi01-02-02-02_small.sh\u001B[0;92m ---> Exists\u001B[0m\n",
      "\u001B[0;96m    \u001B[0;94m[Check]: Cluster file      --->: \u001B[0;92m\u001B[0;93mE:LatticeRuns\\Clusters\\Vega\\LatticeRuns\\BKeeper_run_gpu\\small\\Run_BKeeper_run_gpu_lat24.24.24.32_nodes002_mpi01-02-02-02_small\\Run_BKeeper_run_gpu_lat24.24.24.32_nodes002_mpi01-02-02-02_small.out\u001B[0;92m ---> Exists\u001B[0m\n",
      "\u001B[0;96m    \u001B[0;94m[Check]: target file       --->: \u001B[0;92m\u001B[0;95mE:LatticeRuns\\Clusters\\Vega\\LatticeRuns\\BKeeper_run_gpu\\small\\Run_BKeeper_run_gpu_lat24.24.24.32_nodes002_mpi01-02-04-01_small\\Run_BKeeper_run_gpu_lat24.24.24.32_nodes002_mpi01-02-04-01_small.sh\u001B[0;92m ---> Exists\u001B[0m\n",
      "\u001B[0;96m    \u001B[0;94m[Check]: Cluster file      --->: \u001B[0;92m\u001B[0;93mE:LatticeRuns\\Clusters\\Vega\\LatticeRuns\\BKeeper_run_gpu\\small\\Run_BKeeper_run_gpu_lat24.24.24.32_nodes002_mpi01-02-04-01_small\\Run_BKeeper_run_gpu_lat24.24.24.32_nodes002_mpi01-02-04-01_small.out\u001B[0;92m ---> Exists\u001B[0m\n",
      "\u001B[0;96m    \u001B[0;94m[Check]: target file       --->: \u001B[0;92m\u001B[0;95mE:LatticeRuns\\Clusters\\Vega\\LatticeRuns\\BKeeper_run_gpu\\small\\Run_BKeeper_run_gpu_lat24.24.24.32_nodes001_mpi02-01-02-01_small\\Run_BKeeper_run_gpu_lat24.24.24.32_nodes001_mpi02-01-02-01_small.sh\u001B[0;92m ---> Exists\u001B[0m\n",
      "\u001B[0;96m    \u001B[0;94m[Check]: Cluster file      --->: \u001B[0;92m\u001B[0;93mE:LatticeRuns\\Clusters\\Vega\\LatticeRuns\\BKeeper_run_gpu\\small\\Run_BKeeper_run_gpu_lat24.24.24.32_nodes001_mpi02-01-02-01_small\\Run_BKeeper_run_gpu_lat24.24.24.32_nodes001_mpi02-01-02-01_small.out\u001B[0;92m ---> Exists\u001B[0m\n",
      "\u001B[0;96m    \u001B[0;94m[Check]: target file       --->: \u001B[0;92m\u001B[0;95mE:LatticeRuns\\Clusters\\Vega\\LatticeRuns\\BKeeper_run_gpu\\small\\Run_BKeeper_run_gpu_lat24.24.24.32_nodes001_mpi02-01-01-02_small\\Run_BKeeper_run_gpu_lat24.24.24.32_nodes001_mpi02-01-01-02_small.sh\u001B[0;92m ---> Exists\u001B[0m\n",
      "\u001B[0;96m    \u001B[0;94m[Check]: Cluster file      --->: \u001B[0;92m\u001B[0;93mE:LatticeRuns\\Clusters\\Vega\\LatticeRuns\\BKeeper_run_gpu\\small\\Run_BKeeper_run_gpu_lat24.24.24.32_nodes001_mpi02-01-01-02_small\\Run_BKeeper_run_gpu_lat24.24.24.32_nodes001_mpi02-01-01-02_small.out\u001B[0;92m ---> Exists\u001B[0m\n",
      "\u001B[0;96m    \u001B[0;94m[Check]: target file       --->: \u001B[0;92m\u001B[0;95mE:LatticeRuns\\Clusters\\Vega\\LatticeRuns\\BKeeper_run_gpu\\small\\Run_BKeeper_run_gpu_lat24.24.24.32_nodes002_mpi02-01-04-01_small\\Run_BKeeper_run_gpu_lat24.24.24.32_nodes002_mpi02-01-04-01_small.sh\u001B[0;92m ---> Exists\u001B[0m\n",
      "\u001B[0;96m    \u001B[0;94m[Check]: Cluster file      --->: \u001B[0;92m\u001B[0;93mE:LatticeRuns\\Clusters\\Vega\\LatticeRuns\\BKeeper_run_gpu\\small\\Run_BKeeper_run_gpu_lat24.24.24.32_nodes002_mpi02-01-04-01_small\\Run_BKeeper_run_gpu_lat24.24.24.32_nodes002_mpi02-01-04-01_small.out\u001B[0;92m ---> Exists\u001B[0m\n",
      "\u001B[0;96m    \u001B[0;94m[Check]: target file       --->: \u001B[0;92m\u001B[0;95mE:LatticeRuns\\Clusters\\Vega\\LatticeRuns\\BKeeper_run_gpu\\small\\Run_BKeeper_run_gpu_lat24.24.24.32_nodes002_mpi04-01-02-01_small\\Run_BKeeper_run_gpu_lat24.24.24.32_nodes002_mpi04-01-02-01_small.sh\u001B[0;92m ---> Exists\u001B[0m\n",
      "\u001B[0;96m    \u001B[0;94m[Check]: Cluster file      --->: \u001B[0;92m\u001B[0;93mE:LatticeRuns\\Clusters\\Vega\\LatticeRuns\\BKeeper_run_gpu\\small\\Run_BKeeper_run_gpu_lat24.24.24.32_nodes002_mpi04-01-02-01_small\\Run_BKeeper_run_gpu_lat24.24.24.32_nodes002_mpi04-01-02-01_small.out\u001B[0;92m ---> Exists\u001B[0m\n",
      "\u001B[0;96m    \u001B[0;94m[Check]: target file       --->: \u001B[0;92m\u001B[0;95mE:LatticeRuns\\Clusters\\Vega\\LatticeRuns\\BKeeper_run_gpu\\small\\Run_BKeeper_run_gpu_lat24.24.24.32_nodes002_mpi04-01-01-02_small\\Run_BKeeper_run_gpu_lat24.24.24.32_nodes002_mpi04-01-01-02_small.sh\u001B[0;92m ---> Exists\u001B[0m\n",
      "\u001B[0;96m    \u001B[0;94m[Check]: Cluster file      --->: \u001B[0;92m\u001B[0;93mE:LatticeRuns\\Clusters\\Vega\\LatticeRuns\\BKeeper_run_gpu\\small\\Run_BKeeper_run_gpu_lat24.24.24.32_nodes002_mpi04-01-01-02_small\\Run_BKeeper_run_gpu_lat24.24.24.32_nodes002_mpi04-01-01-02_small.out\u001B[0;92m ---> Exists\u001B[0m\n",
      "\u001B[0;96m    \u001B[0;94m[Check]: target file       --->: \u001B[0;92m\u001B[0;95mE:LatticeRuns\\Clusters\\Vega\\LatticeRuns\\BKeeper_run_gpu\\small\\Run_BKeeper_run_gpu_lat24.24.24.32_nodes001_mpi01-02-02-01_small\\Run_BKeeper_run_gpu_lat24.24.24.32_nodes001_mpi01-02-02-01_small.sh\u001B[0;92m ---> Exists\u001B[0m\n",
      "\u001B[0;96m    \u001B[0;94m[Check]: Cluster file      --->: \u001B[0;92m\u001B[0;93mE:LatticeRuns\\Clusters\\Vega\\LatticeRuns\\BKeeper_run_gpu\\small\\Run_BKeeper_run_gpu_lat24.24.24.32_nodes001_mpi01-02-02-01_small\\Run_BKeeper_run_gpu_lat24.24.24.32_nodes001_mpi01-02-02-01_small.out\u001B[0;92m ---> Exists\u001B[0m\n",
      "\u001B[0;96m    \u001B[0;94m[Check]: target file       --->: \u001B[0;92m\u001B[0;95mE:LatticeRuns\\Clusters\\Vega\\LatticeRuns\\BKeeper_run_gpu\\small\\Run_BKeeper_run_gpu_lat24.24.24.32_nodes002_mpi01-04-02-01_small\\Run_BKeeper_run_gpu_lat24.24.24.32_nodes002_mpi01-04-02-01_small.sh\u001B[0;92m ---> Exists\u001B[0m\n",
      "\u001B[0;96m    \u001B[0;94m[Check]: Cluster file      --->: \u001B[0;92m\u001B[0;93mE:LatticeRuns\\Clusters\\Vega\\LatticeRuns\\BKeeper_run_gpu\\small\\Run_BKeeper_run_gpu_lat24.24.24.32_nodes002_mpi01-04-02-01_small\\Run_BKeeper_run_gpu_lat24.24.24.32_nodes002_mpi01-04-02-01_small.out\u001B[0;92m ---> Exists\u001B[0m\n",
      "\u001B[0;96m    \u001B[0;94m[Check]: target file       --->: \u001B[0;92m\u001B[0;95mE:LatticeRuns\\Clusters\\Vega\\LatticeRuns\\BKeeper_run_gpu\\small\\Run_BKeeper_run_gpu_lat24.24.24.32_nodes001_mpi01-02-01-02_small\\Run_BKeeper_run_gpu_lat24.24.24.32_nodes001_mpi01-02-01-02_small.sh\u001B[0;92m ---> Exists\u001B[0m\n",
      "\u001B[0;96m    \u001B[0;94m[Check]: Cluster file      --->: \u001B[0;92m\u001B[0;93mE:LatticeRuns\\Clusters\\Vega\\LatticeRuns\\BKeeper_run_gpu\\small\\Run_BKeeper_run_gpu_lat24.24.24.32_nodes001_mpi01-02-01-02_small\\Run_BKeeper_run_gpu_lat24.24.24.32_nodes001_mpi01-02-01-02_small.out\u001B[0;92m ---> Exists\u001B[0m\n",
      "\u001B[0;96m    \u001B[0;94m[Check]: target file       --->: \u001B[0;92m\u001B[0;95mE:LatticeRuns\\Clusters\\Vega\\LatticeRuns\\BKeeper_run_gpu\\small\\Run_BKeeper_run_gpu_lat24.24.24.32_nodes002_mpi02-02-02-01_small\\Run_BKeeper_run_gpu_lat24.24.24.32_nodes002_mpi02-02-02-01_small.sh\u001B[0;92m ---> Exists\u001B[0m\n",
      "\u001B[0;96m    \u001B[0;94m[Check]: Cluster file      --->: \u001B[0;92m\u001B[0;93mE:LatticeRuns\\Clusters\\Vega\\LatticeRuns\\BKeeper_run_gpu\\small\\Run_BKeeper_run_gpu_lat24.24.24.32_nodes002_mpi02-02-02-01_small\\Run_BKeeper_run_gpu_lat24.24.24.32_nodes002_mpi02-02-02-01_small.out\u001B[0;92m ---> Exists\u001B[0m\n",
      "\u001B[0;96m    \u001B[0;94m[Check]: target file       --->: \u001B[0;92m\u001B[0;95mE:LatticeRuns\\Clusters\\Vega\\LatticeRuns\\BKeeper_run_gpu\\small\\Run_BKeeper_run_gpu_lat24.24.24.32_nodes002_mpi02-02-01-02_small\\Run_BKeeper_run_gpu_lat24.24.24.32_nodes002_mpi02-02-01-02_small.sh\u001B[0;92m ---> Exists\u001B[0m\n",
      "\u001B[0;96m    \u001B[0;94m[Check]: Cluster file      --->: \u001B[0;92m\u001B[0;93mE:LatticeRuns\\Clusters\\Vega\\LatticeRuns\\BKeeper_run_gpu\\small\\Run_BKeeper_run_gpu_lat24.24.24.32_nodes002_mpi02-02-01-02_small\\Run_BKeeper_run_gpu_lat24.24.24.32_nodes002_mpi02-02-01-02_small.out\u001B[0;92m ---> Exists\u001B[0m\n",
      "\u001B[0;96m    \u001B[0;94m[Check]: target file       --->: \u001B[0;92m\u001B[0;95mE:LatticeRuns\\Clusters\\Vega\\LatticeRuns\\BKeeper_run_gpu\\small\\Run_BKeeper_run_gpu_lat24.24.24.32_nodes001_mpi01-01-01-04_small\\Run_BKeeper_run_gpu_lat24.24.24.32_nodes001_mpi01-01-01-04_small.sh\u001B[0;92m ---> Exists\u001B[0m\n",
      "\u001B[0;96m    \u001B[0;94m[Check]: Cluster file      --->: \u001B[0;92m\u001B[0;93mE:LatticeRuns\\Clusters\\Vega\\LatticeRuns\\BKeeper_run_gpu\\small\\Run_BKeeper_run_gpu_lat24.24.24.32_nodes001_mpi01-01-01-04_small\\Run_BKeeper_run_gpu_lat24.24.24.32_nodes001_mpi01-01-01-04_small.out\u001B[0;92m ---> Exists\u001B[0m\n",
      "\u001B[0;96m    \u001B[0;94m[Check]: target file       --->: \u001B[0;92m\u001B[0;95mE:LatticeRuns\\Clusters\\Vega\\LatticeRuns\\BKeeper_run_gpu\\small\\Run_BKeeper_run_gpu_lat24.24.24.32_nodes002_mpi02-01-02-02_small\\Run_BKeeper_run_gpu_lat24.24.24.32_nodes002_mpi02-01-02-02_small.sh\u001B[0;92m ---> Exists\u001B[0m\n",
      "\u001B[0;96m    \u001B[0;94m[Check]: Cluster file      --->: \u001B[0;92m\u001B[0;93mE:LatticeRuns\\Clusters\\Vega\\LatticeRuns\\BKeeper_run_gpu\\small\\Run_BKeeper_run_gpu_lat24.24.24.32_nodes002_mpi02-01-02-02_small\\Run_BKeeper_run_gpu_lat24.24.24.32_nodes002_mpi02-01-02-02_small.out\u001B[0;92m ---> Exists\u001B[0m\n",
      "\u001B[0;96m    \u001B[0;94m[Check]: target file       --->: \u001B[0;92m\u001B[0;95mE:LatticeRuns\\Clusters\\Vega\\LatticeRuns\\BKeeper_run_gpu\\small\\Run_BKeeper_run_gpu_lat24.24.24.32_nodes002_mpi02-01-01-04_small\\Run_BKeeper_run_gpu_lat24.24.24.32_nodes002_mpi02-01-01-04_small.sh\u001B[0;92m ---> Exists\u001B[0m\n",
      "\u001B[0;96m    \u001B[0;94m[Check]: Cluster file      --->: \u001B[0;92m\u001B[0;93mE:LatticeRuns\\Clusters\\Vega\\LatticeRuns\\BKeeper_run_gpu\\small\\Run_BKeeper_run_gpu_lat24.24.24.32_nodes002_mpi02-01-01-04_small\\Run_BKeeper_run_gpu_lat24.24.24.32_nodes002_mpi02-01-01-04_small.out\u001B[0;92m ---> Exists\u001B[0m\n",
      "\u001B[0;96m    \u001B[0;94m[Check]: target file       --->: \u001B[0;92m\u001B[0;95mE:LatticeRuns\\Clusters\\Vega\\LatticeRuns\\BKeeper_run_gpu\\small\\Run_BKeeper_run_gpu_lat24.24.24.32_nodes001_mpi02-02-01-01_small\\Run_BKeeper_run_gpu_lat24.24.24.32_nodes001_mpi02-02-01-01_small.sh\u001B[0;92m ---> Exists\u001B[0m\n",
      "\u001B[0;96m    \u001B[0;94m[Check]: Cluster file      --->: \u001B[0;92m\u001B[0;93mE:LatticeRuns\\Clusters\\Vega\\LatticeRuns\\BKeeper_run_gpu\\small\\Run_BKeeper_run_gpu_lat24.24.24.32_nodes001_mpi02-02-01-01_small\\Run_BKeeper_run_gpu_lat24.24.24.32_nodes001_mpi02-02-01-01_small.out\u001B[0;92m ---> Exists\u001B[0m\n",
      "\u001B[0;96m    \u001B[0;94m[Check]: target file       --->: \u001B[0;92m\u001B[0;95mE:LatticeRuns\\Clusters\\Vega\\LatticeRuns\\BKeeper_run_gpu\\small\\Run_BKeeper_run_gpu_lat24.24.24.32_nodes001_mpi01-01-02-02_small\\Run_BKeeper_run_gpu_lat24.24.24.32_nodes001_mpi01-01-02-02_small.sh\u001B[0;92m ---> Exists\u001B[0m\n",
      "\u001B[0;96m    \u001B[0;94m[Check]: Cluster file      --->: \u001B[0;92m\u001B[0;93mE:LatticeRuns\\Clusters\\Vega\\LatticeRuns\\BKeeper_run_gpu\\small\\Run_BKeeper_run_gpu_lat24.24.24.32_nodes001_mpi01-01-02-02_small\\Run_BKeeper_run_gpu_lat24.24.24.32_nodes001_mpi01-01-02-02_small.out\u001B[0;92m ---> Exists\u001B[0m\n"
     ]
    }
   ],
   "execution_count": 1095
  },
  {
   "metadata": {
    "ExecuteTime": {
     "end_time": "2025-02-25T00:56:00.785411Z",
     "start_time": "2025-02-25T00:56:00.775922Z"
    }
   },
   "cell_type": "code",
   "source": [
    "# --------------------------------------------------------------------------\n",
    "# [Data-Extraction]\n",
    "# --------------------------------------------------------------------------\n",
    "m.printMesgStr(   \"Data extraction cluster out            : \", c.getGreen(), machine_name)\n",
    "m.printMesgAddStr(\"Simulation size                        : \", c.getRed(), simulation_size)\n",
    "m.printMesgAddStr(\"target_file_cluster_lst_vega[:]    --->: \", c.getYellow(), target_file_cluster_lst_vega[:])"
   ],
   "id": "b401a4ca382732f6",
   "outputs": [
    {
     "name": "stdout",
     "output_type": "stream",
     "text": [
      "\u001B[0;96m == [\u001B[0;94mData extraction cluster out            : \u001B[0;92m Vega\u001B[0;96m] ==\u001B[0m\n",
      "\u001B[0;96m    \u001B[0;94mSimulation size                        : \u001B[0;91msmall\u001B[0m\n",
      "\u001B[0;96m    \u001B[0;94mtarget_file_cluster_lst_vega[:]    --->: \u001B[0;93m['E:LatticeRuns\\\\Clusters\\\\Vega\\\\LatticeRuns\\\\BKeeper_run_gpu\\\\small\\\\Run_BKeeper_run_gpu_lat24.24.24.32_nodes002_mpi01-01-04-02_small\\\\Run_BKeeper_run_gpu_lat24.24.24.32_nodes002_mpi01-01-04-02_small.out', 'E:LatticeRuns\\\\Clusters\\\\Vega\\\\LatticeRuns\\\\BKeeper_run_gpu\\\\small\\\\Run_BKeeper_run_gpu_lat24.24.24.32_nodes002_mpi04-02-01-01_small\\\\Run_BKeeper_run_gpu_lat24.24.24.32_nodes002_mpi04-02-01-01_small.out', 'E:LatticeRuns\\\\Clusters\\\\Vega\\\\LatticeRuns\\\\BKeeper_run_gpu\\\\small\\\\Run_BKeeper_run_gpu_lat24.24.24.32_nodes001_mpi04-01-01-01_small\\\\Run_BKeeper_run_gpu_lat24.24.24.32_nodes001_mpi04-01-01-01_small.out', 'E:LatticeRuns\\\\Clusters\\\\Vega\\\\LatticeRuns\\\\BKeeper_run_gpu\\\\small\\\\Run_BKeeper_run_gpu_lat24.24.24.32_nodes002_mpi01-01-02-04_small\\\\Run_BKeeper_run_gpu_lat24.24.24.32_nodes002_mpi01-01-02-04_small.out', 'E:LatticeRuns\\\\Clusters\\\\Vega\\\\LatticeRuns\\\\BKeeper_run_gpu\\\\small\\\\Run_BKeeper_run_gpu_lat24.24.24.32_nodes002_mpi01-02-01-04_small\\\\Run_BKeeper_run_gpu_lat24.24.24.32_nodes002_mpi01-02-01-04_small.out', 'E:LatticeRuns\\\\Clusters\\\\Vega\\\\LatticeRuns\\\\BKeeper_run_gpu\\\\small\\\\Run_BKeeper_run_gpu_lat24.24.24.32_nodes002_mpi01-04-01-02_small\\\\Run_BKeeper_run_gpu_lat24.24.24.32_nodes002_mpi01-04-01-02_small.out', 'E:LatticeRuns\\\\Clusters\\\\Vega\\\\LatticeRuns\\\\BKeeper_run_gpu\\\\small\\\\Run_BKeeper_run_gpu_lat24.24.24.32_nodes001_mpi01-01-04-01_small\\\\Run_BKeeper_run_gpu_lat24.24.24.32_nodes001_mpi01-01-04-01_small.out', 'E:LatticeRuns\\\\Clusters\\\\Vega\\\\LatticeRuns\\\\BKeeper_run_gpu\\\\small\\\\Run_BKeeper_run_gpu_lat24.24.24.32_nodes001_mpi01-04-01-01_small\\\\Run_BKeeper_run_gpu_lat24.24.24.32_nodes001_mpi01-04-01-01_small.out', 'E:LatticeRuns\\\\Clusters\\\\Vega\\\\LatticeRuns\\\\BKeeper_run_gpu\\\\small\\\\Run_BKeeper_run_gpu_lat24.24.24.32_nodes002_mpi02-04-01-01_small\\\\Run_BKeeper_run_gpu_lat24.24.24.32_nodes002_mpi02-04-01-01_small.out', 'E:LatticeRuns\\\\Clusters\\\\Vega\\\\LatticeRuns\\\\BKeeper_run_gpu\\\\small\\\\Run_BKeeper_run_gpu_lat24.24.24.32_nodes002_mpi01-02-02-02_small\\\\Run_BKeeper_run_gpu_lat24.24.24.32_nodes002_mpi01-02-02-02_small.out', 'E:LatticeRuns\\\\Clusters\\\\Vega\\\\LatticeRuns\\\\BKeeper_run_gpu\\\\small\\\\Run_BKeeper_run_gpu_lat24.24.24.32_nodes002_mpi01-02-04-01_small\\\\Run_BKeeper_run_gpu_lat24.24.24.32_nodes002_mpi01-02-04-01_small.out', 'E:LatticeRuns\\\\Clusters\\\\Vega\\\\LatticeRuns\\\\BKeeper_run_gpu\\\\small\\\\Run_BKeeper_run_gpu_lat24.24.24.32_nodes001_mpi02-01-02-01_small\\\\Run_BKeeper_run_gpu_lat24.24.24.32_nodes001_mpi02-01-02-01_small.out', 'E:LatticeRuns\\\\Clusters\\\\Vega\\\\LatticeRuns\\\\BKeeper_run_gpu\\\\small\\\\Run_BKeeper_run_gpu_lat24.24.24.32_nodes001_mpi02-01-01-02_small\\\\Run_BKeeper_run_gpu_lat24.24.24.32_nodes001_mpi02-01-01-02_small.out', 'E:LatticeRuns\\\\Clusters\\\\Vega\\\\LatticeRuns\\\\BKeeper_run_gpu\\\\small\\\\Run_BKeeper_run_gpu_lat24.24.24.32_nodes002_mpi02-01-04-01_small\\\\Run_BKeeper_run_gpu_lat24.24.24.32_nodes002_mpi02-01-04-01_small.out', 'E:LatticeRuns\\\\Clusters\\\\Vega\\\\LatticeRuns\\\\BKeeper_run_gpu\\\\small\\\\Run_BKeeper_run_gpu_lat24.24.24.32_nodes002_mpi04-01-02-01_small\\\\Run_BKeeper_run_gpu_lat24.24.24.32_nodes002_mpi04-01-02-01_small.out', 'E:LatticeRuns\\\\Clusters\\\\Vega\\\\LatticeRuns\\\\BKeeper_run_gpu\\\\small\\\\Run_BKeeper_run_gpu_lat24.24.24.32_nodes002_mpi04-01-01-02_small\\\\Run_BKeeper_run_gpu_lat24.24.24.32_nodes002_mpi04-01-01-02_small.out', 'E:LatticeRuns\\\\Clusters\\\\Vega\\\\LatticeRuns\\\\BKeeper_run_gpu\\\\small\\\\Run_BKeeper_run_gpu_lat24.24.24.32_nodes001_mpi01-02-02-01_small\\\\Run_BKeeper_run_gpu_lat24.24.24.32_nodes001_mpi01-02-02-01_small.out', 'E:LatticeRuns\\\\Clusters\\\\Vega\\\\LatticeRuns\\\\BKeeper_run_gpu\\\\small\\\\Run_BKeeper_run_gpu_lat24.24.24.32_nodes002_mpi01-04-02-01_small\\\\Run_BKeeper_run_gpu_lat24.24.24.32_nodes002_mpi01-04-02-01_small.out', 'E:LatticeRuns\\\\Clusters\\\\Vega\\\\LatticeRuns\\\\BKeeper_run_gpu\\\\small\\\\Run_BKeeper_run_gpu_lat24.24.24.32_nodes001_mpi01-02-01-02_small\\\\Run_BKeeper_run_gpu_lat24.24.24.32_nodes001_mpi01-02-01-02_small.out', 'E:LatticeRuns\\\\Clusters\\\\Vega\\\\LatticeRuns\\\\BKeeper_run_gpu\\\\small\\\\Run_BKeeper_run_gpu_lat24.24.24.32_nodes002_mpi02-02-02-01_small\\\\Run_BKeeper_run_gpu_lat24.24.24.32_nodes002_mpi02-02-02-01_small.out', 'E:LatticeRuns\\\\Clusters\\\\Vega\\\\LatticeRuns\\\\BKeeper_run_gpu\\\\small\\\\Run_BKeeper_run_gpu_lat24.24.24.32_nodes002_mpi02-02-01-02_small\\\\Run_BKeeper_run_gpu_lat24.24.24.32_nodes002_mpi02-02-01-02_small.out', 'E:LatticeRuns\\\\Clusters\\\\Vega\\\\LatticeRuns\\\\BKeeper_run_gpu\\\\small\\\\Run_BKeeper_run_gpu_lat24.24.24.32_nodes001_mpi01-01-01-04_small\\\\Run_BKeeper_run_gpu_lat24.24.24.32_nodes001_mpi01-01-01-04_small.out', 'E:LatticeRuns\\\\Clusters\\\\Vega\\\\LatticeRuns\\\\BKeeper_run_gpu\\\\small\\\\Run_BKeeper_run_gpu_lat24.24.24.32_nodes002_mpi02-01-02-02_small\\\\Run_BKeeper_run_gpu_lat24.24.24.32_nodes002_mpi02-01-02-02_small.out', 'E:LatticeRuns\\\\Clusters\\\\Vega\\\\LatticeRuns\\\\BKeeper_run_gpu\\\\small\\\\Run_BKeeper_run_gpu_lat24.24.24.32_nodes002_mpi02-01-01-04_small\\\\Run_BKeeper_run_gpu_lat24.24.24.32_nodes002_mpi02-01-01-04_small.out', 'E:LatticeRuns\\\\Clusters\\\\Vega\\\\LatticeRuns\\\\BKeeper_run_gpu\\\\small\\\\Run_BKeeper_run_gpu_lat24.24.24.32_nodes001_mpi02-02-01-01_small\\\\Run_BKeeper_run_gpu_lat24.24.24.32_nodes001_mpi02-02-01-01_small.out', 'E:LatticeRuns\\\\Clusters\\\\Vega\\\\LatticeRuns\\\\BKeeper_run_gpu\\\\small\\\\Run_BKeeper_run_gpu_lat24.24.24.32_nodes001_mpi01-01-02-02_small\\\\Run_BKeeper_run_gpu_lat24.24.24.32_nodes001_mpi01-01-02-02_small.out']\u001B[0m\n"
     ]
    }
   ],
   "execution_count": 1096
  },
  {
   "metadata": {
    "ExecuteTime": {
     "end_time": "2025-02-25T00:56:01.726909Z",
     "start_time": "2025-02-25T00:56:01.693695Z"
    }
   },
   "cell_type": "code",
   "source": [
    "# --------------------------------------------------------------------------\n",
    "# Reading in the inout file\n",
    "rc, dataFrame_BKeeper_small_vega = read_BKeeper_file_out(c, m, batch_action, simulation_size, target_file_cluster_lst_vega[:])"
   ],
   "id": "1eb9ceadaa2ce03e",
   "outputs": [
    {
     "name": "stdout",
     "output_type": "stream",
     "text": [
      "\u001B[0;96m == [\u001B[0;94mGetting target file list      :\u001B[0;92m read_BKeeper_file_out\u001B[0;96m] ==\u001B[0m\n"
     ]
    },
    {
     "name": "stderr",
     "output_type": "stream",
     "text": [
      "bench_BKeeper_dict:: 100%|████████████████████████████████████████| 26/26 [00:00<00:00, 1296.48it/s]\n"
     ]
    }
   ],
   "execution_count": 1097
  },
  {
   "metadata": {
    "ExecuteTime": {
     "end_time": "2025-02-25T00:56:02.865753Z",
     "start_time": "2025-02-25T00:56:02.840894Z"
    }
   },
   "cell_type": "code",
   "source": [
    "# --------------------------------------------------------------------------\n",
    "# Reading in the inout file\n",
    "dataFrame_BKeeper_small_vega"
   ],
   "id": "c7b32ded4b8c11e2",
   "outputs": [
    {
     "data": {
      "text/plain": [
       "    CG Run Time (s)  FlOp/S (GFlOp/s)  Comms  (MB)  Memory (GB)      lattice  \\\n",
       "0          0.495914        407.234678   368.050176    68.547166  24.24.24.32   \n",
       "1          0.377185        535.422613   736.100352    68.498268  24.24.24.32   \n",
       "2          0.209931        961.998839    92.012544    66.296729  24.24.24.32   \n",
       "3          0.228991        881.927143    92.012544    66.296729  24.24.24.32   \n",
       "4          0.257072        785.590723    92.012544    65.343537  24.24.24.32   \n",
       "5          0.271894        742.765115   184.025088    64.708059  24.24.24.32   \n",
       "6          0.288018        701.183184   184.025088    66.020360  24.24.24.32   \n",
       "7          0.236409        854.254188    92.012544    65.270214  24.24.24.32   \n",
       "8          0.296403        681.347282   368.050176    65.934801  24.24.24.32   \n",
       "9          0.237373        850.784960   368.050176    66.448058  24.24.24.32   \n",
       "10         0.242557        832.601732   368.050176    68.547166  24.24.24.32   \n",
       "11         0.191767       1053.118520   368.050176    69.133746  24.24.24.32   \n",
       "12         0.305757        660.502877   184.025088    64.671398  24.24.24.32   \n",
       "13         0.229865        878.573851    92.012544    64.756957  24.24.24.32   \n",
       "14         0.316312        638.462589   184.025088    65.184655  24.24.24.32   \n",
       "15         0.372212        542.576215   184.025088    65.980879  24.24.24.32   \n",
       "16         0.280494        719.991794   184.025088    66.533618  24.24.24.32   \n",
       "17         0.287786        701.748446   184.025088    66.137848  24.24.24.32   \n",
       "18         0.226113        893.152443   184.025088    66.533618  24.24.24.32   \n",
       "19         0.258334        781.752995   184.025088    67.560132  24.24.24.32   \n",
       "20         0.433025        466.378104   368.050176    65.934801  24.24.24.32   \n",
       "21         0.284494        709.868673   184.025088    65.184655  24.24.24.32   \n",
       "\n",
       "   nodes mpi_distribution  \n",
       "0    002      04-02-01-01  \n",
       "1    001      04-01-01-01  \n",
       "2    002      01-01-02-04  \n",
       "3    002      01-02-01-04  \n",
       "4    002      01-04-01-02  \n",
       "5    001      01-04-01-01  \n",
       "6    002      02-04-01-01  \n",
       "7    002      01-02-02-02  \n",
       "8    001      02-01-02-01  \n",
       "9    001      02-01-01-02  \n",
       "10   002      04-01-02-01  \n",
       "11   002      04-01-01-02  \n",
       "12   001      01-02-02-01  \n",
       "13   002      01-04-02-01  \n",
       "14   001      01-02-01-02  \n",
       "15   002      02-02-02-01  \n",
       "16   002      02-02-01-02  \n",
       "17   001      01-01-01-04  \n",
       "18   002      02-01-02-02  \n",
       "19   002      02-01-01-04  \n",
       "20   001      02-02-01-01  \n",
       "21   001      01-01-02-02  "
      ],
      "text/html": [
       "<div>\n",
       "<style scoped>\n",
       "    .dataframe tbody tr th:only-of-type {\n",
       "        vertical-align: middle;\n",
       "    }\n",
       "\n",
       "    .dataframe tbody tr th {\n",
       "        vertical-align: top;\n",
       "    }\n",
       "\n",
       "    .dataframe thead th {\n",
       "        text-align: right;\n",
       "    }\n",
       "</style>\n",
       "<table border=\"1\" class=\"dataframe\">\n",
       "  <thead>\n",
       "    <tr style=\"text-align: right;\">\n",
       "      <th></th>\n",
       "      <th>CG Run Time (s)</th>\n",
       "      <th>FlOp/S (GFlOp/s)</th>\n",
       "      <th>Comms  (MB)</th>\n",
       "      <th>Memory (GB)</th>\n",
       "      <th>lattice</th>\n",
       "      <th>nodes</th>\n",
       "      <th>mpi_distribution</th>\n",
       "    </tr>\n",
       "  </thead>\n",
       "  <tbody>\n",
       "    <tr>\n",
       "      <th>0</th>\n",
       "      <td>0.495914</td>\n",
       "      <td>407.234678</td>\n",
       "      <td>368.050176</td>\n",
       "      <td>68.547166</td>\n",
       "      <td>24.24.24.32</td>\n",
       "      <td>002</td>\n",
       "      <td>04-02-01-01</td>\n",
       "    </tr>\n",
       "    <tr>\n",
       "      <th>1</th>\n",
       "      <td>0.377185</td>\n",
       "      <td>535.422613</td>\n",
       "      <td>736.100352</td>\n",
       "      <td>68.498268</td>\n",
       "      <td>24.24.24.32</td>\n",
       "      <td>001</td>\n",
       "      <td>04-01-01-01</td>\n",
       "    </tr>\n",
       "    <tr>\n",
       "      <th>2</th>\n",
       "      <td>0.209931</td>\n",
       "      <td>961.998839</td>\n",
       "      <td>92.012544</td>\n",
       "      <td>66.296729</td>\n",
       "      <td>24.24.24.32</td>\n",
       "      <td>002</td>\n",
       "      <td>01-01-02-04</td>\n",
       "    </tr>\n",
       "    <tr>\n",
       "      <th>3</th>\n",
       "      <td>0.228991</td>\n",
       "      <td>881.927143</td>\n",
       "      <td>92.012544</td>\n",
       "      <td>66.296729</td>\n",
       "      <td>24.24.24.32</td>\n",
       "      <td>002</td>\n",
       "      <td>01-02-01-04</td>\n",
       "    </tr>\n",
       "    <tr>\n",
       "      <th>4</th>\n",
       "      <td>0.257072</td>\n",
       "      <td>785.590723</td>\n",
       "      <td>92.012544</td>\n",
       "      <td>65.343537</td>\n",
       "      <td>24.24.24.32</td>\n",
       "      <td>002</td>\n",
       "      <td>01-04-01-02</td>\n",
       "    </tr>\n",
       "    <tr>\n",
       "      <th>5</th>\n",
       "      <td>0.271894</td>\n",
       "      <td>742.765115</td>\n",
       "      <td>184.025088</td>\n",
       "      <td>64.708059</td>\n",
       "      <td>24.24.24.32</td>\n",
       "      <td>001</td>\n",
       "      <td>01-04-01-01</td>\n",
       "    </tr>\n",
       "    <tr>\n",
       "      <th>6</th>\n",
       "      <td>0.288018</td>\n",
       "      <td>701.183184</td>\n",
       "      <td>184.025088</td>\n",
       "      <td>66.020360</td>\n",
       "      <td>24.24.24.32</td>\n",
       "      <td>002</td>\n",
       "      <td>02-04-01-01</td>\n",
       "    </tr>\n",
       "    <tr>\n",
       "      <th>7</th>\n",
       "      <td>0.236409</td>\n",
       "      <td>854.254188</td>\n",
       "      <td>92.012544</td>\n",
       "      <td>65.270214</td>\n",
       "      <td>24.24.24.32</td>\n",
       "      <td>002</td>\n",
       "      <td>01-02-02-02</td>\n",
       "    </tr>\n",
       "    <tr>\n",
       "      <th>8</th>\n",
       "      <td>0.296403</td>\n",
       "      <td>681.347282</td>\n",
       "      <td>368.050176</td>\n",
       "      <td>65.934801</td>\n",
       "      <td>24.24.24.32</td>\n",
       "      <td>001</td>\n",
       "      <td>02-01-02-01</td>\n",
       "    </tr>\n",
       "    <tr>\n",
       "      <th>9</th>\n",
       "      <td>0.237373</td>\n",
       "      <td>850.784960</td>\n",
       "      <td>368.050176</td>\n",
       "      <td>66.448058</td>\n",
       "      <td>24.24.24.32</td>\n",
       "      <td>001</td>\n",
       "      <td>02-01-01-02</td>\n",
       "    </tr>\n",
       "    <tr>\n",
       "      <th>10</th>\n",
       "      <td>0.242557</td>\n",
       "      <td>832.601732</td>\n",
       "      <td>368.050176</td>\n",
       "      <td>68.547166</td>\n",
       "      <td>24.24.24.32</td>\n",
       "      <td>002</td>\n",
       "      <td>04-01-02-01</td>\n",
       "    </tr>\n",
       "    <tr>\n",
       "      <th>11</th>\n",
       "      <td>0.191767</td>\n",
       "      <td>1053.118520</td>\n",
       "      <td>368.050176</td>\n",
       "      <td>69.133746</td>\n",
       "      <td>24.24.24.32</td>\n",
       "      <td>002</td>\n",
       "      <td>04-01-01-02</td>\n",
       "    </tr>\n",
       "    <tr>\n",
       "      <th>12</th>\n",
       "      <td>0.305757</td>\n",
       "      <td>660.502877</td>\n",
       "      <td>184.025088</td>\n",
       "      <td>64.671398</td>\n",
       "      <td>24.24.24.32</td>\n",
       "      <td>001</td>\n",
       "      <td>01-02-02-01</td>\n",
       "    </tr>\n",
       "    <tr>\n",
       "      <th>13</th>\n",
       "      <td>0.229865</td>\n",
       "      <td>878.573851</td>\n",
       "      <td>92.012544</td>\n",
       "      <td>64.756957</td>\n",
       "      <td>24.24.24.32</td>\n",
       "      <td>002</td>\n",
       "      <td>01-04-02-01</td>\n",
       "    </tr>\n",
       "    <tr>\n",
       "      <th>14</th>\n",
       "      <td>0.316312</td>\n",
       "      <td>638.462589</td>\n",
       "      <td>184.025088</td>\n",
       "      <td>65.184655</td>\n",
       "      <td>24.24.24.32</td>\n",
       "      <td>001</td>\n",
       "      <td>01-02-01-02</td>\n",
       "    </tr>\n",
       "    <tr>\n",
       "      <th>15</th>\n",
       "      <td>0.372212</td>\n",
       "      <td>542.576215</td>\n",
       "      <td>184.025088</td>\n",
       "      <td>65.980879</td>\n",
       "      <td>24.24.24.32</td>\n",
       "      <td>002</td>\n",
       "      <td>02-02-02-01</td>\n",
       "    </tr>\n",
       "    <tr>\n",
       "      <th>16</th>\n",
       "      <td>0.280494</td>\n",
       "      <td>719.991794</td>\n",
       "      <td>184.025088</td>\n",
       "      <td>66.533618</td>\n",
       "      <td>24.24.24.32</td>\n",
       "      <td>002</td>\n",
       "      <td>02-02-01-02</td>\n",
       "    </tr>\n",
       "    <tr>\n",
       "      <th>17</th>\n",
       "      <td>0.287786</td>\n",
       "      <td>701.748446</td>\n",
       "      <td>184.025088</td>\n",
       "      <td>66.137848</td>\n",
       "      <td>24.24.24.32</td>\n",
       "      <td>001</td>\n",
       "      <td>01-01-01-04</td>\n",
       "    </tr>\n",
       "    <tr>\n",
       "      <th>18</th>\n",
       "      <td>0.226113</td>\n",
       "      <td>893.152443</td>\n",
       "      <td>184.025088</td>\n",
       "      <td>66.533618</td>\n",
       "      <td>24.24.24.32</td>\n",
       "      <td>002</td>\n",
       "      <td>02-01-02-02</td>\n",
       "    </tr>\n",
       "    <tr>\n",
       "      <th>19</th>\n",
       "      <td>0.258334</td>\n",
       "      <td>781.752995</td>\n",
       "      <td>184.025088</td>\n",
       "      <td>67.560132</td>\n",
       "      <td>24.24.24.32</td>\n",
       "      <td>002</td>\n",
       "      <td>02-01-01-04</td>\n",
       "    </tr>\n",
       "    <tr>\n",
       "      <th>20</th>\n",
       "      <td>0.433025</td>\n",
       "      <td>466.378104</td>\n",
       "      <td>368.050176</td>\n",
       "      <td>65.934801</td>\n",
       "      <td>24.24.24.32</td>\n",
       "      <td>001</td>\n",
       "      <td>02-02-01-01</td>\n",
       "    </tr>\n",
       "    <tr>\n",
       "      <th>21</th>\n",
       "      <td>0.284494</td>\n",
       "      <td>709.868673</td>\n",
       "      <td>184.025088</td>\n",
       "      <td>65.184655</td>\n",
       "      <td>24.24.24.32</td>\n",
       "      <td>001</td>\n",
       "      <td>01-01-02-02</td>\n",
       "    </tr>\n",
       "  </tbody>\n",
       "</table>\n",
       "</div>"
      ]
     },
     "execution_count": 1098,
     "metadata": {},
     "output_type": "execute_result"
    }
   ],
   "execution_count": 1098
  },
  {
   "metadata": {},
   "cell_type": "markdown",
   "source": [
    "## Leonardo\n",
    "### [BKeeper_run_gpu : small]\n",
    "---"
   ],
   "id": "8212dee029c9b191"
  },
  {
   "metadata": {
    "ExecuteTime": {
     "end_time": "2025-02-25T00:56:04.013746Z",
     "start_time": "2025-02-25T00:56:04.002604Z"
    }
   },
   "cell_type": "code",
   "source": [
    "machine_name = \"Leonardo\"\n",
    "DATA_PATH         = os.path.join('E:','LatticeRuns','Clusters',machine_name,'LatticeRuns')"
   ],
   "id": "4440196c8cd3288b",
   "outputs": [],
   "execution_count": 1099
  },
  {
   "metadata": {
    "ExecuteTime": {
     "end_time": "2025-02-25T00:56:05.553063Z",
     "start_time": "2025-02-25T00:56:05.542973Z"
    }
   },
   "cell_type": "code",
   "source": [
    "# Reinitialising the paths and object content.\n",
    "batch_action = \"BKeeper_run_gpu\"\n",
    "simulation_size=\"small\"\n",
    "rc = Reinitialising_Paths_and_object_content(c, m, DATA_PATH, batch_action, simulation_size)"
   ],
   "id": "f81103bf0133cf27",
   "outputs": [
    {
     "name": "stdout",
     "output_type": "stream",
     "text": [
      "\u001B[0;96m == [\u001B[0;94mGetting target file list      :\u001B[0;92m Reinitialising_Paths_and_object_content\u001B[0;96m] ==\u001B[0m\n",
      "\u001B[0;96m == [\u001B[0;94mDefault target file           :\u001B[0;95m target.txt\u001B[0;96m] ==\u001B[0m\n",
      "\u001B[0;96m == [\u001B[0;94mTarget file for analysis      :\u001B[0;95m target_BKeeper_run_gpu_small_batch_files.txt\u001B[0;96m] ==\u001B[0m\n",
      "\u001B[0;96m == [\u001B[0;94mFull Path target file         :\u001B[0;96m E:LatticeRuns\\Clusters\\Leonardo\\LatticeRuns\\target_BKeeper_run_gpu_small_batch_files.txt\u001B[0;96m] ==\u001B[0m\n"
     ]
    }
   ],
   "execution_count": 1100
  },
  {
   "metadata": {
    "ExecuteTime": {
     "end_time": "2025-02-25T00:56:07.455822Z",
     "start_time": "2025-02-25T00:56:07.444552Z"
    }
   },
   "cell_type": "code",
   "source": [
    "# --------------------------------------------------------------------------\n",
    "# Getting content in the target file\n",
    "rc, target_file_lst_leonardo, target_file_dir_leonardo = getTarget_file_lst(c, m, c.getTargetdir())"
   ],
   "id": "557762140af3fc96",
   "outputs": [
    {
     "name": "stdout",
     "output_type": "stream",
     "text": [
      "\u001B[0;96m == [\u001B[0;94mGetting target file list      :\u001B[0;92m getTarget_file_lst\u001B[0;96m] ==\u001B[0m\n",
      "\u001B[0;96m    \u001B[0;94m Filename          : \u001B[0;96mE:LatticeRuns\\Clusters\\Leonardo\\LatticeRuns\\target_BKeeper_run_gpu_small_batch_files.txt\u001B[0m\n",
      "\u001B[0;96m    \u001B[0;94m                   : \u001B[0;91mcannot be found check if file exist\u001B[0m\n"
     ]
    }
   ],
   "execution_count": 1101
  },
  {
   "metadata": {
    "ExecuteTime": {
     "end_time": "2025-02-25T00:56:08.701002Z",
     "start_time": "2025-02-25T00:56:08.694403Z"
    }
   },
   "cell_type": "code",
   "source": [
    "# --------------------------------------------------------------------------\n",
    "# Getting content in the target file\n",
    "rc, target_file_cluster_lst_leonardo = getTarget_file_cluster_lst(c, m, target_file_lst_leonardo[:])"
   ],
   "id": "bbfed3dcdee3a38a",
   "outputs": [
    {
     "name": "stdout",
     "output_type": "stream",
     "text": [
      "\u001B[0;96m == [\u001B[0;94mGetting target file list      :\u001B[0;92m getTarget_file_cluster_lst\u001B[0;96m] ==\u001B[0m\n"
     ]
    }
   ],
   "execution_count": 1102
  },
  {
   "metadata": {
    "ExecuteTime": {
     "end_time": "2025-02-25T00:56:09.479723Z",
     "start_time": "2025-02-25T00:56:09.470647Z"
    }
   },
   "cell_type": "code",
   "source": [
    "# --------------------------------------------------------------------------\n",
    "# [Data-Extraction]\n",
    "# --------------------------------------------------------------------------\n",
    "m.printMesgStr(   \"Data extraction cluster out             : \", c.getGreen(), machine_name)\n",
    "m.printMesgAddStr(\"Simulation size                         : \", c.getRed(), simulation_size)\n",
    "m.printMesgAddStr(\"target_file_cluster_lst_leonardo[:] --->: \", c.getYellow(), target_file_cluster_lst_leonardo[:])"
   ],
   "id": "fbf7288450f24c48",
   "outputs": [
    {
     "name": "stdout",
     "output_type": "stream",
     "text": [
      "\u001B[0;96m == [\u001B[0;94mData extraction cluster out             : \u001B[0;92m Leonardo\u001B[0;96m] ==\u001B[0m\n",
      "\u001B[0;96m    \u001B[0;94mSimulation size                         : \u001B[0;91msmall\u001B[0m\n",
      "\u001B[0;96m    \u001B[0;94mtarget_file_cluster_lst_leonardo[:] --->: \u001B[0;93m[]\u001B[0m\n"
     ]
    }
   ],
   "execution_count": 1103
  },
  {
   "metadata": {
    "ExecuteTime": {
     "end_time": "2025-02-25T00:56:10.200431Z",
     "start_time": "2025-02-25T00:56:10.189706Z"
    }
   },
   "cell_type": "code",
   "source": [
    "# --------------------------------------------------------------------------\n",
    "# Reading in the inout file\n",
    "rc, dataFrame_BKeeper_small_leonardo = read_BKeeper_file_out(c, m, batch_action, simulation_size, target_file_cluster_lst_leonardo[:])"
   ],
   "id": "3e8598f60d767ed2",
   "outputs": [
    {
     "name": "stdout",
     "output_type": "stream",
     "text": [
      "\u001B[0;96m == [\u001B[0;94mGetting target file list      :\u001B[0;92m read_BKeeper_file_out\u001B[0;96m] ==\u001B[0m\n"
     ]
    },
    {
     "name": "stderr",
     "output_type": "stream",
     "text": [
      "bench_BKeeper_dict:: 0it [00:00, ?it/s]\n"
     ]
    }
   ],
   "execution_count": 1104
  },
  {
   "metadata": {
    "ExecuteTime": {
     "end_time": "2025-02-25T00:56:11.290452Z",
     "start_time": "2025-02-25T00:56:11.278448Z"
    }
   },
   "cell_type": "code",
   "source": [
    "# --------------------------------------------------------------------------\n",
    "# Reading in the inout file\n",
    "dataFrame_BKeeper_small_leonardo"
   ],
   "id": "c4bb8c97e664960e",
   "outputs": [
    {
     "data": {
      "text/plain": [
       "Empty DataFrame\n",
       "Columns: [CG Run Time (s), FlOp/S (GFlOp/s), Comms  (MB), Memory (GB), lattice, nodes, mpi_distribution]\n",
       "Index: []"
      ],
      "text/html": [
       "<div>\n",
       "<style scoped>\n",
       "    .dataframe tbody tr th:only-of-type {\n",
       "        vertical-align: middle;\n",
       "    }\n",
       "\n",
       "    .dataframe tbody tr th {\n",
       "        vertical-align: top;\n",
       "    }\n",
       "\n",
       "    .dataframe thead th {\n",
       "        text-align: right;\n",
       "    }\n",
       "</style>\n",
       "<table border=\"1\" class=\"dataframe\">\n",
       "  <thead>\n",
       "    <tr style=\"text-align: right;\">\n",
       "      <th></th>\n",
       "      <th>CG Run Time (s)</th>\n",
       "      <th>FlOp/S (GFlOp/s)</th>\n",
       "      <th>Comms  (MB)</th>\n",
       "      <th>Memory (GB)</th>\n",
       "      <th>lattice</th>\n",
       "      <th>nodes</th>\n",
       "      <th>mpi_distribution</th>\n",
       "    </tr>\n",
       "  </thead>\n",
       "  <tbody>\n",
       "  </tbody>\n",
       "</table>\n",
       "</div>"
      ]
     },
     "execution_count": 1105,
     "metadata": {},
     "output_type": "execute_result"
    }
   ],
   "execution_count": 1105
  }
 ],
 "metadata": {
  "kernelspec": {
   "display_name": "Python 3",
   "language": "python",
   "name": "python3"
  },
  "language_info": {
   "codemirror_mode": {
    "name": "ipython",
    "version": 2
   },
   "file_extension": ".py",
   "mimetype": "text/x-python",
   "name": "python",
   "nbconvert_exporter": "python",
   "pygments_lexer": "ipython2",
   "version": "2.7.6"
  }
 },
 "nbformat": 4,
 "nbformat_minor": 5
}
