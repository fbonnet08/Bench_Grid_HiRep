{
 "cells": [
  {
   "metadata": {},
   "cell_type": "markdown",
   "source": [
    "---\n",
    "# Jupyter notebook Bench_Grid_HiRep starts\n",
    "---"
   ],
   "id": "f3314407852c666f"
  },
  {
   "metadata": {},
   "cell_type": "markdown",
   "source": [
    "## Importing the packages and checking if they are on system.\n",
    "---"
   ],
   "id": "cf40e00640b4f26f"
  },
  {
   "metadata": {},
   "cell_type": "code",
   "source": [
    "# ----------------------------------------------------------------------------\n",
    "# [Python-3.12] basic import for system check\n",
    "# ----------------------------------------------------------------------------\n",
    "import os\n",
    "import sys\n",
    "import time\n",
    "import requests\n",
    "import multiprocessing\n",
    "import multiprocess\n",
    "from collections import defaultdict\n",
    "from functools import cache\n",
    "from pathlib import Path\n",
    "from glob import glob\n",
    "# ----------------------------------------------------------------------------\n",
    "# [Data-Plotting]\n",
    "# ----------------------------------------------------------------------------\n",
    "try:\n",
    "    import matplotlib\n",
    "    MATPLOTLIB_AVAILABLE = True\n",
    "except (ImportError, NameError, AttributeError, OSError):\n",
    "    print(\" Python package matplotlib is not installed on your system, verify or install\\n\")\n",
    "    MATPLOTLIB_AVAILABLE = False\n",
    "try:\n",
    "    import tqdm\n",
    "    TQDM_AVAILABLE = True\n",
    "except (ImportError, NameError, AttributeError, OSError):\n",
    "    print(\" Python package tqdm is not installed on your system, verify or install\\n\")\n",
    "    TQDM_AVAILABLE = False\n",
    "try:\n",
    "    import pandas\n",
    "    PANDAS_AVAILABLE = True\n",
    "except (ImportError, NameError, AttributeError, OSError):\n",
    "    print(\" Python package pandas is not installed on your system, verify or install\\n\")\n",
    "    PANDAS_AVAILABLE = False\n",
    "try:\n",
    "    import seaborn\n",
    "    SEABORN_AVAILABLE = True\n",
    "except (ImportError, NameError, AttributeError, OSError):\n",
    "    print(\" Python package seaborn is not installed on your system, verify or install\\n\")\n",
    "    SEABORN_AVAILABLE = False"
   ],
   "id": "347a40e994d2ee41",
   "outputs": [],
   "execution_count": null
  },
  {
   "metadata": {},
   "cell_type": "markdown",
   "source": [
    "## Checking and printing check result\n",
    "---"
   ],
   "id": "83f3e916bebcf89f"
  },
  {
   "metadata": {},
   "cell_type": "code",
   "source": [
    "# ----------------------------------------------------------------------------\n",
    "# [Import-checks]\n",
    "# ----------------------------------------------------------------------------\n",
    "print(\"\\n\")\n",
    "print(\"MATPLOTLIB_AVAILABLE --- installed --->: \", MATPLOTLIB_AVAILABLE)\n",
    "print(\"TQDM_AVAILABLE       --- installed --->: \", TQDM_AVAILABLE)\n",
    "print(\"PANDAS_AVAILABLE     --- installed --->: \", PANDAS_AVAILABLE)\n",
    "print(\"SEABORN_AVAILABLE    --- installed --->: \", SEABORN_AVAILABLE)\n",
    "print(\"\\n\")"
   ],
   "id": "a174c5f2cb310f49",
   "outputs": [],
   "execution_count": null
  },
  {
   "metadata": {},
   "cell_type": "markdown",
   "source": [
    "## Setting up the main path structure and appending to system path.\n",
    "---"
   ],
   "id": "2a001c57e98aca59"
  },
  {
   "metadata": {},
   "cell_type": "code",
   "source": [
    "# ----------------------------------------------------------------------------\n",
    "# [Path]\n",
    "# ----------------------------------------------------------------------------\n",
    "current_path = str(Path(sys.path[0]) / \"..\")\n",
    "if current_path not in sys.path: sys.path.append(current_path)\n",
    "\n",
    "APP_ROOT          = os.path.join(os.getcwd(), '..','..','..','..')\n",
    "PROJECTNAME       = \"\"\n",
    "POOL_COMPONENTDIR = \"\"\n",
    "SOFTWARE          = \"N/A\"\n",
    "SQL_DIR           = 'SQLFiles_sql'\n",
    "APP_DATA_PATH     = \"N/A\"\n",
    "\n",
    "DATAPROCINTERCOM  = \"\"\n",
    "TBLECNTS_DIR      = \"\"\n",
    "SQL_FULLPATH_DIR  = os.path.join(os.getcwd())\n",
    "# ----------------------------------------------------------------------------\n",
    "# [SystemPath-Appens]\n",
    "# ----------------------------------------------------------------------------\n",
    "sys.path.append(APP_ROOT)\n",
    "sys.path.append(APP_DATA_PATH)\n",
    "sys.path.append(DATA_PATH)\n",
    "sys.path.append(os.path.join(APP_ROOT, '.'))\n",
    "sys.path.append(os.path.join(APP_ROOT, '.','src','PythonCodes'))\n",
    "sys.path.append(os.path.join(APP_ROOT, '.','src','PythonCodes','utils'))\n",
    "\n",
    "print(\"Current Path  --->: \", current_path)\n",
    "print(\"APP_ROOT      --->: \", APP_ROOT)\n",
    "print(\"DATA_PATH     --->: \", DATA_PATH)\n",
    "print(\"APP_DATA_PATH --->: \", APP_DATA_PATH)"
   ],
   "id": "2357a002a87e851d",
   "outputs": [],
   "execution_count": null
  },
  {
   "metadata": {},
   "cell_type": "markdown",
   "source": [
    "## Importing the application objects.\n",
    "---"
   ],
   "id": "ef2ea9b5a0e380e8"
  },
  {
   "metadata": {},
   "cell_type": "code",
   "source": [
    "# ----------------------------------------------------------------------------\n",
    "# [Application]\n",
    "# ----------------------------------------------------------------------------\n",
    "#Application imports\n",
    "import src.PythonCodes.DataManage_common\n",
    "import src.PythonCodes.utils.messageHandler\n",
    "import src.PythonCodes.utils.Command_line\n",
    "import src.PythonCodes.DataManage_header"
   ],
   "id": "c8bffc4b1eb4e35a",
   "outputs": [],
   "execution_count": null
  },
  {
   "metadata": {},
   "cell_type": "markdown",
   "source": [
    "## Instantiating the main objects\n",
    "---"
   ],
   "id": "13cda1433c4de033"
  },
  {
   "metadata": {},
   "cell_type": "code",
   "source": [
    "version = src.PythonCodes.DataManage_common.DataManage_version()\n",
    "c = src.PythonCodes.DataManage_common.DataManage_common()\n",
    "rc = c.get_RC_SUCCESS()\n",
    "# Getting the log file\n",
    "logfile = c.getLogfileName()  #getting the name of the global log file\n",
    "m = src.PythonCodes.utils.messageHandler.messageHandler(logfile = logfile)\n",
    "# printing the header of Application\n",
    "src.PythonCodes.DataManage_header.print_Bench_Grid_header(common=c, messageHandler=m)"
   ],
   "id": "f262adb47028c616",
   "outputs": [],
   "execution_count": null
  },
  {
   "metadata": {},
   "cell_type": "markdown",
   "source": [
    "## Setting the path structure into the main objects\n",
    "---"
   ],
   "id": "5918e31a05a64741"
  },
  {
   "metadata": {},
   "cell_type": "code",
   "source": [
    "c.setApp_root(APP_ROOT)\n",
    "c.setData_path(DATA_PATH)\n",
    "c.setProjectName(PROJECTNAME)\n",
    "c.setPool_componentdir(POOL_COMPONENTDIR)\n",
    "c.setSoftware(SOFTWARE)\n",
    "c.setDataProcInterCom(DATAPROCINTERCOM)\n",
    "c.setJSon_TableCounts_Dir(TBLECNTS_DIR)\n",
    "c.setSql_dir(SQL_DIR)\n",
    "c.setSql_fullPath_dir(SQL_FULLPATH_DIR)"
   ],
   "id": "3e18dcaf2791ba29",
   "outputs": [],
   "execution_count": null
  },
  {
   "metadata": {},
   "cell_type": "markdown",
   "source": [
    "## Starting the program\n",
    "---"
   ],
   "id": "6c425fdee2527782"
  },
  {
   "metadata": {},
   "cell_type": "code",
   "source": [
    "# --------------------------------------------------------------------------\n",
    "# [Main-code]\n",
    "# --------------------------------------------------------------------------\n",
    "m.printMesgStr(\"This is the main program      :\", c.getCyan(), \"Bench_Grid_HiRep.py\")"
   ],
   "id": "f8f2cc71ad5de6e3",
   "outputs": [],
   "execution_count": null
  },
  {
   "metadata": {},
   "cell_type": "markdown",
   "source": [
    "## Main functions\n",
    "---"
   ],
   "id": "252445d80613b79f"
  },
  {
   "metadata": {},
   "cell_type": "markdown",
   "source": "### Reinitialising_Paths_and_object_content",
   "id": "bda5aeac975fdf38"
  },
  {
   "metadata": {},
   "cell_type": "code",
   "source": [
    "def Reinitialising_Paths_and_object_content(c, m, data_path, b_action, sim_sz):\n",
    "    __func__= sys._getframe().f_code.co_name\n",
    "    rc = c.get_RC_SUCCESS()\n",
    "    m.printMesgStr(\"Getting target file list      :\", c.getGreen(), __func__)\n",
    "    # ----------------------------------------------------------------------\n",
    "    c.setData_path(data_path)\n",
    "    c.setTarget_File(\"target.txt\")\n",
    "\n",
    "    target_file_default = c.getTarget_File()\n",
    "    m.printMesgStr(\"Default target file           :\", c.getMagenta(), target_file_default)\n",
    "\n",
    "    msg_analysis = c.getTarget_File().split(\".txt\")[0] + c.undr_scr + \\\n",
    "                    b_action      + c.undr_scr                      + \\\n",
    "                    sim_sz        + c.undr_scr                      + \\\n",
    "                    \"batch_files\" + c.txt_ext\n",
    "\n",
    "    c.setTarget_File(str(msg_analysis))\n",
    "    m.printMesgStr(\"Target file for analysis      :\", c.getMagenta(), c.getTarget_File())\n",
    "\n",
    "    c.setTargetdir( os.path.join(c.getData_path(), c.getTarget_File()))\n",
    "    m.printMesgStr(\"Full Path target file         :\", c.getCyan(), c.getTargetdir())\n",
    "\n",
    "    if Path(c.getTargetdir()).is_file():\n",
    "        m.printMesgAddStr(\"[Check]: target file       --->: \", c.getGreen(), \"Exists\")\n",
    "    # ----------------------------------------------------------------------\n",
    "    return rc\n",
    "# [end-function]\n",
    "# --------------------------------------------------------------------------"
   ],
   "id": "ecd3e0551bfff9a3",
   "outputs": [],
   "execution_count": null
  },
  {
   "metadata": {},
   "cell_type": "markdown",
   "source": "### getTarget_file_lst",
   "id": "eda34a8a78543807"
  },
  {
   "metadata": {},
   "cell_type": "code",
   "source": [
    "def getTarget_file_lst(c, m, target_file):\n",
    "    __func__= sys._getframe().f_code.co_name\n",
    "    rc = c.get_RC_SUCCESS()\n",
    "    m.printMesgStr(\"Getting target file list      :\", c.getGreen(), __func__)\n",
    "    target_file_lst = []\n",
    "    target_file_dir = []\n",
    "    try:\n",
    "        with open(target_file) as file:\n",
    "            cnt = 0\n",
    "            for line in file:\n",
    "                target_file_lst.append(os.path.basename(line).strip())\n",
    "                target_file_dir.append(os.path.dirname(os.path.realpath(line)).strip())\n",
    "                cnt += 1\n",
    "            # [end-For-Loop]\n",
    "            m.printMesgAddStr(\"Number of files in target_file : \", c.getYellow(), str(cnt))\n",
    "        # [end-with]\n",
    "    except IOError:\n",
    "        m.printMesgAddStr(\" Filename          : \",\n",
    "                                   c.getCyan(), target_file)\n",
    "        m.printMesgAddStr(\"                   : \",\n",
    "                                   c.getRed(), \"cannot be found check\"\n",
    "                                                    \" if file exist\")\n",
    "        #exit(c.get_RC_FAIL())\n",
    "    # [end-try-catch]\n",
    "    return rc, target_file_lst, target_file_dir\n",
    "# [end-function]\n",
    "# --------------------------------------------------------------------------"
   ],
   "id": "9bfba0bb3a31af5e",
   "outputs": [],
   "execution_count": null
  },
  {
   "metadata": {},
   "cell_type": "markdown",
   "source": "### getTaget_file_cluster_lst",
   "id": "20f970374cad09d8"
  },
  {
   "metadata": {},
   "cell_type": "code",
   "source": [
    "def getTarget_file_cluster_lst(c, m, target_file_lst):\n",
    "    __func__= sys._getframe().f_code.co_name\n",
    "    rc = c.get_RC_SUCCESS()\n",
    "    m.printMesgStr(\"Getting target file list      :\", c.getGreen(), __func__)\n",
    "    target_file_cluster_lst = []\n",
    "    for i in range(len(target_file_lst[:])):\n",
    "        msg = (os.path.join(c.getData_path(), batch_action, simulation_size, str(target_file_lst[i].split(\".sh\")[0]), target_file_lst[i])).strip()\n",
    "        if Path(msg).is_file():\n",
    "            m.printMesgAddStr(\"[Check]: target file       --->: \", c.getGreen(), c.getMagenta()+ msg + c.getGreen() + \" ---> Exists\")\n",
    "            # Now get the output file to analise and put it into a list\n",
    "            cluster_out_file = msg.split(\".sh\")[0]+\".out\"\n",
    "            # Extracting cluster files that has been benched\n",
    "            if Path(cluster_out_file).is_file():\n",
    "                m.printMesgAddStr(\"[Check]: Cluster file      --->: \", c.getGreen(), c.getYellow()+ cluster_out_file + c.getGreen() + \" ---> Exists\")\n",
    "                target_file_cluster_lst.append(cluster_out_file)\n",
    "            # [end-if]\n",
    "        # [end-if]\n",
    "    # [end-for-loop]\n",
    "    return rc, target_file_cluster_lst\n",
    "# [end-function]\n",
    "# --------------------------------------------------------------------------"
   ],
   "id": "867a9b93449cdcf4",
   "outputs": [],
   "execution_count": null
  },
  {
   "metadata": {},
   "cell_type": "markdown",
   "source": "### readCluster_file_out",
   "id": "1c31dc890566573d"
  },
  {
   "metadata": {},
   "cell_type": "code",
   "source": [
    "def readCluster_file_out(c, m, target_file_cluster_lst):\n",
    "    __func__= sys._getframe().f_code.co_name\n",
    "    rc = c.get_RC_SUCCESS()\n",
    "    m.printMesgStr(\"Getting target file list      :\", c.getGreen(), __func__)\n",
    "    end_key = \"###############################################\"\n",
    "    bench_dict = {}\n",
    "    start_key_rep_lst = [\n",
    "        'Performing benchmark for SU(2), adjoint',\n",
    "        'Performing benchmark for SU(2), fundamental',\n",
    "        'Performing benchmark for SU(3), fundamental',\n",
    "        'Performing benchmark for Sp(4), fundamental'\n",
    "    ]\n",
    "    # Starting the parsing of files over the start_key_lst\n",
    "    # TODO: loop over the representation key\n",
    "    ikey = 0\n",
    "    for i in range(len(target_file_cluster_lst[:])):\n",
    "        #with open(target_file_cluster_lst[i]) as cluster_file:\n",
    "        cluster_file = open(target_file_cluster_lst[i])\n",
    "        lines = cluster_file.readlines()\n",
    "        database_file_len = len(lines)\n",
    "        print(\"the number of lines in file \"+ str(target_file_cluster_lst[i]) + \" is : \"+str(database_file_len))\n",
    "        start_key_su2_adjoint = start_key_rep_lst[ikey]\n",
    "        appending = False\n",
    "        cnt = 0\n",
    "        insert_msg = \"\"\n",
    "        for j in range(database_file_len):\n",
    "            if start_key_su2_adjoint in lines[j].split('\\n')[0]:\n",
    "                appending = True\n",
    "            if end_key in lines[j].split('\\n')[0]:\n",
    "                appending = False\n",
    "            elif appending:\n",
    "                print(lines[j].split('\\n')[0])\n",
    "\n",
    "            # TODO: continue from here\n",
    "\n",
    "            # [end-if]\n",
    "        # [end-for-loop [j]]\n",
    "    # [end-for-loop [i]]\n",
    "    return rc\n",
    "# [end-function]\n",
    "# --------------------------------------------------------------------------"
   ],
   "id": "efe6a79aebed5971",
   "outputs": [],
   "execution_count": null
  },
  {
   "metadata": {},
   "cell_type": "markdown",
   "source": [
    "## Lumi\n",
    "### [BKeeper_run_gpu : small]\n",
    "---"
   ],
   "id": "1943c8f7741307b7"
  },
  {
   "metadata": {},
   "cell_type": "code",
   "source": [
    "machine_name = \"Lumi\"\n",
    "DATA_PATH         = os.path.join('E:','LatticeRuns','Clusters',machine_name,'LatticeRuns')"
   ],
   "id": "269327d82d98614b",
   "outputs": [],
   "execution_count": null
  },
  {
   "metadata": {},
   "cell_type": "code",
   "source": [
    "batch_action = \"BKeeper_run_gpu\"\n",
    "simulation_size=\"small\"\n",
    "rc = Reinitialising_Paths_and_object_content(c, m, DATA_PATH, batch_action, simulation_size)"
   ],
   "id": "d356081392b5b746",
   "outputs": [],
   "execution_count": null
  },
  {
   "metadata": {},
   "cell_type": "code",
   "source": [
    "# --------------------------------------------------------------------------\n",
    "# Getting content in the target file\n",
    "rc, target_file_lst_lumi, target_file_dir_lumi = getTarget_file_lst(c, m, c.getTargetdir())\n"
   ],
   "id": "ee881dd986be3bf",
   "outputs": [],
   "execution_count": null
  },
  {
   "metadata": {},
   "cell_type": "code",
   "source": [
    "# --------------------------------------------------------------------------\n",
    "# Getting content in the target file\n",
    "rc, target_file_cluster_lst_lumi = getTarget_file_cluster_lst(c, m, target_file_lst_lumi[:])"
   ],
   "id": "d35b470828562f39",
   "outputs": [],
   "execution_count": null
  },
  {
   "metadata": {},
   "cell_type": "code",
   "source": [
    "# --------------------------------------------------------------------------\n",
    "# [Data-Extraction]\n",
    "# --------------------------------------------------------------------------\n",
    "m.printMesgStr(   \"Data extraction cluster out         : \", c.getGreen(), machine_name)\n",
    "m.printMesgAddStr(\"Simulation size                     : \", c.getRed(), simulation_size)\n",
    "m.printMesgAddStr(\"target_file_cluster_lst_lumi[:] --->: \", c.getYellow(), target_file_cluster_lst_lumi[:])"
   ],
   "id": "837629d0c6e6df59",
   "outputs": [],
   "execution_count": null
  },
  {
   "metadata": {},
   "cell_type": "code",
   "source": [
    "# --------------------------------------------------------------------------\n",
    "# Reading in the inout file\n",
    "rc = readCluster_file_out(c, m, target_file_cluster_lst_lumi[:])"
   ],
   "id": "769be543eea12ae8",
   "outputs": [],
   "execution_count": null
  },
  {
   "metadata": {},
   "cell_type": "markdown",
   "source": [
    "## Vega\n",
    "### [BKeeper_run_gpu : small]\n",
    "---"
   ],
   "id": "6baf30c4081ee933"
  },
  {
   "metadata": {},
   "cell_type": "code",
   "source": [
    "machine_name = \"Vega\"\n",
    "DATA_PATH         = os.path.join('E:','LatticeRuns','Clusters',machine_name,'LatticeRuns')"
   ],
   "id": "cb158d60922eb51c",
   "outputs": [],
   "execution_count": null
  },
  {
   "metadata": {},
   "cell_type": "code",
   "source": [
    "# Reinitialising the paths and object content.\n",
    "batch_action = \"BKeeper_run_gpu\"\n",
    "simulation_size=\"small\"\n",
    "rc = Reinitialising_Paths_and_object_content(c, m, DATA_PATH, batch_action, simulation_size)"
   ],
   "id": "f43b1c84d820137",
   "outputs": [],
   "execution_count": null
  },
  {
   "metadata": {},
   "cell_type": "code",
   "source": [
    "# --------------------------------------------------------------------------\n",
    "# Getting content in the target file\n",
    "rc, target_file_lst_vega, target_file_dir_vega = getTarget_file_lst(c, m, c.getTargetdir())"
   ],
   "id": "345ed4054122875d",
   "outputs": [],
   "execution_count": null
  },
  {
   "metadata": {},
   "cell_type": "code",
   "source": [
    "# --------------------------------------------------------------------------\n",
    "# Getting content in the target file\n",
    "rc, target_file_cluster_lst_vega = getTarget_file_cluster_lst(c, m, target_file_lst_vega[:])"
   ],
   "id": "301a84c8fe4a047d",
   "outputs": [],
   "execution_count": null
  },
  {
   "metadata": {},
   "cell_type": "code",
   "source": [
    "# --------------------------------------------------------------------------\n",
    "# [Data-Extraction]\n",
    "# --------------------------------------------------------------------------\n",
    "m.printMesgStr(   \"Data extraction cluster out            : \", c.getGreen(), machine_name)\n",
    "m.printMesgAddStr(\"Simulation size                        : \", c.getRed(), simulation_size)\n",
    "m.printMesgAddStr(\"target_file_cluster_lst_vega[:]    --->: \", c.getYellow(), target_file_cluster_lst_vega[:])"
   ],
   "id": "b401a4ca382732f6",
   "outputs": [],
   "execution_count": null
  },
  {
   "metadata": {},
   "cell_type": "code",
   "source": [
    "# --------------------------------------------------------------------------\n",
    "# Reading in the inout file\n",
    "rc = readCluster_file_out(c, m, target_file_cluster_lst_vega[:])"
   ],
   "id": "1eb9ceadaa2ce03e",
   "outputs": [],
   "execution_count": null
  },
  {
   "metadata": {},
   "cell_type": "markdown",
   "source": [
    "## Leonardo\n",
    "### [BKeeper_run_gpu : small]\n",
    "---"
   ],
   "id": "8212dee029c9b191"
  },
  {
   "metadata": {},
   "cell_type": "code",
   "source": [
    "machine_name = \"Leonardo\"\n",
    "DATA_PATH         = os.path.join('E:','LatticeRuns','Clusters',machine_name,'LatticeRuns')"
   ],
   "id": "4440196c8cd3288b",
   "outputs": [],
   "execution_count": null
  },
  {
   "metadata": {},
   "cell_type": "code",
   "source": [
    "# Reinitialising the paths and object content.\n",
    "batch_action = \"BKeeper_run_gpu\"\n",
    "simulation_size=\"small\"\n",
    "rc = Reinitialising_Paths_and_object_content(c, m, DATA_PATH, batch_action, simulation_size)"
   ],
   "id": "f81103bf0133cf27",
   "outputs": [],
   "execution_count": null
  },
  {
   "metadata": {},
   "cell_type": "code",
   "source": [
    "# --------------------------------------------------------------------------\n",
    "# Getting content in the target file\n",
    "rc, target_file_lst_leonardo, target_file_dir_leonardo = getTarget_file_lst(c, m, c.getTargetdir())"
   ],
   "id": "557762140af3fc96",
   "outputs": [],
   "execution_count": null
  },
  {
   "metadata": {},
   "cell_type": "code",
   "source": [
    "# --------------------------------------------------------------------------\n",
    "# Getting content in the target file\n",
    "rc, target_file_cluster_lst_leonardo = getTarget_file_cluster_lst(c, m, target_file_lst_leonardo[:])"
   ],
   "id": "bbfed3dcdee3a38a",
   "outputs": [],
   "execution_count": null
  },
  {
   "metadata": {},
   "cell_type": "code",
   "source": [
    "# --------------------------------------------------------------------------\n",
    "# [Data-Extraction]\n",
    "# --------------------------------------------------------------------------\n",
    "m.printMesgStr(   \"Data extraction cluster out             : \", c.getGreen(), machine_name)\n",
    "m.printMesgAddStr(\"Simulation size                         : \", c.getRed(), simulation_size)\n",
    "m.printMesgAddStr(\"target_file_cluster_lst_leonardo[:] --->: \", c.getYellow(), target_file_cluster_lst_leonardo[:])"
   ],
   "id": "fbf7288450f24c48",
   "outputs": [],
   "execution_count": null
  },
  {
   "metadata": {},
   "cell_type": "code",
   "source": [
    "# --------------------------------------------------------------------------\n",
    "# Reading in the inout file\n",
    "rc = readCluster_file_out(c, m, target_file_cluster_lst_leonardo[:])"
   ],
   "id": "3e8598f60d767ed2",
   "outputs": [],
   "execution_count": null
  }
 ],
 "metadata": {
  "kernelspec": {
   "display_name": "Python 3",
   "language": "python",
   "name": "python3"
  },
  "language_info": {
   "codemirror_mode": {
    "name": "ipython",
    "version": 2
   },
   "file_extension": ".py",
   "mimetype": "text/x-python",
   "name": "python",
   "nbconvert_exporter": "python",
   "pygments_lexer": "ipython2",
   "version": "2.7.6"
  }
 },
 "nbformat": 4,
 "nbformat_minor": 5
}
