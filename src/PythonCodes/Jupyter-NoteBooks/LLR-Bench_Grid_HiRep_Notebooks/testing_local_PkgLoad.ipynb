{
 "cells": [
  {
   "metadata": {
    "ExecuteTime": {
     "end_time": "2025-02-13T12:44:58.052004Z",
     "start_time": "2025-02-13T12:44:22.116213Z"
    }
   },
   "cell_type": "code",
   "source": [
    "import os\n",
    "import sys\n",
    "import time\n",
    "import requests\n",
    "import multiprocessing\n",
    "import multiprocess\n",
    "import cirq , qiskit, matplotlib\n",
    "import torch\n",
    "import pandas\n",
    "from collections import defaultdict\n",
    "from functools import cache\n",
    "from pathlib import Path\n",
    "from glob import glob\n",
    "\n",
    "# ----------------------------------------------------------------------------\n",
    "# [Start-Main]\n",
    "# ----------------------------------------------------------------------------\n",
    "print (\"Hello jupyter notebook\\n\")\n",
    "print (\"Package loding testing on local machine....\\n\")\n",
    "\n",
    "\n",
    "\n",
    "\n",
    "\n"
   ],
   "id": "fa8c162f60779299",
   "outputs": [
    {
     "name": "stdout",
     "output_type": "stream",
     "text": [
      "Hello jupyter notebook\n",
      "\n",
      "Package loding testing on local machine....\n",
      "\n"
     ]
    }
   ],
   "execution_count": 1
  },
  {
   "metadata": {
    "ExecuteTime": {
     "end_time": "2025-02-13T12:44:58.125125Z",
     "start_time": "2025-02-13T12:44:58.114985Z"
    }
   },
   "cell_type": "code",
   "source": "print(\"hello\\n\")",
   "id": "e9d0155d4ae1031a",
   "outputs": [
    {
     "name": "stdout",
     "output_type": "stream",
     "text": [
      "hello\n",
      "\n"
     ]
    }
   ],
   "execution_count": 2
  }
 ],
 "metadata": {
  "kernelspec": {
   "display_name": "Python 3",
   "language": "python",
   "name": "python3"
  },
  "language_info": {
   "codemirror_mode": {
    "name": "ipython",
    "version": 2
   },
   "file_extension": ".py",
   "mimetype": "text/x-python",
   "name": "python",
   "nbconvert_exporter": "python",
   "pygments_lexer": "ipython2",
   "version": "2.7.6"
  }
 },
 "nbformat": 4,
 "nbformat_minor": 5
}
