{
 "cells": [
  {
   "metadata": {
    "ExecuteTime": {
     "end_time": "2025-01-09T11:54:26.885841Z",
     "start_time": "2025-01-09T11:54:26.879531Z"
    }
   },
   "cell_type": "code",
   "source": [
    "import os\n",
    "import sys\n",
    "import time\n",
    "import requests\n",
    "import multiprocessing\n",
    "import multiprocess\n",
    "import cirq , qiskit, matplotlib\n",
    "import torch\n",
    "import pandas\n",
    "from collections import defaultdict\n",
    "from functools import cache\n",
    "from pathlib import Path\n",
    "from glob import glob\n",
    "\n",
    "# ----------------------------------------------------------------------------\n",
    "# [Start-Main]\n",
    "# ----------------------------------------------------------------------------\n",
    "print (\"Hello jupyter notebook\\n\")\n",
    "print (\"Package loding testing on local machine....\\n\")\n"
   ],
   "id": "fa8c162f60779299",
   "outputs": [
    {
     "name": "stdout",
     "output_type": "stream",
     "text": [
      "Hello jupyter notebook\n",
      "\n",
      "Package loding testing on local machine....\n",
      "\n"
     ]
    }
   ],
   "execution_count": 11
  }
 ],
 "metadata": {
  "kernelspec": {
   "display_name": "Python 3",
   "language": "python",
   "name": "python3"
  },
  "language_info": {
   "codemirror_mode": {
    "name": "ipython",
    "version": 2
   },
   "file_extension": ".py",
   "mimetype": "text/x-python",
   "name": "python",
   "nbconvert_exporter": "python",
   "pygments_lexer": "ipython2",
   "version": "2.7.6"
  }
 },
 "nbformat": 4,
 "nbformat_minor": 5
}
