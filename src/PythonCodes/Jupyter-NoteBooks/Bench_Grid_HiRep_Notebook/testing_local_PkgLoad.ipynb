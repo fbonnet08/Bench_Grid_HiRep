{
 "cells": [
  {
   "metadata": {
    "jupyter": {
     "is_executing": true
    }
   },
   "cell_type": "code",
   "source": [
    "import os\n",
    "import sys\n",
    "import time\n",
    "import requests\n",
    "import multiprocessing\n",
    "import multiprocess\n",
    "import cirq , qiskit, matplotlib\n",
    "import torch\n",
    "import pandas\n",
    "from collections import defaultdict\n",
    "from functools import cache\n",
    "from pathlib import Path\n",
    "from glob import glob\n",
    "\n",
    "# ----------------------------------------------------------------------------\n",
    "# [Start-Main]\n",
    "# ----------------------------------------------------------------------------\n",
    "print (\"Hello jupyter notebook\\n\")\n",
    "print (\"Package loding testing on local machine....\\n\")\n"
   ],
   "id": "fa8c162f60779299",
   "outputs": [],
   "execution_count": null
  }
 ],
 "metadata": {
  "kernelspec": {
   "display_name": "Python 3",
   "language": "python",
   "name": "python3"
  },
  "language_info": {
   "codemirror_mode": {
    "name": "ipython",
    "version": 2
   },
   "file_extension": ".py",
   "mimetype": "text/x-python",
   "name": "python",
   "nbconvert_exporter": "python",
   "pygments_lexer": "ipython2",
   "version": "2.7.6"
  }
 },
 "nbformat": 4,
 "nbformat_minor": 5
}
